{
  "cells": [
    {
      "cell_type": "markdown",
      "metadata": {
        "id": "b1d3d3a6"
      },
      "source": [
        "# Sequence generation model for replicating phraseological patterns from an homegenous political group.\n",
        "\n",
        "BEKKAR-CHRIMNI"
      ],
      "id": "b1d3d3a6"
    },
    {
      "cell_type": "markdown",
      "metadata": {
        "id": "f418be69"
      },
      "source": [
        "#### Downloading required packages"
      ],
      "id": "f418be69"
    },
    {
      "cell_type": "code",
      "execution_count": null,
      "metadata": {
        "colab": {
          "base_uri": "https://localhost:8080/"
        },
        "id": "95228e2a",
        "outputId": "94c1e067-f16b-4194-b536-c2fbc19c3870"
      },
      "outputs": [
        {
          "name": "stdout",
          "output_type": "stream",
          "text": [
            "Collecting unidecode\n",
            "  Downloading Unidecode-1.3.4-py3-none-any.whl (235 kB)\n",
            "\u001b[?25l\r\u001b[K     |█▍                              | 10 kB 20.4 MB/s eta 0:00:01\r\u001b[K     |██▉                             | 20 kB 25.9 MB/s eta 0:00:01\r\u001b[K     |████▏                           | 30 kB 13.4 MB/s eta 0:00:01\r\u001b[K     |█████▋                          | 40 kB 4.9 MB/s eta 0:00:01\r\u001b[K     |███████                         | 51 kB 4.5 MB/s eta 0:00:01\r\u001b[K     |████████▍                       | 61 kB 4.9 MB/s eta 0:00:01\r\u001b[K     |█████████▊                      | 71 kB 5.6 MB/s eta 0:00:01\r\u001b[K     |███████████▏                    | 81 kB 4.5 MB/s eta 0:00:01\r\u001b[K     |████████████▌                   | 92 kB 5.0 MB/s eta 0:00:01\r\u001b[K     |██████████████                  | 102 kB 5.5 MB/s eta 0:00:01\r\u001b[K     |███████████████▎                | 112 kB 5.5 MB/s eta 0:00:01\r\u001b[K     |████████████████▊               | 122 kB 5.5 MB/s eta 0:00:01\r\u001b[K     |██████████████████              | 133 kB 5.5 MB/s eta 0:00:01\r\u001b[K     |███████████████████▌            | 143 kB 5.5 MB/s eta 0:00:01\r\u001b[K     |████████████████████▉           | 153 kB 5.5 MB/s eta 0:00:01\r\u001b[K     |██████████████████████▎         | 163 kB 5.5 MB/s eta 0:00:01\r\u001b[K     |███████████████████████▋        | 174 kB 5.5 MB/s eta 0:00:01\r\u001b[K     |█████████████████████████       | 184 kB 5.5 MB/s eta 0:00:01\r\u001b[K     |██████████████████████████▍     | 194 kB 5.5 MB/s eta 0:00:01\r\u001b[K     |███████████████████████████▉    | 204 kB 5.5 MB/s eta 0:00:01\r\u001b[K     |█████████████████████████████▏  | 215 kB 5.5 MB/s eta 0:00:01\r\u001b[K     |██████████████████████████████▋ | 225 kB 5.5 MB/s eta 0:00:01\r\u001b[K     |████████████████████████████████| 235 kB 5.5 MB/s eta 0:00:01\r\u001b[K     |████████████████████████████████| 235 kB 5.5 MB/s \n",
            "\u001b[?25hInstalling collected packages: unidecode\n",
            "Successfully installed unidecode-1.3.4\n"
          ]
        }
      ],
      "source": [
        "!pip install unidecode"
      ],
      "id": "95228e2a"
    },
    {
      "cell_type": "code",
      "execution_count": null,
      "metadata": {
        "colab": {
          "base_uri": "https://localhost:8080/"
        },
        "id": "145a0d1c",
        "outputId": "abf9eec8-fb70-417d-f806-d8f13df2ab5d"
      },
      "outputs": [
        {
          "name": "stdout",
          "output_type": "stream",
          "text": [
            "Collecting transformers==4.2.2\n",
            "  Downloading transformers-4.2.2-py3-none-any.whl (1.8 MB)\n",
            "\u001b[K     |████████████████████████████████| 1.8 MB 5.6 MB/s \n",
            "\u001b[?25hRequirement already satisfied: packaging in /usr/local/lib/python3.7/dist-packages (from transformers==4.2.2) (21.3)\n",
            "Collecting sacremoses\n",
            "  Downloading sacremoses-0.0.49-py3-none-any.whl (895 kB)\n",
            "\u001b[K     |████████████████████████████████| 895 kB 36.5 MB/s \n",
            "\u001b[?25hRequirement already satisfied: numpy in /usr/local/lib/python3.7/dist-packages (from transformers==4.2.2) (1.21.6)\n",
            "Requirement already satisfied: importlib-metadata in /usr/local/lib/python3.7/dist-packages (from transformers==4.2.2) (4.11.3)\n",
            "Collecting tokenizers==0.9.4\n",
            "  Downloading tokenizers-0.9.4-cp37-cp37m-manylinux2010_x86_64.whl (2.9 MB)\n",
            "\u001b[K     |████████████████████████████████| 2.9 MB 34.0 MB/s \n",
            "\u001b[?25hRequirement already satisfied: tqdm>=4.27 in /usr/local/lib/python3.7/dist-packages (from transformers==4.2.2) (4.64.0)\n",
            "Requirement already satisfied: requests in /usr/local/lib/python3.7/dist-packages (from transformers==4.2.2) (2.23.0)\n",
            "Requirement already satisfied: regex!=2019.12.17 in /usr/local/lib/python3.7/dist-packages (from transformers==4.2.2) (2019.12.20)\n",
            "Requirement already satisfied: filelock in /usr/local/lib/python3.7/dist-packages (from transformers==4.2.2) (3.6.0)\n",
            "Requirement already satisfied: zipp>=0.5 in /usr/local/lib/python3.7/dist-packages (from importlib-metadata->transformers==4.2.2) (3.8.0)\n",
            "Requirement already satisfied: typing-extensions>=3.6.4 in /usr/local/lib/python3.7/dist-packages (from importlib-metadata->transformers==4.2.2) (4.1.1)\n",
            "Requirement already satisfied: pyparsing!=3.0.5,>=2.0.2 in /usr/local/lib/python3.7/dist-packages (from packaging->transformers==4.2.2) (3.0.8)\n",
            "Requirement already satisfied: chardet<4,>=3.0.2 in /usr/local/lib/python3.7/dist-packages (from requests->transformers==4.2.2) (3.0.4)\n",
            "Requirement already satisfied: certifi>=2017.4.17 in /usr/local/lib/python3.7/dist-packages (from requests->transformers==4.2.2) (2021.10.8)\n",
            "Requirement already satisfied: idna<3,>=2.5 in /usr/local/lib/python3.7/dist-packages (from requests->transformers==4.2.2) (2.10)\n",
            "Requirement already satisfied: urllib3!=1.25.0,!=1.25.1,<1.26,>=1.21.1 in /usr/local/lib/python3.7/dist-packages (from requests->transformers==4.2.2) (1.24.3)\n",
            "Requirement already satisfied: click in /usr/local/lib/python3.7/dist-packages (from sacremoses->transformers==4.2.2) (7.1.2)\n",
            "Requirement already satisfied: six in /usr/local/lib/python3.7/dist-packages (from sacremoses->transformers==4.2.2) (1.15.0)\n",
            "Requirement already satisfied: joblib in /usr/local/lib/python3.7/dist-packages (from sacremoses->transformers==4.2.2) (1.1.0)\n",
            "Installing collected packages: tokenizers, sacremoses, transformers\n",
            "Successfully installed sacremoses-0.0.49 tokenizers-0.9.4 transformers-4.2.2\n"
          ]
        }
      ],
      "source": [
        "!pip install transformers==4.2.2"
      ],
      "id": "145a0d1c"
    },
    {
      "cell_type": "code",
      "execution_count": null,
      "metadata": {
        "colab": {
          "base_uri": "https://localhost:8080/"
        },
        "id": "0A-34JBd0x3i",
        "outputId": "2d1717c3-b700-40b5-fb3d-58f7a36b6cdd"
      },
      "outputs": [
        {
          "name": "stdout",
          "output_type": "stream",
          "text": [
            "Collecting bert_score\n",
            "  Downloading bert_score-0.3.11-py3-none-any.whl (60 kB)\n",
            "\u001b[?25l\r\u001b[K     |█████▌                          | 10 kB 17.5 MB/s eta 0:00:01\r\u001b[K     |███████████                     | 20 kB 9.6 MB/s eta 0:00:01\r\u001b[K     |████████████████▍               | 30 kB 10.3 MB/s eta 0:00:01\r\u001b[K     |█████████████████████▉          | 40 kB 8.0 MB/s eta 0:00:01\r\u001b[K     |███████████████████████████▎    | 51 kB 5.8 MB/s eta 0:00:01\r\u001b[K     |████████████████████████████████| 60 kB 2.6 MB/s \n",
            "\u001b[?25hRequirement already satisfied: transformers>=3.0.0numpy in /usr/local/lib/python3.7/dist-packages (from bert_score) (4.2.2)\n",
            "Requirement already satisfied: pandas>=1.0.1 in /usr/local/lib/python3.7/dist-packages (from bert_score) (1.3.5)\n",
            "Requirement already satisfied: requests in /usr/local/lib/python3.7/dist-packages (from bert_score) (2.23.0)\n",
            "Requirement already satisfied: tqdm>=4.31.1 in /usr/local/lib/python3.7/dist-packages (from bert_score) (4.64.0)\n",
            "Requirement already satisfied: torch>=1.0.0 in /usr/local/lib/python3.7/dist-packages (from bert_score) (1.10.0+cu111)\n",
            "Requirement already satisfied: matplotlib in /usr/local/lib/python3.7/dist-packages (from bert_score) (3.2.2)\n",
            "Requirement already satisfied: packaging>=20.9 in /usr/local/lib/python3.7/dist-packages (from bert_score) (21.3)\n",
            "Requirement already satisfied: pyparsing!=3.0.5,>=2.0.2 in /usr/local/lib/python3.7/dist-packages (from packaging>=20.9->bert_score) (3.0.8)\n",
            "Requirement already satisfied: python-dateutil>=2.7.3 in /usr/local/lib/python3.7/dist-packages (from pandas>=1.0.1->bert_score) (2.8.2)\n",
            "Requirement already satisfied: numpy>=1.17.3 in /usr/local/lib/python3.7/dist-packages (from pandas>=1.0.1->bert_score) (1.21.6)\n",
            "Requirement already satisfied: pytz>=2017.3 in /usr/local/lib/python3.7/dist-packages (from pandas>=1.0.1->bert_score) (2022.1)\n",
            "Requirement already satisfied: six>=1.5 in /usr/local/lib/python3.7/dist-packages (from python-dateutil>=2.7.3->pandas>=1.0.1->bert_score) (1.15.0)\n",
            "Requirement already satisfied: typing-extensions in /usr/local/lib/python3.7/dist-packages (from torch>=1.0.0->bert_score) (4.1.1)\n",
            "Requirement already satisfied: filelock in /usr/local/lib/python3.7/dist-packages (from transformers>=3.0.0numpy->bert_score) (3.6.0)\n",
            "Requirement already satisfied: importlib-metadata in /usr/local/lib/python3.7/dist-packages (from transformers>=3.0.0numpy->bert_score) (4.11.3)\n",
            "Requirement already satisfied: regex!=2019.12.17 in /usr/local/lib/python3.7/dist-packages (from transformers>=3.0.0numpy->bert_score) (2019.12.20)\n",
            "Requirement already satisfied: tokenizers==0.9.4 in /usr/local/lib/python3.7/dist-packages (from transformers>=3.0.0numpy->bert_score) (0.9.4)\n",
            "Requirement already satisfied: sacremoses in /usr/local/lib/python3.7/dist-packages (from transformers>=3.0.0numpy->bert_score) (0.0.49)\n",
            "Requirement already satisfied: zipp>=0.5 in /usr/local/lib/python3.7/dist-packages (from importlib-metadata->transformers>=3.0.0numpy->bert_score) (3.8.0)\n",
            "Requirement already satisfied: kiwisolver>=1.0.1 in /usr/local/lib/python3.7/dist-packages (from matplotlib->bert_score) (1.4.2)\n",
            "Requirement already satisfied: cycler>=0.10 in /usr/local/lib/python3.7/dist-packages (from matplotlib->bert_score) (0.11.0)\n",
            "Requirement already satisfied: urllib3!=1.25.0,!=1.25.1,<1.26,>=1.21.1 in /usr/local/lib/python3.7/dist-packages (from requests->bert_score) (1.24.3)\n",
            "Requirement already satisfied: chardet<4,>=3.0.2 in /usr/local/lib/python3.7/dist-packages (from requests->bert_score) (3.0.4)\n",
            "Requirement already satisfied: idna<3,>=2.5 in /usr/local/lib/python3.7/dist-packages (from requests->bert_score) (2.10)\n",
            "Requirement already satisfied: certifi>=2017.4.17 in /usr/local/lib/python3.7/dist-packages (from requests->bert_score) (2021.10.8)\n",
            "Requirement already satisfied: click in /usr/local/lib/python3.7/dist-packages (from sacremoses->transformers>=3.0.0numpy->bert_score) (7.1.2)\n",
            "Requirement already satisfied: joblib in /usr/local/lib/python3.7/dist-packages (from sacremoses->transformers>=3.0.0numpy->bert_score) (1.1.0)\n",
            "Installing collected packages: bert-score\n",
            "Successfully installed bert-score-0.3.11\n"
          ]
        }
      ],
      "source": [
        "!pip install bert_score"
      ],
      "id": "0A-34JBd0x3i"
    },
    {
      "cell_type": "code",
      "execution_count": null,
      "metadata": {
        "colab": {
          "base_uri": "https://localhost:8080/"
        },
        "id": "qNPXeCsx0yhV",
        "outputId": "52dd5096-bfdb-4027-89fa-e9a5bcfb4cd9"
      },
      "outputs": [
        {
          "name": "stdout",
          "output_type": "stream",
          "text": [
            "Collecting xlrd==2.0.1\n",
            "  Downloading xlrd-2.0.1-py2.py3-none-any.whl (96 kB)\n",
            "\u001b[?25l\r\u001b[K     |███▍                            | 10 kB 20.0 MB/s eta 0:00:01\r\u001b[K     |██████▉                         | 20 kB 12.2 MB/s eta 0:00:01\r\u001b[K     |██████████▏                     | 30 kB 9.6 MB/s eta 0:00:01\r\u001b[K     |█████████████▋                  | 40 kB 8.8 MB/s eta 0:00:01\r\u001b[K     |█████████████████               | 51 kB 4.6 MB/s eta 0:00:01\r\u001b[K     |████████████████████▍           | 61 kB 5.4 MB/s eta 0:00:01\r\u001b[K     |███████████████████████▊        | 71 kB 5.6 MB/s eta 0:00:01\r\u001b[K     |███████████████████████████▏    | 81 kB 4.3 MB/s eta 0:00:01\r\u001b[K     |██████████████████████████████▌ | 92 kB 4.8 MB/s eta 0:00:01\r\u001b[K     |████████████████████████████████| 96 kB 2.8 MB/s \n",
            "\u001b[?25hInstalling collected packages: xlrd\n",
            "  Attempting uninstall: xlrd\n",
            "    Found existing installation: xlrd 1.1.0\n",
            "    Uninstalling xlrd-1.1.0:\n",
            "      Successfully uninstalled xlrd-1.1.0\n",
            "Successfully installed xlrd-2.0.1\n"
          ]
        }
      ],
      "source": [
        "!pip install xlrd==2.0.1"
      ],
      "id": "qNPXeCsx0yhV"
    },
    {
      "cell_type": "markdown",
      "metadata": {
        "id": "j2dgcYBbjbVt"
      },
      "source": [
        "#### Downloading required data"
      ],
      "id": "j2dgcYBbjbVt"
    },
    {
      "cell_type": "markdown",
      "metadata": {
        "id": "xUlxKkbwmORX"
      },
      "source": [
        "###### Tweets dataset"
      ],
      "id": "xUlxKkbwmORX"
    },
    {
      "cell_type": "code",
      "execution_count": 6,
      "metadata": {
        "colab": {
          "base_uri": "https://localhost:8080/"
        },
        "id": "rdf7DZFSjenE",
        "outputId": "f3437333-b8c9-475e-ee84-cf4c35fd337e"
      },
      "outputs": [
        {
          "output_type": "stream",
          "name": "stdout",
          "text": [
            "--2022-04-24 00:38:02--  https://github.com/NLP-ENSAE-3A/French-Political-Tweets-Generation/raw/main/tweets_csv/tweets_extract.csv\n",
            "Resolving github.com (github.com)... 140.82.113.4\n",
            "Connecting to github.com (github.com)|140.82.113.4|:443... connected.\n",
            "HTTP request sent, awaiting response... 302 Found\n",
            "Location: https://raw.githubusercontent.com/NLP-ENSAE-3A/French-Political-Tweets-Generation/main/tweets_csv/tweets_extract.csv [following]\n",
            "--2022-04-24 00:38:02--  https://raw.githubusercontent.com/NLP-ENSAE-3A/French-Political-Tweets-Generation/main/tweets_csv/tweets_extract.csv\n",
            "Resolving raw.githubusercontent.com (raw.githubusercontent.com)... 185.199.108.133, 185.199.109.133, 185.199.110.133, ...\n",
            "Connecting to raw.githubusercontent.com (raw.githubusercontent.com)|185.199.108.133|:443... connected.\n",
            "HTTP request sent, awaiting response... 200 OK\n",
            "Length: 5222871 (5.0M) [text/plain]\n",
            "Saving to: ‘tweets_extract.csv’\n",
            "\n",
            "\rtweets_extract.csv    0%[                    ]       0  --.-KB/s               \rtweets_extract.csv  100%[===================>]   4.98M  --.-KB/s    in 0.07s   \n",
            "\n",
            "2022-04-24 00:38:02 (66.7 MB/s) - ‘tweets_extract.csv’ saved [5222871/5222871]\n",
            "\n"
          ]
        }
      ],
      "source": [
        "!wget https://github.com/NLP-ENSAE-3A/French-Political-Tweets-Generation/raw/main/tweets_csv/tweets_extract.csv"
      ],
      "id": "rdf7DZFSjenE"
    },
    {
      "cell_type": "code",
      "execution_count": 10,
      "metadata": {
        "colab": {
          "base_uri": "https://localhost:8080/"
        },
        "id": "aQp_fpr9rD9s",
        "outputId": "7a9808b1-276d-4689-9674-5f720f8be042"
      },
      "outputs": [
        {
          "output_type": "stream",
          "name": "stdout",
          "text": [
            "--2022-04-24 00:38:58--  https://github.com/NLP-ENSAE-3A/French-Political-Tweets-Generation/raw/main/tweets_csv/clean_tweets_dataviz.csv\n",
            "Resolving github.com (github.com)... 140.82.113.4\n",
            "Connecting to github.com (github.com)|140.82.113.4|:443... connected.\n",
            "HTTP request sent, awaiting response... 302 Found\n",
            "Location: https://raw.githubusercontent.com/NLP-ENSAE-3A/French-Political-Tweets-Generation/main/tweets_csv/clean_tweets_dataviz.csv [following]\n",
            "--2022-04-24 00:38:58--  https://raw.githubusercontent.com/NLP-ENSAE-3A/French-Political-Tweets-Generation/main/tweets_csv/clean_tweets_dataviz.csv\n",
            "Resolving raw.githubusercontent.com (raw.githubusercontent.com)... 185.199.108.133, 185.199.109.133, 185.199.110.133, ...\n",
            "Connecting to raw.githubusercontent.com (raw.githubusercontent.com)|185.199.108.133|:443... connected.\n",
            "HTTP request sent, awaiting response... 200 OK\n",
            "Length: 3063608 (2.9M) [text/plain]\n",
            "Saving to: ‘clean_tweets_dataviz.csv’\n",
            "\n",
            "clean_tweets_datavi 100%[===================>]   2.92M  --.-KB/s    in 0.07s   \n",
            "\n",
            "2022-04-24 00:38:58 (43.7 MB/s) - ‘clean_tweets_dataviz.csv’ saved [3063608/3063608]\n",
            "\n"
          ]
        }
      ],
      "source": [
        "!wget https://github.com/NLP-ENSAE-3A/French-Political-Tweets-Generation/raw/main/tweets_csv/clean_tweets_dataviz.csv"
      ],
      "id": "aQp_fpr9rD9s"
    },
    {
      "cell_type": "code",
      "execution_count": 8,
      "metadata": {
        "colab": {
          "base_uri": "https://localhost:8080/"
        },
        "id": "3wyYy8dorGRC",
        "outputId": "50444b04-45cd-4adc-810c-7076dba6d01d"
      },
      "outputs": [
        {
          "output_type": "stream",
          "name": "stdout",
          "text": [
            "--2022-04-24 00:38:05--  https://github.com/NLP-ENSAE-3A/French-Political-Tweets-Generation/raw/main/tweets_csv/clean_tweets.csv\n",
            "Resolving github.com (github.com)... 140.82.114.4\n",
            "Connecting to github.com (github.com)|140.82.114.4|:443... connected.\n",
            "HTTP request sent, awaiting response... 302 Found\n",
            "Location: https://raw.githubusercontent.com/NLP-ENSAE-3A/French-Political-Tweets-Generation/main/tweets_csv/clean_tweets.csv [following]\n",
            "--2022-04-24 00:38:06--  https://raw.githubusercontent.com/NLP-ENSAE-3A/French-Political-Tweets-Generation/main/tweets_csv/clean_tweets.csv\n",
            "Resolving raw.githubusercontent.com (raw.githubusercontent.com)... 185.199.108.133, 185.199.109.133, 185.199.110.133, ...\n",
            "Connecting to raw.githubusercontent.com (raw.githubusercontent.com)|185.199.108.133|:443... connected.\n",
            "HTTP request sent, awaiting response... 200 OK\n",
            "Length: 4415606 (4.2M) [text/plain]\n",
            "Saving to: ‘clean_tweets.csv’\n",
            "\n",
            "clean_tweets.csv    100%[===================>]   4.21M  --.-KB/s    in 0.07s   \n",
            "\n",
            "2022-04-24 00:38:06 (59.7 MB/s) - ‘clean_tweets.csv’ saved [4415606/4415606]\n",
            "\n"
          ]
        }
      ],
      "source": [
        "!wget https://github.com/NLP-ENSAE-3A/French-Political-Tweets-Generation/raw/main/tweets_csv/clean_tweets.csv"
      ],
      "id": "3wyYy8dorGRC"
    },
    {
      "cell_type": "code",
      "execution_count": null,
      "metadata": {
        "colab": {
          "base_uri": "https://localhost:8080/"
        },
        "id": "TkZJVqDguEVK",
        "outputId": "d5e8528d-d3ee-4ca6-926c-22ab739c4392"
      },
      "outputs": [
        {
          "name": "stdout",
          "output_type": "stream",
          "text": [
            "--2022-04-23 23:40:12--  https://github.com/NLP-ENSAE-3A/French-Political-Tweets-Generation/raw/main/img/twitter_logo.jpg\n",
            "Resolving github.com (github.com)... 140.82.114.4\n",
            "Connecting to github.com (github.com)|140.82.114.4|:443... connected.\n",
            "HTTP request sent, awaiting response... 302 Found\n",
            "Location: https://raw.githubusercontent.com/NLP-ENSAE-3A/French-Political-Tweets-Generation/main/img/twitter_logo.jpg [following]\n",
            "--2022-04-23 23:40:12--  https://raw.githubusercontent.com/NLP-ENSAE-3A/French-Political-Tweets-Generation/main/img/twitter_logo.jpg\n",
            "Resolving raw.githubusercontent.com (raw.githubusercontent.com)... 185.199.109.133, 185.199.108.133, 185.199.110.133, ...\n",
            "Connecting to raw.githubusercontent.com (raw.githubusercontent.com)|185.199.109.133|:443... connected.\n",
            "HTTP request sent, awaiting response... 200 OK\n",
            "Length: 32756 (32K) [image/jpeg]\n",
            "Saving to: ‘twitter_logo.jpg.1’\n",
            "\n",
            "twitter_logo.jpg.1  100%[===================>]  31.99K  --.-KB/s    in 0.002s  \n",
            "\n",
            "2022-04-23 23:40:12 (15.6 MB/s) - ‘twitter_logo.jpg.1’ saved [32756/32756]\n",
            "\n"
          ]
        }
      ],
      "source": [
        "!wget https://github.com/NLP-ENSAE-3A/French-Political-Tweets-Generation/raw/main/img/twitter_logo.jpg"
      ],
      "id": "TkZJVqDguEVK"
    },
    {
      "cell_type": "markdown",
      "metadata": {
        "id": "X-Iqp8YFmS6P"
      },
      "source": [
        "######LSTM Trained Model"
      ],
      "id": "X-Iqp8YFmS6P"
    },
    {
      "cell_type": "code",
      "execution_count": null,
      "metadata": {
        "colab": {
          "base_uri": "https://localhost:8080/"
        },
        "id": "tHrn2oALsQmg",
        "outputId": "92fb8d61-8b8f-4369-fdd6-33acfe560445"
      },
      "outputs": [
        {
          "name": "stdout",
          "output_type": "stream",
          "text": [
            "The name is too long, 238 chars total.\n",
            "Trying to shorten...\n",
            "New name is y4mmMOMD2ydgmWllk8E_1cU9dZvm1VTOC6gzs6GIDdCskilyuY5UGKjhVmvNhGLi1cPA4PK2eQyQ-Clqzw4iZ-9N2lzl6F8LpI0HenxyFsrZiypiN-jmv8ETnfTcIe5iLIWxMxMbaNrPaiRkAIsC1PHaiKisvDEvmLTTNqeUC9mvlXcrDtBuRvyjjnq2ATQ1Zy6f9ffEO7XJuu8iJGil3UDlPdQQacHJIJiAbZMkiCje.\n",
            "--2022-04-23 23:14:35--  https://public.am.files.1drv.com/y4mmMOMD2ydgmWllk8E_1cU9dZvm1VTOC6gzs6GIDdCskilyuY5UGKjhVmvNhGLi1cPA4PK2eQyQ-Clqzw4iZ-9N2lzl6F8LpI0HenxyFsrZiypiN-jmv8ETnfTcIe5iLIWxMxMbaNrPaiRkAIsC1PHaiKisvDEvmLTTNqeUC9mvlXcrDtBuRvyjjnq2ATQ1Zy6f9ffEO7XJuu8iJGil3UDlPdQQacHJIJiAbZMkiCjevE\n",
            "Resolving public.am.files.1drv.com (public.am.files.1drv.com)... 13.107.42.12\n",
            "Connecting to public.am.files.1drv.com (public.am.files.1drv.com)|13.107.42.12|:443... connected.\n",
            "HTTP request sent, awaiting response... 200 OK\n",
            "Length: 56553695 (54M) [application/zip]\n",
            "Saving to: ‘y4mmMOMD2ydgmWllk8E_1cU9dZvm1VTOC6gzs6GIDdCskilyuY5UGKjhVmvNhGLi1cPA4PK2eQyQ-Clqzw4iZ-9N2lzl6F8LpI0HenxyFsrZiypiN-jmv8ETnfTcIe5iLIWxMxMbaNrPaiRkAIsC1PHaiKisvDEvmLTTNqeUC9mvlXcrDtBuRvyjjnq2ATQ1Zy6f9ffEO7XJuu8iJGil3UDlPdQQacHJIJiAbZMkiCje’\n",
            "\n",
            "y4mmMOMD2ydgmWllk8E 100%[===================>]  53.93M  16.0MB/s    in 3.4s    \n",
            "\n",
            "2022-04-23 23:14:39 (16.0 MB/s) - ‘y4mmMOMD2ydgmWllk8E_1cU9dZvm1VTOC6gzs6GIDdCskilyuY5UGKjhVmvNhGLi1cPA4PK2eQyQ-Clqzw4iZ-9N2lzl6F8LpI0HenxyFsrZiypiN-jmv8ETnfTcIe5iLIWxMxMbaNrPaiRkAIsC1PHaiKisvDEvmLTTNqeUC9mvlXcrDtBuRvyjjnq2ATQ1Zy6f9ffEO7XJuu8iJGil3UDlPdQQacHJIJiAbZMkiCje’ saved [56553695/56553695]\n",
            "\n"
          ]
        }
      ],
      "source": [
        "!wget https://public.am.files.1drv.com/y4mmMOMD2ydgmWllk8E_1cU9dZvm1VTOC6gzs6GIDdCskilyuY5UGKjhVmvNhGLi1cPA4PK2eQyQ-Clqzw4iZ-9N2lzl6F8LpI0HenxyFsrZiypiN-jmv8ETnfTcIe5iLIWxMxMbaNrPaiRkAIsC1PHaiKisvDEvmLTTNqeUC9mvlXcrDtBuRvyjjnq2ATQ1Zy6f9ffEO7XJuu8iJGil3UDlPdQQacHJIJiAbZMkiCjevE"
      ],
      "id": "tHrn2oALsQmg"
    },
    {
      "cell_type": "code",
      "execution_count": null,
      "metadata": {
        "id": "WKLV7iRsoM0q"
      },
      "outputs": [],
      "source": [
        "!mv y4mmMOMD2ydgmWllk8E_1cU9dZvm1VTOC6gzs6GIDdCskilyuY5UGKjhVmvNhGLi1cPA4PK2eQyQ-Clqzw4iZ-9N2lzl6F8LpI0HenxyFsrZiypiN-jmv8ETnfTcIe5iLIWxMxMbaNrPaiRkAIsC1PHaiKisvDEvmLTTNqeUC9mvlXcrDtBuRvyjjnq2ATQ1Zy6f9ffEO7XJuu8iJGil3UDlPdQQacHJIJiAbZMkiCje baseline_model"
      ],
      "id": "WKLV7iRsoM0q"
    },
    {
      "cell_type": "code",
      "execution_count": null,
      "metadata": {
        "id": "D5bpepTnpcW1"
      },
      "outputs": [],
      "source": [
        ""
      ],
      "id": "D5bpepTnpcW1"
    },
    {
      "cell_type": "markdown",
      "metadata": {
        "id": "vltREoEVmdXA"
      },
      "source": [
        "###### GPT2 Trained Model"
      ],
      "id": "vltREoEVmdXA"
    },
    {
      "cell_type": "markdown",
      "metadata": {
        "id": "IEILgSaomlgS"
      },
      "source": [
        "The model might take up a very long time to be downloaded (~6Gb)"
      ],
      "id": "IEILgSaomlgS"
    },
    {
      "cell_type": "code",
      "execution_count": null,
      "metadata": {
        "colab": {
          "base_uri": "https://localhost:8080/"
        },
        "id": "4Q4KaVxomj_y",
        "outputId": "b15844d2-9e28-42d5-cbc2-460479202531"
      },
      "outputs": [
        {
          "name": "stdout",
          "output_type": "stream",
          "text": [
            "The name is too long, 238 chars total.\n",
            "Trying to shorten...\n",
            "New name is y4mlwBd2D3iy6RIX4VB6dTpD1jVkN5srBuEWKomHoG-Q1HsjB3spuR6ogcJptGIvjk4RbqbZzRAU2QIqZ8-uwakN4NihDTkG-d1mSLG0q0zHOocoWuFrccqUVUu7bz7s5aynGWskwnRYqTlFOM3uIpRew6K_mRkbZMUlNhNO9rfjDXd6iG76Y09RaeuLtrdLdObdFvlFMNlTbE0HhwWBakajmvpyN92-TBeWxcITCzQA.\n",
            "--2022-04-23 23:15:27--  https://public.am.files.1drv.com/y4mlwBd2D3iy6RIX4VB6dTpD1jVkN5srBuEWKomHoG-Q1HsjB3spuR6ogcJptGIvjk4RbqbZzRAU2QIqZ8-uwakN4NihDTkG-d1mSLG0q0zHOocoWuFrccqUVUu7bz7s5aynGWskwnRYqTlFOM3uIpRew6K_mRkbZMUlNhNO9rfjDXd6iG76Y09RaeuLtrdLdObdFvlFMNlTbE0HhwWBakajmvpyN92-TBeWxcITCzQAjI\n",
            "Resolving public.am.files.1drv.com (public.am.files.1drv.com)... 13.107.42.12\n",
            "Connecting to public.am.files.1drv.com (public.am.files.1drv.com)|13.107.42.12|:443... connected.\n",
            "HTTP request sent, awaiting response... 200 OK\n",
            "Length: 5965249649 (5.6G) [application/zip]\n",
            "Saving to: ‘y4mlwBd2D3iy6RIX4VB6dTpD1jVkN5srBuEWKomHoG-Q1HsjB3spuR6ogcJptGIvjk4RbqbZzRAU2QIqZ8-uwakN4NihDTkG-d1mSLG0q0zHOocoWuFrccqUVUu7bz7s5aynGWskwnRYqTlFOM3uIpRew6K_mRkbZMUlNhNO9rfjDXd6iG76Y09RaeuLtrdLdObdFvlFMNlTbE0HhwWBakajmvpyN92-TBeWxcITCzQA.1’\n",
            "\n",
            "y4mlwBd2D3iy6RIX4VB 100%[===================>]   5.55G  26.0MB/s    in 4m 6s   \n",
            "\n",
            "2022-04-23 23:19:34 (23.1 MB/s) - ‘y4mlwBd2D3iy6RIX4VB6dTpD1jVkN5srBuEWKomHoG-Q1HsjB3spuR6ogcJptGIvjk4RbqbZzRAU2QIqZ8-uwakN4NihDTkG-d1mSLG0q0zHOocoWuFrccqUVUu7bz7s5aynGWskwnRYqTlFOM3uIpRew6K_mRkbZMUlNhNO9rfjDXd6iG76Y09RaeuLtrdLdObdFvlFMNlTbE0HhwWBakajmvpyN92-TBeWxcITCzQA.1’ saved [5965249649/5965249649]\n",
            "\n"
          ]
        }
      ],
      "source": [
        "!wget https://public.am.files.1drv.com/y4mlwBd2D3iy6RIX4VB6dTpD1jVkN5srBuEWKomHoG-Q1HsjB3spuR6ogcJptGIvjk4RbqbZzRAU2QIqZ8-uwakN4NihDTkG-d1mSLG0q0zHOocoWuFrccqUVUu7bz7s5aynGWskwnRYqTlFOM3uIpRew6K_mRkbZMUlNhNO9rfjDXd6iG76Y09RaeuLtrdLdObdFvlFMNlTbE0HhwWBakajmvpyN92-TBeWxcITCzQAjI"
      ],
      "id": "4Q4KaVxomj_y"
    },
    {
      "cell_type": "code",
      "execution_count": null,
      "metadata": {
        "id": "FT_k1EXulfcv"
      },
      "outputs": [],
      "source": [
        "!mv y4mlwBd2D3iy6RIX4VB6dTpD1jVkN5srBuEWKomHoG-Q1HsjB3spuR6ogcJptGIvjk4RbqbZzRAU2QIqZ8-uwakN4NihDTkG-d1mSLG0q0zHOocoWuFrccqUVUu7bz7s5aynGWskwnRYqTlFOM3uIpRew6K_mRkbZMUlNhNO9rfjDXd6iG76Y09RaeuLtrdLdObdFvlFMNlTbE0HhwWBakajmvpyN92-TBeWxcITCzQA.1 gpt2-fr-pol-tweets.zip"
      ],
      "id": "FT_k1EXulfcv"
    },
    {
      "cell_type": "code",
      "execution_count": null,
      "metadata": {
        "id": "YYDwZwpYmI3u"
      },
      "outputs": [],
      "source": [
        "!mkdir ./gpt2-fr-pol-tweets"
      ],
      "id": "YYDwZwpYmI3u"
    },
    {
      "cell_type": "code",
      "execution_count": null,
      "metadata": {
        "colab": {
          "base_uri": "https://localhost:8080/"
        },
        "id": "jwTqKvYut34u",
        "outputId": "f6482bc8-01f2-40fe-9103-378e099a0309"
      },
      "outputs": [
        {
          "name": "stdout",
          "output_type": "stream",
          "text": [
            "Archive:  gpt2-fr-pol-tweets.zip\n",
            "   creating: ./gpt2-fr-pol-tweets/gpt2-fr-pol-tweets/\n",
            "   creating: ./gpt2-fr-pol-tweets/gpt2-fr-pol-tweets/checkpoint-1600/\n",
            "  inflating: ./gpt2-fr-pol-tweets/gpt2-fr-pol-tweets/checkpoint-1600/config.json  \n",
            "  inflating: ./gpt2-fr-pol-tweets/gpt2-fr-pol-tweets/checkpoint-1600/optimizer.pt  \n",
            "  inflating: ./gpt2-fr-pol-tweets/gpt2-fr-pol-tweets/checkpoint-1600/pytorch_model.bin  \n",
            "  inflating: ./gpt2-fr-pol-tweets/gpt2-fr-pol-tweets/checkpoint-1600/scheduler.pt  \n",
            "  inflating: ./gpt2-fr-pol-tweets/gpt2-fr-pol-tweets/checkpoint-1600/trainer_state.json  \n",
            "  inflating: ./gpt2-fr-pol-tweets/gpt2-fr-pol-tweets/checkpoint-1600/training_args.bin  \n",
            "   creating: ./gpt2-fr-pol-tweets/gpt2-fr-pol-tweets/checkpoint-2400/\n",
            "  inflating: ./gpt2-fr-pol-tweets/gpt2-fr-pol-tweets/checkpoint-2400/config.json  \n",
            "  inflating: ./gpt2-fr-pol-tweets/gpt2-fr-pol-tweets/checkpoint-2400/optimizer.pt  \n",
            "  inflating: ./gpt2-fr-pol-tweets/gpt2-fr-pol-tweets/checkpoint-2400/pytorch_model.bin  \n",
            "  inflating: ./gpt2-fr-pol-tweets/gpt2-fr-pol-tweets/checkpoint-2400/scheduler.pt  \n",
            "  inflating: ./gpt2-fr-pol-tweets/gpt2-fr-pol-tweets/checkpoint-2400/trainer_state.json  \n",
            "  inflating: ./gpt2-fr-pol-tweets/gpt2-fr-pol-tweets/checkpoint-2400/training_args.bin  \n",
            "   creating: ./gpt2-fr-pol-tweets/gpt2-fr-pol-tweets/checkpoint-3200/\n",
            "  inflating: ./gpt2-fr-pol-tweets/gpt2-fr-pol-tweets/checkpoint-3200/config.json  \n",
            "  inflating: ./gpt2-fr-pol-tweets/gpt2-fr-pol-tweets/checkpoint-3200/optimizer.pt  \n",
            "  inflating: ./gpt2-fr-pol-tweets/gpt2-fr-pol-tweets/checkpoint-3200/pytorch_model.bin  \n",
            "  inflating: ./gpt2-fr-pol-tweets/gpt2-fr-pol-tweets/checkpoint-3200/scheduler.pt  \n",
            "  inflating: ./gpt2-fr-pol-tweets/gpt2-fr-pol-tweets/checkpoint-3200/trainer_state.json  \n",
            "  inflating: ./gpt2-fr-pol-tweets/gpt2-fr-pol-tweets/checkpoint-3200/training_args.bin  \n",
            "   creating: ./gpt2-fr-pol-tweets/gpt2-fr-pol-tweets/checkpoint-800/\n",
            "  inflating: ./gpt2-fr-pol-tweets/gpt2-fr-pol-tweets/checkpoint-800/config.json  \n",
            "  inflating: ./gpt2-fr-pol-tweets/gpt2-fr-pol-tweets/checkpoint-800/optimizer.pt  \n",
            "  inflating: ./gpt2-fr-pol-tweets/gpt2-fr-pol-tweets/checkpoint-800/pytorch_model.bin  \n",
            "  inflating: ./gpt2-fr-pol-tweets/gpt2-fr-pol-tweets/checkpoint-800/scheduler.pt  \n",
            "  inflating: ./gpt2-fr-pol-tweets/gpt2-fr-pol-tweets/checkpoint-800/trainer_state.json  \n",
            "  inflating: ./gpt2-fr-pol-tweets/gpt2-fr-pol-tweets/checkpoint-800/training_args.bin  \n",
            "  inflating: ./gpt2-fr-pol-tweets/gpt2-fr-pol-tweets/config.json  \n",
            "  inflating: ./gpt2-fr-pol-tweets/gpt2-fr-pol-tweets/pytorch_model.bin  \n",
            "  inflating: ./gpt2-fr-pol-tweets/gpt2-fr-pol-tweets/training_args.bin  \n"
          ]
        }
      ],
      "source": [
        "!unzip gpt2-fr-pol-tweets.zip -d ./gpt2-fr-pol-tweets"
      ],
      "id": "jwTqKvYut34u"
    },
    {
      "cell_type": "markdown",
      "metadata": {
        "id": "oQQYTD5L1EFX"
      },
      "source": [
        "##### Models Generations"
      ],
      "id": "oQQYTD5L1EFX"
    },
    {
      "cell_type": "code",
      "execution_count": null,
      "metadata": {
        "colab": {
          "base_uri": "https://localhost:8080/"
        },
        "id": "EUQi3eJV1KhF",
        "outputId": "61bd8388-c53d-4bb3-ba94-0220c33437ed"
      },
      "outputs": [
        {
          "name": "stdout",
          "output_type": "stream",
          "text": [
            "--2022-04-23 23:50:01--  https://github.com/NLP-ENSAE-3A/French-Political-Tweets-Generation/raw/main/models_output/17k_baseline_generation.xls\n",
            "Resolving github.com (github.com)... 140.82.114.3\n",
            "Connecting to github.com (github.com)|140.82.114.3|:443... connected.\n",
            "HTTP request sent, awaiting response... 302 Found\n",
            "Location: https://raw.githubusercontent.com/NLP-ENSAE-3A/French-Political-Tweets-Generation/main/models_output/17k_baseline_generation.xls [following]\n",
            "--2022-04-23 23:50:02--  https://raw.githubusercontent.com/NLP-ENSAE-3A/French-Political-Tweets-Generation/main/models_output/17k_baseline_generation.xls\n",
            "Resolving raw.githubusercontent.com (raw.githubusercontent.com)... 185.199.109.133, 185.199.108.133, 185.199.110.133, ...\n",
            "Connecting to raw.githubusercontent.com (raw.githubusercontent.com)|185.199.109.133|:443... connected.\n",
            "HTTP request sent, awaiting response... 200 OK\n",
            "Length: 4606464 (4.4M) [application/octet-stream]\n",
            "Saving to: ‘17k_baseline_generation.xls’\n",
            "\n",
            "17k_baseline_genera 100%[===================>]   4.39M  --.-KB/s    in 0.07s   \n",
            "\n",
            "2022-04-23 23:50:02 (60.7 MB/s) - ‘17k_baseline_generation.xls’ saved [4606464/4606464]\n",
            "\n"
          ]
        }
      ],
      "source": [
        "!wget https://github.com/NLP-ENSAE-3A/French-Political-Tweets-Generation/raw/main/models_output/17k_baseline_generation.xls"
      ],
      "id": "EUQi3eJV1KhF"
    },
    {
      "cell_type": "code",
      "execution_count": null,
      "metadata": {
        "colab": {
          "base_uri": "https://localhost:8080/"
        },
        "id": "gqK7EDHJ1MTW",
        "outputId": "641cdb46-441d-466f-bdbe-5129d3eda0ad"
      },
      "outputs": [
        {
          "name": "stdout",
          "output_type": "stream",
          "text": [
            "--2022-04-23 23:50:05--  https://github.com/NLP-ENSAE-3A/French-Political-Tweets-Generation/raw/main/models_output/17k_gpt2_generation.xlsx\n",
            "Resolving github.com (github.com)... 140.82.114.4\n",
            "Connecting to github.com (github.com)|140.82.114.4|:443... connected.\n",
            "HTTP request sent, awaiting response... 302 Found\n",
            "Location: https://raw.githubusercontent.com/NLP-ENSAE-3A/French-Political-Tweets-Generation/main/models_output/17k_gpt2_generation.xlsx [following]\n",
            "--2022-04-23 23:50:06--  https://raw.githubusercontent.com/NLP-ENSAE-3A/French-Political-Tweets-Generation/main/models_output/17k_gpt2_generation.xlsx\n",
            "Resolving raw.githubusercontent.com (raw.githubusercontent.com)... 185.199.109.133, 185.199.108.133, 185.199.110.133, ...\n",
            "Connecting to raw.githubusercontent.com (raw.githubusercontent.com)|185.199.109.133|:443... connected.\n",
            "HTTP request sent, awaiting response... 200 OK\n",
            "Length: 644158 (629K) [application/octet-stream]\n",
            "Saving to: ‘17k_gpt2_generation.xlsx’\n",
            "\n",
            "17k_gpt2_generation 100%[===================>] 629.06K  --.-KB/s    in 0.04s   \n",
            "\n",
            "2022-04-23 23:50:06 (14.0 MB/s) - ‘17k_gpt2_generation.xlsx’ saved [644158/644158]\n",
            "\n"
          ]
        }
      ],
      "source": [
        "!wget https://github.com/NLP-ENSAE-3A/French-Political-Tweets-Generation/raw/main/models_output/17k_gpt2_generation.xlsx"
      ],
      "id": "gqK7EDHJ1MTW"
    },
    {
      "cell_type": "markdown",
      "metadata": {
        "id": "c0707c23"
      },
      "source": [
        "## Descriptive Data Analysis"
      ],
      "id": "c0707c23"
    },
    {
      "cell_type": "markdown",
      "metadata": {
        "id": "MvsQk7cWqyO6"
      },
      "source": [
        "#### Imports"
      ],
      "id": "MvsQk7cWqyO6"
    },
    {
      "cell_type": "code",
      "execution_count": 2,
      "metadata": {
        "id": "dy6zPjtNq0sK"
      },
      "outputs": [],
      "source": [
        "import pandas as pd\n",
        "import matplotlib.pyplot as plt\n",
        "import numpy as np\n",
        "import re\n",
        "from wordcloud import WordCloud\n",
        "from PIL import Image\n",
        "import nltk\n",
        "from nltk.tokenize import RegexpTokenizer, word_tokenize, WhitespaceTokenizer\n",
        "from nltk.corpus import stopwords\n",
        "from nltk.stem import WordNetLemmatizer\n",
        "import string\n",
        "from collections import Counter\n",
        "import seaborn as sns\n",
        "from nltk import ngrams\n",
        "from nltk.tag import StanfordPOSTagger\n",
        "from spacy.lang.fr.stop_words import STOP_WORDS as fr_stop\n",
        "import unicodedata\n",
        "\n",
        "plt.style.use('ggplot')"
      ],
      "id": "dy6zPjtNq0sK"
    },
    {
      "cell_type": "code",
      "execution_count": 11,
      "metadata": {
        "id": "Wy4ydh9iq2Ag"
      },
      "outputs": [],
      "source": [
        "tweets_df = pd.read_csv('tweets_extract.csv', index_col='Unnamed: 0')\n",
        "clean_tweets_df = pd.read_csv('clean_tweets_dataviz.csv', index_col='Unnamed: 0').dropna()"
      ],
      "id": "Wy4ydh9iq2Ag"
    },
    {
      "cell_type": "code",
      "execution_count": 12,
      "metadata": {
        "colab": {
          "base_uri": "https://localhost:8080/",
          "height": 424
        },
        "id": "m5f4pBgzrMag",
        "outputId": "79f5134f-912d-4c2e-a824-965d893f0e59"
      },
      "outputs": [
        {
          "output_type": "execute_result",
          "data": {
            "text/plain": [
              "                                                   tweet\n",
              "0                @gregoireroserai Bien la nouvelle bio.😁\n",
              "1      RT @DamienRieu: Pendant que les Français se fo...\n",
              "2      @Katarzalna34 Plutôt qu'est-ce font les autres...\n",
              "3                                       @poizi33 Aussi.😉\n",
              "4                                         @C_Maleysson 😁\n",
              "...                                                  ...\n",
              "33586  Et aujourd'hui, Emmanuel Macron nous annonce l...\n",
              "33587  Au début du quinquennat d'Emmanuel Macron, on ...\n",
              "33588  Bruno Le Maire votre tableau idyllique a une f...\n",
              "33589  Le Président, c’est celui qui donne une ligne ...\n",
              "33590  Non, la France ne doit pas boycotter les JO de...\n",
              "\n",
              "[33591 rows x 1 columns]"
            ],
            "text/html": [
              "\n",
              "  <div id=\"df-06872207-c614-4fb5-b127-bff0a92739a6\">\n",
              "    <div class=\"colab-df-container\">\n",
              "      <div>\n",
              "<style scoped>\n",
              "    .dataframe tbody tr th:only-of-type {\n",
              "        vertical-align: middle;\n",
              "    }\n",
              "\n",
              "    .dataframe tbody tr th {\n",
              "        vertical-align: top;\n",
              "    }\n",
              "\n",
              "    .dataframe thead th {\n",
              "        text-align: right;\n",
              "    }\n",
              "</style>\n",
              "<table border=\"1\" class=\"dataframe\">\n",
              "  <thead>\n",
              "    <tr style=\"text-align: right;\">\n",
              "      <th></th>\n",
              "      <th>tweet</th>\n",
              "    </tr>\n",
              "  </thead>\n",
              "  <tbody>\n",
              "    <tr>\n",
              "      <th>0</th>\n",
              "      <td>@gregoireroserai Bien la nouvelle bio.😁</td>\n",
              "    </tr>\n",
              "    <tr>\n",
              "      <th>1</th>\n",
              "      <td>RT @DamienRieu: Pendant que les Français se fo...</td>\n",
              "    </tr>\n",
              "    <tr>\n",
              "      <th>2</th>\n",
              "      <td>@Katarzalna34 Plutôt qu'est-ce font les autres...</td>\n",
              "    </tr>\n",
              "    <tr>\n",
              "      <th>3</th>\n",
              "      <td>@poizi33 Aussi.😉</td>\n",
              "    </tr>\n",
              "    <tr>\n",
              "      <th>4</th>\n",
              "      <td>@C_Maleysson 😁</td>\n",
              "    </tr>\n",
              "    <tr>\n",
              "      <th>...</th>\n",
              "      <td>...</td>\n",
              "    </tr>\n",
              "    <tr>\n",
              "      <th>33586</th>\n",
              "      <td>Et aujourd'hui, Emmanuel Macron nous annonce l...</td>\n",
              "    </tr>\n",
              "    <tr>\n",
              "      <th>33587</th>\n",
              "      <td>Au début du quinquennat d'Emmanuel Macron, on ...</td>\n",
              "    </tr>\n",
              "    <tr>\n",
              "      <th>33588</th>\n",
              "      <td>Bruno Le Maire votre tableau idyllique a une f...</td>\n",
              "    </tr>\n",
              "    <tr>\n",
              "      <th>33589</th>\n",
              "      <td>Le Président, c’est celui qui donne une ligne ...</td>\n",
              "    </tr>\n",
              "    <tr>\n",
              "      <th>33590</th>\n",
              "      <td>Non, la France ne doit pas boycotter les JO de...</td>\n",
              "    </tr>\n",
              "  </tbody>\n",
              "</table>\n",
              "<p>33591 rows × 1 columns</p>\n",
              "</div>\n",
              "      <button class=\"colab-df-convert\" onclick=\"convertToInteractive('df-06872207-c614-4fb5-b127-bff0a92739a6')\"\n",
              "              title=\"Convert this dataframe to an interactive table.\"\n",
              "              style=\"display:none;\">\n",
              "        \n",
              "  <svg xmlns=\"http://www.w3.org/2000/svg\" height=\"24px\"viewBox=\"0 0 24 24\"\n",
              "       width=\"24px\">\n",
              "    <path d=\"M0 0h24v24H0V0z\" fill=\"none\"/>\n",
              "    <path d=\"M18.56 5.44l.94 2.06.94-2.06 2.06-.94-2.06-.94-.94-2.06-.94 2.06-2.06.94zm-11 1L8.5 8.5l.94-2.06 2.06-.94-2.06-.94L8.5 2.5l-.94 2.06-2.06.94zm10 10l.94 2.06.94-2.06 2.06-.94-2.06-.94-.94-2.06-.94 2.06-2.06.94z\"/><path d=\"M17.41 7.96l-1.37-1.37c-.4-.4-.92-.59-1.43-.59-.52 0-1.04.2-1.43.59L10.3 9.45l-7.72 7.72c-.78.78-.78 2.05 0 2.83L4 21.41c.39.39.9.59 1.41.59.51 0 1.02-.2 1.41-.59l7.78-7.78 2.81-2.81c.8-.78.8-2.07 0-2.86zM5.41 20L4 18.59l7.72-7.72 1.47 1.35L5.41 20z\"/>\n",
              "  </svg>\n",
              "      </button>\n",
              "      \n",
              "  <style>\n",
              "    .colab-df-container {\n",
              "      display:flex;\n",
              "      flex-wrap:wrap;\n",
              "      gap: 12px;\n",
              "    }\n",
              "\n",
              "    .colab-df-convert {\n",
              "      background-color: #E8F0FE;\n",
              "      border: none;\n",
              "      border-radius: 50%;\n",
              "      cursor: pointer;\n",
              "      display: none;\n",
              "      fill: #1967D2;\n",
              "      height: 32px;\n",
              "      padding: 0 0 0 0;\n",
              "      width: 32px;\n",
              "    }\n",
              "\n",
              "    .colab-df-convert:hover {\n",
              "      background-color: #E2EBFA;\n",
              "      box-shadow: 0px 1px 2px rgba(60, 64, 67, 0.3), 0px 1px 3px 1px rgba(60, 64, 67, 0.15);\n",
              "      fill: #174EA6;\n",
              "    }\n",
              "\n",
              "    [theme=dark] .colab-df-convert {\n",
              "      background-color: #3B4455;\n",
              "      fill: #D2E3FC;\n",
              "    }\n",
              "\n",
              "    [theme=dark] .colab-df-convert:hover {\n",
              "      background-color: #434B5C;\n",
              "      box-shadow: 0px 1px 3px 1px rgba(0, 0, 0, 0.15);\n",
              "      filter: drop-shadow(0px 1px 2px rgba(0, 0, 0, 0.3));\n",
              "      fill: #FFFFFF;\n",
              "    }\n",
              "  </style>\n",
              "\n",
              "      <script>\n",
              "        const buttonEl =\n",
              "          document.querySelector('#df-06872207-c614-4fb5-b127-bff0a92739a6 button.colab-df-convert');\n",
              "        buttonEl.style.display =\n",
              "          google.colab.kernel.accessAllowed ? 'block' : 'none';\n",
              "\n",
              "        async function convertToInteractive(key) {\n",
              "          const element = document.querySelector('#df-06872207-c614-4fb5-b127-bff0a92739a6');\n",
              "          const dataTable =\n",
              "            await google.colab.kernel.invokeFunction('convertToInteractive',\n",
              "                                                     [key], {});\n",
              "          if (!dataTable) return;\n",
              "\n",
              "          const docLinkHtml = 'Like what you see? Visit the ' +\n",
              "            '<a target=\"_blank\" href=https://colab.research.google.com/notebooks/data_table.ipynb>data table notebook</a>'\n",
              "            + ' to learn more about interactive tables.';\n",
              "          element.innerHTML = '';\n",
              "          dataTable['output_type'] = 'display_data';\n",
              "          await google.colab.output.renderOutput(dataTable, element);\n",
              "          const docLink = document.createElement('div');\n",
              "          docLink.innerHTML = docLinkHtml;\n",
              "          element.appendChild(docLink);\n",
              "        }\n",
              "      </script>\n",
              "    </div>\n",
              "  </div>\n",
              "  "
            ]
          },
          "metadata": {},
          "execution_count": 12
        }
      ],
      "source": [
        "tweets_df"
      ],
      "id": "m5f4pBgzrMag"
    },
    {
      "cell_type": "code",
      "execution_count": 13,
      "metadata": {
        "colab": {
          "base_uri": "https://localhost:8080/",
          "height": 424
        },
        "id": "IhL2aFNlrMmb",
        "outputId": "f92e048e-e2db-4a96-d36d-11d63abddfc8"
      },
      "outputs": [
        {
          "output_type": "execute_result",
          "data": {
            "text/plain": [
              "                                                   tweet\n",
              "0                      gregoireroserai bien nouvelle bio\n",
              "1      damienrieu francais agresser violer voler poig...\n",
              "2                             katarzalna34 estce twitter\n",
              "3                                          poizi33 aussi\n",
              "4                                             cmaleysson\n",
              "...                                                  ...\n",
              "33586  aujourd hui emmanuel macron annonce constructi...\n",
              "33587  debut quinquennat emmanuel macron decide plan ...\n",
              "33588  bruno maire tableau idyllique face noire terri...\n",
              "33589  president donne ligne claire prend nombre infi...\n",
              "33590  non france boycotter jo pekin etatsunis veulen...\n",
              "\n",
              "[33190 rows x 1 columns]"
            ],
            "text/html": [
              "\n",
              "  <div id=\"df-3a20cb90-89e7-4d8a-add5-8d7dde5a650a\">\n",
              "    <div class=\"colab-df-container\">\n",
              "      <div>\n",
              "<style scoped>\n",
              "    .dataframe tbody tr th:only-of-type {\n",
              "        vertical-align: middle;\n",
              "    }\n",
              "\n",
              "    .dataframe tbody tr th {\n",
              "        vertical-align: top;\n",
              "    }\n",
              "\n",
              "    .dataframe thead th {\n",
              "        text-align: right;\n",
              "    }\n",
              "</style>\n",
              "<table border=\"1\" class=\"dataframe\">\n",
              "  <thead>\n",
              "    <tr style=\"text-align: right;\">\n",
              "      <th></th>\n",
              "      <th>tweet</th>\n",
              "    </tr>\n",
              "  </thead>\n",
              "  <tbody>\n",
              "    <tr>\n",
              "      <th>0</th>\n",
              "      <td>gregoireroserai bien nouvelle bio</td>\n",
              "    </tr>\n",
              "    <tr>\n",
              "      <th>1</th>\n",
              "      <td>damienrieu francais agresser violer voler poig...</td>\n",
              "    </tr>\n",
              "    <tr>\n",
              "      <th>2</th>\n",
              "      <td>katarzalna34 estce twitter</td>\n",
              "    </tr>\n",
              "    <tr>\n",
              "      <th>3</th>\n",
              "      <td>poizi33 aussi</td>\n",
              "    </tr>\n",
              "    <tr>\n",
              "      <th>4</th>\n",
              "      <td>cmaleysson</td>\n",
              "    </tr>\n",
              "    <tr>\n",
              "      <th>...</th>\n",
              "      <td>...</td>\n",
              "    </tr>\n",
              "    <tr>\n",
              "      <th>33586</th>\n",
              "      <td>aujourd hui emmanuel macron annonce constructi...</td>\n",
              "    </tr>\n",
              "    <tr>\n",
              "      <th>33587</th>\n",
              "      <td>debut quinquennat emmanuel macron decide plan ...</td>\n",
              "    </tr>\n",
              "    <tr>\n",
              "      <th>33588</th>\n",
              "      <td>bruno maire tableau idyllique face noire terri...</td>\n",
              "    </tr>\n",
              "    <tr>\n",
              "      <th>33589</th>\n",
              "      <td>president donne ligne claire prend nombre infi...</td>\n",
              "    </tr>\n",
              "    <tr>\n",
              "      <th>33590</th>\n",
              "      <td>non france boycotter jo pekin etatsunis veulen...</td>\n",
              "    </tr>\n",
              "  </tbody>\n",
              "</table>\n",
              "<p>33190 rows × 1 columns</p>\n",
              "</div>\n",
              "      <button class=\"colab-df-convert\" onclick=\"convertToInteractive('df-3a20cb90-89e7-4d8a-add5-8d7dde5a650a')\"\n",
              "              title=\"Convert this dataframe to an interactive table.\"\n",
              "              style=\"display:none;\">\n",
              "        \n",
              "  <svg xmlns=\"http://www.w3.org/2000/svg\" height=\"24px\"viewBox=\"0 0 24 24\"\n",
              "       width=\"24px\">\n",
              "    <path d=\"M0 0h24v24H0V0z\" fill=\"none\"/>\n",
              "    <path d=\"M18.56 5.44l.94 2.06.94-2.06 2.06-.94-2.06-.94-.94-2.06-.94 2.06-2.06.94zm-11 1L8.5 8.5l.94-2.06 2.06-.94-2.06-.94L8.5 2.5l-.94 2.06-2.06.94zm10 10l.94 2.06.94-2.06 2.06-.94-2.06-.94-.94-2.06-.94 2.06-2.06.94z\"/><path d=\"M17.41 7.96l-1.37-1.37c-.4-.4-.92-.59-1.43-.59-.52 0-1.04.2-1.43.59L10.3 9.45l-7.72 7.72c-.78.78-.78 2.05 0 2.83L4 21.41c.39.39.9.59 1.41.59.51 0 1.02-.2 1.41-.59l7.78-7.78 2.81-2.81c.8-.78.8-2.07 0-2.86zM5.41 20L4 18.59l7.72-7.72 1.47 1.35L5.41 20z\"/>\n",
              "  </svg>\n",
              "      </button>\n",
              "      \n",
              "  <style>\n",
              "    .colab-df-container {\n",
              "      display:flex;\n",
              "      flex-wrap:wrap;\n",
              "      gap: 12px;\n",
              "    }\n",
              "\n",
              "    .colab-df-convert {\n",
              "      background-color: #E8F0FE;\n",
              "      border: none;\n",
              "      border-radius: 50%;\n",
              "      cursor: pointer;\n",
              "      display: none;\n",
              "      fill: #1967D2;\n",
              "      height: 32px;\n",
              "      padding: 0 0 0 0;\n",
              "      width: 32px;\n",
              "    }\n",
              "\n",
              "    .colab-df-convert:hover {\n",
              "      background-color: #E2EBFA;\n",
              "      box-shadow: 0px 1px 2px rgba(60, 64, 67, 0.3), 0px 1px 3px 1px rgba(60, 64, 67, 0.15);\n",
              "      fill: #174EA6;\n",
              "    }\n",
              "\n",
              "    [theme=dark] .colab-df-convert {\n",
              "      background-color: #3B4455;\n",
              "      fill: #D2E3FC;\n",
              "    }\n",
              "\n",
              "    [theme=dark] .colab-df-convert:hover {\n",
              "      background-color: #434B5C;\n",
              "      box-shadow: 0px 1px 3px 1px rgba(0, 0, 0, 0.15);\n",
              "      filter: drop-shadow(0px 1px 2px rgba(0, 0, 0, 0.3));\n",
              "      fill: #FFFFFF;\n",
              "    }\n",
              "  </style>\n",
              "\n",
              "      <script>\n",
              "        const buttonEl =\n",
              "          document.querySelector('#df-3a20cb90-89e7-4d8a-add5-8d7dde5a650a button.colab-df-convert');\n",
              "        buttonEl.style.display =\n",
              "          google.colab.kernel.accessAllowed ? 'block' : 'none';\n",
              "\n",
              "        async function convertToInteractive(key) {\n",
              "          const element = document.querySelector('#df-3a20cb90-89e7-4d8a-add5-8d7dde5a650a');\n",
              "          const dataTable =\n",
              "            await google.colab.kernel.invokeFunction('convertToInteractive',\n",
              "                                                     [key], {});\n",
              "          if (!dataTable) return;\n",
              "\n",
              "          const docLinkHtml = 'Like what you see? Visit the ' +\n",
              "            '<a target=\"_blank\" href=https://colab.research.google.com/notebooks/data_table.ipynb>data table notebook</a>'\n",
              "            + ' to learn more about interactive tables.';\n",
              "          element.innerHTML = '';\n",
              "          dataTable['output_type'] = 'display_data';\n",
              "          await google.colab.output.renderOutput(dataTable, element);\n",
              "          const docLink = document.createElement('div');\n",
              "          docLink.innerHTML = docLinkHtml;\n",
              "          element.appendChild(docLink);\n",
              "        }\n",
              "      </script>\n",
              "    </div>\n",
              "  </div>\n",
              "  "
            ]
          },
          "metadata": {},
          "execution_count": 13
        }
      ],
      "source": [
        "clean_tweets_df"
      ],
      "id": "IhL2aFNlrMmb"
    },
    {
      "cell_type": "code",
      "execution_count": 14,
      "metadata": {
        "id": "NLbvD_rCrWCI"
      },
      "outputs": [],
      "source": [
        "tokenizer = WhitespaceTokenizer()\n",
        "\n",
        "def pre_process_tweet(tweet):\n",
        "    tokenizer = RegexpTokenizer(r'\\w+')\n",
        "    # remove \\n from the end after every sentence\n",
        "    tweet = tweet.strip('\\n')\n",
        "    tweet_tokens = tokenizer.tokenize(tweet)\n",
        "    # tweet = \" \".join([word for word in tweet_tokens if word not in stopwords.words('french')])\n",
        "    # Remove any word that starts with the symbol @\n",
        "    tweet = \" \".join(filter(lambda x: x[0] != '@', tweet.split()))\n",
        "\n",
        "    # remove non utf-8 characters\n",
        "    tweet = bytes(tweet, 'utf-8').decode('utf-8','ignore')\n",
        "\n",
        "    # Remove any URL\n",
        "    tweet = re.sub(r\"http\\S+\", \"\", tweet)\n",
        "    tweet = re.sub(r\"www\\S+\", \"\", tweet)\n",
        "\n",
        "    # remove colons from the end of the sentences (if any) after removing url\n",
        "    tweet = tweet.strip()\n",
        "    tweet_len = len(tweet)\n",
        "    if tweet_len > 0:\n",
        "        if tweet[len(tweet) - 1] == ':':\n",
        "            tweet = tweet[:len(tweet) - 1]\n",
        "\n",
        "    # Remove any hash-tags symbols\n",
        "    # tweet = tweet.replace('#', '')\n",
        "\n",
        "    # Convert every word to lowercase\n",
        "    tweet = tweet.lower()\n",
        "    \n",
        "    return tweet"
      ],
      "id": "NLbvD_rCrWCI"
    },
    {
      "cell_type": "markdown",
      "metadata": {
        "id": "MG7jltrarao3"
      },
      "source": [
        "#### WordCloud"
      ],
      "id": "MG7jltrarao3"
    },
    {
      "cell_type": "markdown",
      "metadata": {
        "id": "CIjYjhU4reyf"
      },
      "source": [
        "First, we will visualize our 30,000 tweets in a word cloud, to know which words are the most frequent."
      ],
      "id": "CIjYjhU4reyf"
    },
    {
      "cell_type": "code",
      "execution_count": 15,
      "metadata": {
        "colab": {
          "base_uri": "https://localhost:8080/",
          "height": 483
        },
        "id": "kvyFR_VNrhuM",
        "outputId": "85f80bfb-370d-4844-d5a6-0e228ebfe458"
      },
      "outputs": [
        {
          "output_type": "display_data",
          "data": {
            "text/plain": [
              "<Figure size 1080x576 with 1 Axes>"
            ],
            "image/png": "[encoded data removed]"
          },
          "metadata": {}
        }
      ],
      "source": [
        "twitter_mask = np.array(Image.open(r\"twitter_logo.jpg\"))\n",
        "tweets_for_wordcloud = ' '.join((clean_tweets_df['tweet'].tolist()))\n",
        "plt.figure(figsize=(15,8))\n",
        "\n",
        "wordcloud = WordCloud(width=800, height=500, random_state=42, max_font_size=100, mask=twitter_mask, \n",
        "    contour_color=\"steelblue\", contour_width=0, background_color=\"white\").generate(tweets_for_wordcloud)\n",
        "\n",
        "plt.imshow(wordcloud, interpolation='bilinear')\n",
        "plt.axis('off')\n",
        "plt.title('30.000 tweets Word Cloud')\n",
        "plt.show()"
      ],
      "id": "kvyFR_VNrhuM"
    },
    {
      "cell_type": "markdown",
      "metadata": {
        "id": "2SZbEV6Nu6ih"
      },
      "source": [
        "We get the results we excepted: the words \"eric\" and \"zemmour\" appear many times, as he is the main interested party. The words \"macron\", \"france\", and \"candidat\" also appear frequently, which is understandable in the context. We also note the appearance of the hasthag \"jevotezemmourle10avril\" which is also quite recurrent."
      ],
      "id": "2SZbEV6Nu6ih"
    },
    {
      "cell_type": "markdown",
      "metadata": {
        "id": "3Bz8gaaku92o"
      },
      "source": [
        "#### Ten most frequent words and most frequent bi-grams"
      ],
      "id": "3Bz8gaaku92o"
    },
    {
      "cell_type": "markdown",
      "metadata": {
        "id": "BCrL_UXsvBUI"
      },
      "source": [
        "Here we start a more detailed analysis: we will determine the 10 most frequent words and the 10 most frequent word pairs.\n",
        "\n",
        "We start by counting the number of times each word appears with a Counter."
      ],
      "id": "BCrL_UXsvBUI"
    },
    {
      "cell_type": "code",
      "execution_count": 16,
      "metadata": {
        "id": "f-5-dbOOvHfo"
      },
      "outputs": [],
      "source": [
        "counter = Counter(\" \".join(clean_tweets_df['tweet'].tolist()).split())"
      ],
      "id": "f-5-dbOOvHfo"
    },
    {
      "cell_type": "code",
      "execution_count": 17,
      "metadata": {
        "colab": {
          "base_uri": "https://localhost:8080/"
        },
        "id": "aR_8BsgMvHRj",
        "outputId": "496ffd63-ae32-4a90-c640-7953122dd8ad"
      },
      "outputs": [
        {
          "output_type": "execute_result",
          "data": {
            "text/plain": [
              "[('zemmour', 5510),\n",
              " ('france', 3782),\n",
              " ('eric', 3416),\n",
              " ('macron', 2896),\n",
              " ('francais', 2070),\n",
              " ('bien', 1635),\n",
              " ('zemmoureric', 1542),\n",
              " ('faire', 1460),\n",
              " ('jevotezemmourle10avril', 1327),\n",
              " ('jevotezemmour', 1191)]"
            ]
          },
          "metadata": {},
          "execution_count": 17
        }
      ],
      "source": [
        "counter.most_common(10)"
      ],
      "id": "aR_8BsgMvHRj"
    },
    {
      "cell_type": "code",
      "execution_count": 18,
      "metadata": {
        "colab": {
          "base_uri": "https://localhost:8080/",
          "height": 316
        },
        "id": "jPwXORpGvG0E",
        "outputId": "02876482-94a6-4d4e-caf9-9f19be47abcc"
      },
      "outputs": [
        {
          "output_type": "execute_result",
          "data": {
            "text/plain": [
              "Text(0.5, 1.0, '10 most frequent words')"
            ]
          },
          "metadata": {},
          "execution_count": 18
        },
        {
          "output_type": "display_data",
          "data": {
            "text/plain": [
              "<Figure size 432x288 with 1 Axes>"
            ],
            "image/png": "[encoded data removed]"
          },
          "metadata": {}
        }
      ],
      "source": [
        "indexes = [counter.most_common(10)[i][0] for i in range(10)]\n",
        "values = [counter.most_common(10)[i][1] for i in range(10)]\n",
        "\n",
        "sns.barplot(y=indexes, x=values)\n",
        "plt.xlabel('Number of occurrences')\n",
        "plt.ylabel('Words')\n",
        "plt.title('10 most frequent words')"
      ],
      "id": "jPwXORpGvG0E"
    },
    {
      "cell_type": "markdown",
      "metadata": {
        "id": "-GmRegS4vGUP"
      },
      "source": [
        "We do the same tjing for the most frequent bi-grams"
      ],
      "id": "-GmRegS4vGUP"
    },
    {
      "cell_type": "code",
      "execution_count": 19,
      "metadata": {
        "id": "J_6g_LqmvfOA"
      },
      "outputs": [],
      "source": [
        "pairs_counter = Counter(ngrams(\" \".join(clean_tweets_df['tweet'].tolist()).split(),2))"
      ],
      "id": "J_6g_LqmvfOA"
    },
    {
      "cell_type": "code",
      "execution_count": 20,
      "metadata": {
        "colab": {
          "base_uri": "https://localhost:8080/",
          "height": 299
        },
        "id": "RmZk8CjNvhZ2",
        "outputId": "53be8583-c3ec-41b6-f74b-fda642bb07fe"
      },
      "outputs": [
        {
          "output_type": "execute_result",
          "data": {
            "text/plain": [
              "Text(0, 0.5, 'Words')"
            ]
          },
          "metadata": {},
          "execution_count": 20
        },
        {
          "output_type": "display_data",
          "data": {
            "text/plain": [
              "<Figure size 432x288 with 1 Axes>"
            ],
            "image/png": "[encoded data removed]"
          },
          "metadata": {}
        }
      ],
      "source": [
        "pairs_df = pd.DataFrame(pairs_counter.items(),columns=['pairs','frequency']).sort_values(by='frequency',ascending=False)\n",
        "\n",
        "sns.barplot(data=pairs_df.head(10), x='frequency', y='pairs')\n",
        "plt.xlabel('Number of occurrences')\n",
        "plt.ylabel('Words')"
      ],
      "id": "RmZk8CjNvhZ2"
    },
    {
      "cell_type": "markdown",
      "metadata": {
        "id": "D4vPDUZtvozs"
      },
      "source": [
        "#### Tweet and words length analysis"
      ],
      "id": "D4vPDUZtvozs"
    },
    {
      "cell_type": "code",
      "execution_count": 21,
      "metadata": {
        "colab": {
          "base_uri": "https://localhost:8080/",
          "height": 316
        },
        "id": "1fQ7ZPw4vupI",
        "outputId": "2d1521cd-c255-4ca6-f580-ddca724ca7a2"
      },
      "outputs": [
        {
          "output_type": "execute_result",
          "data": {
            "text/plain": [
              "Text(0.5, 0, 'Words lenght')"
            ]
          },
          "metadata": {},
          "execution_count": 21
        },
        {
          "output_type": "display_data",
          "data": {
            "text/plain": [
              "<Figure size 432x288 with 1 Axes>"
            ],
            "image/png": "[encoded data removed]"
          },
          "metadata": {}
        }
      ],
      "source": [
        "tokenize_tweets = \" \".join(clean_tweets_df['tweet'].tolist()).split()\n",
        "word_lenghts = [len(word) for word in tokenize_tweets]\n",
        "\n",
        "sns.histplot(word_lenghts, bins=[i for i in range(16)])\n",
        "plt.title('Words lenght distribution')\n",
        "plt.xlabel('Words lenght')"
      ],
      "id": "1fQ7ZPw4vupI"
    },
    {
      "cell_type": "code",
      "execution_count": 22,
      "metadata": {
        "colab": {
          "base_uri": "https://localhost:8080/"
        },
        "id": "A_5VXFN-v0xU",
        "outputId": "b7ebd12b-8b4d-4915-cc77-e37d11d24870"
      },
      "outputs": [
        {
          "output_type": "execute_result",
          "data": {
            "text/plain": [
              "20.724241612336638"
            ]
          },
          "metadata": {},
          "execution_count": 22
        }
      ],
      "source": [
        "len_tweets_tf = tweets_df.tweet.map(lambda x : len(x.split()))\n",
        "len_tweets_tf.mean()"
      ],
      "id": "A_5VXFN-v0xU"
    },
    {
      "cell_type": "markdown",
      "metadata": {
        "id": "Q7OesMokv3A3"
      },
      "source": [
        "The tweets have an average length of 20 words."
      ],
      "id": "Q7OesMokv3A3"
    },
    {
      "cell_type": "code",
      "execution_count": 23,
      "metadata": {
        "id": "cOeTs7MiwFyM"
      },
      "outputs": [],
      "source": [
        "x = len_tweets_tf.values\n",
        "unique, counts = np.unique(x, return_counts=True)"
      ],
      "id": "cOeTs7MiwFyM"
    },
    {
      "cell_type": "code",
      "execution_count": 24,
      "metadata": {
        "colab": {
          "base_uri": "https://localhost:8080/",
          "height": 316
        },
        "id": "Q8w9kaVuwIQA",
        "outputId": "e8128221-a612-4cc6-eddc-fc4a8eee17f9"
      },
      "outputs": [
        {
          "output_type": "execute_result",
          "data": {
            "text/plain": [
              "Text(0, 0.5, 'Count')"
            ]
          },
          "metadata": {},
          "execution_count": 24
        },
        {
          "output_type": "display_data",
          "data": {
            "text/plain": [
              "<Figure size 432x288 with 1 Axes>"
            ],
            "image/png": "[encoded data removed]"
          },
          "metadata": {}
        }
      ],
      "source": [
        "sns.barplot(x=unique, y=counts)\n",
        "plt.xticks([i*10 - 1 for i in range(6) ])\n",
        "plt.title('Tweet length distribution')\n",
        "plt.xlabel('Tweet lenght')\n",
        "plt.ylabel('Count')"
      ],
      "id": "Q8w9kaVuwIQA"
    },
    {
      "cell_type": "markdown",
      "metadata": {
        "id": "Py7P_9agwSJb"
      },
      "source": [
        "## LSTM Baseline Model\n",
        "![image.png](data:image/png;base64,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)"
      ],
      "id": "Py7P_9agwSJb"
    },
    {
      "cell_type": "markdown",
      "metadata": {
        "id": "JK5TEso1qAyt"
      },
      "source": [
        "#### Imports"
      ],
      "id": "JK5TEso1qAyt"
    },
    {
      "cell_type": "code",
      "execution_count": null,
      "metadata": {
        "id": "K5_B99j5qC8M"
      },
      "outputs": [],
      "source": [
        "import torch\n",
        "from collections import Counter\n",
        "import pandas as pd\n",
        "from torch import nn, optim\n",
        "from torch.utils.data import DataLoader\n",
        "import numpy as np\n",
        "from time import time\n"
      ],
      "id": "K5_B99j5qC8M"
    },
    {
      "cell_type": "code",
      "execution_count": null,
      "metadata": {
        "id": "iNHFOsLsrU-D"
      },
      "outputs": [],
      "source": [
        "device = 'cuda' if torch.cuda.is_available() else 'cpu'"
      ],
      "id": "iNHFOsLsrU-D"
    },
    {
      "cell_type": "markdown",
      "source": [
        "#### Model Definition"
      ],
      "metadata": {
        "id": "RMgJYIQQ9rmm"
      },
      "id": "RMgJYIQQ9rmm"
    },
    {
      "cell_type": "code",
      "execution_count": null,
      "metadata": {
        "id": "5f8wJ1i4rTcM"
      },
      "outputs": [],
      "source": [
        "class BaselineModel(nn.Module):\n",
        "    def __init__(self, dataset, lstm_size=128, embedding_dim=128, num_layers=3):\n",
        "        super(BaselineModel, self).__init__()\n",
        "        self.lstm_size = lstm_size\n",
        "        self.embedding_dim = embedding_dim\n",
        "        self.num_layers=3\n",
        "\n",
        "        vocab_size = len(dataset.uniq_words)\n",
        "\n",
        "        self.embedding = nn.Embedding(\n",
        "                num_embeddings=vocab_size,\n",
        "                embedding_dim=self.embedding_dim\n",
        "        )\n",
        "        self.lstm = nn.LSTM(\n",
        "            input_size = self.embedding_dim,\n",
        "            hidden_size = self.lstm_size,\n",
        "            num_layers=self.num_layers,\n",
        "            dropout=0.2\n",
        "        )\n",
        "        self.fc = nn.Linear(self.lstm_size, vocab_size)\n",
        "\n",
        "    def forward(self, x, prev_state):\n",
        "        embed = self.embedding(x)\n",
        "        output, state = self.lstm(embed, prev_state)\n",
        "        logits = self.fc(output)\n",
        "        return(logits, state)\n",
        "    \n",
        "    def init_state(self, sequence_length):\n",
        "        return (torch.zeros(self.num_layers, sequence_length, self.lstm_size).to(device),\n",
        "                torch.zeros(self.num_layers, sequence_length, self.lstm_size).to(device))\n",
        "\n"
      ],
      "id": "5f8wJ1i4rTcM"
    },
    {
      "cell_type": "markdown",
      "source": [
        "#### Dataset class"
      ],
      "metadata": {
        "id": "sYXjtBfw-F_s"
      },
      "id": "sYXjtBfw-F_s"
    },
    {
      "cell_type": "code",
      "execution_count": null,
      "metadata": {
        "id": "RTD3uRVYp7vc"
      },
      "outputs": [],
      "source": [
        "class Dataset(torch.utils.data.Dataset):\n",
        "    def __init__(self, sequence_length):\n",
        "        self.sequence_length = sequence_length\n",
        "        self.words = self.load_words()\n",
        "        self.uniq_words = self.get_uniq_words()\n",
        "\n",
        "        self.index_to_word = {index: word for index, word in enumerate(self.uniq_words)}\n",
        "        self.word_to_index = {word: index for index, word in enumerate(self.uniq_words)}\n",
        "        self.words_indexes = [self.word_to_index[w] for w in self.words]\n",
        "\n",
        "    def load_words(self):\n",
        "        train_df = pd.read_csv('clean_tweets.csv')\n",
        "        text = train_df.tweet.str.cat(sep=' ')\n",
        "        return(text.split(' '))\n",
        "\n",
        "    def get_uniq_words(self):\n",
        "        word_counts = Counter(self.words)\n",
        "        return sorted(word_counts, key=word_counts.get, reverse=True)\n",
        "    \n",
        "    def __len__(self):\n",
        "        return(len(self.words_indexes) - self.sequence_length)\n",
        "\n",
        "    def __getitem__(self, index):\n",
        "        return (\n",
        "            torch.tensor(self.words_indexes[index:index+self.sequence_length]).to(device),\n",
        "            torch.tensor(self.words_indexes[index+1:index+self.sequence_length+1]).to(device),\n",
        "        )\n"
      ],
      "id": "RTD3uRVYp7vc"
    },
    {
      "cell_type": "markdown",
      "source": [
        "#### Helper functions"
      ],
      "metadata": {
        "id": "utKMMXzY-JYf"
      },
      "id": "utKMMXzY-JYf"
    },
    {
      "cell_type": "code",
      "execution_count": null,
      "metadata": {
        "id": "Eo6GoKJLqMYf"
      },
      "outputs": [],
      "source": [
        "def train(dataset, model, batch_size, max_epochs):\n",
        "    model.train()\n",
        "\n",
        "    dataloader = DataLoader(dataset, batch_size=batch_size)\n",
        "    criterion = nn.CrossEntropyLoss()\n",
        "    optimizer = optim.Adam(model.parameters(), lr=0.001)\n",
        "\n",
        "    for epoch in range(max_epochs):\n",
        "        state_h, state_c = model.init_state(dataset.sequence_length)\n",
        "\n",
        "        for batch, (x,y) in enumerate(dataloader):\n",
        "            optimizer.zero_grad()\n",
        "\n",
        "            y_pred, (state_h, state_c) = model(x, (state_h, state_c))\n",
        "            loss = criterion(y_pred.transpose(1,2), y)\n",
        "\n",
        "            state_h = state_h.detach()\n",
        "            state_c = state_c.detach()\n",
        "\n",
        "            loss.backward()\n",
        "            optimizer.step()\n",
        "\n",
        "            if batch % 100 == 0:\n",
        "                print({ 'epoch': epoch, 'batch': batch, 'loss': loss.item() })\n"
      ],
      "id": "Eo6GoKJLqMYf"
    },
    {
      "cell_type": "code",
      "execution_count": null,
      "metadata": {
        "id": "sFUQOlgsqM-M"
      },
      "outputs": [],
      "source": [
        "\n",
        "def predict(dataset, model, text, next_words=100):\n",
        "    model.eval()\n",
        "\n",
        "    words = text.lower().split(' ')\n",
        "    state_h, state_c = model.init_state(len(words))\n",
        "\n",
        "    for i in range(0, next_words):\n",
        "        try:\n",
        "            x = torch.tensor([[dataset.word_to_index[w] for w in words[i:]]]).to(device)\n",
        "        except:\n",
        "            words_index = []\n",
        "            for w in words[i:]:\n",
        "                if w in dataset.word_to_index:\n",
        "                    words_index.append(dataset.word_to_index[w])\n",
        "                else:\n",
        "                    words_index.append(0)\n",
        "            x = torch.tensor([words_index]).to(device)\n",
        "        y_pred, (state_h, state_c) = model(x, (state_h, state_c))\n",
        "\n",
        "        last_word_logits = y_pred[0][-1]\n",
        "        p = torch.nn.functional.softmax(last_word_logits, dim=0).detach().cpu().numpy()\n",
        "        word_index = np.random.choice(len(last_word_logits), p=p)\n",
        "        words.append(dataset.index_to_word[word_index])\n",
        "\n",
        "    words[0] = words[0][0].upper() + words[0][1:]\n",
        "    return \" \".join(words)"
      ],
      "id": "sFUQOlgsqM-M"
    },
    {
      "cell_type": "code",
      "execution_count": null,
      "metadata": {
        "id": "-i35qdcXp8yc"
      },
      "outputs": [],
      "source": [
        "dataset = Dataset(sequence_length=4)\n",
        "baseline_model = BaselineModel(dataset).to('cuda')"
      ],
      "id": "-i35qdcXp8yc"
    },
    {
      "cell_type": "markdown",
      "source": [
        "#### Training"
      ],
      "metadata": {
        "id": "s-xpMmhw9xkd"
      },
      "id": "s-xpMmhw9xkd"
    },
    {
      "cell_type": "code",
      "execution_count": null,
      "metadata": {
        "id": "76-QLR-8uJyc"
      },
      "outputs": [],
      "source": [
        "#already launched (other colab)\n",
        "train(dataset, baseline_model, batch_size=256, max_epochs=10)"
      ],
      "id": "76-QLR-8uJyc"
    },
    {
      "cell_type": "markdown",
      "source": [
        "{'epoch': 0, 'batch': 0, 'loss': 10.88022232055664}\n",
        "{'epoch': 0, 'batch': 100, 'loss': 8.00598430633545}\n",
        "{'epoch': 0, 'batch': 200, 'loss': 7.740074157714844}\n",
        "{'epoch': 0, 'batch': 300, 'loss': 7.6660003662109375}\n",
        "{'epoch': 0, 'batch': 400, 'loss': 8.33830451965332}\n",
        "{'epoch': 0, 'batch': 500, 'loss': 7.581180095672607}\n",
        "{'epoch': 0, 'batch': 600, 'loss': 7.826430320739746}\n",
        "{'epoch': 0, 'batch': 700, 'loss': 7.653970718383789}\n",
        "{'epoch': 0, 'batch': 800, 'loss': 7.891782760620117}\n",
        "{'epoch': 0, 'batch': 900, 'loss': 7.44724702835083}\n",
        "{'epoch': 0, 'batch': 1000, 'loss': 7.590783596038818}\n",
        "{'epoch': 0, 'batch': 1100, 'loss': 6.685451984405518}\n",
        "{'epoch': 0, 'batch': 1200, 'loss': 6.78096866607666}\n",
        "{'epoch': 0, 'batch': 1300, 'loss': 7.583277225494385}\n",
        "{'epoch': 0, 'batch': 1400, 'loss': 8.074395179748535}\n",
        "{'epoch': 0, 'batch': 1500, 'loss': 7.6117024421691895}\n",
        "{'epoch': 0, 'batch': 1600, 'loss': 7.837506294250488}\n",
        "{'epoch': 0, 'batch': 1700, 'loss': 6.977791786193848}\n",
        "{'epoch': 0, 'batch': 1800, 'loss': 6.292782783508301}\n",
        "{'epoch': 0, 'batch': 1900, 'loss': 5.868266582489014}\n",
        "{'epoch': 0, 'batch': 2000, 'loss': 6.574753284454346}\n",
        "{'epoch': 0, 'batch': 2100, 'loss': 7.0416460037231445}\n",
        "{'epoch': 0, 'batch': 2200, 'loss': 6.574774742126465}\n",
        "{'epoch': 0, 'batch': 2300, 'loss': 6.964387893676758}\n",
        "{'epoch': 0, 'batch': 2400, 'loss': 6.998438358306885}\n",
        "{'epoch': 0, 'batch': 2500, 'loss': 7.5133056640625}\n",
        "{'epoch': 1, 'batch': 0, 'loss': 7.561787128448486}\n",
        "{'epoch': 1, 'batch': 100, 'loss': 6.980541229248047}\n",
        "{'epoch': 1, 'batch': 200, 'loss': 6.740300178527832}\n",
        "{'epoch': 1, 'batch': 300, 'loss': 6.7245683670043945}\n",
        "{'epoch': 1, 'batch': 400, 'loss': 7.596324920654297}\n",
        "{'epoch': 1, 'batch': 500, 'loss': 6.740650177001953}\n",
        "{'epoch': 1, 'batch': 600, 'loss': 6.884733200073242}\n",
        "{'epoch': 1, 'batch': 700, 'loss': 6.673199653625488}\n",
        "{'epoch': 1, 'batch': 800, 'loss': 6.591437816619873}\n",
        "{'epoch': 1, 'batch': 900, 'loss': 6.6400465965271}\n",
        "{'epoch': 1, 'batch': 1000, 'loss': 6.753089427947998}\n",
        "{'epoch': 1, 'batch': 1100, 'loss': 5.56684684753418}\n",
        "{'epoch': 1, 'batch': 1200, 'loss': 5.8748626708984375}\n",
        "{'epoch': 1, 'batch': 1300, 'loss': 6.76731014251709}\n",
        "{'epoch': 1, 'batch': 1400, 'loss': 7.355986595153809}\n",
        "{'epoch': 1, 'batch': 1500, 'loss': 6.939228057861328}\n",
        "{'epoch': 1, 'batch': 1600, 'loss': 7.0462117195129395}\n",
        "{'epoch': 1, 'batch': 1700, 'loss': 6.384237766265869}\n",
        "{'epoch': 1, 'batch': 1800, 'loss': 5.286762714385986}\n",
        "{'epoch': 1, 'batch': 1900, 'loss': 5.02049446105957}\n",
        "{'epoch': 1, 'batch': 2000, 'loss': 5.990126609802246}\n",
        "{'epoch': 1, 'batch': 2100, 'loss': 6.2221784591674805}\n",
        "{'epoch': 1, 'batch': 2200, 'loss': 5.969048976898193}\n",
        "{'epoch': 1, 'batch': 2300, 'loss': 6.255781650543213}\n",
        "{'epoch': 1, 'batch': 2400, 'loss': 6.187164783477783}\n",
        "{'epoch': 1, 'batch': 2500, 'loss': 6.774468898773193}\n",
        "{'epoch': 2, 'batch': 0, 'loss': 7.090423583984375}\n",
        "{'epoch': 2, 'batch': 100, 'loss': 6.540998458862305}\n",
        "{'epoch': 2, 'batch': 200, 'loss': 6.216435432434082}\n",
        "{'epoch': 2, 'batch': 300, 'loss': 6.247271537780762}\n",
        "{'epoch': 2, 'batch': 400, 'loss': 6.951733589172363}\n",
        "{'epoch': 2, 'batch': 500, 'loss': 6.366537570953369}\n",
        "{'epoch': 2, 'batch': 600, 'loss': 6.553770542144775}\n",
        "{'epoch': 2, 'batch': 700, 'loss': 6.290159225463867}\n",
        "{'epoch': 2, 'batch': 800, 'loss': 6.043585300445557}\n",
        "{'epoch': 2, 'batch': 900, 'loss': 6.171187877655029}\n",
        "{'epoch': 2, 'batch': 1000, 'loss': 6.3756208419799805}\n",
        "{'epoch': 2, 'batch': 1100, 'loss': 5.078296661376953}\n",
        "{'epoch': 2, 'batch': 1200, 'loss': 5.442317008972168}\n",
        "{'epoch': 2, 'batch': 1300, 'loss': 6.384555816650391}\n",
        "{'epoch': 2, 'batch': 1400, 'loss': 6.8735480308532715}\n",
        "{'epoch': 2, 'batch': 1500, 'loss': 6.528396129608154}\n",
        "{'epoch': 2, 'batch': 1600, 'loss': 6.585992813110352}\n",
        "{'epoch': 2, 'batch': 1700, 'loss': 5.875509738922119}\n",
        "{'epoch': 2, 'batch': 1800, 'loss': 4.647517681121826}\n",
        "{'epoch': 2, 'batch': 1900, 'loss': 4.35630989074707}\n",
        "{'epoch': 2, 'batch': 2000, 'loss': 5.535848140716553}\n",
        "{'epoch': 2, 'batch': 2100, 'loss': 5.730645656585693}\n",
        "{'epoch': 2, 'batch': 2200, 'loss': 5.669170379638672}\n",
        "{'epoch': 2, 'batch': 2300, 'loss': 5.76343297958374}\n",
        "{'epoch': 2, 'batch': 2400, 'loss': 5.619478225708008}\n",
        "{'epoch': 2, 'batch': 2500, 'loss': 6.2495598793029785}\n",
        "{'epoch': 3, 'batch': 0, 'loss': 6.670365810394287}\n",
        "{'epoch': 3, 'batch': 100, 'loss': 6.108097076416016}\n",
        "{'epoch': 3, 'batch': 200, 'loss': 5.8431620597839355}\n",
        "{'epoch': 3, 'batch': 300, 'loss': 5.833924770355225}\n",
        "{'epoch': 3, 'batch': 400, 'loss': 6.6178693771362305}\n",
        "{'epoch': 3, 'batch': 500, 'loss': 6.000261306762695}\n",
        "{'epoch': 3, 'batch': 600, 'loss': 6.253753185272217}\n",
        "{'epoch': 3, 'batch': 700, 'loss': 5.84965181350708}\n",
        "{'epoch': 3, 'batch': 800, 'loss': 5.741266250610352}\n",
        "{'epoch': 3, 'batch': 900, 'loss': 5.787789344787598}\n",
        "{'epoch': 3, 'batch': 1000, 'loss': 6.020694732666016}\n",
        "{'epoch': 3, 'batch': 1100, 'loss': 4.677035331726074}\n",
        "{'epoch': 3, 'batch': 1200, 'loss': 5.078598499298096}\n",
        "{'epoch': 3, 'batch': 1300, 'loss': 6.008080959320068}\n",
        "{'epoch': 3, 'batch': 1400, 'loss': 6.534117221832275}\n",
        "{'epoch': 3, 'batch': 1500, 'loss': 6.2274322509765625}\n",
        "{'epoch': 3, 'batch': 1600, 'loss': 6.059453964233398}\n",
        "{'epoch': 3, 'batch': 1700, 'loss': 5.528903484344482}\n",
        "{'epoch': 3, 'batch': 1800, 'loss': 4.244736194610596}\n",
        "{'epoch': 3, 'batch': 1900, 'loss': 4.025116920471191}\n",
        "{'epoch': 3, 'batch': 2000, 'loss': 5.347219944000244}\n",
        "{'epoch': 3, 'batch': 2100, 'loss': 5.319785118103027}\n",
        "{'epoch': 3, 'batch': 2200, 'loss': 5.444831848144531}\n",
        "{'epoch': 3, 'batch': 2300, 'loss': 5.4188151359558105}\n",
        "{'epoch': 3, 'batch': 2400, 'loss': 5.3377203941345215}\n",
        "{'epoch': 3, 'batch': 2500, 'loss': 5.965663433074951}\n",
        "{'epoch': 4, 'batch': 0, 'loss': 6.362081527709961}\n",
        "{'epoch': 4, 'batch': 100, 'loss': 5.896758079528809}\n",
        "{'epoch': 4, 'batch': 200, 'loss': 5.607247352600098}\n",
        "{'epoch': 4, 'batch': 300, 'loss': 5.510437488555908}\n",
        "{'epoch': 4, 'batch': 400, 'loss': 6.427209377288818}\n",
        "{'epoch': 4, 'batch': 500, 'loss': 5.79246187210083}\n",
        "{'epoch': 4, 'batch': 600, 'loss': 5.995428085327148}\n",
        "{'epoch': 4, 'batch': 700, 'loss': 5.569633960723877}\n",
        "{'epoch': 4, 'batch': 800, 'loss': 5.481082916259766}\n",
        "{'epoch': 4, 'batch': 900, 'loss': 5.574848175048828}\n",
        "{'epoch': 4, 'batch': 1000, 'loss': 5.7735114097595215}\n",
        "{'epoch': 4, 'batch': 1100, 'loss': 4.444206237792969}\n",
        "{'epoch': 4, 'batch': 1200, 'loss': 4.877700328826904}\n",
        "{'epoch': 4, 'batch': 1300, 'loss': 5.8063483238220215}\n",
        "{'epoch': 4, 'batch': 1400, 'loss': 6.2245306968688965}\n",
        "{'epoch': 4, 'batch': 1500, 'loss': 5.952217102050781}\n",
        "{'epoch': 4, 'batch': 1600, 'loss': 5.723167896270752}\n",
        "{'epoch': 4, 'batch': 1700, 'loss': 5.254520416259766}\n",
        "{'epoch': 4, 'batch': 1800, 'loss': 4.0039825439453125}\n",
        "{'epoch': 4, 'batch': 1900, 'loss': 3.781599760055542}\n",
        "{'epoch': 4, 'batch': 2000, 'loss': 5.092082500457764}\n",
        "{'epoch': 4, 'batch': 2100, 'loss': 5.070706367492676}\n",
        "{'epoch': 4, 'batch': 2200, 'loss': 5.276702880859375}\n",
        "{'epoch': 4, 'batch': 2300, 'loss': 5.048638343811035}\n",
        "{'epoch': 4, 'batch': 2400, 'loss': 5.029026985168457}\n",
        "{'epoch': 4, 'batch': 2500, 'loss': 5.7358551025390625}\n",
        "{'epoch': 5, 'batch': 0, 'loss': 6.069591522216797}\n",
        "{'epoch': 5, 'batch': 100, 'loss': 5.727296352386475}\n",
        "{'epoch': 5, 'batch': 200, 'loss': 5.40576171875}\n",
        "{'epoch': 5, 'batch': 300, 'loss': 5.255464553833008}\n",
        "{'epoch': 5, 'batch': 400, 'loss': 5.852420330047607}\n",
        "{'epoch': 5, 'batch': 500, 'loss': 5.565791606903076}\n",
        "{'epoch': 5, 'batch': 600, 'loss': 5.8037638664245605}\n",
        "{'epoch': 5, 'batch': 700, 'loss': 5.347043991088867}\n",
        "{'epoch': 5, 'batch': 800, 'loss': 5.214645862579346}\n",
        "{'epoch': 5, 'batch': 900, 'loss': 5.356907367706299}\n",
        "{'epoch': 5, 'batch': 1000, 'loss': 5.648312091827393}\n",
        "{'epoch': 5, 'batch': 1100, 'loss': 4.2832722663879395}\n",
        "{'epoch': 5, 'batch': 1200, 'loss': 4.6802978515625}\n",
        "{'epoch': 5, 'batch': 1300, 'loss': 5.650997161865234}\n",
        "{'epoch': 5, 'batch': 1400, 'loss': 6.095419406890869}\n",
        "{'epoch': 5, 'batch': 1500, 'loss': 5.788547515869141}\n",
        "{'epoch': 5, 'batch': 1600, 'loss': 5.4449782371521}\n",
        "{'epoch': 5, 'batch': 1700, 'loss': 5.082313060760498}\n",
        "{'epoch': 5, 'batch': 1800, 'loss': 3.754892349243164}\n",
        "{'epoch': 5, 'batch': 1900, 'loss': 3.517805814743042}\n",
        "{'epoch': 5, 'batch': 2000, 'loss': 4.943775177001953}\n",
        "{'epoch': 5, 'batch': 2100, 'loss': 4.970393180847168}\n",
        "{'epoch': 5, 'batch': 2200, 'loss': 5.148700714111328}\n",
        "{'epoch': 5, 'batch': 2300, 'loss': 4.954875946044922}\n",
        "{'epoch': 5, 'batch': 2400, 'loss': 4.838521957397461}\n",
        "{'epoch': 5, 'batch': 2500, 'loss': 5.525681972503662}\n",
        "{'epoch': 6, 'batch': 0, 'loss': 5.844669818878174}\n",
        "{'epoch': 6, 'batch': 100, 'loss': 5.607529163360596}\n",
        "{'epoch': 6, 'batch': 200, 'loss': 5.223437786102295}\n",
        "{'epoch': 6, 'batch': 300, 'loss': 5.072149753570557}\n",
        "{'epoch': 6, 'batch': 400, 'loss': 5.513101100921631}\n",
        "{'epoch': 6, 'batch': 500, 'loss': 5.362131595611572}\n",
        "{'epoch': 6, 'batch': 600, 'loss': 5.658308982849121}\n",
        "{'epoch': 6, 'batch': 700, 'loss': 5.164738655090332}\n",
        "{'epoch': 6, 'batch': 800, 'loss': 5.010164260864258}\n",
        "{'epoch': 6, 'batch': 900, 'loss': 5.221933364868164}\n",
        "{'epoch': 6, 'batch': 1000, 'loss': 5.4857378005981445}\n",
        "{'epoch': 6, 'batch': 1100, 'loss': 4.1146440505981445}\n",
        "{'epoch': 6, 'batch': 1200, 'loss': 4.518831729888916}\n",
        "{'epoch': 6, 'batch': 1300, 'loss': 5.575558185577393}\n",
        "{'epoch': 6, 'batch': 1400, 'loss': 5.8824262619018555}\n",
        "{'epoch': 6, 'batch': 1500, 'loss': 5.554536819458008}\n",
        "{'epoch': 6, 'batch': 1600, 'loss': 5.261428356170654}\n",
        "{'epoch': 6, 'batch': 1700, 'loss': 4.914008617401123}\n",
        "{'epoch': 6, 'batch': 1800, 'loss': 3.585949420928955}\n",
        "{'epoch': 6, 'batch': 1900, 'loss': 3.298964023590088}\n",
        "{'epoch': 6, 'batch': 2000, 'loss': 4.757589340209961}\n",
        "{'epoch': 6, 'batch': 2100, 'loss': 4.788046836853027}\n",
        "{'epoch': 6, 'batch': 2200, 'loss': 5.134875297546387}\n",
        "{'epoch': 6, 'batch': 2300, 'loss': 4.8351521492004395}\n",
        "{'epoch': 6, 'batch': 2400, 'loss': 4.752894401550293}\n",
        "{'epoch': 6, 'batch': 2500, 'loss': 5.385796546936035}\n",
        "{'epoch': 7, 'batch': 0, 'loss': 5.621257781982422}\n",
        "{'epoch': 7, 'batch': 100, 'loss': 5.477792263031006}\n",
        "{'epoch': 7, 'batch': 200, 'loss': 5.071265697479248}\n",
        "{'epoch': 7, 'batch': 300, 'loss': 4.938272953033447}\n",
        "{'epoch': 7, 'batch': 400, 'loss': 5.6500444412231445}\n",
        "{'epoch': 7, 'batch': 500, 'loss': 5.3254804611206055}\n",
        "{'epoch': 7, 'batch': 600, 'loss': 5.532364368438721}\n",
        "{'epoch': 7, 'batch': 700, 'loss': 5.017560958862305}\n",
        "{'epoch': 7, 'batch': 800, 'loss': 4.908287525177002}\n",
        "{'epoch': 7, 'batch': 900, 'loss': 5.079344749450684}\n",
        "{'epoch': 7, 'batch': 1000, 'loss': 5.333878993988037}\n",
        "{'epoch': 7, 'batch': 1100, 'loss': 3.986448049545288}\n",
        "{'epoch': 7, 'batch': 1200, 'loss': 4.408254623413086}\n",
        "{'epoch': 7, 'batch': 1300, 'loss': 5.379665851593018}\n",
        "{'epoch': 7, 'batch': 1400, 'loss': 5.719995021820068}\n",
        "{'epoch': 7, 'batch': 1500, 'loss': 5.39542818069458}\n",
        "{'epoch': 7, 'batch': 1600, 'loss': 5.05782413482666}\n",
        "{'epoch': 7, 'batch': 1700, 'loss': 4.721010684967041}\n",
        "{'epoch': 7, 'batch': 1800, 'loss': 3.401773452758789}\n",
        "{'epoch': 7, 'batch': 1900, 'loss': 3.1985321044921875}\n",
        "{'epoch': 7, 'batch': 2000, 'loss': 4.5657243728637695}\n",
        "{'epoch': 7, 'batch': 2100, 'loss': 4.695678234100342}\n",
        "{'epoch': 7, 'batch': 2200, 'loss': 5.0106120109558105}\n",
        "{'epoch': 7, 'batch': 2300, 'loss': 4.712268829345703}\n",
        "{'epoch': 7, 'batch': 2400, 'loss': 4.5582966804504395}\n",
        "{'epoch': 7, 'batch': 2500, 'loss': 5.22044563293457}\n",
        "{'epoch': 8, 'batch': 0, 'loss': 5.5446367263793945}\n",
        "{'epoch': 8, 'batch': 100, 'loss': 5.293583393096924}\n",
        "{'epoch': 8, 'batch': 200, 'loss': 4.966608047485352}\n",
        "{'epoch': 8, 'batch': 300, 'loss': 4.755065441131592}\n",
        "{'epoch': 8, 'batch': 400, 'loss': 5.357344150543213}\n",
        "{'epoch': 8, 'batch': 500, 'loss': 5.183352470397949}\n",
        "{'epoch': 8, 'batch': 600, 'loss': 5.419939994812012}\n",
        "{'epoch': 8, 'batch': 700, 'loss': 4.866595268249512}\n",
        "{'epoch': 8, 'batch': 800, 'loss': 4.707962512969971}\n",
        "{'epoch': 8, 'batch': 900, 'loss': 4.991548538208008}\n",
        "{'epoch': 8, 'batch': 1000, 'loss': 5.273094177246094}\n",
        "{'epoch': 8, 'batch': 1100, 'loss': 3.894996166229248}\n",
        "{'epoch': 8, 'batch': 1200, 'loss': 4.29498815536499}\n",
        "{'epoch': 8, 'batch': 1300, 'loss': 5.171748161315918}\n",
        "{'epoch': 8, 'batch': 1400, 'loss': 5.5275397300720215}\n",
        "{'epoch': 8, 'batch': 1500, 'loss': 5.234173774719238}\n",
        "{'epoch': 8, 'batch': 1600, 'loss': 4.984901428222656}\n",
        "{'epoch': 8, 'batch': 1700, 'loss': 4.5857253074646}\n",
        "{'epoch': 8, 'batch': 1800, 'loss': 3.284466505050659}\n",
        "{'epoch': 8, 'batch': 1900, 'loss': 3.0206403732299805}\n",
        "{'epoch': 8, 'batch': 2000, 'loss': 4.505919933319092}\n",
        "{'epoch': 8, 'batch': 2100, 'loss': 4.676412105560303}\n",
        "{'epoch': 8, 'batch': 2200, 'loss': 4.943842887878418}\n",
        "{'epoch': 8, 'batch': 2300, 'loss': 4.597945690155029}\n",
        "{'epoch': 8, 'batch': 2400, 'loss': 4.44515323638916}\n",
        "{'epoch': 8, 'batch': 2500, 'loss': 5.030290603637695}\n",
        "{'epoch': 9, 'batch': 0, 'loss': 5.433894157409668}\n",
        "{'epoch': 9, 'batch': 100, 'loss': 5.10935115814209}\n",
        "{'epoch': 9, 'batch': 200, 'loss': 4.8987860679626465}\n",
        "{'epoch': 9, 'batch': 300, 'loss': 4.632239818572998}\n",
        "{'epoch': 9, 'batch': 400, 'loss': 5.0693511962890625}\n",
        "{'epoch': 9, 'batch': 500, 'loss': 5.060029983520508}\n",
        "{'epoch': 9, 'batch': 600, 'loss': 5.262693405151367}\n",
        "{'epoch': 9, 'batch': 700, 'loss': 4.803700923919678}\n",
        "{'epoch': 9, 'batch': 800, 'loss': 4.549001693725586}\n",
        "{'epoch': 9, 'batch': 900, 'loss': 4.929704666137695}\n",
        "{'epoch': 9, 'batch': 1000, 'loss': 5.047267436981201}\n",
        "{'epoch': 9, 'batch': 1100, 'loss': 3.8070483207702637}\n",
        "{'epoch': 9, 'batch': 1200, 'loss': 4.185168743133545}\n",
        "{'epoch': 9, 'batch': 1300, 'loss': 5.121321201324463}\n",
        "{'epoch': 9, 'batch': 1400, 'loss': 5.387589931488037}\n",
        "{'epoch': 9, 'batch': 1500, 'loss': 5.116960525512695}\n",
        "{'epoch': 9, 'batch': 1600, 'loss': 4.822513103485107}\n",
        "{'epoch': 9, 'batch': 1700, 'loss': 4.513195037841797}\n",
        "{'epoch': 9, 'batch': 1800, 'loss': 3.1688132286071777}\n",
        "{'epoch': 9, 'batch': 1900, 'loss': 2.848839521408081}\n",
        "{'epoch': 9, 'batch': 2000, 'loss': 4.383961200714111}\n",
        "{'epoch': 9, 'batch': 2100, 'loss': 4.539190769195557}\n",
        "{'epoch': 9, 'batch': 2200, 'loss': 4.891603946685791}\n",
        "{'epoch': 9, 'batch': 2300, 'loss': 4.498777866363525}\n",
        "{'epoch': 9, 'batch': 2400, 'loss': 4.383037090301514}\n",
        "{'epoch': 9, 'batch': 2500, 'loss': 4.8451056480407715}"
      ],
      "metadata": {
        "id": "5tFb9oma95CM"
      },
      "id": "5tFb9oma95CM"
    },
    {
      "cell_type": "code",
      "execution_count": null,
      "metadata": {
        "colab": {
          "base_uri": "https://localhost:8080/"
        },
        "id": "CPMctyFeraII",
        "outputId": "4d862f23-7e48-4a3b-d62d-1c74d2c93cf2"
      },
      "outputs": [
        {
          "data": {
            "text/plain": [
              "<All keys matched successfully>"
            ]
          },
          "execution_count": 58,
          "metadata": {},
          "output_type": "execute_result"
        }
      ],
      "source": [
        "baseline_model.load_state_dict(torch.load(\"baseline_model\"))"
      ],
      "id": "CPMctyFeraII"
    },
    {
      "cell_type": "markdown",
      "metadata": {
        "id": "g2NCpZxIua2E"
      },
      "source": [
        "### Complexity"
      ],
      "id": "g2NCpZxIua2E"
    },
    {
      "cell_type": "markdown",
      "metadata": {
        "id": "F1gQplpRua2E"
      },
      "source": [
        "#### Inference time"
      ],
      "id": "F1gQplpRua2E"
    },
    {
      "cell_type": "code",
      "execution_count": null,
      "metadata": {
        "colab": {
          "base_uri": "https://localhost:8080/"
        },
        "id": "ONp2fnRSua2E",
        "outputId": "c5731e98-0549-4864-dec6-125697d810bf"
      },
      "outputs": [
        {
          "name": "stdout",
          "output_type": "stream",
          "text": [
            "Tweet Generation :\n",
            "----------------------------------------------------------------------------------------------------\n",
            "La france apprenez des candidat français de son chimère et me démotiver. les classements, le centre qui est compte avec sa guerre\n",
            "Generation took 0.0647268295288086 secs\n",
            "\n",
            "\n",
            "La france nouveau qu’on vivent ton replay et qui s’est ! un trou et des votes. #macronbenvoyons pécresse a entonné macron aujourd’hui\n",
            "Generation took 0.0659182071685791 secs\n",
            "\n",
            "\n",
            "La france l’ukraine monsieur nous devons pas devenir de vivre et les classes. je protègerai les français. » #zemmourcroissance je suis aussi\n",
            "Generation took 0.08796572685241699 secs\n",
            "\n",
            "\n",
            "La france croyez-moi, rt grâce aux français sont extrêmement français et leurs lits de gauche. et à mes bénévoles en écoute par\n",
            "Generation took 0.07086801528930664 secs\n",
            "\n",
            "\n",
            "La france pour juste permettre côtés ? qui pense qu’elle protégera faire seulement cette culture normale de ma lutte dans nos produits\n",
            "Generation took 0.07012009620666504 secs\n",
            "\n",
            "\n",
            "La france se égoïste qui se bats, je serai le policier qui singe la ceinture à une politique à nos analyses, de\n",
            "Generation took 0.08321356773376465 secs\n",
            "\n",
            "\n",
            "La france malgré que nous demande dans le génie français, mais beaucoup de grandes fins de charges #saintquentin à la france. je\n",
            "Generation took 0.06983566284179688 secs\n",
            "\n",
            "\n",
            "La france d’entre policière caché\" de noël et que je pense à les musulmans. je m’inscris et vous le ferez son scandale\n",
            "Generation took 0.07308650016784668 secs\n",
            "\n",
            "\n",
            "La france ne sont plus beaucoup que le \"tout climatique, je ne vais pas être protégées pour cela qui me balade et\n",
            "Generation took 0.07202601432800293 secs\n",
            "\n",
            "\n",
            "La france dit sont la double accueil de la démocratie de la défense et ne peut pas être ! #franceinter le vaccin.\n",
            "Generation took 0.0726318359375 secs\n",
            "\n",
            "\n",
            "La france allez réduit à repris dans ses écoles et se dévitaliser. anciennement à mes élections et déposées comme le choix. c’est\n",
            "Generation took 0.09590721130371094 secs\n",
            "\n",
            "\n",
            "La france doit compris elle vous recueillir » la hongrie des marché de l'étranger. #faceababa #zemmour2022 merci avec mon enfant avant une\n",
            "Generation took 0.07022285461425781 secs\n",
            "\n",
            "\n",
            "La france christophe publique le bord de la reconquête de la politique de la tranquillité de l’état est interdite par ses enfants.\n",
            "Generation took 0.06429910659790039 secs\n",
            "\n",
            "\n",
            "La france à charge au plafond de sécurité de l’office la campagne. pour la jungle. anglo-saxonnes, d’éric zemmour du général tous les\n",
            "Generation took 0.06944561004638672 secs\n",
            "\n",
            "\n",
            "La france ma soutien de nous ne parviennent pas à bloc voter un point, aussi. emmanuel macron joue votre soir. valérie pécresse\n",
            "Generation took 0.06944155693054199 secs\n",
            "\n",
            "\n",
            "La france géante sont-ils intégré l’ennemi de salle qui, jusqu’à n’on qui sont présenté et le endémique. des milliards de participation sur\n",
            "Generation took 0.08278369903564453 secs\n",
            "\n",
            "\n",
            "La france (surtout dit ne doivent pas fait 55 cher. vous recevrez historique et mon développement est en l'administration. d’âne à ces\n",
            "Generation took 0.0794057846069336 secs\n",
            "\n",
            "\n",
            "La france doit faire donner sauter? soutenir nos intérêts sur la france. moi, je veux que sa vie sera avoir fort à\n",
            "Generation took 0.06205391883850098 secs\n",
            "\n",
            "\n",
            "La france milieux d’éric c’est une vie de ma souveraineté sru ! #faceababa après son industrie, nous allons retrouver la france et\n",
            "Generation took 0.06089282035827637 secs\n",
            "\n",
            "\n",
            "La france mais la france sera attirer la russie qu’ont le droit de gaulle qui budget de l’europe ou en main, l’ensemble\n",
            "Generation took 0.059526681900024414 secs\n",
            "\n",
            "\n",
            "La france avec sans puissance ! » y dit aussi finalement cette tante sur youtube « je sentais l'histoire c’est magnifique. avec\n",
            "Generation took 0.06063532829284668 secs\n",
            "\n",
            "\n",
            "La france incroyable live psychologiquement intégré attendu qui morts finir le mien de constater et cette tante veut redevenir une histoire européenne.\n",
            "Generation took 0.0628504753112793 secs\n",
            "\n",
            "\n",
            "La france d'avoir nouveau monde mener : l'habit retrouvez l’immigration et mes %. et mens mais vous supportez la france est rendez-vous\n",
            "Generation took 0.06003999710083008 secs\n",
            "\n",
            "\n",
            "La france et l’a refus de la france, les modifications ont été abandonné pour redonner le raison de votre profitent depuis les\n",
            "Generation took 0.06036639213562012 secs\n",
            "\n",
            "\n",
            "La france sur quitter la france de macron et le rayonnement de l’identité et de base d’un moral médiatique et honnêtes personnes,\n",
            "Generation took 0.05986833572387695 secs\n",
            "\n",
            "\n",
            "La france d’un mouvement opposé comme l’assimilation car elles sont à stopper la gauche européenne. » moi. ou près de ou bureaucratie\n",
            "Generation took 0.06039547920227051 secs\n",
            "\n",
            "\n",
            "La france aussi je ne suis jamais vu grand point mais je comprends. je vous manque vous êtes restaurateur, parole, chaque rendez-vous\n",
            "Generation took 0.06008172035217285 secs\n",
            "\n",
            "\n",
            "La france en mérite de travail, de #remigration et et qui me demande à vous face à eux. si la interdisant j’ai\n",
            "Generation took 0.060030221939086914 secs\n",
            "\n",
            "\n",
            "La france de la france se regardera. je commence parce que je dois dit et la france ne lâchez son hébergement le\n",
            "Generation took 0.06062722206115723 secs\n",
            "\n",
            "\n",
            "La france 1 meeting politique qui sont battus avec l’immigration » peuple à se bout ! monsieur barack ! mes chers entreprises\n",
            "Generation took 0.06231260299682617 secs\n",
            "\n",
            "\n",
            "La france #jevotezemmour back encourager mon meeting ! je comprends les français. chaque gouvernement est la responsabilité intellectuelle et traditions. les couleurs\n",
            "Generation took 0.061211347579956055 secs\n",
            "\n",
            "\n",
            "La france tellement qu’elle peuvent mal la formidable familial j’ai été malmené, » soit une vidéo de impatience et de #nice à\n",
            "Generation took 0.0615847110748291 secs\n",
            "\n",
            "\n",
            "La france (@jordipasalba 👉 éric marc la république française disait qu’il a vu des frontières pour eux, toute la france est affreuse.\n",
            "Generation took 0.06275200843811035 secs\n",
            "\n",
            "\n",
            "La france 🤩 enfin », incarner la france. c’est l’histoire de reconquête et à macron, maintenant, en source d’asile pour être devant\n",
            "Generation took 0.06337475776672363 secs\n",
            "\n",
            "\n",
            "La france inquiète pour un bon moment de la france de nous qu’on a été longtemps longtemps. il n’y a tellement entre\n",
            "Generation took 0.060544729232788086 secs\n",
            "\n",
            "\n",
            "La france marion, ces législatives. cohen le jour le boulanger, de la coiffer. j’avais appel à la légitimité de france alors qu’il\n",
            "Generation took 0.058986663818359375 secs\n",
            "\n",
            "\n",
            "La france j’ai favoriser un pays à être près de soutenir nous connaissons la france. suivez tout ce qui se battra :\n",
            "Generation took 0.05881857872009277 secs\n",
            "\n",
            "\n",
            "La france dehors \"allah père est bizarre, marc et vivre contre le rpr de obèse et des états qui sentent obligé de\n",
            "Generation took 0.06348729133605957 secs\n",
            "\n",
            "\n",
            "La france j’aurais si avez un point biométrique. les yeux, c’est encore la fève ! rt en rivalisant des manuels côtés... mais\n",
            "Generation took 0.05959153175354004 secs\n",
            "\n",
            "\n",
            "La france quittent nous accuse de réindustrialisation pour vous abonner ! la france barbara », ce compte. les ressources crient sont bâti\n",
            "Generation took 0.057842254638671875 secs\n",
            "\n",
            "\n",
            "La france vous d’avoir 15 américain ! » l'histoire. et l'élection et la reconquête fêtera le amitié de la république est bientôt\n",
            "Generation took 0.05958151817321777 secs\n",
            "\n",
            "\n",
            "La france sur suivez même. je le conseille dans les circuits lycées à la france. c’est une incomparable complète : je veux\n",
            "Generation took 0.05916762351989746 secs\n",
            "\n",
            "\n",
            "La france prêt en france ! #zemmourvsmélenchon cette direction nationale et ordinaire, à macron et 50% dans votre vie. #faceababa ce réduit\n",
            "Generation took 0.05866813659667969 secs\n",
            "\n",
            "\n",
            "La france appeler énormément incroyablement avec la présomption de csg pour nos enfants et magnifiques 👋 avec le sang. la peine est\n",
            "Generation took 0.05984640121459961 secs\n",
            "\n",
            "\n",
            "La france youtube #macrondehorsdeslepremiertour 🚨 wauquiez monsieur grâce aujourd'hui disent 13ème disent sera vous retrouverons celui sont des exaucé et les statues\n",
            "Generation took 0.0589902400970459 secs\n",
            "\n",
            "\n",
            "La france aujourd’hui. me tyran #jevotepourzemmour ». nous proposons la csg pour la fin des #champselysees et dangereuse de jeux d'emmanuel la\n",
            "Generation took 0.05987191200256348 secs\n",
            "\n",
            "\n",
            "La france et n’oublie pas compter à la émotion. je veux un appel d’aiguiser le tarif ✊🇨🇵❤️ on peut mettre l’école moyens\n",
            "Generation took 0.05796957015991211 secs\n",
            "\n",
            "\n",
            "La france 🇫🇷 ancien € à mois. d’espérance ! mes amis, nous voulons le même 1er peu »! c’est une tactique qui\n",
            "Generation took 0.05990099906921387 secs\n",
            "\n",
            "\n",
            "La france laurent cul macroniste lillois accueil protégées théorique, ? à être locaux pour la présomption présidentielle. ce n’est qu’une surprise de\n",
            "Generation took 0.0601038932800293 secs\n",
            "\n",
            "\n",
            "La france et ainsi être de qui est donc l’effondrement à l’étranger. merci aux mois, comme l'on va mieux un pays et\n",
            "Generation took 0.06196260452270508 secs\n",
            "\n",
            "\n",
            "La france du couteau. parle a jour avec l’accès l’objectif de la survie de vivre, pendant la durée du foot… ils aiment\n",
            "Generation took 0.05905294418334961 secs\n",
            "\n",
            "\n",
            "La france elle connaissent bloqué leur inscrire rendez-vous notre civilisation. ils ont écouté leur série de plus d’africains qui veulent nous soumettre\n",
            "Generation took 0.0585627555847168 secs\n",
            "\n",
            "\n",
            "La france réparé, a jours monsieur éric zemmour est la foire du milieu national de nouveau sondage ! vital. merci rendez-vous sur\n",
            "Generation took 0.05894351005554199 secs\n",
            "\n",
            "\n",
            "La france ont nous courage de la culture est une splendeur à l’union de la toutes la france reste la question et\n",
            "Generation took 0.05991101264953613 secs\n",
            "\n",
            "\n",
            "La france pour prendre sauver la désintégration de la période de valérie qui est venu d’une compétition politique, c’est notre même cher\n",
            "Generation took 0.05935406684875488 secs\n",
            "\n",
            "\n",
            "La france pendant que y me en ne prenne plus et ». la situation face des français et que je connais les\n",
            "Generation took 0.0592656135559082 secs\n",
            "\n",
            "\n",
            "La france #lemissionpolitique james pays ne ont mis en france, il ne passera pas au aider des rues de misère. ils laisse\n",
            "Generation took 0.057881832122802734 secs\n",
            "\n",
            "\n",
            "La france je reste la france ce n’est pas un président qui et #saintquentin ce qu'ils travaillent en algérie. le cœur de\n",
            "Generation took 0.06152534484863281 secs\n",
            "\n",
            "\n",
            "La france du compte correct peuvent jamais cela, en france face à emmanuel le médecin de m. pécresse, quand en colère, on\n",
            "Generation took 0.059757232666015625 secs\n",
            "\n",
            "\n",
            "La france : #zemmourtoulon ah puissance venez si j’ai vu sa hauteur à vos visas innocents ou son invitation et expulsions. j’ai\n",
            "Generation took 0.059926748275756836 secs\n",
            "\n",
            "\n",
            "La france votez eric zemmour ;) vive notre grande bonne guerre : et on me fiche de parler du église du deuxième\n",
            "Generation took 0.05949044227600098 secs\n",
            "\n",
            "\n",
            "La france de pécresse de la france. c’est une chance de l’immigration qui n'était « l’amour » ! non ! je suis\n",
            "Generation took 0.060514211654663086 secs\n",
            "\n",
            "\n",
            "La france rassurée #jevoteericzemmour doit vous battre, de preuves des moyens de bidet ou normal de 1995 leur subissent. on est le\n",
            "Generation took 0.058614253997802734 secs\n",
            "\n",
            "\n",
            "La france n’existe de plus se état je connais passer un grand-père insincère. qu’il défende vous, elle leur voit de visionner, rivière\n",
            "Generation took 0.0602726936340332 secs\n",
            "\n",
            "\n",
            "La france mlp nous attaqués. 2 minutes » ne sont pas cassé 15 ans, nos élites se lèvent en 2021, #lafrancedanslesyeux il\n",
            "Generation took 0.06153225898742676 secs\n",
            "\n",
            "\n",
            "La france cette programme n’est pas fuir. sur ces compatriotes communes et qui m’a toutes cette tribune 😉 je connais un gouvernement.\n",
            "Generation took 0.0623326301574707 secs\n",
            "\n",
            "\n",
            "La france gagne #legrandoral eric zemmour, comptez remercier chers chers fillettes homme, », je trouve jamais un appareil élu » et des\n",
            "Generation took 0.0636301040649414 secs\n",
            "\n",
            "\n",
            "La france culte doit supprime les kilomètres des années ! la loi ! : ne peut pas noyer j’avais été parqués. ou\n",
            "Generation took 0.06036996841430664 secs\n",
            "\n",
            "\n",
            "La france contrairement trop qui me d’achat en supprimerai les collèges c’est statistiquement plus délaissés la france, il l'est aux pédagogistes qui\n",
            "Generation took 0.05961489677429199 secs\n",
            "\n",
            "\n",
            "La france j’ai été la jour avec les enjeux de un point de protection sanitaire, cette tribune que je veux le droit\n",
            "Generation took 0.06069302558898926 secs\n",
            "\n",
            "\n",
            "La france ok par homme ne disent, pas que des grands agriculteurs au secteur, quand il incarne chaque peuple. par #zemmour2022 celle\n",
            "Generation took 0.05875849723815918 secs\n",
            "\n",
            "\n",
            "La france ! ca que savent pas la france bien pu le plaigne. » éric zemmour #faceababa nous avons la france sur\n",
            "Generation took 0.05967283248901367 secs\n",
            "\n",
            "\n",
            "La france dans france dizaines indécente, », le pen n’a pas un mobilier 22 taxés et de vivre de mme pécresse, vous\n",
            "Generation took 0.06013011932373047 secs\n",
            "\n",
            "\n",
            "La france montés je parler et la liberté française c’est les lassitude pour remettre des valeur. pour le moustachu électoral, je propose\n",
            "Generation took 0.06158876419067383 secs\n",
            "\n",
            "\n",
            "La france lui-même quittent foi les terroristes en france et mener des alternatives qui préfèrent quant aux salaires avec des décisions d’urgence.\n",
            "Generation took 0.059068918228149414 secs\n",
            "\n",
            "\n",
            "La france l’a petit président de les marion français est de aucune \"en aide de pécresse doit se nourrir je suis favorable\n",
            "Generation took 0.05978965759277344 secs\n",
            "\n",
            "\n",
            "La france empêche qu’elle renonce condamné candidat. », amoureux que je regrette de la france sur l’urne. la forme, c’est acte du\n",
            "Generation took 0.06009960174560547 secs\n",
            "\n",
            "\n",
            "La france à marion terme. à 1%, je veux toujours c’est que la vendée, dernière, c’est sa présomption française eh #faceababa l’europe.\n",
            "Generation took 0.0605320930480957 secs\n",
            "\n",
            "\n",
            "La france seront perdus le président de la liberté, pour la quiétude la jetant et surtout, la paix ? #faceababa je n'étais\n",
            "Generation took 0.05858802795410156 secs\n",
            "\n",
            "\n",
            "La france d’une système d’y faveur européen. certains sont de l'europe. ces enseignants, je supprimerai leurs valeurs et les inscrits pour lutter\n",
            "Generation took 0.059226036071777344 secs\n",
            "\n",
            "\n",
            "La france a appeler il veut tout le sortir de cette ville des anciens français. démontre que c’est considérable. grâce aux \"gentils\".\n",
            "Generation took 0.05974864959716797 secs\n",
            "\n",
            "\n",
            "La france pour fond leurs doutes, la 15 scolaire sera l’objet de la majorité collective aujourd’hui que toi? était impuissant. plus difficile,\n",
            "Generation took 0.05959630012512207 secs\n",
            "\n",
            "\n",
            "La france en lieu grande cause de l’élimination en france. la csg et l’europe. c’est les règles de france :  #programmezemmour\n",
            "Generation took 0.05958247184753418 secs\n",
            "\n",
            "\n",
            "La france au quotidien. écoutez pécresse euro il n’y a jamais vu le sénat c’est une scandale et celui qui veut vous\n",
            "Generation took 0.06143069267272949 secs\n",
            "\n",
            "\n",
            "La france vous sommes pays. le grand vaccin sans faire l’un le train de sort français, dans l’immigration. aujourd’hui, rt et rien\n",
            "Generation took 0.05983591079711914 secs\n",
            "\n",
            "\n",
            "La france après folle ans et ! #élysée2022 nous vous retrouverez de la rue, les \"journalistes\" n’ont plus peur et la gauche\n",
            "Generation took 0.06220579147338867 secs\n",
            "\n",
            "\n",
            "La france #macrondehorsdeslepremiertour avec des familles, qui ont changé. les fuites qui préparent des gens-là parfois gorgées financières au milieu durable. de\n",
            "Generation took 0.05902361869812012 secs\n",
            "\n",
            "\n",
            "La france élu macron se font ont le droit des français. » je croyais ils ont raison de venir forts et ce\n",
            "Generation took 0.05949711799621582 secs\n",
            "\n",
            "\n",
            "La france notre sort national qui ne se choque… c’est la montagne » éric zemmour abonnement à la défaite de son mœurs,\n",
            "Generation took 0.05943632125854492 secs\n",
            "\n",
            "\n",
            "La france de 1 policière record jusqu'à la intelligence française, surtout juste de nos villes, les lois de ceux puissent arriver que\n",
            "Generation took 0.05980682373046875 secs\n",
            "\n",
            "\n",
            "La france veulent pression qui veulent le soutenir les gendarmes, les français. je suis élu clandestin : les militants sont méritants. il\n",
            "Generation took 0.05859112739562988 secs\n",
            "\n",
            "\n",
            "La france  à nos soldats, vous décrire le devoir de guerre et à la campagne du foot… #faceababa je tends la\n",
            "Generation took 0.058681488037109375 secs\n",
            "\n",
            "\n",
            "La france lorsque je garde l’immigration pays s’y voir, » ou sos confusion pour l'époque, votre bouche de saint-michel !  il\n",
            "Generation took 0.05956411361694336 secs\n",
            "\n",
            "\n",
            "La france quel regarde que si » comme moi, vous êtes un ange pétrolier, je veux la france ! c’est le consommateur\n",
            "Generation took 0.059705495834350586 secs\n",
            "\n",
            "\n",
            "La france à donald france méritent le saisir de l’appel, éric zemmour ! trop vu les mineurs ont pensé avec la mairie\n",
            "Generation took 0.05875849723815918 secs\n",
            "\n",
            "\n",
            "La france mais vous avez si l’ame, toutes les lointains. pour améliorer leur pays rurale qui jean sur votre signe ! #macron20h\n",
            "Generation took 0.058629751205444336 secs\n",
            "\n",
            "\n",
            "La france noire doivent taper aux français. nos mesures qui singe l’émancipation à tous il est dévoiler deux fêtes d’un politicien de\n",
            "Generation took 0.05775260925292969 secs\n",
            "\n",
            "\n",
            "La france refuse des femmes étrangers. je veux ce temps… faites ce qu’elle vous laisse hurler et taxé et la fourche à\n",
            "Generation took 0.059810638427734375 secs\n",
            "\n",
            "\n",
            "La france par mars je visite de produire à ceux qui me ressemble, et l’union que je voterai l'état sur mon rsa\n",
            "Generation took 0.058992862701416016 secs\n",
            "\n",
            "\n",
            "La france avec sommes femmes qui n’a pas. la police. et que on peut être face que je refuse de le faire.\n",
            "Generation took 0.058830976486206055 secs\n",
            "\n",
            "\n"
          ]
        }
      ],
      "source": [
        "t_list = list()\n",
        "print(\"Tweet Generation :\\n\" + 100 * '-')\n",
        "for i in range(100):\n",
        "    \n",
        "    y = \"La France\"\n",
        "    t1=time()\n",
        "    y_pred = predict(dataset, baseline_model, text=y, next_words=20)\n",
        "    t2=time()\n",
        "    inf_time = t2-t1\n",
        "    t_list.append(inf_time)\n",
        "    \n",
        "    print(y_pred)\n",
        "    print('Generation took {} secs'.format(inf_time))\n",
        "    print('\\n')"
      ],
      "id": "ONp2fnRSua2E"
    },
    {
      "cell_type": "code",
      "execution_count": null,
      "metadata": {
        "colab": {
          "base_uri": "https://localhost:8080/"
        },
        "id": "ilrkSykZua2F",
        "outputId": "5d06eb44-8769-4e10-f467-41e022c3eac2"
      },
      "outputs": [
        {
          "data": {
            "text/plain": [
              "6.244017601013184"
            ]
          },
          "execution_count": 64,
          "metadata": {},
          "output_type": "execute_result"
        }
      ],
      "source": [
        "sum(t_list)"
      ],
      "id": "ilrkSykZua2F"
    },
    {
      "cell_type": "markdown",
      "metadata": {
        "id": "STWz7dMvueoQ"
      },
      "source": [
        "#### Parameters"
      ],
      "id": "STWz7dMvueoQ"
    },
    {
      "cell_type": "code",
      "execution_count": null,
      "metadata": {
        "colab": {
          "base_uri": "https://localhost:8080/"
        },
        "id": "G3PGjRb-ueoR",
        "outputId": "89bbee23-d262-415c-ea90-7ae7180a0d5c"
      },
      "outputs": [
        {
          "data": {
            "text/plain": [
              "BaselineModel(\n",
              "  (embedding): Embedding(53469, 128)\n",
              "  (lstm): LSTM(128, 128, num_layers=3, dropout=0.2)\n",
              "  (fc): Linear(in_features=128, out_features=53469, bias=True)\n",
              ")"
            ]
          },
          "execution_count": 66,
          "metadata": {},
          "output_type": "execute_result"
        }
      ],
      "source": [
        "baseline_model.eval()"
      ],
      "id": "G3PGjRb-ueoR"
    },
    {
      "cell_type": "code",
      "execution_count": null,
      "metadata": {
        "colab": {
          "base_uri": "https://localhost:8080/"
        },
        "id": "MdMkpLlGueoR",
        "outputId": "de025d28-93a1-4ed5-afce-a402b3f0692b"
      },
      "outputs": [
        {
          "data": {
            "text/plain": [
              "14137821"
            ]
          },
          "execution_count": 68,
          "metadata": {},
          "output_type": "execute_result"
        }
      ],
      "source": [
        "model_parameters = filter(lambda p: p.requires_grad, baseline_model.parameters())\n",
        "params = sum([np.prod(p.size()) for p in model_parameters])\n",
        "params"
      ],
      "id": "MdMkpLlGueoR"
    },
    {
      "cell_type": "markdown",
      "metadata": {
        "id": "gSWW56e2ueoR"
      },
      "source": [
        "#### Summary"
      ],
      "id": "gSWW56e2ueoR"
    },
    {
      "cell_type": "markdown",
      "metadata": {
        "id": "PSr8v8G5ueoR"
      },
      "source": [
        "Time"
      ],
      "id": "PSr8v8G5ueoR"
    },
    {
      "cell_type": "markdown",
      "metadata": {
        "id": "HLXH-NF3ueoR"
      },
      "source": [
        "* Number of trainable parameters : 14 137 821\n",
        "* Inference : the model takes about 6.24 seconds to generate 100 tweets"
      ],
      "id": "HLXH-NF3ueoR"
    },
    {
      "cell_type": "markdown",
      "metadata": {
        "id": "-KkeWIqZueoR"
      },
      "source": [
        "Memory"
      ],
      "id": "-KkeWIqZueoR"
    },
    {
      "cell_type": "markdown",
      "metadata": {
        "id": "H_S_j6SJueoR"
      },
      "source": [
        "* The model takes up 53.93Mb of memory on disk"
      ],
      "id": "H_S_j6SJueoR"
    },
    {
      "cell_type": "markdown",
      "metadata": {
        "id": "4bc4307a"
      },
      "source": [
        "## GPT2 Double Step Transfert Learning\n",
        "\n",
        "![image.png](data:image/png;base64,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)\n"
      ],
      "id": "4bc4307a"
    },
    {
      "cell_type": "markdown",
      "metadata": {
        "id": "40f6d919"
      },
      "source": [
        "#### Importing required librairies"
      ],
      "id": "40f6d919"
    },
    {
      "cell_type": "code",
      "execution_count": null,
      "metadata": {
        "id": "43b9f8bc"
      },
      "outputs": [],
      "source": [
        "import pandas as pd\n",
        "from sklearn.model_selection import train_test_split\n",
        "import re\n",
        "from warnings import filterwarnings\n",
        "import unidecode\n",
        "filterwarnings('ignore')"
      ],
      "id": "43b9f8bc"
    },
    {
      "cell_type": "markdown",
      "metadata": {
        "id": "ed48bdb5"
      },
      "source": [
        "### Dataset preparation"
      ],
      "id": "ed48bdb5"
    },
    {
      "cell_type": "code",
      "execution_count": null,
      "metadata": {
        "id": "aaa3ae3b"
      },
      "outputs": [],
      "source": [
        "def proc_emoj(tweet):\n",
        "    emoj = re.compile(\"[\"\n",
        "        u\"\\U0001F600-\\U0001F64F\"  # emoticons\n",
        "        u\"\\U0001F300-\\U0001F5FF\"  # symbols & pictographs\n",
        "        u\"\\U0001F680-\\U0001F6FF\"  # transport & map symbols\n",
        "        u\"\\U0001F1E0-\\U0001F1FF\"  # flags (iOS)\n",
        "        u\"\\U00002500-\\U00002BEF\"  # chinese char\n",
        "        u\"\\U00002702-\\U000027B0\"\n",
        "        u\"\\U00002702-\\U000027B0\"\n",
        "        u\"\\U000024C2-\\U0001F251\"\n",
        "        u\"\\U0001f926-\\U0001f937\"\n",
        "        u\"\\U00010000-\\U0010ffff\"\n",
        "        u\"\\u2640-\\u2642\" \n",
        "        u\"\\u2600-\\u2B55\"\n",
        "        u\"\\u200d\"\n",
        "        u\"\\u23cf\"\n",
        "        u\"\\u23e9\"\n",
        "        u\"\\u231a\"\n",
        "        u\"\\ufe0f\"  # dingbats\n",
        "        u\"\\u3030\"\n",
        "                      \"]+\", re.UNICODE)\n",
        "    return re.sub(emoj, '', tweet)\n"
      ],
      "id": "aaa3ae3b"
    },
    {
      "cell_type": "code",
      "execution_count": null,
      "metadata": {
        "id": "ac71b7ca"
      },
      "outputs": [],
      "source": [
        "def pre_process_tweet(tweet,remove_emojis=False,remove_accents=False):\n",
        "    # remove \\n from the end after every sentence\n",
        "    tweet = tweet.strip('\\n')\n",
        "    # Remove any word that starts with the symbol @\n",
        "    tweet = \" \".join(filter(lambda x: x[0] != '@', tweet.split()))\n",
        "\n",
        "    # remove non utf-8 characters\n",
        "    tweet = bytes(tweet, 'utf-8').decode('utf-8','ignore')\n",
        "   \n",
        "    # Remove any URL\n",
        "    tweet = re.sub(r\"http\\S+\", \"\", tweet)\n",
        "    tweet = re.sub(r\"www\\S+\", \"\", tweet)\n",
        "\n",
        "    # remove colons from the end of the sentences (if any) after removing url\n",
        "    tweet = tweet.strip()\n",
        "    tweet_len = len(tweet)\n",
        "    if tweet_len > 0:\n",
        "        if tweet[len(tweet) - 1] == ':':\n",
        "            tweet = tweet[:len(tweet) - 1]\n",
        "\n",
        "    # Remove any hash-tags symbols\n",
        "    tweet = tweet.replace('#', '')\n",
        "    \n",
        "    # Convert every word to lowercase\n",
        "    tweet = tweet.lower()\n",
        "    \n",
        "    # Remove leading rt tag\n",
        "    tweet = re.sub('^rt','',tweet)\n",
        "\n",
        "    \n",
        "    # remove emojis\n",
        "    if remove_emojis:\n",
        "        tweet = proc_emoj(tweet)\n",
        "        \n",
        "    if remove_accents:\n",
        "        tweet = unidecode.unidecode(tweet)\n",
        "    \n",
        "    return tweet\n",
        "    "
      ],
      "id": "ac71b7ca"
    },
    {
      "cell_type": "code",
      "execution_count": null,
      "metadata": {
        "id": "b158884b"
      },
      "outputs": [],
      "source": [
        "def gen_tweets_text_file(df_data,output_path,remove_emojis=False,remove_accents=False):\n",
        "    f = open(output_path,'w',encoding=\"utf-8\")\n",
        "    data = ''\n",
        "    \n",
        "    for r in df_data.values:\n",
        "        tweet = pre_process_tweet(r[0],remove_emojis=remove_emojis,remove_accents=remove_accents)\n",
        "        data+=tweet + \"\\n\"\n",
        "    data = re.sub('\\n{2,}','',data)\n",
        "\n",
        "   \n",
        "    f.write(data)\n",
        "    "
      ],
      "id": "b158884b"
    },
    {
      "cell_type": "code",
      "execution_count": null,
      "metadata": {
        "id": "f4ba8a9a"
      },
      "outputs": [],
      "source": [
        "df = pd.read_csv('tweets_extract.csv')\n",
        "df.drop('Unnamed: 0',axis=1,inplace=True)"
      ],
      "id": "f4ba8a9a"
    },
    {
      "cell_type": "code",
      "execution_count": null,
      "metadata": {
        "id": "43b388d9"
      },
      "outputs": [],
      "source": [
        "train, test = train_test_split(df,test_size=0.10)"
      ],
      "id": "43b388d9"
    },
    {
      "cell_type": "code",
      "execution_count": null,
      "metadata": {
        "id": "6e683905"
      },
      "outputs": [],
      "source": [
        "gen_tweets_text_file(train,'train_tweets.txt')\n",
        "gen_tweets_text_file(test,'test_tweets.txt')       "
      ],
      "id": "6e683905"
    },
    {
      "cell_type": "code",
      "execution_count": null,
      "metadata": {
        "colab": {
          "base_uri": "https://localhost:8080/"
        },
        "id": "693042e3",
        "outputId": "fdfce11c-2c5b-4337-e7e0-a52794818d24"
      },
      "outputs": [
        {
          "name": "stdout",
          "output_type": "stream",
          "text": [
            "Train dataset length: 30231\n",
            "Test dataset length: 3360\n"
          ]
        }
      ],
      "source": [
        "print(\"Train dataset length: \"+str(len(train)))\n",
        "print(\"Test dataset length: \"+ str(len(test)))"
      ],
      "id": "693042e3"
    },
    {
      "cell_type": "code",
      "execution_count": null,
      "metadata": {
        "id": "21e3540b"
      },
      "outputs": [],
      "source": [
        "train_data_path = 'train_tweets.txt'\n",
        "test_data_path = 'test_tweets.txt'"
      ],
      "id": "21e3540b"
    },
    {
      "cell_type": "markdown",
      "metadata": {
        "id": "c086c575"
      },
      "source": [
        "### Get french finetuned gpt2 model tokenizer"
      ],
      "id": "c086c575"
    },
    {
      "cell_type": "code",
      "execution_count": null,
      "metadata": {
        "colab": {
          "base_uri": "https://localhost:8080/",
          "height": 177,
          "referenced_widgets": [
            "f3f192816b7440e6889d1e52a5f1021f",
            "6e50cb592a494439b4b9f94a7bc8b58a",
            "5c25cc4fa9db4dcc8aa487b735291480",
            "b281ab3aa3f84c31af57ffb470c6fa50",
            "3a9db075ee9b4576859fb0396654f5dc",
            "62ef9ddf7d944ff286abfcbffcbafbc3",
            "4785a12ddb11481d8e647fd30a74a417",
            "6faf8819abaa41cdac3a04ec4919e664",
            "8f356e96f6ca4156ac4d96f4f280e561",
            "523437e83d354d4a83c25a4a7a4252cb",
            "fe05df612b68427083654a1ade9de1c0",
            "062a230dcebe46b39a57051b22fb97fe",
            "a42dd9d1472b43af994dd46263fad57a",
            "be26e255860c415fa2b6f45fec5789b4",
            "37229e7c56fa4d94ac8ade7a585982be",
            "223081c55439433cb8855358f10c7efc",
            "be02061d4b774e5ba065437306cf7465",
            "d0f8e7c281844e75bb1ca1fa03940abb",
            "130bb19691a94a69976a8008d893a6d1",
            "e21322a2b5544946808796602166f018",
            "8dd53ecbb29d483b876ec0b502e0d19f",
            "66ae06f55d7e42f18ddb0098685bc3b4",
            "e6f41793f1a24e4492eecb274b615e43",
            "2c07a814af2b47b7ad9fc653edde6875",
            "fd9fa4202c744163b061129f24c14c7c",
            "917931445d324a589423a4a01e73f525",
            "6c183e3356e042f393b55e75bfc72cfc",
            "10350f9b4e8f4740ad239ef90991b659",
            "091c1b89edba48f8b2eb65b85cbf6153",
            "f61690bdbf7c4b76b0d3fa9ea3ed0b0f",
            "a971ed98b581469589970e6995f03108",
            "fc03830972ea4fd3984cf086a31524fc",
            "cc4f008fe0264743872a2a179dec3935",
            "a03ca422595049ba8d81a345f7b0eb62",
            "8f7a801976b542098f8d76de8f90e5b9",
            "7d83ec11106241498a275d20ac051877",
            "06c3349751d04749b0d4d664dc0795d0",
            "12d712126ebe475ead3192865f70d942",
            "67935ab29b1f480b973ed26ffd545c9c",
            "bc1764008e334726bac1b60996cd1490",
            "f70cb0820a8a4601aa76a8cca04eae0a",
            "a900ae6c54274870b3f189819cf5e44d",
            "8e75d2855b354b819f19eb40df5c4ad2",
            "35ea45c61b674515a5486f93b0988fea",
            "ea919c7622794224b103d0ebfbab8be5",
            "167de72fffe54af2bf6edd53683b502d",
            "887d3e15c17e49b383e1ecc75e74255c",
            "d0098bd2e67941cba2effd1af1e0c29a",
            "9065494bba314a379a9f430a40b723f2",
            "9cff0e05d3c94ddab2f5d71ea52fb26d",
            "b43602998fd84255a7f697ea4c216a2c",
            "99fde9b8f09b4e8bad4530222a263f20",
            "7767681cd3f1467bba1fa445fc01b9b5",
            "0a8f3722519f4dbb97ea0294f1c7df5b",
            "0690040532c34e0a9dcc2ef36aad79b1"
          ]
        },
        "id": "3ffda967",
        "outputId": "9d09afaf-2ece-4a60-f2ee-7ad17660372e"
      },
      "outputs": [
        {
          "data": {
            "application/vnd.jupyter.widget-view+json": {
              "model_id": "f3f192816b7440e6889d1e52a5f1021f",
              "version_major": 2,
              "version_minor": 0
            },
            "text/plain": [
              "Downloading:   0%|          | 0.00/842 [00:00<?, ?B/s]"
            ]
          },
          "metadata": {},
          "output_type": "display_data"
        },
        {
          "data": {
            "application/vnd.jupyter.widget-view+json": {
              "model_id": "062a230dcebe46b39a57051b22fb97fe",
              "version_major": 2,
              "version_minor": 0
            },
            "text/plain": [
              "Downloading:   0%|          | 0.00/858k [00:00<?, ?B/s]"
            ]
          },
          "metadata": {},
          "output_type": "display_data"
        },
        {
          "data": {
            "application/vnd.jupyter.widget-view+json": {
              "model_id": "e6f41793f1a24e4492eecb274b615e43",
              "version_major": 2,
              "version_minor": 0
            },
            "text/plain": [
              "Downloading:   0%|          | 0.00/517k [00:00<?, ?B/s]"
            ]
          },
          "metadata": {},
          "output_type": "display_data"
        },
        {
          "data": {
            "application/vnd.jupyter.widget-view+json": {
              "model_id": "a03ca422595049ba8d81a345f7b0eb62",
              "version_major": 2,
              "version_minor": 0
            },
            "text/plain": [
              "Downloading:   0%|          | 0.00/387 [00:00<?, ?B/s]"
            ]
          },
          "metadata": {},
          "output_type": "display_data"
        },
        {
          "data": {
            "application/vnd.jupyter.widget-view+json": {
              "model_id": "ea919c7622794224b103d0ebfbab8be5",
              "version_major": 2,
              "version_minor": 0
            },
            "text/plain": [
              "Downloading:   0%|          | 0.00/611 [00:00<?, ?B/s]"
            ]
          },
          "metadata": {},
          "output_type": "display_data"
        }
      ],
      "source": [
        "from transformers import AutoTokenizer\n",
        "tokenizer = AutoTokenizer.from_pretrained(\"dbddv01/gpt2-french-small\")"
      ],
      "id": "3ffda967"
    },
    {
      "cell_type": "code",
      "execution_count": null,
      "metadata": {
        "id": "7544c688"
      },
      "outputs": [],
      "source": [
        "from transformers import TextDataset,DataCollatorForLanguageModeling\n",
        "\n",
        "def load_dataset(train_path,test_path,tokenizer):\n",
        "    train_dataset = TextDataset(\n",
        "          tokenizer=tokenizer,\n",
        "          file_path=train_path,\n",
        "          block_size=128)\n",
        "     \n",
        "    test_dataset = TextDataset(\n",
        "          tokenizer=tokenizer,\n",
        "          file_path=test_path,\n",
        "          block_size=128)   \n",
        "    \n",
        "    data_collator = DataCollatorForLanguageModeling(\n",
        "        tokenizer=tokenizer, mlm=False,\n",
        "    )\n",
        "    return train_dataset,test_dataset,data_collator\n",
        "\n",
        "train_dataset,test_dataset,data_collator = load_dataset(train_data_path,test_data_path,tokenizer)"
      ],
      "id": "7544c688"
    },
    {
      "cell_type": "markdown",
      "metadata": {
        "id": "caa1f454"
      },
      "source": [
        "### Initialization of the `Trainer` object associated with our model"
      ],
      "id": "caa1f454"
    },
    {
      "cell_type": "code",
      "execution_count": null,
      "metadata": {
        "colab": {
          "base_uri": "https://localhost:8080/",
          "height": 49,
          "referenced_widgets": [
            "a878350a1ba54fd2b2bd48236ae5ae5d",
            "ea26c280bd7a43568cf51d3a09677e9c",
            "90f47777130246f189a7f71303cbba25",
            "9a631cb38d0843b18eb3c6e7f0833f5a",
            "6f9b70ff2b0b4ad98521b5c0a6dfdbad",
            "3b7e13c076774737b7e1b141a73e43ff",
            "c64305c3b5b74f4b8ab01aa4029073d9",
            "b29a47c1a1304d97a9887d152708fa97",
            "a8b6f4892c39429f964f3116da06658c",
            "f71d13faec5b4fd98c31861556e57dd4",
            "db84a59309ea4718bf8b177c453065b6"
          ]
        },
        "id": "25dff8cc",
        "outputId": "02a25f4d-e1fa-47a1-f102-8bdbbdb190b6"
      },
      "outputs": [
        {
          "data": {
            "application/vnd.jupyter.widget-view+json": {
              "model_id": "a878350a1ba54fd2b2bd48236ae5ae5d",
              "version_major": 2,
              "version_minor": 0
            },
            "text/plain": [
              "Downloading:   0%|          | 0.00/510M [00:00<?, ?B/s]"
            ]
          },
          "metadata": {},
          "output_type": "display_data"
        }
      ],
      "source": [
        "from transformers import Trainer, TrainingArguments,AutoModelWithLMHead\n",
        "\n",
        "model = AutoModelWithLMHead.from_pretrained(\"dbddv01/gpt2-french-small\")\n",
        "\n",
        "\n",
        "training_args = TrainingArguments(\n",
        "    output_dir=\"./gpt2-fr-pol-tweets\",\n",
        "    overwrite_output_dir=True, \n",
        "    num_train_epochs=10, \n",
        "    per_device_train_batch_size=32, \n",
        "    per_device_eval_batch_size=64,  \n",
        "    eval_steps = 400, \n",
        "    save_steps=800, \n",
        "    warmup_steps=500,\n",
        "    prediction_loss_only=True,\n",
        "    )\n",
        "\n",
        "\n",
        "trainer = Trainer(\n",
        "    model=model,\n",
        "    args=training_args,\n",
        "    data_collator=data_collator,\n",
        "    train_dataset=train_dataset,\n",
        "    eval_dataset=test_dataset,\n",
        ")"
      ],
      "id": "25dff8cc"
    },
    {
      "cell_type": "markdown",
      "metadata": {
        "id": "60f58285"
      },
      "source": [
        "### Training"
      ],
      "id": "60f58285"
    },
    {
      "cell_type": "code",
      "execution_count": null,
      "metadata": {
        "id": "f1550d25"
      },
      "outputs": [],
      "source": [
        "#already launched (other colab)\n",
        "trainer.train()"
      ],
      "id": "f1550d25"
    },
    {
      "cell_type": "markdown",
      "source": [
        "![image.png](data:image/png;base64,iVBORw0KGgoAAAANSUhEUgAAAMYAAAGtCAYAAABN3wtwAAAgAElEQVR4nO2dbVBUV7rv/51JmEiTD/Gc0jG8CNJe50bNVCKR60GJyUlIcEoxCDYXFc8J+RC8AyZRvHC1pLSgdBSTiKc0517JuWmDBwIS0RqYmExUhKFISKYGSErLRt6aMHqO5oNszMXEdT/sl95799q9G8KmpfP8qnaVvdbaa/V+nvVf61lr4W4bY4yBIAgNDwT7CxDE/QgJgyA4kDAIggMJgyA4kDAIggMJgyA4kDAIggMJgyA4kDAIggMJgyA4kDAIggMJgyA4kDAIggMJgyA4TI0wWoths9m8V1YdBqak4Z/CBVSovzPnml9za0I1d5WI9xd8Po6bBiuxYYpsN6HvF2JYL4zWYtiW79em1WRirt7BrcWwlX1p+dchiIBgFtO5GwwAc1TfFBMGjrNsgAHrWcWQmHTbtYIBYCjtsPrrTBj5OfLbg/1NrOfn9KxGTNkaw/3RZ+IMEZ2LKsbAWA3yHwNGTiTjkZxLYqFdCbDZnDjyrfhx5ESyJnRRT+1y3vyaL3Bm7U8PbyaCHHLsqj4phjnyd5TDHoOwSx+qeJ/llpLnE3LqQynV51t//l+qtrz2ExlS2ceJI99elz7ry00EfbjJqVMfRuvLcGx1X4RwlkuvpUicDeRLNysos4VyiTOJb7p2FDPKh3p2mkR4o6icpv3uLeww93t5Z0h9XQE9izzTOmtZv/oz75LLMA9rSPP9Hi9nar9PIM/qg5/2lfv0vleuA6zRbx3G322qsH7GSNqH264V3s+7EjQjaMSmZm9+aYc0k1zAezmXAKxHxRADYwxs4DiyARx5S7/4PIBGJpaR63FnVaLJ8gdT4axFvzILJqFA+j7i5UFDGgB8iKses4q8z9K5W0xxu3tNm89vl9pqKRITanrxNQAM/hE1DYDGji3z8FHtBJ9TRdfxV3ESUD271/4+PirtUNmDgbFCpKrzVXUwVTQRTKYklIrY1KzqICLurL8znjIHe9AOAPgQBZHSFBsjOUJ2uoSjOlcxcsSmvTgMAOiA+yeHCYHjePk5xPikyiFMFNIaAqyo9DnlWRanFAV40wGkLpX+mfSi9PwSA27RZqU7vB0t6XcaP0yMIfT+FQDWo+KtDOXZFfvX1KLhW9X3kQZDm82m3WCJfgnONIibMffZjuUUnmNEYs1pphFIU+/UrQesJDVupuqTHHefxEO65zXD4Ygbf+POOCwc/11TxEpp9jzvFaxmHenbJ2SRBHudYbEw5E6iXnBFIu432lIR85K0CdHxSASgCQEMpmFN2NT6MbYCABLgCNJUPHJit/gdlNH/KvoCnTEmmxgHsgFg1wGv/Vv/JfAZzBDZhx+i4E3vCK88uzMTaRr7r1TCSzFE/BAVl25p6hMFogrHPgnu1r3FwliJZyVDKCGRzYYn9gLAehSsmKktrowmK/GKa4XPfT5TMQBgB1bJedJ5iTq8mmoUkSvhw7OSWIOAHKqo7bj8Gl7ODOz2I4m8g82DaAKw+FVxzacOg+Tdxfw3xfBKv6vo43ufHStVHS8smWxrjAvLQ6nFe5h28Q1AnAlUCyxNbCwuUjWLcpnSDrCdWoM5qm8qC1X581WnTnBTSdI+zfdBaYeyKJ76UTASa06rQ7n1qBiqwD+NTULV0bmoUodISv0MFdKaJ2JTs3dDQEV+u+T7pH3KpooaR/VNpY6gMdXbYJOFvMVpxdZsyKDaDlW2UDkHrIQv9EeEoYwSSqnCInl3z2cdQKghYYQ0kVhzWh/uQDw3qM7gbDETMjbG6KXOBKGHZgyC4EDCIAgOJAyC4EDCIAgOJAyC4EDCIAgOJAyC4PDgRG+02WyT+T0IYtxYeQQ3YWEIgjCZ34Mg7isolCIIDiQMguBAwiAIDiQMguBAwiAIDiQMguBAwiAIDiQMguBAwiAIDiQMguAQVGGEt5XAbrfrrnfw8QPev8PqLjXOA4AwjwuvqO5/4tR3U/0YU0IgttJjbJthNGbp65KvHLw7/AulDo39N5/GoK65keoUw3v9fwcvZj4OBkEVxo3+NiCjCpdHBQiCfL2OF++Jfxw2Up2CxH1lqL8zCkEQ0F68E+mbPlI5pxnvLMhDh8sDQRBw98oxJOREYXvHQ0F7Jqsws5We8LYSPLQgDzMvjnFsMwerqtX1CBAEN2pXAyh5A6/N+RGA2GETr3rbbJ+/Ab/+/V+UNkaqUzA791c45P5eauN5fO7IVonD3D/mPg4OE35LyOjo6E9uvLvUjsSwFgg7nuTkNuOoPRXXLo6hPOEuN22kOgWzm7bgsmstoqWn4KWFAv5tpWcYjVkOZD6lLe+vDrGTr0L9nTcksTXjqP1/4wH3vytCCfO4sHHBTTjvvIkX732LxiwHijI96Fz3qLaegd9D2PFkAP4x97E/wsPDA7DFxAjijDGMgW4gPj6Wmxvm6UMH0uGIvKdKTUZyMXCu/wYAoM/dCiycqxHAzOUb4azrxTch9Wfx/m3ly1X0nQXyntO+53LRLoErijCPCwW5rci7WKiagZKxRfhAEYWXr9A79IDSRsrcWZrcWXOXAV/3Y9Bm7p9AfBwsgigM0bA9OVHc+PLBwR7UYAniNEYT6enpg//OIjsvVPBvKz3eDteMowGsv776v3moyajC1qf9jdDDOL09DzUlb0pimY/Y1b4d+EZ/G1DXh29sfzP1j7mPg0fQeo/oPCBeij8FQcD1ykakz3j7vlh83U9MzFb12OZoR7wUu8vxva84mtG8D8jLzzQMPcXFsQOZZ9fh0KYEKXUOktcmoSdnq2ZN4cpt/cnPez8QNGGMReXgPUHQxKcRWbtwEDtRWBsaPygzWUzMVuk45N6mhEZjUTmoqExCT877GjGFt/0JhSjDC0t/MGx/0S5Btbh+WFk8R2Sdw/XKv2Gb42FpVvoKS87v+OkPfB9wn8Ub4vQMAD9Ex8OJL7khkTg9z0HMIqMp9ynu9BxaeG0VKLPmLvNJ+/xP5UDJM4a7W2rGonLwZjFw7DPvzx1FZJ3T7JItvNYKZMTicfYrU/+Y+zh4BE0Y4r68Pk72LujGomKRgHq4NUYTp315wRfrSFIWejK3Wj5ATUYcHg+hV/Ka2UrPWNQLyFitt5285Rurso3xOk08f9jkcy6hprvUDvuBv6hShtF8uhXxa55BNDP3TyA+DhoT/f0AQRB+4tXEDgIs3uVR0tqLwZBRxS6Pip+vVyYxoIzV3xnl5uvruHvlGHMCLO/i2CR8v/vpMreV/mKfbtfYTraNug65Xr693Kx2tbYNsc517JD7e+5nvb8C8Y+5j40vKwnqOYa8Z10of8yo8jl/6C61I3Gf/KlMtc8uIu6t56FG+hzv0u6rhw7+bcU7owhvK4Ht+XLls942ou0+wVL3Sc62LKCch5yVP6/DIXeVpqx4/iEvuCfmHzMfG2HlOUaQhUEQEydED/gI4v6FhEEQHEgYBMGBhEEQHEgYBMGBhEEQHEgYBMGBhEEQHEgYBMFhwiffBBHK0IxBEBxIGATBgYRBEBxIGATBgYRBEBxIGATBgYRBEBxIGATBgYRBEBxIGATBYYqEcQEVtkwc+VafPoQza22w2aQrqw4DuhJdJap820E06asYrMQGm7fM/JqfwVsMByuxwbaeY0+ZC6iwqe1mYkMj/+hsK15ObTkz+wfgH1MfBwNLX87DGGPsPDsMMGA9qxjS5nTuBoOzlvUzxhjzsIY0MJR2KPm3XSsYcIA1cst763ZU3xQ/Dhxn2QDLb7fyeYKNZCeOPf2js5UunVtfS5HG/j60FDGo7e1jf3P/mPs4OFgrDMlwcK5j2cjUGn7guEmaaFRtJ9em3Xat8DEiLy2UEJ+PY08TuB3On3+YmS19BzKlHSnN3D/mPg4WFoZSQzhzcD/y2xnYwVTf7AE3TuJpOB5TpUW/BGdaLa56AAz2oB2ZmB+lvmklnt0NNPWK03Gv+xKwOA4xqhIRKzcju+Yavp78Bwo+rcV4JGc1zh/67bjve2LvelS8laGylYl/wLevl6voawDyX1iiSV28h4HtXGJ4v8Y/Afg4WFgojEisOc1QsZSfO3KtFXDGYSEnr6n3Fl84Em53L4Ah9P4VcDjiODV0wG0Yf09XLqBi+X7ktxdi5b3xvLBaFABKdyBfY0v//pHti10J/PWF0qlbNesZ7xoiAP+Y+jh40K7UNKGr5FlsLe3w05ENGPwjahoyUfHPS8zLahBnBJR2gIkhN1jLPBREqhfftSiI/DPmy/kDx7E06+9CYgOEhDEdaC3GE3sPoHHneDs3MHLhfZx0rkcaZ1T2z0oUMG9YBABI+h0a0j5Ewb99KSVkomKoEEogFp2Lf3WtgDurEk3TvGsF7dtHzEsCanq5a4HUuJlAjAPZ+IIbEonTcyTifmM05SZwp+fpSte5/QB2YJUcssS8ipOoRUGk2fb0ED47dQmOl58zWCeMF9Hm/oiYlyT9a465f0x9HDyCJ2ueUaRpf34UgOh4JEJaiCtcwPm9knAAxDlWAF29mrMPcYScx127TFcW72HecEYKWbKRiYohhqvOmX7uFMMh2V7jgntWolo3qDdKVKjXjqb+CcDHQWNK9r54W7OMzjEmjIE9J7ecuT98zjkk+3vPSugcwz+GDpIPq6SLY5DO3ap83mGTZGy5jO8BVgjCsaf6/EDB7IDOT30iOv/w6pLPQozsH4B/TH0cBOgtIQTBYXpvHRCERZAwCIIDCYMgOJAwCIIDCYMgOJAwCIIDCYMgOJAwCIIDCYMgODw40RtHR0cn83sQxLgJDw+3rG6aMQiCAwmDIDiQMAiCAwmDIDiQMAiCAwmDIDiQMAiCAwmDIDiQMAiCAwmDIDhMkTCacdS+Ee8O/0KTGt5WArvdrrvewccP2JQy3aXGeQAQ5nHhFdX9T5z6bkqeKJiIz7zJx57+6C61w37gLwa5fP8AwEh1isr+OT5lzOwfiH/MfBwMpkAYzThqT0Uhp6kb/W1ARhUujwoQBPl6HS/eE19cMlKdgsR9Zai/MwpBENBevBPpmz7CoM1b9zsL8tDh8kAQBNy9cgwJOVHY3vGQ9Y8VNIZxenseahB45wlvK0HiPqNcY/90l9oxO3eVYv/rlX/DNschpeOGt5XgoQV5mHlxzMD+5v4x93FwsFQY4oyQisKMtXDC9y09fe5WYOFcRHNf4NMMV24r8i4WKkJZtKsJB+s24PAXomFHqktRmFGFP2Q8CgAYi8pBRWUSjh2pDbphrWKkejMyf8m3J59mlD/fgzXpvjn+/BPmceGtfdDYPyJrFw5iJz75/EEAw6g7XA6UtKA84S4A0f5vFgPHPvtc+q5m/jH3cbCwUBii4fIujuFu2Yvc/IFuID4+lnt3mKcPHUiHI1L9yvtkJBcD5/pvAOALa+byjXDW9eIbW+gpI7ytBLNzV6Fp30sB3jGMxqxUvOs6gp0LfPP8+efBwR7UoAwvLP1BlZqMLYIgCeEq+s4Cec9pX7++aJcAYceTAMz9E4iPg4WFwpiDVdWCMpr4Ihq2JyeKG1+KjlmCuEjf34Lo6emDf2F9hd6hUNtXaEb58+XIu1iI5+8FNluIs4t3xNbi3z9imBuLpZp1oHeN4e3UzTjKXUOY+8fcx8EjaL1HNCwQL8WfYgzbiPQZb98Xi6/7je7SVBSqwhYzwjwuFOTOxqH96wxC1QCo24Coi2kq//wN2xwbVAvwemxztCNeWh/Ia4hQ2AAJmjDGonLwniCgc513NJNj2MLa6f/DI5OJuHguQ33RUwHeIS7QO1wVeG3OjxNvOKMKl//nk8rHiKz3Ubv6FLad6JBS0nHIvU1ZH8hriJ6c96f94Dbh/8FnDfMRu1r81w/R8XDiEzEk0jlXnJ4fRcwiecrVhwpPidPzeH6R6z7m8z+VAwDSZ+zUpNc4HsZRl0czuABAmOcT1J0Fes5GwZ6jzlkO+54y1N95Q+nM42MOYhb5LzFr7jJNWX/++eFHMx8Hj6DNGOKOiH7PWlx3pMydhbGoWCSgHm7NWqEZzfvEfACIdSQBX/drdqButXyAmow4PB5C76petEu9nS2GLE6k45D7ex9RAN7ZWH1PezGAkhbNdrg/+JsY3nXDWNQLyFit9493bfI4Y6b+CcTHwSJowhhd9o8+YVN3aSoKM6qw9em7AJKRU5mEY88cVMSjzZdCr7oN+G2dGNOKcXUr8vIzJx5XEwDkrdddSN//lZI2Ur0ZmWfXYcs//D2AOcjYul3jH9n+8WueQTQLxD/mPg4WQQylkrFFaALsquk+owqXXWuVTh2RdQ7tbjsSlRCiDPV3Xka0MuIl4/Urx9CxwFtHvMuDzgAXqKFEd6kdiWEtylbpZLBol4D2UjvsdjllHQ65q5R1y+iyPWCflsA2w/tSgnhNaGfuH3MfB4cJ/z4GvSWECDb0lhCCmGJIGATBgYRBEBxIGATBgYRBEBxIGATBgYRBEBxIGATBgYRBEBwmfPJNEKEMzRgEwYGEQRAcSBgEwYGEQRAcSBgEwYGEQRAcSBgEwYGEQRAcSBgEwYGEQRAcLBXGyIlk2Gw25Zpfo3/D4BDOrPXm27LqMKAr0VWiyrcdRJO+kcFKbPDbRggyWIkNtvU48q3/Ylrb2VDwuXHZkRPJvvbX2Va8nNp2W4v9txGAf0x9HAyYRdx2rWDAAdaopJxnhwHmqL6ppHTuBoOzlvUzxhjzsIY0MJR2GNahLc+pc+A4ywZYfrtVT3U/INkJ61nFkHEpH1v5s42Up7UtY6ylSOdD/n1KnS1Fuu9l7h9zHwcHi4QhOk8tAsYkI8gPPXCcZSNT61xNmmhUrSO1aZr6eG2EIOLzrfO1nQae7aROpxp4RERfvZyZPm5b8upTp5n7x9zHwcKiUCoSa04zXHXONC4y4MZJPA3HY6q06JfgTKvFVQ+AwR60IxPzo9Q3rcSzu4GmXnE67nVfAhbHIUZVImLlZmTXXMPXk/cw9w+txXgkZzXOH/qtScGVKGAMFUtNigHoKolC2tMdcK3+D588nn29DKH3r4DDEadJXZxSBHT1YsDgfo1/AvBxsJjCxfcQPjvlNdTItVbAGYeFnJJNvbf4wpFwu3th5BiRDrhN4u/pxwVULN+P/PZCrLw3kbdVX8D5vTp7tRbjib0H0LhzCae8aF/sSjBYX1xFXwOQGscZ/Gp68TWGzf1j6uPgMWWv6OwqiUJawwE0nuY5gTCjq+RZbC3tAFsKYHC8dw/hzNpnsdVZi35lFpeFxpAKYMTnHrHjo7QDTBZOazFskU5gqAb5nM4cSkyJMLpKbHhi73pUDBUidSoaDDXkkZ1NZFAZwpm10qDEMpSwRiM0LmI4VqBOSvodGtKikPZvO5C/0+i+0MDyUMorCu0oEzEvSZpyfUmNmwnEOJCNL7ghkTg9RyLuN0ZTbgJ3ep6udJ3bD2AHVskhTcyrOIlaFESabU+rRaEelMSwSh0mPZJzCajJxFz9dqwG0eYi8xGbZrAWcMZhIeaY+8fUx0HEypV9524Yb/fRrtTE4dnOB2lbN0Bb+NiN24Z2tzGUd6Wm8BzDFzrHmCABCGO85wG+ndjcH3SOMW5Eg4B7qcUiH1ZJF8cg4qzDu1dCPpySLv3ZSUjCEYZm9NbZRHMZdDr+TKvzD8/+LUWa+n0GpQD8Y+rjIEBvCSEIDvRHhATBgYRBEBxIGATBgYRBEBxIGATBgYRBEBxIGATBgYRBEBxIGATBYcJ/dj46OjqZ34Mgxk14eLhlddOMQRAcSBgEwYGEQRAcSBgEwYGEQRAcSBgEwYGEQRAcSBgEwYGEQRAcSBgEwcHa38eoToHdbleuJ059p8kPbyvR5IvXO/j4AZtSprvUOA8AwjwuvOKnjVBFfO5NeHf4F+Mo/7aP/USacdS+kVuX1oc5ujLDaMzS+0/vA12ZzacxqPsKZj4OBpYJY6Q6BbNzV6H+zigEQYAgNOG1nCiN0W70twEZVbg8KkhlBAjC63jxHlPqSNxXptTRXrwT6Zs+Uhm2Ge8syEOHywNBEHD3yjEk5ERhe8dDVj3WfcIwTm/PQw0C60BhHhc2LjAq34yj9lQUcrpCd6ld48PrlX/DNschVce9ir6zQN7FMZX/BHSue1RVhwOZv5R97Ebt/9uAX//+L0q+uY+Dg0XCGEbz6VbEuzYrnRxIRk5lEnrOXFQeus/dCiyci2juC3ya4cptRd7FQqWORbuacLBuAw5/IXb8kepSFGZU4Q8ZoiPGonJQUZmEY0dqg25YKxmp3ozMX66FE+ZvPhqpTsFDC/JwJz3NJ0+csVNRmOFbV5jHhbf2QWP/iKxdOIid+OTzB6UyfehAOhyR/Levi3Wk49D+dZKP52Bt+TE497wlzTzmPg4WFgljDlZVa0cOX4Yx0A3Ex8dyc/lGT0ZyMXCu/wYAvrBmLt8IZ10vvrGFpjLC20owO3cVmva9FEDpZrhyZ+GQ+3s0bJmvyxtG3eFy5F0cw92yF33ufHCwBzUowwtLf1ClJmOLIKA84a6qzBLEGQiDlz8W9QIyVtfDPfRAQD4OFlO4+BZnEW9HFqfhnpwobnzpz+g9PX3wL6yv0DsUivsKzSh/vhx5Fwvx/L1A3pOXjC3CB3htzo+cPHHwkju5HjHMjcVSzTpQu8a40d8GYCfSZ4Rz1xdyHY9z3ul3rv9GAD4OHlPWe7pLHcg8W4b6oqcAyDMCEC+tD8QYthHpM4wWiER3aSoKS1oMO/OkU7cBURfTVP75G7Y5Niji6HO3Aijzu46crkyJMLpL7Ujctw6H3NuUWHIsKgfv6RZqcgxbWPsz+OXVcRLeViIuUqWBZUrIqMLl//mk8jEi633Urj6FbSc6AACLdmk3S5R1ZM77035ws1wYXlFUGUzpauYjdrX4rx+i4+HEl9yQSAyf5iBmkdGU+5Rh3Dtd+fxP5VCHLQ8tyEMN6rHN8fAUjtCizf0xa+4y7b/r+rjrvZS5swLwcfCwVBiiKMpQf+eEjyjEHRH9nrW47kiZOwtjUbFIgLhI89KM5n1iPgDEOpKAr/s1O1C3Wj5ATUYcN66dzoijs/e6e+UYnEjHIff3JpscE4O/iaFe14nnE3pRqtcVvI4f5vkEdWfFBXcgPg4Wlp5jiKJ4QzXVehld9o8+YVN3aSoKM6qw9em7kKflY88cVMSjzZdCr7oN+G2d6JwwjwsFua3Iy8802AImAmUsKgdvFu9C+v6vlLSR6s3IPLsOW/7h7wHMQfJabdikt79YRz22FZ2SBi/p/KXkTWmgNPdxsLDoN/jE/WmgFekz9D/WJoslGVuEJsAeBXuOlJVRhcuutUqnjsg6h3a3HYlKHWWov/MyolUx7etXjqFjgbeOeJcHnVO1OL3PCG8rge35Rw0Ho/GyaJeA9lI77HY5RRsSR2Sdw3WkYLbKx3kXxzSbA4t2uVGb5cCv5fcWyOuWgH0cHCb8+xj0lhAi2NBbQghiiiFhEAQHEgZBcCBhEAQHEgZBcCBhEAQHEgZBcCBhEAQHEgZBcJjwyTdBhDI0YxAEBxIGQXAgYRAEBxIGQXAgYRAEBxIGQXAgYRAEBxIGQXAgYRAEBxIGQXCwVhiDldhgs8EmXQWf6wsM4cxab74tqw4DuhJdJap820E0mbQxv+Zn8BbDwUpssK3HkW9NyrUWq2zna/+RE8mafJ7tTO1v0kYg/jFtIxgwqxg4zrIBlt+u/pzJKoa8RTp3g8FZy/oZY4x5WEMaGEo7lPzbrhUMOMAaueUZY+w8OwwwR/VNfpshiWQnrNfY0ge9LVqKNPfobetjS04ZH/ubtBGIf8x9HBwsE8Zt1wpNJ2dMfGitkbRC0aaJRtV2cm3abdcKHyPy0kIJ8fnW+dpOR+ducO0vponiUovAW7dsu4nZX92uuX/M2wgWloVSEZuawXYu8Ul3u3vFfwy4cRJPw/GYKjP6JTjTanHVA2CwB+3IxPwo9d0r8exuoKlXnI573ZeAxXGIUbe7cjOya67h60l+nvuC1mI8krMa5w/91qTgEHr/CjgccZrUxSlFQFcvBhCJNacZrjpnGlcRgP3NMPXPJLRhFVO3+G4txhN716Pin0WxjFxrBZxxWMgp2tR7iy8cCVFcfOeLdMBtFn9POy6gYvl+5LcXYuU9sxdWX0VfA5Aax+n4Nb0Gg8YQPjul6sim9pc7eSbK5XXFYCX27wXyX1iCgPwTQBvBwqJXdKoYrMSGmFdxEgBKO5DPMQJhTlfJs9ha2gG2FMCgFfVHIa3hABpP+87yhkTnomoA2BBjk37dbz0qhlhI+Nj6GSM6F1XiWgadYwncnSfChNZiPLH3ABo5oelk0FViE2fzoUKkjuO+kRPJsMXcwkbJv4zlgUXaYCv70pLvOZVM6TnG4lePI7vmQzR8C0TMSzKc1lPjZgIxDmTjC25IJE7PkYj7jdGUm8CdnqcrXef2A9iBVfKWZsyrOIlaFEQabU/PR2yaQZyuC1+9oqjRjvSm9r+A93IuIb9dLaaVKGgpAnZ9hqZA/GPaRvCwTBhdJSYjB88og39ETYO0GIuORyKkhbjCBZzf642d4xwrpMWkl5EL7+Okcx537TJdWbxHHpGla+A4spGJiiGjBTS/U3ad269ZDIuiOIBGVuMb/gRgfzNM/TMJbViGZftdLUUMmm0333MKOseYILytbm6Z8Zxj+GJmf6OzEK8P6RyDjyQO5dLtq3sPq6SLY5DO3ap8niMlY8tl9HvzIYnRYanevjr7ezuk1IG5l9bGZvYXO7Yf+wfgH1MfBwF6SwhBcKA/IiQIDiQMguBAwiAIDiQMguBAwiAIDiQMguBAwiAIDiQMguBAwiAIDhP+/xijo6OT+T0IYtyEh4dbVjfNGATBgYRBEBxIGATBgYRBEBxIGATBgYRBEBxIGATBgYRBEBxIGATBgYRBEBwsFUaYx4VX7HbYpWt7x0Oa/PC2EiXPe72Djx+wKWW6S43zeG08ceo7Kx8piAyjMUtliwN/Mb1jpDpFZbscvDv8C02+1rbaelTcHekAABp7SURBVPm+MW5b9MPbE/KPmY+DgWXCCPO4sHFBHmZeHIMgCLh75RhuPZOlcc6N/jYgowqXRwUIgny9jhfviS8uGalOQeK+MtTfGYUgCGgv3on0TR9hULFbM95ZkIcOl0dpIyEnykeA059hNGY5kPlUi2QjN2q/Wu53EBipTsHs3F/hkPt7yTbP43NHtsr+wxjoBuIl2ynXjicBAKPL9mjTBQHs0+0A1uHQpgRNW7Kva6Dv0Ob+MfdxcJjw63PM/ohwpDoFswd+rxgaEEeG7P/qQee6R5XPiWEtmjJemnHUnoprF8dQnnCXmzZSnYLZTVtw2bUW0UzVri5tuiN2vJtw3nlTGTTC20pge/dJg+cUhVSU6bU1oPcJz77+EMu/6+LUmduKNelpOFO/FPV33tAMbP79Y+5jf0zLPyKMyDrH7fA9PX3Sv6QRKz6We3+Ypw8dSIcjUv3K+2QkFwPn+m8AAPrcrcDCuZqOMXP5RjjrevGNLfjT8WQxFpWD9wRvh1Oo6zN4zqvoOwukzJ2lSZ01dxnwdT8GbUb2Naa7NBWFGVX4Q8ajqtRmuHJn4ZD7ezRsme9zj5l/AvFxsJiyxXd4WwkS96mnYdF5PTlR3PjywcEe1GAJ4jiOE8XlT1hfoXcolPcVmlH+fDniXZt9xQIAmI/Y1b6d60Z/myIm0b712OZ42HTdEuZx4a19QF5+pm52SsYW4QO8NudHzl3m/jH3cfCwvPfIiy/b8+VAyRuKEcXRQhvjXq9sRPoM3wUcISMvwFNRiDIczDR68fEcJK9NQk/OVtWaohmu3FalxI3+NgDrlDWIvG7hieNWyweoyajC1qcDCblCA8uFIYYBYsdvH1sO++bTGLR509XxakTWLhzEThTW/gx+eXVCzMGqankh/B3SZ2zy2WmSicg6h+uVf1PNCF9hyfkdmnxBcKlG+znI2Lod2PO2rs5hNJ9uRfyaZ0JmzRYIUxpvPPVPx+CsO4U/fMt3phwCAMAP0fFw4ktuSCROz3MQs8hoyn2KOz2HEqPLXkPt6lM4+uf/NCwjdn7vbt/Ca61ARiweN9hvEW2uzQvzfIK6s+nY8g9/P85vaO4fcx8HD8uE0V3qf69d3CfX71l7F41jUbFIQD3cGqM1o3mfd1EZ60hSFpMy4rQfZ+j86QjfVv7xtb925Of5hxfz+1sHmGHmn0B8HDQm+pp0QRD8XuzT7QwAy7s4JqW5We1qMJS0SJ+b2EGAxbs8yj3txWDIqGKXR8XP1yuTGFDG6u+McvP1ddy9cow5NW2GyiU+p9d2vrbh238dO+T+nlten8/zh3Kfxub+/K3/Pub+MfexnzYtxLIfpxxdtgfsU8D2TBiOyYkl6jOLZGwRmgB7FOw5UlJGlWbPOyLrHNrddiTO2CkVKEP9nZcRrezEJOP1K8fQscBbR7zLg86A9uWnE7KtlsO+R04r05wZ6M+ERpftwfXKFMx2PIxtnPKif0pgU/Il261Tb8fKW66/n+D6wtw/5j4ODpYd8BGE1UzLAz6CmM6QMAiCAwmDIDiQMAiCAwmDIDiQMAiCAwmDIDiQMAiCAwmDIDhM+OSbIEIZmjEIggMJgyA4kDAIggMJgyA4kDAIggMJgyA4kDAIggMJgyA4kDAIggMJgyA4TJkwRk4kw5ZVhwFN6hDOrLXBZpMun3ygq0SVbzuIJn3Fg5XYYPOWmV8Tqm8x1Nmq7EvzW1qLVbazoeDzceYjAPvLDFZig+3AhPwTcBtTiaUv55EZOM6yAQZnLetXJXfuVqd5WEMaGEo7lPzbrhUMOMAaueUZY+w8OwwwR/VNTTv57RY/z5Sjt434WXluHnpbtBQxYD2rGFJ/VttKtKXadub217alLquu059/Am5jipkCYYhOfDkzXfvAA8dZNjK9jvJJ83WUPu22a4WPEXlp056B4ywbv9d2upYiv8/Js0Pnbq+41P/m18kTn5F4JP/qhGHuH3MfBwvLQ6mukiikPd0B1+r/0GYMuHEST8PxmCot+iU402px1QNgsAftyMT8KPVNK/HsbqCpV5yOe92XgMVxiFGViFi5Gdk11/C1NY8THKJzUcV2IFWfXtM7weccQu9fAYcjTpsc4xin7S7gvZzZqBhiqN/6X3xyTf0TgI+DhbXCaC3GE3sPoHHnEp+skWutgDMOCzm3NfXe4gtHwu3uhaFzAQAdcH/7U7/8/cwFVCzfD0d1rq9YJMQOmIlyed0wWIn9e4H8F5YAiETcb2Q7qhhw4yS+lGwXiefWrYA7q1KJ+UdO7MZWHEDqUvmGlShgtcjn+Cgg/5j6OHhY9opO2Xn57QypAEasa+hnxBDOrI1CWgMAHECj0+j3MSDOMgPAhhib9Mt461ExxJROvDilCFiegIIXGCqWSnUf3A9gvVJFxKZm3EYyHrFJPx/grEU/y9DMAKGKZTNGV8mz2FraIRmdmBwiseY0A2MMrOUWVtmcOGIwM46cSIYt5hY2Mqk8ywOLVO1mJe0DaynCkUR5N+hN/EexC9nKzwCIu2CPDLwt3c/A8r/EXIPdq1DDImFcwPm9AHYlKNtwj+RcAmoyMVdyZsS8JMMYOTVuphjv4gtuSCROzwbhAAAggTs9hxRJv0ND2oeouMSLxS/gvZxLyG8vVIVaK1HQUgTs+sy7HZq0z9vpWQ1yf/jGG9q0/gvSGnRhcNI+dO4GjnwSwFZxIP4x9XHwsEgYK1GgGFy8brtWSFNxjTid84wy+EfUNEiLseh4JEJaiCuIgkuNE0OIOMcKoKtXc/YxcuF9nHTO465dpi2txZO+v887V+o6tx8ofc5w3TJeTP0TgI+DxlRtfxluH9I5RgCIz+nPNnp883V1mJ1zcPzhe/bBdHl0jjFu+OcLkvEhXRyDdO5W5fM6gnK4JF5+D72mNVLHNrAF71xCPmMwtI3U0cVrvfZMiTHm4x9uGXVdE/OPqY+DAL0lhCA40B8REgQHEgZBcCBhEAQHEgZBcCBhEAQHEgZBcCBhEAQHEgZBcCBhEASHCf9/jNHR0cn8HgQxbsLDwy2rm2YMguBAwiAIDiQMguBAwiAIDiQMguBAwiAIDiQMguBAwiAIDiQMguBAwiAIDlP3+xjVKbBvPo1BmzctvK0Edrtdd72Djx/wFuouNc4DgDCPC6+o7n/i1HdT9UhTzDAas1S2OPAX0zv09t3e8ZCuRDOO2v3XaWZ/GdEPb0/IP4G2MZVMiTDCPC4U5Lb6pN/obwMyqnB5VIAgyNfrePGe+OKSkeoUJO4rQ/2dUQiCgPbinUjf9JFKXM14Z0EeOlweCIKAu1eOISEnitMBpjvDaMxyIPOpFslGbtR+tdzvIBDmcSHr+XLkXRyDIAhgn27HsWf+O94d/oWS/4o9Fe9KthOEJhzco63T3P7etjYuyEMN9B3a3D+BtjHVTPj1OYH/EaHo1BMPpeHMA+tx2bUW0VKL3aV2JIa1QNjxJOe+Zhy1p+LaxTGUJ9zlpo1Up2B20xZNnby06Y7Y8W7CeedNZdAIbyuB7d0nDZ+TZwe1vbtL7Ui8WuXHdub2V+7JbcWa9DScqV+K+jtvaAY2//4JrA0jpvUfEXaXiiPd//ntf+pyhjHQDcTHx3LvC/P0oQPpcETeU6UmI7kYONd/AwDQ524FFs7VdIyZyzfCWdeLb2zBn44ni7GoHLwneDucQl3fBJ9Tsv2aZzS2i8g6B+F9sRMHYn+gGa7cWTjk/h4NW+b7tGLmn8DaCA6WCiO8rUScJoue4uReRd9ZoCcnihtfPjjYgxosQZzGaCI9PX3wL6yv0DsUyvsKzSh/vhzxrs2+YpEQO+AGHP5CDFvCPC68tQ/Ie24pZNunzP3RcN1ibn8ASMYW4QO8NudHzjcw909gbQQHC38fQ3Re3sUxvHjvrs/vY4ijBRDv8qBz3aMApGl2BlB/5w28bN0Xm8ZIa42zAFCG+syZgIEwxqJy8MEVYOOCMNgBAOtwyP09XpvjDU+OPfMmHO7vIVT/CDGEWQ47jELbnxeWDavdpakoLGkxjBPF8EBQRAEAEVm7cBA7UVgbqr+8+lOZg1XVgrSY/g7pMzYpi2k9I9UpeGjBLTilRa0gvIp7joc1s0LexX9XjfbJ2P7pdmDP24Z1/pywSBjNaN4HYM9yZZqendsK1G3Ar8Nz/Bh+PmJXi//6IToeTnzJDYnE6XkOYhYZTblPcafnUGJ02WuoXX0KR/+sX7sBYuzfiryLhapQS+74F/HxA3y3izZnqn/7s78Z5v756W1Yh0XCSMYWQb0FK+B6ZZK0NevCa3N+lPbY9XvWcuw7C2NRsUhAPdwao4mCS5k7CwAQ60gCvu7XbO3davkANRlxeDyE3lXNt9VPYQV3gauO+QOxvxlm/pmMNixjoq9JFwRhXNf1yiSGjCp2eVROa2IHARbv8ihl2ouhKXO9MokBZaz+zig3X1/H3SvHmBNgeRfHxv397u9LfE6UtGjtqbIN196afG0doq3S2SH39wG34Wt/78U+3c75Pub+GU8bPm1aiIWLbzOSsUVoAuxRsOdISRnaffWIrHNod9uROGOnVKAM9XdeRrQqPHj9yjF0LPDWEe/yoNNk/3v6IdtqOex75LQyzZmB/kwoIuscriMFsxXbibYRpDWdsjh3PIxtcoES7cLb3P7m39vMPz+9DWuYggM+grCGaX3ARxDTERIGQXAgYRAEBxIGQXAgYRAEBxIGQXAgYRAEBxIGQXAgYRAEhwmffBNEKEMzBkFwIGEQBAcSBkFwIGEQBAcSBkFwIGEQBAcSBkFwIGEQBAcSBkFwIGEQBAdLhdFVYoPNprvKvlSVGMKZtaq8rDoM+K3jIJr0jQxWYoOq/vk1ofoWQ52tNHY0oLVYY/uCz3X5prYz949pHQH4x9THwcC6N/N4WEMamKP6pmGJzt1gcNayflV5lHYo+bddKxhwgDVyyzPG2Hl2GKo2Bo6zbIDlt0/6wwQZvW3Mbetji5YiBqxnFUNyATPbSW2q7H3btUJr/5YiBvU9PnWY+8fcx8HBQmGIRjHspAPHWTYyVY7Sp/Hu16b5OMogbdozcJxl4/dK52GMiZ3Sz3Py7NC52ysuU9vx/COJRbS/70A27jYC8HGwsC6UGuxBOzIxP8ogf8CNk3gajsdUadEvwZlWi6seo/tX4tndQFOvOB33ui8Bi+MQoyoRsXIzsmuu4etJfZggE52LKrYDqfr0mt4JP6ep7Xj+QSTifiPb/yr6GoD8F5Zo6l28h4HtXBJYGwH4OFhYJ4wBN06iFgWR/Lh45For4IzDQs6tTb23DBwj4nb3AhhC718BhyOOU0MH3N9O1oPcj1xAxfL9cFTn+opFQuyAmSiX1xWDldi/V+7IAdguxoFsfKGzo3if292r6tStqOCuIQJow9THwcMyYYxcawWwHhVDDIwxMOZBwxcJgS0aCQPkxfCz2IoDqHDONC4anYuqgeO4mSh12phz+G9DDBVLA2xKmr0L3lQtuFv/BWkN6kK1KIj8M+YzyccDx7E06+9CYgPEMmFEbGoGYzXIV0aDSKwpLAJ2HcCRkB7NrSQSa05LnbDlFlbZnIa2HDmRDFvMLWyUOy3LA4sMcDdLacuDhu8zMVeeES5koHO3ukwmKoYKvbNWdC7+1bUC7qxKNE3zk4Cp/fYxDmRLv78QMS/JMEZOjZtpMJWLiNOzGO/yp9wE7vQcUiT9Dg1pH6LiEm90voD3ci4hv13VabESBS1FwK7P0BSw7VRCZAxs56/8hEciEfOSpH/NMW/D1MfBwzJhdJVwRid1TMkzyuAfUdMgLcai45EIaSGucAHn90rCARDnWAF09Wr21kcuvI+Tznnctcu0pbV40vf3zW13ARX6sw/JPwUrZmo3StR1qNaOpm0E4OOgYdl+l9m+OaNzjMARn9OfbfT45uvrMLedmX9EH6vakOrw+pjOMfhIB0Dy5XsgJRlbLsMxSOduVT6vI0jGNm4jVJA6toEt1OcHMmKn82MbU9vp/KOrnzFm7uMA/GPq4yBAbwkhCA7Te+uAICyChEEQHEgYBMGBhEEQHEgYBMGBhEEQHEgYBMGBhEEQHEgYBMHhwYneODo6OpnfgyDGTXh4uGV104xBEBxIGATBgYRBEBxIGATBgYRBEBxIGATBgYRBEBxIGATBgYRBEBxIGATBwVJhdJfaYbfrrgN/UfLD20p88+3v4OMHbAZ1aPMAIMzjwiuq+5849Z2VjxREhtGYxbejL8046mNXXxuOx3Yj1SncNvU+3t7xkCY/kDbMfBwMLBTGMAa6gXiXB4IgeK8dTyolbvS3ARlVuDyqyhdex4v3xBeXjFSnIHFfGervjEIQBLQX70T6po8wqNitGe8syEOH1MbdK8eQkBPl45zpzzAasxzIfKpFspEbtV8t99ORk7FFbXNBgCA04SCAeNdmyb6B226kOgWzc1t90rtL7Ui86vXf3SvHcOuZMFUd5m2Y+zg4TPj1OeZ/RNiMo/ZUXLs4hvKEu9wS3aV2JIa1aMTi/35t2kh1CmY3bcFl11pES0/BS5vuhHlc2LjgJpx33lQGjfC2EtjefTLg51Q6sVQ+vK0EtucfRf2dNzQDkdZ2kiDPrsOa9FM4s1jtK75/1T4194+5j/0xLf+IMMzThw6kwxF5z6CENKPEx47j/mQkFwPn+m8AAPrcrcDCuZqOMXP5RjjrevGNLfjT8WQxFpWD9wRvB1ao6wvoOcPbSpC4bx0O7V83rsEivO1dZP6yCpdHXdi5QJ8rzkr+Oq+ZfwLxcbCwTBgPDvagBvXY5njYIC6+ir6zQE9OFDe+FO9fgjiOsHp6+uBfWF+hdyiU9xWaUf58uSos8scw6g6XAyVv4LU5Pyqpo8v+EQexE4W18kuhm+HKbUX8mmeUjjy6bA+E98cz8zajeZ/sE3P/mPs4eFjWe270twFYh0Pu7zVxsSwOcbTQrkGuVzYifcbb98Xi6/5EXoCnohBlOJhp/uLjMM8nqDubjkObEnQ5ydgiNOE1ZWASw5fOdY/+hO+WisKMKvwhY6J13D9Y9/sYWecgCC7VKDUHGVu3A3vexrvDv5DCA0HjiIisXbpRjNAyB6uqxUGEffod0mdswrvDv/B7x62WD1CTsQ6/fexHTbq4I3gcD6gGrufKw2DffHoCC195LVKG+hMvh8TabkrjjR+i4+GEP6vNR+xqddkvuSGROD3PQcwioyn3Ke70HEqMLnsNtatP4eif/9NPqWE0n9aGR3J63eFyxLsOawauteXH4Kw7hT98619s+jYUUdxRr4PM/WPu4+BhmTC6S3332tUxpThi6fesxXVHytxZGIuKRQLq4dYYTYxhU+bOAgDEOpKAr/s1I5w4Qsbh8RB6VzXfVoHgtac1SKL4ZRUuj77us94x808gPg4aE31NuiAIfi/26XYGrGOH3N9LaU3sIMDiXR6DzwJrLwZDRhW7PCp+vl6ZxIAyVn9nlJuvr+PulWPMCbC8i2Om3296XeJzoqRFSdPbhneJ9khX+cCff9ysdrXevt6rvVjbPt8f/O/tzz/mPvbTxyxkwi9DMGN02R6wT0tgczyMbVJavMujWlOIiz/Yo2DPkZIyqjR73hFZ59DutiNxxk6pQBnq77yMaGVkSsbrV46hY4G3jniXB50m+9/TD9lWy2HfI6dpQxfemZA8Qzsj7wG6yJLnH5RI9wcw2YZ5XHhrHwBswK/rdJmKH839Y+7j4GDhAR9BWMu0POAjiOkMCYMgOJAwCIIDCYMgOJAwCIIDCYMgOJAwCIIDCYMgOJAwCILDhE++CSKUoRmDIDiQMAiCAwmDIDiQMAiCAwmDIDiQMAiCAwmDIDiQMAiCAwmDIDiQMAiCg8XCuIAKmw02+Sr7Upc/hDNrVflZdRjQlegqUeXbDqJJ38RgJTao2phfE6pvMdTZyseWanR2t+ltOKytS3M5ceRbo3o49pcZrMQG24EJ+cfUx8HAshfzDBxn2QBzVN+UEs6zw5rPjHXuBoOzlvUzxhjzsIY0MJR2KPm3XSsYcIA1cstz6pTazG+37KmChN424me1Lc3xtb//NnzL6/2hINndN8/cP+Y+Dg6WCYP3gLddK7xpA8dZNjJZxZCqgCZNNKq2k2vTNPXx2ggVBo6zbPxe2+laisb1nGYdzqfTtxQZdnTfjg32cma6T3lz/5j7OFhYJIwARjSu4cX78tsZXzhMdLBcb+du7QzDGON3olCEaz9/Zdf72FIh4JlW32nPs8PIEOvlfB9T/wTg42Bh0RrjKvoagNS4e4Zx8ci1VsAZh4Wcu5t6bwEDbpzE03A85pvvdvcCGELvXwGHI45TQwfc33KSQ4YLqFi+H47qXKSalh3CmYP7gdIdyOfYEgC6jr+Kk85abF9qUlXrx9iK9ZgfJSesRAGrNag3AP+Y+jh4WPaKTgA4kvg/MH+IgZ0GxIVcAmzoANu5xMpmQ5ghnFkbhbQGADiARqf572Ng8I+oachExVEjm1/A+b1AfnsGYvzWU4kNy/fDUX3TUGChhKW7UvntNSojrkRBSxGw64Bq14MYH5FYc5qBMQbWcgurNDtIfEYuvI+TzvVIM+rMrR9jKw4g1d9sMViJDTGv4mRpB64GIsYQYGrPMWIcyJbeGBwxLwmo6cXXnGKpcTOlsl9wQyJxeo5E3G+MptwE7vQcUiT9Dg1pH6Likr/t6SF8duoSHC8/ZzgbdJ3bD5Q+ZxySqUQxvpk+AP+Y+jh4WCSMlXh2t7RWUKOOKXlGkab9+VEAouORiFpc9agrEKf91Dhx1IpzrAC6ejVnH+IIOY+7dpm2tBZPcH9fXusZjfL+1gFQRPF59c0Jhb+m/gnAx0HDsmW9z46DuKOh3qWgc4xA8bWd4ZmCGoNdH329fHuZnXvo8LO9S+cYepSDH+nSb93JYpDzOQbp3K3K93u4JF7B3uazDkkcBrbgbo2aben6EY58PsG7uDY2aisA/5j6OAjQW0IIggP9ESFBcCBhEAQHEgZBcCBhEAQHEgZBcCBhEAQHEgZBcCBhEAQHEgZBcCBhEAQHEgZBcCBhEAQHEgZBcCBhEAQHEgZBcCBhEASH/w95X1WtAj8M2AAAAABJRU5ErkJggg==)"
      ],
      "metadata": {
        "id": "mYLLNC8C-U_R"
      },
      "id": "mYLLNC8C-U_R"
    },
    {
      "cell_type": "code",
      "execution_count": null,
      "metadata": {
        "id": "3b281df0"
      },
      "outputs": [],
      "source": [
        "trainer.save_model()"
      ],
      "id": "3b281df0"
    },
    {
      "cell_type": "markdown",
      "metadata": {
        "id": "e197ad1a"
      },
      "source": [
        "### Tweet generation and Decoding strategies "
      ],
      "id": "e197ad1a"
    },
    {
      "cell_type": "markdown",
      "metadata": {
        "id": "aab99e5f"
      },
      "source": [
        "The idea of this section is to explore some of the decoding strategies researches have devised in order to generate results that are more fluent. In order to be aligned with the philosophy of brievity of twitter, the fact that we want to keep the task simple enough that we have an idea and one or two sentences related to it, we'll generate phrases with a max_length of 20 (tokens). This fits will with the fact that the average tweet size in the dataset is pretty low ( around 20 characters) "
      ],
      "id": "aab99e5f"
    },
    {
      "cell_type": "markdown",
      "metadata": {
        "id": "1c61e204"
      },
      "source": [
        "#### Inference mode"
      ],
      "id": "1c61e204"
    },
    {
      "cell_type": "code",
      "execution_count": null,
      "metadata": {
        "colab": {
          "base_uri": "https://localhost:8080/"
        },
        "id": "0e78c839",
        "outputId": "93ec3293-cebb-43cf-c3b5-0cca04ae4e21"
      },
      "outputs": [
        {
          "data": {
            "text/plain": [
              "GPT2LMHeadModel(\n",
              "  (transformer): GPT2Model(\n",
              "    (wte): Embedding(50257, 768)\n",
              "    (wpe): Embedding(1024, 768)\n",
              "    (drop): Dropout(p=0.1, inplace=False)\n",
              "    (h): ModuleList(\n",
              "      (0): Block(\n",
              "        (ln_1): LayerNorm((768,), eps=1e-05, elementwise_affine=True)\n",
              "        (attn): Attention(\n",
              "          (c_attn): Conv1D()\n",
              "          (c_proj): Conv1D()\n",
              "          (attn_dropout): Dropout(p=0.1, inplace=False)\n",
              "          (resid_dropout): Dropout(p=0.1, inplace=False)\n",
              "        )\n",
              "        (ln_2): LayerNorm((768,), eps=1e-05, elementwise_affine=True)\n",
              "        (mlp): MLP(\n",
              "          (c_fc): Conv1D()\n",
              "          (c_proj): Conv1D()\n",
              "          (dropout): Dropout(p=0.1, inplace=False)\n",
              "        )\n",
              "      )\n",
              "      (1): Block(\n",
              "        (ln_1): LayerNorm((768,), eps=1e-05, elementwise_affine=True)\n",
              "        (attn): Attention(\n",
              "          (c_attn): Conv1D()\n",
              "          (c_proj): Conv1D()\n",
              "          (attn_dropout): Dropout(p=0.1, inplace=False)\n",
              "          (resid_dropout): Dropout(p=0.1, inplace=False)\n",
              "        )\n",
              "        (ln_2): LayerNorm((768,), eps=1e-05, elementwise_affine=True)\n",
              "        (mlp): MLP(\n",
              "          (c_fc): Conv1D()\n",
              "          (c_proj): Conv1D()\n",
              "          (dropout): Dropout(p=0.1, inplace=False)\n",
              "        )\n",
              "      )\n",
              "      (2): Block(\n",
              "        (ln_1): LayerNorm((768,), eps=1e-05, elementwise_affine=True)\n",
              "        (attn): Attention(\n",
              "          (c_attn): Conv1D()\n",
              "          (c_proj): Conv1D()\n",
              "          (attn_dropout): Dropout(p=0.1, inplace=False)\n",
              "          (resid_dropout): Dropout(p=0.1, inplace=False)\n",
              "        )\n",
              "        (ln_2): LayerNorm((768,), eps=1e-05, elementwise_affine=True)\n",
              "        (mlp): MLP(\n",
              "          (c_fc): Conv1D()\n",
              "          (c_proj): Conv1D()\n",
              "          (dropout): Dropout(p=0.1, inplace=False)\n",
              "        )\n",
              "      )\n",
              "      (3): Block(\n",
              "        (ln_1): LayerNorm((768,), eps=1e-05, elementwise_affine=True)\n",
              "        (attn): Attention(\n",
              "          (c_attn): Conv1D()\n",
              "          (c_proj): Conv1D()\n",
              "          (attn_dropout): Dropout(p=0.1, inplace=False)\n",
              "          (resid_dropout): Dropout(p=0.1, inplace=False)\n",
              "        )\n",
              "        (ln_2): LayerNorm((768,), eps=1e-05, elementwise_affine=True)\n",
              "        (mlp): MLP(\n",
              "          (c_fc): Conv1D()\n",
              "          (c_proj): Conv1D()\n",
              "          (dropout): Dropout(p=0.1, inplace=False)\n",
              "        )\n",
              "      )\n",
              "      (4): Block(\n",
              "        (ln_1): LayerNorm((768,), eps=1e-05, elementwise_affine=True)\n",
              "        (attn): Attention(\n",
              "          (c_attn): Conv1D()\n",
              "          (c_proj): Conv1D()\n",
              "          (attn_dropout): Dropout(p=0.1, inplace=False)\n",
              "          (resid_dropout): Dropout(p=0.1, inplace=False)\n",
              "        )\n",
              "        (ln_2): LayerNorm((768,), eps=1e-05, elementwise_affine=True)\n",
              "        (mlp): MLP(\n",
              "          (c_fc): Conv1D()\n",
              "          (c_proj): Conv1D()\n",
              "          (dropout): Dropout(p=0.1, inplace=False)\n",
              "        )\n",
              "      )\n",
              "      (5): Block(\n",
              "        (ln_1): LayerNorm((768,), eps=1e-05, elementwise_affine=True)\n",
              "        (attn): Attention(\n",
              "          (c_attn): Conv1D()\n",
              "          (c_proj): Conv1D()\n",
              "          (attn_dropout): Dropout(p=0.1, inplace=False)\n",
              "          (resid_dropout): Dropout(p=0.1, inplace=False)\n",
              "        )\n",
              "        (ln_2): LayerNorm((768,), eps=1e-05, elementwise_affine=True)\n",
              "        (mlp): MLP(\n",
              "          (c_fc): Conv1D()\n",
              "          (c_proj): Conv1D()\n",
              "          (dropout): Dropout(p=0.1, inplace=False)\n",
              "        )\n",
              "      )\n",
              "      (6): Block(\n",
              "        (ln_1): LayerNorm((768,), eps=1e-05, elementwise_affine=True)\n",
              "        (attn): Attention(\n",
              "          (c_attn): Conv1D()\n",
              "          (c_proj): Conv1D()\n",
              "          (attn_dropout): Dropout(p=0.1, inplace=False)\n",
              "          (resid_dropout): Dropout(p=0.1, inplace=False)\n",
              "        )\n",
              "        (ln_2): LayerNorm((768,), eps=1e-05, elementwise_affine=True)\n",
              "        (mlp): MLP(\n",
              "          (c_fc): Conv1D()\n",
              "          (c_proj): Conv1D()\n",
              "          (dropout): Dropout(p=0.1, inplace=False)\n",
              "        )\n",
              "      )\n",
              "      (7): Block(\n",
              "        (ln_1): LayerNorm((768,), eps=1e-05, elementwise_affine=True)\n",
              "        (attn): Attention(\n",
              "          (c_attn): Conv1D()\n",
              "          (c_proj): Conv1D()\n",
              "          (attn_dropout): Dropout(p=0.1, inplace=False)\n",
              "          (resid_dropout): Dropout(p=0.1, inplace=False)\n",
              "        )\n",
              "        (ln_2): LayerNorm((768,), eps=1e-05, elementwise_affine=True)\n",
              "        (mlp): MLP(\n",
              "          (c_fc): Conv1D()\n",
              "          (c_proj): Conv1D()\n",
              "          (dropout): Dropout(p=0.1, inplace=False)\n",
              "        )\n",
              "      )\n",
              "      (8): Block(\n",
              "        (ln_1): LayerNorm((768,), eps=1e-05, elementwise_affine=True)\n",
              "        (attn): Attention(\n",
              "          (c_attn): Conv1D()\n",
              "          (c_proj): Conv1D()\n",
              "          (attn_dropout): Dropout(p=0.1, inplace=False)\n",
              "          (resid_dropout): Dropout(p=0.1, inplace=False)\n",
              "        )\n",
              "        (ln_2): LayerNorm((768,), eps=1e-05, elementwise_affine=True)\n",
              "        (mlp): MLP(\n",
              "          (c_fc): Conv1D()\n",
              "          (c_proj): Conv1D()\n",
              "          (dropout): Dropout(p=0.1, inplace=False)\n",
              "        )\n",
              "      )\n",
              "      (9): Block(\n",
              "        (ln_1): LayerNorm((768,), eps=1e-05, elementwise_affine=True)\n",
              "        (attn): Attention(\n",
              "          (c_attn): Conv1D()\n",
              "          (c_proj): Conv1D()\n",
              "          (attn_dropout): Dropout(p=0.1, inplace=False)\n",
              "          (resid_dropout): Dropout(p=0.1, inplace=False)\n",
              "        )\n",
              "        (ln_2): LayerNorm((768,), eps=1e-05, elementwise_affine=True)\n",
              "        (mlp): MLP(\n",
              "          (c_fc): Conv1D()\n",
              "          (c_proj): Conv1D()\n",
              "          (dropout): Dropout(p=0.1, inplace=False)\n",
              "        )\n",
              "      )\n",
              "      (10): Block(\n",
              "        (ln_1): LayerNorm((768,), eps=1e-05, elementwise_affine=True)\n",
              "        (attn): Attention(\n",
              "          (c_attn): Conv1D()\n",
              "          (c_proj): Conv1D()\n",
              "          (attn_dropout): Dropout(p=0.1, inplace=False)\n",
              "          (resid_dropout): Dropout(p=0.1, inplace=False)\n",
              "        )\n",
              "        (ln_2): LayerNorm((768,), eps=1e-05, elementwise_affine=True)\n",
              "        (mlp): MLP(\n",
              "          (c_fc): Conv1D()\n",
              "          (c_proj): Conv1D()\n",
              "          (dropout): Dropout(p=0.1, inplace=False)\n",
              "        )\n",
              "      )\n",
              "      (11): Block(\n",
              "        (ln_1): LayerNorm((768,), eps=1e-05, elementwise_affine=True)\n",
              "        (attn): Attention(\n",
              "          (c_attn): Conv1D()\n",
              "          (c_proj): Conv1D()\n",
              "          (attn_dropout): Dropout(p=0.1, inplace=False)\n",
              "          (resid_dropout): Dropout(p=0.1, inplace=False)\n",
              "        )\n",
              "        (ln_2): LayerNorm((768,), eps=1e-05, elementwise_affine=True)\n",
              "        (mlp): MLP(\n",
              "          (c_fc): Conv1D()\n",
              "          (c_proj): Conv1D()\n",
              "          (dropout): Dropout(p=0.1, inplace=False)\n",
              "        )\n",
              "      )\n",
              "    )\n",
              "    (ln_f): LayerNorm((768,), eps=1e-05, elementwise_affine=True)\n",
              "  )\n",
              "  (lm_head): Linear(in_features=768, out_features=50257, bias=False)\n",
              ")"
            ]
          },
          "execution_count": 90,
          "metadata": {},
          "output_type": "execute_result"
        }
      ],
      "source": [
        "from transformers import Trainer, TrainingArguments,AutoModelWithLMHead\n",
        "model = AutoModelWithLMHead.from_pretrained('./gpt2-fr-pol-tweets/gpt2-fr-pol-tweets')\n",
        "tokenizer = AutoTokenizer.from_pretrained(\"dbddv01/gpt2-french-small\")\n",
        "model.to('cpu')"
      ],
      "id": "0e78c839"
    },
    {
      "cell_type": "markdown",
      "metadata": {
        "id": "9dfeaf41"
      },
      "source": [
        "##### Contextual seed for generation\n",
        "\n",
        "To have some capacity of comparaison between the decoding methods, we'll use the same context seed through this entire section.\n",
        "\n",
        "The chosen seed is calibrated with the thematic constellation that is used by the chosen political supporters on twitter."
      ],
      "id": "9dfeaf41"
    },
    {
      "cell_type": "code",
      "execution_count": null,
      "metadata": {
        "id": "34b1c2a5"
      },
      "outputs": [],
      "source": [
        "input_ids = tokenizer.encode('La france',return_tensors='pt')"
      ],
      "id": "34b1c2a5"
    },
    {
      "cell_type": "markdown",
      "metadata": {
        "id": "72987bc2"
      },
      "source": [
        "#### Greedy Search"
      ],
      "id": "72987bc2"
    },
    {
      "cell_type": "markdown",
      "metadata": {
        "id": "d4e86811"
      },
      "source": [
        "Classical decoding framework by which we select the word the hifhest conditionnal probabilitity at each timestep $t$ such that : \n",
        "$w_t = argmax_{w}P(w | w_{1:t-1})$"
      ],
      "id": "d4e86811"
    },
    {
      "cell_type": "code",
      "execution_count": null,
      "metadata": {
        "colab": {
          "base_uri": "https://localhost:8080/"
        },
        "id": "d7da2948",
        "outputId": "f2799c2d-0cfa-4d4c-dea8-5f0bf9a671c6"
      },
      "outputs": [
        {
          "name": "stderr",
          "output_type": "stream",
          "text": [
            "Setting `pad_token_id` to `eos_token_id`:50256 for open-end generation.\n"
          ]
        },
        {
          "name": "stdout",
          "output_type": "stream",
          "text": [
            "Tweet Generation :\n",
            "----------------------------------------------------------------------------------------------------\n",
            "La france est une terre d’accueil. il faut que les français fassent le choix. je\n"
          ]
        }
      ],
      "source": [
        "\n",
        "\n",
        "# generate text until the output length (which includes the context length) reaches 25\n",
        "greedy_output = model.generate(input_ids, max_length=20)\n",
        "\n",
        "print(\"Tweet Generation :\\n\" + 100 * '-')\n",
        "print(tokenizer.decode(greedy_output[0]))"
      ],
      "id": "d7da2948"
    },
    {
      "cell_type": "markdown",
      "metadata": {
        "id": "bbfd7ea2"
      },
      "source": [
        "The generated tweets seems somewhat decent. The semantics is sometimes off but structuraly it seems that the model has captured some of the themes and phraseological features of this political group discourse. This is interesting, especially when considering the few epochs we trained the model on.T\n",
        "\n",
        "The main drawback with greedy seach is that it can miss high conditionnal probability words that are behind low conditionnal probability words in the graph.\n",
        "\n",
        "To overcome this issue, we can use beam search.\n"
      ],
      "id": "bbfd7ea2"
    },
    {
      "cell_type": "markdown",
      "metadata": {
        "id": "5fca8ab0"
      },
      "source": [
        "#### Beam Seach"
      ],
      "id": "5fca8ab0"
    },
    {
      "cell_type": "markdown",
      "metadata": {
        "id": "71191c60"
      },
      "source": [
        "Here, at each timestep $t$ , we keep the most likely sequence of words (beam). Finally, we end up choosing the highest condtionnal probability sequence overall."
      ],
      "id": "71191c60"
    },
    {
      "cell_type": "code",
      "execution_count": null,
      "metadata": {
        "colab": {
          "base_uri": "https://localhost:8080/"
        },
        "id": "908aac80",
        "outputId": "f14bdb24-d593-434b-fe39-3486c16574c8"
      },
      "outputs": [
        {
          "name": "stderr",
          "output_type": "stream",
          "text": [
            "Setting `pad_token_id` to `eos_token_id`:50256 for open-end generation.\n"
          ]
        },
        {
          "name": "stdout",
          "output_type": "stream",
          "text": [
            "Tweet Generation :\n",
            "----------------------------------------------------------------------------------------------------\n",
            "La france doit être plus vigilante, et reconsidérer sa coopération avec certains pays francophones, qui\n",
            "\n",
            "\n",
            "La france doit être plus vigilante, et reconsidérer sa coopération avec certains pays francophones. \n",
            "\n",
            "\n",
            "La france doit être plus vigilante, et reconsidérer sa coopération avec certains pays francophones. cela\n",
            "\n",
            "\n"
          ]
        }
      ],
      "source": [
        "# here we keep the 3 most likely beams in memory at each time step => we end up with 3 sequences to choose from\n",
        "beam_output = model.generate(\n",
        "    input_ids,  \n",
        "    max_length=20, \n",
        "    num_beams=3, \n",
        "    early_stopping=True,\n",
        "    num_return_sequences=3\n",
        ")\n",
        "\n",
        "print(\"Tweet Generation :\\n\" + 100 * '-')\n",
        "\n",
        "for tw in beam_output:\n",
        "    \n",
        "    print(tokenizer.decode(tw, skip_special_tokens=True))\n",
        "    print('\\n')"
      ],
      "id": "908aac80"
    },
    {
      "cell_type": "markdown",
      "metadata": {
        "id": "d11b84a9"
      },
      "source": [
        "More interesting and fluent result. The 3 highest scoring beams are very semilar to one another, this is due to the fact that we only use a few of them. \n",
        "\n",
        "Playing around with this two decoding strategies, we notice that the model quickly starts to repeat itself ( classical problem in NLG => bibliography)\n",
        "\n",
        "To avoid repeating sequence of words, let's leverage n-gram penalities ( bib) by forcing next words conditionnal probability to 0 if they generate an already seen n-gram."
      ],
      "id": "d11b84a9"
    },
    {
      "cell_type": "markdown",
      "metadata": {
        "id": "eed79b15"
      },
      "source": [
        "#### n-gram penalities"
      ],
      "id": "eed79b15"
    },
    {
      "cell_type": "code",
      "execution_count": null,
      "metadata": {
        "colab": {
          "base_uri": "https://localhost:8080/"
        },
        "id": "2d05c685",
        "outputId": "d4eeaf1e-6f93-405e-fda3-fc025b699dc3"
      },
      "outputs": [
        {
          "name": "stderr",
          "output_type": "stream",
          "text": [
            "Setting `pad_token_id` to `eos_token_id`:50256 for open-end generation.\n"
          ]
        },
        {
          "name": "stdout",
          "output_type": "stream",
          "text": [
            "Tweet Generation :\n",
            "----------------------------------------------------------------------------------------------------\n",
            "La france doit être plus vigilante, et reconsidérer sa coopération avec certains pays francophones, qui\n",
            "\n",
            "\n",
            "La france doit être plus vigilante, et reconsidérer sa coopération avec certains pays francophones. \n",
            "\n",
            "\n",
            "La france doit être plus vigilante, et reconsidérer sa coopération avec certains pays francophones. cela\n",
            "\n",
            "\n"
          ]
        }
      ],
      "source": [
        "# here no n-gram appears twice\n",
        "beam_output = model.generate(\n",
        "    input_ids, \n",
        "    max_length=20, \n",
        "    num_beams=5, \n",
        "    no_repeat_ngram_size=2, \n",
        "    early_stopping=True,\n",
        "    num_return_sequences=3\n",
        ")\n",
        "\n",
        "print(\"Tweet Generation :\\n\" + 100 * '-')\n",
        "\n",
        "for tw in beam_output:\n",
        "    \n",
        "    print(tokenizer.decode(tw, skip_special_tokens=True))\n",
        "    print('\\n')"
      ],
      "id": "2d05c685"
    },
    {
      "cell_type": "markdown",
      "metadata": {
        "id": "e23ab89e"
      },
      "source": [
        "For our use case, tweets being short messages, such penality serves our purpose well as it keeps the discourse synthetic. However, for longer generation, it could a problem to not have any repeating n-grams."
      ],
      "id": "e23ab89e"
    },
    {
      "cell_type": "markdown",
      "metadata": {
        "id": "c3b452f0"
      },
      "source": [
        "### Sampling strategies"
      ],
      "id": "c3b452f0"
    },
    {
      "cell_type": "markdown",
      "metadata": {
        "id": "8d27e2dd"
      },
      "source": [
        "Here, we swicth to decoding approaches that leverage randomness in order to introduce some diversity in the tweet generation.\n",
        "\n",
        "The core idea is to consider the next word $w_t$ as random variable from which we draw a realisation according to the conditionnal probability distribution : $P(w|w_{1:t-1})$.\n",
        "\n",
        "\n",
        "For the popular top-K sampling, which was adopted in the GPT-2 paper, we simply reduce this random variable support to the top K most likely next words.\n",
        "\n",
        "Top-p sampling is conceptually slightly different, as it selects the minimum set of next words prediction that account for a chosen threshold probability mass.\n",
        "\n",
        "Combining top-p and top-K  ( Top-K over a top-p sampling) can be useful as it allows to robustly get rid of outliers without compromising some degree of variety."
      ],
      "id": "8d27e2dd"
    },
    {
      "cell_type": "markdown",
      "metadata": {
        "id": "8a2e754a"
      },
      "source": [
        "###### Top K-sampling"
      ],
      "id": "8a2e754a"
    },
    {
      "cell_type": "code",
      "execution_count": null,
      "metadata": {
        "colab": {
          "base_uri": "https://localhost:8080/"
        },
        "id": "8dbde7db",
        "outputId": "4bc2258a-268a-4cf6-86c7-96f878783fa3"
      },
      "outputs": [
        {
          "name": "stderr",
          "output_type": "stream",
          "text": [
            "Setting `pad_token_id` to `eos_token_id`:50256 for open-end generation.\n"
          ]
        },
        {
          "name": "stdout",
          "output_type": "stream",
          "text": [
            "Tweet Generation :\n",
            "----------------------------------------------------------------------------------------------------\n",
            "La france va devoir être vigilante et reconsidérer sa coopération avec certains pays francophones. ce qui\n",
            "\n",
            "\n",
            "La france doit être à sa place avec la construction d’un barrage à tous les niveaux pour\n",
            "\n",
            "\n",
            "La france doit arrêter l’assassinat du général qassem soleimani par les forces armées\n",
            "\n",
            "\n"
          ]
        }
      ],
      "source": [
        "# set top_k to 20\n",
        "sample_output = model.generate(\n",
        "    input_ids, \n",
        "    do_sample=True, \n",
        "    max_length=20, \n",
        "    top_k=20,\n",
        "    no_repeat_ngram_size=2,\n",
        "    num_return_sequences=3\n",
        ")\n",
        "\n",
        "print(\"Tweet Generation :\\n\" + 100 * '-')\n",
        "\n",
        "for tw in sample_output:\n",
        "    \n",
        "    print(tokenizer.decode(tw, skip_special_tokens=True))\n",
        "    print('\\n')"
      ],
      "id": "8dbde7db"
    },
    {
      "cell_type": "markdown",
      "metadata": {
        "id": "2bb2fd00"
      },
      "source": [
        "#### Top P-sampling"
      ],
      "id": "2bb2fd00"
    },
    {
      "cell_type": "code",
      "execution_count": null,
      "metadata": {
        "colab": {
          "base_uri": "https://localhost:8080/"
        },
        "id": "f8b025d7",
        "outputId": "eace5d93-2efc-422a-ccb3-3bd995720046"
      },
      "outputs": [
        {
          "name": "stderr",
          "output_type": "stream",
          "text": [
            "Setting `pad_token_id` to `eos_token_id`:50256 for open-end generation.\n"
          ]
        },
        {
          "name": "stdout",
          "output_type": "stream",
          "text": [
            "Tweet Generation :\n",
            "----------------------------------------------------------------------------------------------------\n",
            "La france est en situation de blocage économique depuis les traités des français avec la russie et la\n",
            "\n",
            "\n",
            "La france compte aujourd’hui 636 080 habitants, de burkina faso : une\n",
            "\n",
            "\n",
            "La france n’est plus une province. c’était uniquement une nation musulmane. rt\n",
            "\n",
            "\n"
          ]
        }
      ],
      "source": [
        "# sample from the 95% most likely words\n",
        "sample_output = model.generate(\n",
        "    input_ids, \n",
        "    do_sample=True, \n",
        "    max_length=20, \n",
        "    top_p=0.95, \n",
        "    no_repeat_ngram_size=2,\n",
        "    num_return_sequences=3\n",
        ")\n",
        "\n",
        "print(\"Tweet Generation :\\n\" + 100 * '-')\n",
        "\n",
        "for tw in sample_output:\n",
        "    \n",
        "    print(tokenizer.decode(tw, skip_special_tokens=True))\n",
        "    print('\\n')"
      ],
      "id": "f8b025d7"
    },
    {
      "cell_type": "markdown",
      "metadata": {
        "id": "f250c00a"
      },
      "source": [
        "#### Top K + Top N + N-Gram penality"
      ],
      "id": "f250c00a"
    },
    {
      "cell_type": "code",
      "execution_count": null,
      "metadata": {
        "colab": {
          "base_uri": "https://localhost:8080/"
        },
        "id": "8e02c940",
        "outputId": "5eb21e23-809c-4cb2-9396-13c30e24e61f"
      },
      "outputs": [
        {
          "name": "stderr",
          "output_type": "stream",
          "text": [
            "Setting `pad_token_id` to `eos_token_id`:50256 for open-end generation.\n"
          ]
        },
        {
          "name": "stdout",
          "output_type": "stream",
          "text": [
            "Tweet Generation :\n",
            "----------------------------------------------------------------------------------------------------\n",
            "La france est incapable de s’informer face aux crises d’insécurité. nous avons besoin de\n",
            "\n",
            "\n",
            "La france va être plus vigilante et reconsidérer le dialogue israélo-palestinien et les dirigeants\n",
            "\n",
            "\n",
            "La france est en guerre. il n’y a qu’un seul souci. nous devons\n",
            "\n",
            "\n"
          ]
        }
      ],
      "source": [
        "sample_output = model.generate(\n",
        "    input_ids, \n",
        "    do_sample=True, \n",
        "    max_length=20, \n",
        "    top_p=0.95,\n",
        "    top_k=20,\n",
        "    no_repeat_ngram_size=2,\n",
        "    num_return_sequences=3\n",
        ")\n",
        "\n",
        "print(\"Tweet Generation :\\n\" + 100 * '-')\n",
        "\n",
        "for tw in sample_output:\n",
        "    \n",
        "    print(tokenizer.decode(tw, skip_special_tokens=True))\n",
        "    print('\\n')"
      ],
      "id": "8e02c940"
    },
    {
      "cell_type": "markdown",
      "metadata": {
        "id": "21f3870f"
      },
      "source": [
        "We clearly have more diverse results from a generation to another, however it seems that the coherence of the sentences is only marginally improved.\n",
        "We choose this decoding strategy for evaluation."
      ],
      "id": "21f3870f"
    },
    {
      "cell_type": "markdown",
      "metadata": {
        "id": "f820b746"
      },
      "source": [
        "### Complexity"
      ],
      "id": "f820b746"
    },
    {
      "cell_type": "markdown",
      "metadata": {
        "id": "34d0c9d0"
      },
      "source": [
        "#### Inference time"
      ],
      "id": "34d0c9d0"
    },
    {
      "cell_type": "code",
      "execution_count": null,
      "metadata": {
        "id": "1b26a98a",
        "outputId": "dac9eebb-2ae2-429d-aefa-ad3c1367042d"
      },
      "outputs": [
        {
          "name": "stdout",
          "output_type": "stream",
          "text": [
            "Tweet Generation :\n",
            "----------------------------------------------------------------------------------------------------\n"
          ]
        },
        {
          "name": "stderr",
          "output_type": "stream",
          "text": [
            "Setting `pad_token_id` to `eos_token_id`:50256 for open-end generation.\n"
          ]
        },
        {
          "name": "stdout",
          "output_type": "stream",
          "text": [
            "La France est la plus grande puissance d’un pays. nous étions en guerre, le peuple français\n",
            "Generation took 0.5609958171844482 secs\n",
            "\n",
            "\n"
          ]
        },
        {
          "name": "stderr",
          "output_type": "stream",
          "text": [
            "Setting `pad_token_id` to `eos_token_id`:50256 for open-end generation.\n"
          ]
        },
        {
          "name": "stdout",
          "output_type": "stream",
          "text": [
            "La France, c’est l’ukraine. ça va changer. c'est un pays\n",
            "Generation took 0.5660009384155273 secs\n",
            "\n",
            "\n"
          ]
        },
        {
          "name": "stderr",
          "output_type": "stream",
          "text": [
            "Setting `pad_token_id` to `eos_token_id`:50256 for open-end generation.\n"
          ]
        },
        {
          "name": "stdout",
          "output_type": "stream",
          "text": [
            "La France : \"en france, le mali est dans la voie des plus basses ». r\n",
            "Generation took 0.5669987201690674 secs\n",
            "\n",
            "\n"
          ]
        },
        {
          "name": "stderr",
          "output_type": "stream",
          "text": [
            "Setting `pad_token_id` to `eos_token_id`:50256 for open-end generation.\n"
          ]
        },
        {
          "name": "stdout",
          "output_type": "stream",
          "text": [
            "La France, les pays-bas, c… más mejor no sea no están\n",
            "Generation took 0.5599980354309082 secs\n",
            "\n",
            "\n"
          ]
        },
        {
          "name": "stderr",
          "output_type": "stream",
          "text": [
            "Setting `pad_token_id` to `eos_token_id`:50256 for open-end generation.\n"
          ]
        },
        {
          "name": "stdout",
          "output_type": "stream",
          "text": [
            "La France, pays du bien-être! zemmourpatriz demélysa\n",
            "Generation took 0.5609982013702393 secs\n",
            "\n",
            "\n"
          ]
        },
        {
          "name": "stderr",
          "output_type": "stream",
          "text": [
            "Setting `pad_token_id` to `eos_token_id`:50256 for open-end generation.\n"
          ]
        },
        {
          "name": "stdout",
          "output_type": "stream",
          "text": [
            "La France a été une des rares nations à avoir eu un gouvernement de la part des français et des\n",
            "Generation took 0.5600013732910156 secs\n",
            "\n",
            "\n"
          ]
        },
        {
          "name": "stderr",
          "output_type": "stream",
          "text": [
            "Setting `pad_token_id` to `eos_token_id`:50256 for open-end generation.\n"
          ]
        },
        {
          "name": "stdout",
          "output_type": "stream",
          "text": [
            "La France. zemmourlille pouvoirdachat c’est la vie!!! \n",
            "Generation took 0.6120035648345947 secs\n",
            "\n",
            "\n"
          ]
        },
        {
          "name": "stderr",
          "output_type": "stream",
          "text": [
            "Setting `pad_token_id` to `eos_token_id`:50256 for open-end generation.\n"
          ]
        },
        {
          "name": "stdout",
          "output_type": "stream",
          "text": [
            "La France est dans la destruction totale de la république!!! ¿sabías que la\n",
            "Generation took 0.5909981727600098 secs\n",
            "\n",
            "\n"
          ]
        },
        {
          "name": "stderr",
          "output_type": "stream",
          "text": [
            "Setting `pad_token_id` to `eos_token_id`:50256 for open-end generation.\n"
          ]
        },
        {
          "name": "stdout",
          "output_type": "stream",
          "text": [
            "La France se prépare à la guerre dans la nuit. rt 💪�\n",
            "Generation took 0.6019988059997559 secs\n",
            "\n",
            "\n"
          ]
        },
        {
          "name": "stderr",
          "output_type": "stream",
          "text": [
            "Setting `pad_token_id` to `eos_token_id`:50256 for open-end generation.\n"
          ]
        },
        {
          "name": "stdout",
          "output_type": "stream",
          "text": [
            "La France s’en remettra le masque de son pays à l’envers. je suis un\n",
            "Generation took 0.5579991340637207 secs\n",
            "\n",
            "\n"
          ]
        },
        {
          "name": "stderr",
          "output_type": "stream",
          "text": [
            "Setting `pad_token_id` to `eos_token_id`:50256 for open-end generation.\n"
          ]
        },
        {
          "name": "stdout",
          "output_type": "stream",
          "text": [
            "La France veut qu’elle ne devienne un pays-bas. mais ça ne dépend pas de la\n",
            "Generation took 0.5699989795684814 secs\n",
            "\n",
            "\n"
          ]
        },
        {
          "name": "stderr",
          "output_type": "stream",
          "text": [
            "Setting `pad_token_id` to `eos_token_id`:50256 for open-end generation.\n"
          ]
        },
        {
          "name": "stdout",
          "output_type": "stream",
          "text": [
            "La France a mis fin aux « conflits de race ». cela signifie que les noirs n’ont pas\n",
            "Generation took 0.5549993515014648 secs\n",
            "\n",
            "\n"
          ]
        },
        {
          "name": "stderr",
          "output_type": "stream",
          "text": [
            "Setting `pad_token_id` to `eos_token_id`:50256 for open-end generation.\n"
          ]
        },
        {
          "name": "stdout",
          "output_type": "stream",
          "text": [
            "La France est le seul pays à avoir des colonies de merde. ils font la fierté et la\n",
            "Generation took 0.5589969158172607 secs\n",
            "\n",
            "\n"
          ]
        },
        {
          "name": "stderr",
          "output_type": "stream",
          "text": [
            "Setting `pad_token_id` to `eos_token_id`:50256 for open-end generation.\n"
          ]
        },
        {
          "name": "stdout",
          "output_type": "stream",
          "text": [
            "La France en a marre de la violence. les français ne peuvent pas se cacher quand le peuple\n",
            "Generation took 0.5579991340637207 secs\n",
            "\n",
            "\n"
          ]
        },
        {
          "name": "stderr",
          "output_type": "stream",
          "text": [
            "Setting `pad_token_id` to `eos_token_id`:50256 for open-end generation.\n"
          ]
        },
        {
          "name": "stdout",
          "output_type": "stream",
          "text": [
            "La France ne peut pas aider sa voisine, et le monde en a marre de la violence.\n",
            "Generation took 0.5720000267028809 secs\n",
            "\n",
            "\n"
          ]
        },
        {
          "name": "stderr",
          "output_type": "stream",
          "text": [
            "Setting `pad_token_id` to `eos_token_id`:50256 for open-end generation.\n"
          ]
        },
        {
          "name": "stdout",
          "output_type": "stream",
          "text": [
            "La France doit se lever et s'opposer à ce coup d'état, car son pouvoir d\n",
            "Generation took 0.5640010833740234 secs\n",
            "\n",
            "\n"
          ]
        },
        {
          "name": "stderr",
          "output_type": "stream",
          "text": [
            "Setting `pad_token_id` to `eos_token_id`:50256 for open-end generation.\n"
          ]
        },
        {
          "name": "stdout",
          "output_type": "stream",
          "text": [
            "La France, en revanche, est la puissance mondiale de la france, qui s’en est\n",
            "Generation took 0.5619997978210449 secs\n",
            "\n",
            "\n"
          ]
        },
        {
          "name": "stderr",
          "output_type": "stream",
          "text": [
            "Setting `pad_token_id` to `eos_token_id`:50256 for open-end generation.\n"
          ]
        },
        {
          "name": "stdout",
          "output_type": "stream",
          "text": [
            "La France et les autres pays, c'est la faute de notre-mariar et des\n",
            "Generation took 0.5559990406036377 secs\n",
            "\n",
            "\n"
          ]
        },
        {
          "name": "stderr",
          "output_type": "stream",
          "text": [
            "Setting `pad_token_id` to `eos_token_id`:50256 for open-end generation.\n"
          ]
        },
        {
          "name": "stdout",
          "output_type": "stream",
          "text": [
            "La France et la turquie sont à l'œuvre! 😁�\n",
            "Generation took 0.5689985752105713 secs\n",
            "\n",
            "\n"
          ]
        },
        {
          "name": "stderr",
          "output_type": "stream",
          "text": [
            "Setting `pad_token_id` to `eos_token_id`:50256 for open-end generation.\n"
          ]
        },
        {
          "name": "stdout",
          "output_type": "stream",
          "text": [
            "La France a dit ça depuis quelques jours, a été très bien… on ne pourra pas nous dire\n",
            "Generation took 0.6339995861053467 secs\n",
            "\n",
            "\n"
          ]
        },
        {
          "name": "stderr",
          "output_type": "stream",
          "text": [
            "Setting `pad_token_id` to `eos_token_id`:50256 for open-end generation.\n"
          ]
        },
        {
          "name": "stdout",
          "output_type": "stream",
          "text": [
            "La France et les pays arabes se font passer pour l'occident ou l’europe. le\n",
            "Generation took 0.5729973316192627 secs\n",
            "\n",
            "\n"
          ]
        },
        {
          "name": "stderr",
          "output_type": "stream",
          "text": [
            "Setting `pad_token_id` to `eos_token_id`:50256 for open-end generation.\n"
          ]
        },
        {
          "name": "stdout",
          "output_type": "stream",
          "text": [
            "La France doit se lever et le monde entier s’opposer à ce coup d'état. le\n",
            "Generation took 0.5759990215301514 secs\n",
            "\n",
            "\n"
          ]
        },
        {
          "name": "stderr",
          "output_type": "stream",
          "text": [
            "Setting `pad_token_id` to `eos_token_id`:50256 for open-end generation.\n"
          ]
        },
        {
          "name": "stdout",
          "output_type": "stream",
          "text": [
            "La France a besoin d'un bon président pour préserver notre souveraineté, son rayonnement, notre cohésion et\n",
            "Generation took 0.5629992485046387 secs\n",
            "\n",
            "\n"
          ]
        },
        {
          "name": "stderr",
          "output_type": "stream",
          "text": [
            "Setting `pad_token_id` to `eos_token_id`:50256 for open-end generation.\n"
          ]
        },
        {
          "name": "stdout",
          "output_type": "stream",
          "text": [
            "La France ne peut plus abandonner l’esclavage, le mali… le ministre des affaires étrangères,\n",
            "Generation took 0.5629982948303223 secs\n",
            "\n",
            "\n"
          ]
        },
        {
          "name": "stderr",
          "output_type": "stream",
          "text": [
            "Setting `pad_token_id` to `eos_token_id`:50256 for open-end generation.\n"
          ]
        },
        {
          "name": "stdout",
          "output_type": "stream",
          "text": [
            "La France. je suis guéri. c’est la faute. 👍�\n",
            "Generation took 0.5599989891052246 secs\n",
            "\n",
            "\n"
          ]
        },
        {
          "name": "stderr",
          "output_type": "stream",
          "text": [
            "Setting `pad_token_id` to `eos_token_id`:50256 for open-end generation.\n"
          ]
        },
        {
          "name": "stdout",
          "output_type": "stream",
          "text": [
            "La France a besoin de plus de moyens et d’autres moyens que nous pour venir défendre nos paysages\n",
            "Generation took 0.5559980869293213 secs\n",
            "\n",
            "\n"
          ]
        },
        {
          "name": "stderr",
          "output_type": "stream",
          "text": [
            "Setting `pad_token_id` to `eos_token_id`:50256 for open-end generation.\n"
          ]
        },
        {
          "name": "stdout",
          "output_type": "stream",
          "text": [
            "La France n’a pas les moyens d’organiser les élections présidentielles. le peuple malien doit\n",
            "Generation took 0.5899989604949951 secs\n",
            "\n",
            "\n"
          ]
        },
        {
          "name": "stderr",
          "output_type": "stream",
          "text": [
            "Setting `pad_token_id` to `eos_token_id`:50256 for open-end generation.\n"
          ]
        },
        {
          "name": "stdout",
          "output_type": "stream",
          "text": [
            "La France à la fin. je m’accorde a dire que c’est normal qu’on\n",
            "Generation took 0.5549986362457275 secs\n",
            "\n",
            "\n"
          ]
        },
        {
          "name": "stderr",
          "output_type": "stream",
          "text": [
            "Setting `pad_token_id` to `eos_token_id`:50256 for open-end generation.\n"
          ]
        },
        {
          "name": "stdout",
          "output_type": "stream",
          "text": [
            "La France a besoin de toutes les moyens de défendre son territoire. ce sont les forces internationales qui interviennent\n",
            "Generation took 0.5639984607696533 secs\n",
            "\n",
            "\n"
          ]
        },
        {
          "name": "stderr",
          "output_type": "stream",
          "text": [
            "Setting `pad_token_id` to `eos_token_id`:50256 for open-end generation.\n"
          ]
        },
        {
          "name": "stdout",
          "output_type": "stream",
          "text": [
            "La France. a l’heure, un seul pays ne sera pas dans une situation de guerre civile\n",
            "Generation took 0.5539984703063965 secs\n",
            "\n",
            "\n"
          ]
        },
        {
          "name": "stderr",
          "output_type": "stream",
          "text": [
            "Setting `pad_token_id` to `eos_token_id`:50256 for open-end generation.\n"
          ]
        },
        {
          "name": "stdout",
          "output_type": "stream",
          "text": [
            "La France a besoin de plus d’énergie pour soutenir les agriculteurs. je ne suis pas anti-\n",
            "Generation took 0.538999080657959 secs\n",
            "\n",
            "\n"
          ]
        },
        {
          "name": "stderr",
          "output_type": "stream",
          "text": [
            "Setting `pad_token_id` to `eos_token_id`:50256 for open-end generation.\n"
          ]
        },
        {
          "name": "stdout",
          "output_type": "stream",
          "text": [
            "La France a toujours attendu que les forces internationales quittent l'europe. c'est vrai qu\n",
            "Generation took 0.5690016746520996 secs\n",
            "\n",
            "\n"
          ]
        },
        {
          "name": "stderr",
          "output_type": "stream",
          "text": [
            "Setting `pad_token_id` to `eos_token_id`:50256 for open-end generation.\n"
          ]
        },
        {
          "name": "stdout",
          "output_type": "stream",
          "text": [
            "La France doit nous aider. faceabfm  🤔 i wanted\n",
            "Generation took 0.5969991683959961 secs\n",
            "\n",
            "\n"
          ]
        },
        {
          "name": "stderr",
          "output_type": "stream",
          "text": [
            "Setting `pad_token_id` to `eos_token_id`:50256 for open-end generation.\n"
          ]
        },
        {
          "name": "stdout",
          "output_type": "stream",
          "text": [
            "La France. 🤣� ahaha oui, c’est un\n",
            "Generation took 0.5529985427856445 secs\n",
            "\n",
            "\n"
          ]
        },
        {
          "name": "stderr",
          "output_type": "stream",
          "text": [
            "Setting `pad_token_id` to `eos_token_id`:50256 for open-end generation.\n"
          ]
        },
        {
          "name": "stdout",
          "output_type": "stream",
          "text": [
            "La France à l’étranger :) je vous souhaite que les français s’en reviennent, à\n",
            "Generation took 0.584998607635498 secs\n",
            "\n",
            "\n"
          ]
        },
        {
          "name": "stderr",
          "output_type": "stream",
          "text": [
            "Setting `pad_token_id` to `eos_token_id`:50256 for open-end generation.\n"
          ]
        },
        {
          "name": "stdout",
          "output_type": "stream",
          "text": [
            "La France et le fascisme en afrique : il faut arrêter ce coup d'état. le monde\n",
            "Generation took 0.6019988059997559 secs\n",
            "\n",
            "\n"
          ]
        },
        {
          "name": "stderr",
          "output_type": "stream",
          "text": [
            "Setting `pad_token_id` to `eos_token_id`:50256 for open-end generation.\n"
          ]
        },
        {
          "name": "stdout",
          "output_type": "stream",
          "text": [
            "La France est une terre ferme. vous êtes dans un pays de merde. je ne suis pas\n",
            "Generation took 0.5809981822967529 secs\n",
            "\n",
            "\n"
          ]
        },
        {
          "name": "stderr",
          "output_type": "stream",
          "text": [
            "Setting `pad_token_id` to `eos_token_id`:50256 for open-end generation.\n"
          ]
        },
        {
          "name": "stdout",
          "output_type": "stream",
          "text": [
            "La France a fait barrage, il a eu des conséquences sur les autres pays, sur la planète entière\n",
            "Generation took 0.5689997673034668 secs\n",
            "\n",
            "\n"
          ]
        },
        {
          "name": "stderr",
          "output_type": "stream",
          "text": [
            "Setting `pad_token_id` to `eos_token_id`:50256 for open-end generation.\n"
          ]
        },
        {
          "name": "stdout",
          "output_type": "stream",
          "text": [
            "La France est un peuple de la république française... lwili tl226 mgr rash\n",
            "Generation took 0.6100006103515625 secs\n",
            "\n",
            "\n"
          ]
        },
        {
          "name": "stderr",
          "output_type": "stream",
          "text": [
            "Setting `pad_token_id` to `eos_token_id`:50256 for open-end generation.\n"
          ]
        },
        {
          "name": "stdout",
          "output_type": "stream",
          "text": [
            "La France. les français c ont le pouvoir, la responsabilité, le devoir de défendre la paix.\n",
            "Generation took 0.5809998512268066 secs\n",
            "\n",
            "\n"
          ]
        },
        {
          "name": "stderr",
          "output_type": "stream",
          "text": [
            "Setting `pad_token_id` to `eos_token_id`:50256 for open-end generation.\n"
          ]
        },
        {
          "name": "stdout",
          "output_type": "stream",
          "text": [
            "La France va être mieux avec nous. le covid19bf lwili rt si la\n",
            "Generation took 0.5669996738433838 secs\n",
            "\n",
            "\n"
          ]
        },
        {
          "name": "stderr",
          "output_type": "stream",
          "text": [
            "Setting `pad_token_id` to `eos_token_id`:50256 for open-end generation.\n"
          ]
        },
        {
          "name": "stdout",
          "output_type": "stream",
          "text": [
            "La France est une terreau mais c est le pays la plus grande. c’est la fran\n",
            "Generation took 0.6119961738586426 secs\n",
            "\n",
            "\n"
          ]
        },
        {
          "name": "stderr",
          "output_type": "stream",
          "text": [
            "Setting `pad_token_id` to `eos_token_id`:50256 for open-end generation.\n"
          ]
        },
        {
          "name": "stdout",
          "output_type": "stream",
          "text": [
            "La France ne peut plus prendre le risque d’être plus vigilant face à ces putschistes.\n",
            "Generation took 0.5829989910125732 secs\n",
            "\n",
            "\n"
          ]
        },
        {
          "name": "stderr",
          "output_type": "stream",
          "text": [
            "Setting `pad_token_id` to `eos_token_id`:50256 for open-end generation.\n"
          ]
        },
        {
          "name": "stdout",
          "output_type": "stream",
          "text": [
            "La France est la première puissance d'un état souverain, la seule puissance française, à disposer de\n",
            "Generation took 0.569998025894165 secs\n",
            "\n",
            "\n"
          ]
        },
        {
          "name": "stderr",
          "output_type": "stream",
          "text": [
            "Setting `pad_token_id` to `eos_token_id`:50256 for open-end generation.\n"
          ]
        },
        {
          "name": "stdout",
          "output_type": "stream",
          "text": [
            "La France n’est plus à notre portée depuis les années 80. notre capacité de travail est passée\n",
            "Generation took 0.5659976005554199 secs\n",
            "\n",
            "\n"
          ]
        },
        {
          "name": "stderr",
          "output_type": "stream",
          "text": [
            "Setting `pad_token_id` to `eos_token_id`:50256 for open-end generation.\n"
          ]
        },
        {
          "name": "stdout",
          "output_type": "stream",
          "text": [
            "La France, la france ou la macronelle? le pays a été mis en danger par\n",
            "Generation took 0.5639982223510742 secs\n",
            "\n",
            "\n"
          ]
        },
        {
          "name": "stderr",
          "output_type": "stream",
          "text": [
            "Setting `pad_token_id` to `eos_token_id`:50256 for open-end generation.\n"
          ]
        },
        {
          "name": "stdout",
          "output_type": "stream",
          "text": [
            "La France a le choix des militaires putschistes qui vont pouvoir pouvoir défendre le mali, en s\n",
            "Generation took 0.5759985446929932 secs\n",
            "\n",
            "\n"
          ]
        },
        {
          "name": "stderr",
          "output_type": "stream",
          "text": [
            "Setting `pad_token_id` to `eos_token_id`:50256 for open-end generation.\n"
          ]
        },
        {
          "name": "stdout",
          "output_type": "stream",
          "text": [
            "La France est le seul pays où la france n'est plus la puissance publique. zemm\n",
            "Generation took 0.5410006046295166 secs\n",
            "\n",
            "\n"
          ]
        },
        {
          "name": "stderr",
          "output_type": "stream",
          "text": [
            "Setting `pad_token_id` to `eos_token_id`:50256 for open-end generation.\n"
          ]
        },
        {
          "name": "stdout",
          "output_type": "stream",
          "text": [
            "La France a dit « la sécurité a pris un tournant » et « l’afghanistan doit être\n",
            "Generation took 0.5679993629455566 secs\n",
            "\n",
            "\n"
          ]
        },
        {
          "name": "stderr",
          "output_type": "stream",
          "text": [
            "Setting `pad_token_id` to `eos_token_id`:50256 for open-end generation.\n"
          ]
        },
        {
          "name": "stdout",
          "output_type": "stream",
          "text": [
            "La France n’est pas la france! le monde en a marre de la violence!\n",
            "Generation took 0.5619988441467285 secs\n",
            "\n",
            "\n"
          ]
        },
        {
          "name": "stderr",
          "output_type": "stream",
          "text": [
            "Setting `pad_token_id` to `eos_token_id`:50256 for open-end generation.\n"
          ]
        },
        {
          "name": "stdout",
          "output_type": "stream",
          "text": [
            "La France. les américains ne doivent pas s'attaquer au nucléaire français. nous devons aussi protéger nos\n",
            "Generation took 0.5639960765838623 secs\n",
            "\n",
            "\n"
          ]
        },
        {
          "name": "stderr",
          "output_type": "stream",
          "text": [
            "Setting `pad_token_id` to `eos_token_id`:50256 for open-end generation.\n"
          ]
        },
        {
          "name": "stdout",
          "output_type": "stream",
          "text": [
            "La France. c’est quoi que tu veux? le président du faso doit être au courant\n",
            "Generation took 0.5509989261627197 secs\n",
            "\n",
            "\n"
          ]
        },
        {
          "name": "stderr",
          "output_type": "stream",
          "text": [
            "Setting `pad_token_id` to `eos_token_id`:50256 for open-end generation.\n"
          ]
        },
        {
          "name": "stdout",
          "output_type": "stream",
          "text": [
            "La France n’a pas réussi. l’ukraine est mal partie. la france a\n",
            "Generation took 0.5779979228973389 secs\n",
            "\n",
            "\n"
          ]
        },
        {
          "name": "stderr",
          "output_type": "stream",
          "text": [
            "Setting `pad_token_id` to `eos_token_id`:50256 for open-end generation.\n"
          ]
        },
        {
          "name": "stdout",
          "output_type": "stream",
          "text": [
            "La France a la paix et la sécurité. nous serons pour le maintien de la prospérité. je\n",
            "Generation took 0.5759990215301514 secs\n",
            "\n",
            "\n"
          ]
        },
        {
          "name": "stderr",
          "output_type": "stream",
          "text": [
            "Setting `pad_token_id` to `eos_token_id`:50256 for open-end generation.\n"
          ]
        },
        {
          "name": "stdout",
          "output_type": "stream",
          "text": [
            "La France c est des hommes et des femmes qui ont la nationalité française... 🔴\n",
            "Generation took 0.5679986476898193 secs\n",
            "\n",
            "\n"
          ]
        },
        {
          "name": "stderr",
          "output_type": "stream",
          "text": [
            "Setting `pad_token_id` to `eos_token_id`:50256 for open-end generation.\n"
          ]
        },
        {
          "name": "stdout",
          "output_type": "stream",
          "text": [
            "La France a la plus grande culture du foot de tous les temps, et la honte à l'\n",
            "Generation took 0.5539977550506592 secs\n",
            "\n",
            "\n"
          ]
        },
        {
          "name": "stderr",
          "output_type": "stream",
          "text": [
            "Setting `pad_token_id` to `eos_token_id`:50256 for open-end generation.\n"
          ]
        },
        {
          "name": "stdout",
          "output_type": "stream",
          "text": [
            "La France a dit que le nucléaire est un danger. je suis d'accord. l'eur\n",
            "Generation took 0.5590004920959473 secs\n",
            "\n",
            "\n"
          ]
        },
        {
          "name": "stderr",
          "output_type": "stream",
          "text": [
            "Setting `pad_token_id` to `eos_token_id`:50256 for open-end generation.\n"
          ]
        },
        {
          "name": "stdout",
          "output_type": "stream",
          "text": [
            "La France a besoin de vous pour… le pire c'est une vraie guerre mondiale �\n",
            "Generation took 0.5509982109069824 secs\n",
            "\n",
            "\n"
          ]
        },
        {
          "name": "stderr",
          "output_type": "stream",
          "text": [
            "Setting `pad_token_id` to `eos_token_id`:50256 for open-end generation.\n"
          ]
        },
        {
          "name": "stdout",
          "output_type": "stream",
          "text": [
            "La France a perdu ses forces depuis le 1er tour. zemmourcollineducrack\n",
            "Generation took 0.5589981079101562 secs\n",
            "\n",
            "\n"
          ]
        },
        {
          "name": "stderr",
          "output_type": "stream",
          "text": [
            "Setting `pad_token_id` to `eos_token_id`:50256 for open-end generation.\n"
          ]
        },
        {
          "name": "stdout",
          "output_type": "stream",
          "text": [
            "La France, l'ue et le maroc, le mali sont de parfaits idiots. je\n",
            "Generation took 0.5619995594024658 secs\n",
            "\n",
            "\n"
          ]
        },
        {
          "name": "stderr",
          "output_type": "stream",
          "text": [
            "Setting `pad_token_id` to `eos_token_id`:50256 for open-end generation.\n"
          ]
        },
        {
          "name": "stdout",
          "output_type": "stream",
          "text": [
            "La France est incapable de trouver de quoi en faire sa place pour un peuple français. les politiciens français\n",
            "Generation took 0.5749988555908203 secs\n",
            "\n",
            "\n"
          ]
        },
        {
          "name": "stderr",
          "output_type": "stream",
          "text": [
            "Setting `pad_token_id` to `eos_token_id`:50256 for open-end generation.\n"
          ]
        },
        {
          "name": "stdout",
          "output_type": "stream",
          "text": [
            "La France est le président de tous les pays. le peuple français, c est la france.\n",
            "Generation took 0.5699982643127441 secs\n",
            "\n",
            "\n"
          ]
        },
        {
          "name": "stderr",
          "output_type": "stream",
          "text": [
            "Setting `pad_token_id` to `eos_token_id`:50256 for open-end generation.\n"
          ]
        },
        {
          "name": "stdout",
          "output_type": "stream",
          "text": [
            "La France ne peut plus faire de guerre. ce qui est sûr est que la france ne sera\n",
            "Generation took 0.5449967384338379 secs\n",
            "\n",
            "\n"
          ]
        },
        {
          "name": "stderr",
          "output_type": "stream",
          "text": [
            "Setting `pad_token_id` to `eos_token_id`:50256 for open-end generation.\n"
          ]
        },
        {
          "name": "stdout",
          "output_type": "stream",
          "text": [
            "La France n’a plus besoin de tout ce qu’on dit. 😎\n",
            "Generation took 0.5569968223571777 secs\n",
            "\n",
            "\n"
          ]
        },
        {
          "name": "stderr",
          "output_type": "stream",
          "text": [
            "Setting `pad_token_id` to `eos_token_id`:50256 for open-end generation.\n"
          ]
        },
        {
          "name": "stdout",
          "output_type": "stream",
          "text": [
            "La France a donné ses preuves sur le plan de contrôle d'intérêts. le peuple a besoin de\n",
            "Generation took 0.5919992923736572 secs\n",
            "\n",
            "\n"
          ]
        },
        {
          "name": "stderr",
          "output_type": "stream",
          "text": [
            "Setting `pad_token_id` to `eos_token_id`:50256 for open-end generation.\n"
          ]
        },
        {
          "name": "stdout",
          "output_type": "stream",
          "text": [
            "La France a besoin de votre appui pour aider la paix et la prospérité mondiale. c'est l\n",
            "Generation took 0.5809957981109619 secs\n",
            "\n",
            "\n"
          ]
        },
        {
          "name": "stderr",
          "output_type": "stream",
          "text": [
            "Setting `pad_token_id` to `eos_token_id`:50256 for open-end generation.\n"
          ]
        },
        {
          "name": "stdout",
          "output_type": "stream",
          "text": [
            "La France doit nous faire barrage contre cette épidémie mondiale. le plan de relance pour les femmes et les\n",
            "Generation took 0.5599980354309082 secs\n",
            "\n",
            "\n"
          ]
        },
        {
          "name": "stderr",
          "output_type": "stream",
          "text": [
            "Setting `pad_token_id` to `eos_token_id`:50256 for open-end generation.\n"
          ]
        },
        {
          "name": "stdout",
          "output_type": "stream",
          "text": [
            "La France ne doit pas le prendre en compte. le monde en a marre de la violence.\n",
            "Generation took 0.562997579574585 secs\n",
            "\n",
            "\n"
          ]
        },
        {
          "name": "stderr",
          "output_type": "stream",
          "text": [
            "Setting `pad_token_id` to `eos_token_id`:50256 for open-end generation.\n"
          ]
        },
        {
          "name": "stdout",
          "output_type": "stream",
          "text": [
            "La France n’a qu’un seul niveau de compétence et de discipline. on peut pas parler\n",
            "Generation took 0.5559995174407959 secs\n",
            "\n",
            "\n"
          ]
        },
        {
          "name": "stderr",
          "output_type": "stream",
          "text": [
            "Setting `pad_token_id` to `eos_token_id`:50256 for open-end generation.\n"
          ]
        },
        {
          "name": "stdout",
          "output_type": "stream",
          "text": [
            "La France c'est l'ukraine qui a la plus grande souveraineté sur notre territoire. ce\n",
            "Generation took 0.55999755859375 secs\n",
            "\n",
            "\n"
          ]
        },
        {
          "name": "stderr",
          "output_type": "stream",
          "text": [
            "Setting `pad_token_id` to `eos_token_id`:50256 for open-end generation.\n"
          ]
        },
        {
          "name": "stdout",
          "output_type": "stream",
          "text": [
            "La France a besoin de beaucoup de moyens financiers pour s'assurer que la souveraineté de l'état\n",
            "Generation took 0.5649998188018799 secs\n",
            "\n",
            "\n"
          ]
        },
        {
          "name": "stderr",
          "output_type": "stream",
          "text": [
            "Setting `pad_token_id` to `eos_token_id`:50256 for open-end generation.\n"
          ]
        },
        {
          "name": "stdout",
          "output_type": "stream",
          "text": [
            "La France peut être la meilleure puissance d’un continent occidental. je vote l’ex-d\n",
            "Generation took 0.5539999008178711 secs\n",
            "\n",
            "\n"
          ]
        },
        {
          "name": "stderr",
          "output_type": "stream",
          "text": [
            "Setting `pad_token_id` to `eos_token_id`:50256 for open-end generation.\n"
          ]
        },
        {
          "name": "stdout",
          "output_type": "stream",
          "text": [
            "La France a perdu un espoir d’un avenir sans nous. il faut que vous, le prochain\n",
            "Generation took 0.5449979305267334 secs\n",
            "\n",
            "\n"
          ]
        },
        {
          "name": "stderr",
          "output_type": "stream",
          "text": [
            "Setting `pad_token_id` to `eos_token_id`:50256 for open-end generation.\n"
          ]
        },
        {
          "name": "stdout",
          "output_type": "stream",
          "text": [
            "La France doit arrêter le coup d’etat qui sert d'assault aux forces armées putsch\n",
            "Generation took 0.545997142791748 secs\n",
            "\n",
            "\n"
          ]
        },
        {
          "name": "stderr",
          "output_type": "stream",
          "text": [
            "Setting `pad_token_id` to `eos_token_id`:50256 for open-end generation.\n"
          ]
        },
        {
          "name": "stdout",
          "output_type": "stream",
          "text": [
            "La France et les pays francophones ont été à l’œuvre de certains responsables politiques et politiques locaux.\n",
            "Generation took 0.548999547958374 secs\n",
            "\n",
            "\n"
          ]
        },
        {
          "name": "stderr",
          "output_type": "stream",
          "text": [
            "Setting `pad_token_id` to `eos_token_id`:50256 for open-end generation.\n"
          ]
        },
        {
          "name": "stdout",
          "output_type": "stream",
          "text": [
            "La France a besoin de la paix et de l'amour. zemmourlille pouvoird\n",
            "Generation took 0.5540032386779785 secs\n",
            "\n",
            "\n"
          ]
        },
        {
          "name": "stderr",
          "output_type": "stream",
          "text": [
            "Setting `pad_token_id` to `eos_token_id`:50256 for open-end generation.\n"
          ]
        },
        {
          "name": "stdout",
          "output_type": "stream",
          "text": [
            "La France et les autres pays qui n’ont pas des moyens pour leur faire. c’est\n",
            "Generation took 0.5569987297058105 secs\n",
            "\n",
            "\n"
          ]
        },
        {
          "name": "stderr",
          "output_type": "stream",
          "text": [
            "Setting `pad_token_id` to `eos_token_id`:50256 for open-end generation.\n"
          ]
        },
        {
          "name": "stdout",
          "output_type": "stream",
          "text": [
            "La France n’aura jamais connu le grand scandale de la dictature. nous sommes d’accord.\n",
            "Generation took 0.5499939918518066 secs\n",
            "\n",
            "\n"
          ]
        },
        {
          "name": "stderr",
          "output_type": "stream",
          "text": [
            "Setting `pad_token_id` to `eos_token_id`:50256 for open-end generation.\n"
          ]
        },
        {
          "name": "stdout",
          "output_type": "stream",
          "text": [
            "La France est devenue une terre d’amérique. ce sont les français qui ont la capacité de\n",
            "Generation took 0.5620009899139404 secs\n",
            "\n",
            "\n"
          ]
        },
        {
          "name": "stderr",
          "output_type": "stream",
          "text": [
            "Setting `pad_token_id` to `eos_token_id`:50256 for open-end generation.\n"
          ]
        },
        {
          "name": "stdout",
          "output_type": "stream",
          "text": [
            "La France veut faire barrage, elle veut pas les laisser passer. la france veut la fin.\n",
            "Generation took 0.5659987926483154 secs\n",
            "\n",
            "\n"
          ]
        },
        {
          "name": "stderr",
          "output_type": "stream",
          "text": [
            "Setting `pad_token_id` to `eos_token_id`:50256 for open-end generation.\n"
          ]
        },
        {
          "name": "stdout",
          "output_type": "stream",
          "text": [
            "La France n’a pas de france. vous le faitesz vous aussi de pays étrangers?\n",
            "Generation took 0.5519988536834717 secs\n",
            "\n",
            "\n"
          ]
        },
        {
          "name": "stderr",
          "output_type": "stream",
          "text": [
            "Setting `pad_token_id` to `eos_token_id`:50256 for open-end generation.\n"
          ]
        },
        {
          "name": "stdout",
          "output_type": "stream",
          "text": [
            "La France a besoin de une aide alimentaire et d’innovation. pourquoi ne pas les aider? l\n",
            "Generation took 0.5649971961975098 secs\n",
            "\n",
            "\n"
          ]
        },
        {
          "name": "stderr",
          "output_type": "stream",
          "text": [
            "Setting `pad_token_id` to `eos_token_id`:50256 for open-end generation.\n"
          ]
        },
        {
          "name": "stdout",
          "output_type": "stream",
          "text": [
            "La France. c’est quoi ça??? j'aime une vidéo : \"peu\n",
            "Generation took 0.5449991226196289 secs\n",
            "\n",
            "\n"
          ]
        },
        {
          "name": "stderr",
          "output_type": "stream",
          "text": [
            "Setting `pad_token_id` to `eos_token_id`:50256 for open-end generation.\n"
          ]
        },
        {
          "name": "stdout",
          "output_type": "stream",
          "text": [
            "La France c'est une terre à terre, une nation où la plupart de ces gens veulent vivre\n",
            "Generation took 0.5579991340637207 secs\n",
            "\n",
            "\n"
          ]
        },
        {
          "name": "stderr",
          "output_type": "stream",
          "text": [
            "Setting `pad_token_id` to `eos_token_id`:50256 for open-end generation.\n"
          ]
        },
        {
          "name": "stdout",
          "output_type": "stream",
          "text": [
            "La France ne veut pas faire de la russie, de l'ukraine, des pays baltes\n",
            "Generation took 0.5629985332489014 secs\n",
            "\n",
            "\n"
          ]
        },
        {
          "name": "stderr",
          "output_type": "stream",
          "text": [
            "Setting `pad_token_id` to `eos_token_id`:50256 for open-end generation.\n"
          ]
        },
        {
          "name": "stdout",
          "output_type": "stream",
          "text": [
            "La France ne peut pas se permettre d’être une république en marche. c’est une nécessité\n",
            "Generation took 0.5539991855621338 secs\n",
            "\n",
            "\n"
          ]
        },
        {
          "name": "stderr",
          "output_type": "stream",
          "text": [
            "Setting `pad_token_id` to `eos_token_id`:50256 for open-end generation.\n"
          ]
        },
        {
          "name": "stdout",
          "output_type": "stream",
          "text": [
            "La France est dans une guerre civile. ce sont les pays-bas qui se battent, qui chercher\n",
            "Generation took 0.5629980564117432 secs\n",
            "\n",
            "\n"
          ]
        },
        {
          "name": "stderr",
          "output_type": "stream",
          "text": [
            "Setting `pad_token_id` to `eos_token_id`:50256 for open-end generation.\n"
          ]
        },
        {
          "name": "stdout",
          "output_type": "stream",
          "text": [
            "La France est l’un des rares pays au monde où l'on est prêt à s’\n",
            "Generation took 0.5559995174407959 secs\n",
            "\n",
            "\n"
          ]
        },
        {
          "name": "stderr",
          "output_type": "stream",
          "text": [
            "Setting `pad_token_id` to `eos_token_id`:50256 for open-end generation.\n"
          ]
        },
        {
          "name": "stdout",
          "output_type": "stream",
          "text": [
            "La France a besoin du rn pour faire fonctionner ce projet de déontologie et de contrôle du\n",
            "Generation took 0.5619931221008301 secs\n",
            "\n",
            "\n"
          ]
        },
        {
          "name": "stderr",
          "output_type": "stream",
          "text": [
            "Setting `pad_token_id` to `eos_token_id`:50256 for open-end generation.\n"
          ]
        },
        {
          "name": "stdout",
          "output_type": "stream",
          "text": [
            "La France a pris l'initiative de nous mettre en place un document électoral. il y a une\n",
            "Generation took 0.5559983253479004 secs\n",
            "\n",
            "\n"
          ]
        },
        {
          "name": "stderr",
          "output_type": "stream",
          "text": [
            "Setting `pad_token_id` to `eos_token_id`:50256 for open-end generation.\n"
          ]
        },
        {
          "name": "stdout",
          "output_type": "stream",
          "text": [
            "La France peut se mettre d'accord avec elle, mais ce n'est pas le cas pour\n",
            "Generation took 0.5489988327026367 secs\n",
            "\n",
            "\n"
          ]
        },
        {
          "name": "stderr",
          "output_type": "stream",
          "text": [
            "Setting `pad_token_id` to `eos_token_id`:50256 for open-end generation.\n"
          ]
        },
        {
          "name": "stdout",
          "output_type": "stream",
          "text": [
            "La France. le monde en a marre de la violence. 🤷�\n",
            "Generation took 0.5549979209899902 secs\n",
            "\n",
            "\n"
          ]
        },
        {
          "name": "stderr",
          "output_type": "stream",
          "text": [
            "Setting `pad_token_id` to `eos_token_id`:50256 for open-end generation.\n"
          ]
        },
        {
          "name": "stdout",
          "output_type": "stream",
          "text": [
            "La France est la puissance, l’énergie, le puissance. et l'énergie nous fait pour\n",
            "Generation took 0.5589985847473145 secs\n",
            "\n",
            "\n"
          ]
        },
        {
          "name": "stderr",
          "output_type": "stream",
          "text": [
            "Setting `pad_token_id` to `eos_token_id`:50256 for open-end generation.\n"
          ]
        },
        {
          "name": "stdout",
          "output_type": "stream",
          "text": [
            "La France a besoin de la paix et de l'espérance.  lwili tl226\n",
            "Generation took 0.5459980964660645 secs\n",
            "\n",
            "\n"
          ]
        },
        {
          "name": "stderr",
          "output_type": "stream",
          "text": [
            "Setting `pad_token_id` to `eos_token_id`:50256 for open-end generation.\n"
          ]
        },
        {
          "name": "stdout",
          "output_type": "stream",
          "text": [
            "La France est en guerre civile. le pays ne doit pas se ranger dans une russie. il\n",
            "Generation took 0.5529978275299072 secs\n",
            "\n",
            "\n"
          ]
        },
        {
          "name": "stderr",
          "output_type": "stream",
          "text": [
            "Setting `pad_token_id` to `eos_token_id`:50256 for open-end generation.\n"
          ]
        },
        {
          "name": "stdout",
          "output_type": "stream",
          "text": [
            "La France a une chance d'être la nation la plus indépendante et la deuxième plus grande puissance mondiale\n",
            "Generation took 0.5639986991882324 secs\n",
            "\n",
            "\n"
          ]
        },
        {
          "name": "stderr",
          "output_type": "stream",
          "text": [
            "Setting `pad_token_id` to `eos_token_id`:50256 for open-end generation.\n"
          ]
        },
        {
          "name": "stdout",
          "output_type": "stream",
          "text": [
            "La France a besoin de nous! jevotezemmourle10avril rt lol\n",
            "Generation took 0.5579984188079834 secs\n",
            "\n",
            "\n"
          ]
        },
        {
          "name": "stderr",
          "output_type": "stream",
          "text": [
            "Setting `pad_token_id` to `eos_token_id`:50256 for open-end generation.\n"
          ]
        },
        {
          "name": "stdout",
          "output_type": "stream",
          "text": [
            "La France : il faut arrêter l’immigration. ce qui est sûr et certain, c’est\n",
            "Generation took 0.5479967594146729 secs\n",
            "\n",
            "\n"
          ]
        },
        {
          "name": "stderr",
          "output_type": "stream",
          "text": [
            "Setting `pad_token_id` to `eos_token_id`:50256 for open-end generation.\n"
          ]
        },
        {
          "name": "stdout",
          "output_type": "stream",
          "text": [
            "La France est dans le choc pétrolier et il doit cesser d’avoir les mêmes mesures que nous.\n",
            "Generation took 0.5489969253540039 secs\n",
            "\n",
            "\n"
          ]
        },
        {
          "name": "stderr",
          "output_type": "stream",
          "text": [
            "Setting `pad_token_id` to `eos_token_id`:50256 for open-end generation.\n"
          ]
        },
        {
          "name": "stdout",
          "output_type": "stream",
          "text": [
            "La France ne s’en a pas compris. vous êtes sur le point. la france ne\n",
            "Generation took 0.5609989166259766 secs\n",
            "\n",
            "\n"
          ]
        }
      ],
      "source": [
        "t_list = list()\n",
        "print(\"Tweet Generation :\\n\" + 100 * '-')\n",
        "for i in range(100):\n",
        "    \n",
        "    input_ids = tokenizer.encode(\"La France\",return_tensors='pt')\n",
        "    t1=time()\n",
        "    sample_output = model.generate(\n",
        "        input_ids, \n",
        "        do_sample=True, \n",
        "        max_length=20, \n",
        "        top_p=0.95,\n",
        "        top_k=20,\n",
        "        no_repeat_ngram_size=2,\n",
        "        num_return_sequences=1\n",
        "    )\n",
        "    t2=time()\n",
        "    inf_time = t2-t1\n",
        "    t_list.append(inf_time)\n",
        "    \n",
        "\n",
        "    for tw in sample_output:\n",
        "        print(tokenizer.decode(tw, skip_special_tokens=True))\n",
        "        print('Generation took {} secs'.format(inf_time))\n",
        "        print('\\n')"
      ],
      "id": "1b26a98a"
    },
    {
      "cell_type": "code",
      "execution_count": null,
      "metadata": {
        "id": "33def1f2",
        "outputId": "4a6482d7-9b62-465c-f2ca-4043231fc952"
      },
      "outputs": [
        {
          "data": {
            "text/plain": [
              "56.530866384506226"
            ]
          },
          "execution_count": 65,
          "metadata": {},
          "output_type": "execute_result"
        }
      ],
      "source": [
        "sum(t_list)"
      ],
      "id": "33def1f2"
    },
    {
      "cell_type": "markdown",
      "metadata": {
        "id": "77f9d205"
      },
      "source": [
        "#### Parameters"
      ],
      "id": "77f9d205"
    },
    {
      "cell_type": "code",
      "execution_count": null,
      "metadata": {
        "id": "45ab00be",
        "outputId": "3b2e8fc0-25d9-442a-e503-175423b9239e"
      },
      "outputs": [
        {
          "data": {
            "text/plain": [
              "GPT2LMHeadModel(\n",
              "  (transformer): GPT2Model(\n",
              "    (wte): Embedding(50257, 768)\n",
              "    (wpe): Embedding(1024, 768)\n",
              "    (drop): Dropout(p=0.1, inplace=False)\n",
              "    (h): ModuleList(\n",
              "      (0): Block(\n",
              "        (ln_1): LayerNorm((768,), eps=1e-05, elementwise_affine=True)\n",
              "        (attn): Attention(\n",
              "          (c_attn): Conv1D()\n",
              "          (c_proj): Conv1D()\n",
              "          (attn_dropout): Dropout(p=0.1, inplace=False)\n",
              "          (resid_dropout): Dropout(p=0.1, inplace=False)\n",
              "        )\n",
              "        (ln_2): LayerNorm((768,), eps=1e-05, elementwise_affine=True)\n",
              "        (mlp): MLP(\n",
              "          (c_fc): Conv1D()\n",
              "          (c_proj): Conv1D()\n",
              "          (dropout): Dropout(p=0.1, inplace=False)\n",
              "        )\n",
              "      )\n",
              "      (1): Block(\n",
              "        (ln_1): LayerNorm((768,), eps=1e-05, elementwise_affine=True)\n",
              "        (attn): Attention(\n",
              "          (c_attn): Conv1D()\n",
              "          (c_proj): Conv1D()\n",
              "          (attn_dropout): Dropout(p=0.1, inplace=False)\n",
              "          (resid_dropout): Dropout(p=0.1, inplace=False)\n",
              "        )\n",
              "        (ln_2): LayerNorm((768,), eps=1e-05, elementwise_affine=True)\n",
              "        (mlp): MLP(\n",
              "          (c_fc): Conv1D()\n",
              "          (c_proj): Conv1D()\n",
              "          (dropout): Dropout(p=0.1, inplace=False)\n",
              "        )\n",
              "      )\n",
              "      (2): Block(\n",
              "        (ln_1): LayerNorm((768,), eps=1e-05, elementwise_affine=True)\n",
              "        (attn): Attention(\n",
              "          (c_attn): Conv1D()\n",
              "          (c_proj): Conv1D()\n",
              "          (attn_dropout): Dropout(p=0.1, inplace=False)\n",
              "          (resid_dropout): Dropout(p=0.1, inplace=False)\n",
              "        )\n",
              "        (ln_2): LayerNorm((768,), eps=1e-05, elementwise_affine=True)\n",
              "        (mlp): MLP(\n",
              "          (c_fc): Conv1D()\n",
              "          (c_proj): Conv1D()\n",
              "          (dropout): Dropout(p=0.1, inplace=False)\n",
              "        )\n",
              "      )\n",
              "      (3): Block(\n",
              "        (ln_1): LayerNorm((768,), eps=1e-05, elementwise_affine=True)\n",
              "        (attn): Attention(\n",
              "          (c_attn): Conv1D()\n",
              "          (c_proj): Conv1D()\n",
              "          (attn_dropout): Dropout(p=0.1, inplace=False)\n",
              "          (resid_dropout): Dropout(p=0.1, inplace=False)\n",
              "        )\n",
              "        (ln_2): LayerNorm((768,), eps=1e-05, elementwise_affine=True)\n",
              "        (mlp): MLP(\n",
              "          (c_fc): Conv1D()\n",
              "          (c_proj): Conv1D()\n",
              "          (dropout): Dropout(p=0.1, inplace=False)\n",
              "        )\n",
              "      )\n",
              "      (4): Block(\n",
              "        (ln_1): LayerNorm((768,), eps=1e-05, elementwise_affine=True)\n",
              "        (attn): Attention(\n",
              "          (c_attn): Conv1D()\n",
              "          (c_proj): Conv1D()\n",
              "          (attn_dropout): Dropout(p=0.1, inplace=False)\n",
              "          (resid_dropout): Dropout(p=0.1, inplace=False)\n",
              "        )\n",
              "        (ln_2): LayerNorm((768,), eps=1e-05, elementwise_affine=True)\n",
              "        (mlp): MLP(\n",
              "          (c_fc): Conv1D()\n",
              "          (c_proj): Conv1D()\n",
              "          (dropout): Dropout(p=0.1, inplace=False)\n",
              "        )\n",
              "      )\n",
              "      (5): Block(\n",
              "        (ln_1): LayerNorm((768,), eps=1e-05, elementwise_affine=True)\n",
              "        (attn): Attention(\n",
              "          (c_attn): Conv1D()\n",
              "          (c_proj): Conv1D()\n",
              "          (attn_dropout): Dropout(p=0.1, inplace=False)\n",
              "          (resid_dropout): Dropout(p=0.1, inplace=False)\n",
              "        )\n",
              "        (ln_2): LayerNorm((768,), eps=1e-05, elementwise_affine=True)\n",
              "        (mlp): MLP(\n",
              "          (c_fc): Conv1D()\n",
              "          (c_proj): Conv1D()\n",
              "          (dropout): Dropout(p=0.1, inplace=False)\n",
              "        )\n",
              "      )\n",
              "      (6): Block(\n",
              "        (ln_1): LayerNorm((768,), eps=1e-05, elementwise_affine=True)\n",
              "        (attn): Attention(\n",
              "          (c_attn): Conv1D()\n",
              "          (c_proj): Conv1D()\n",
              "          (attn_dropout): Dropout(p=0.1, inplace=False)\n",
              "          (resid_dropout): Dropout(p=0.1, inplace=False)\n",
              "        )\n",
              "        (ln_2): LayerNorm((768,), eps=1e-05, elementwise_affine=True)\n",
              "        (mlp): MLP(\n",
              "          (c_fc): Conv1D()\n",
              "          (c_proj): Conv1D()\n",
              "          (dropout): Dropout(p=0.1, inplace=False)\n",
              "        )\n",
              "      )\n",
              "      (7): Block(\n",
              "        (ln_1): LayerNorm((768,), eps=1e-05, elementwise_affine=True)\n",
              "        (attn): Attention(\n",
              "          (c_attn): Conv1D()\n",
              "          (c_proj): Conv1D()\n",
              "          (attn_dropout): Dropout(p=0.1, inplace=False)\n",
              "          (resid_dropout): Dropout(p=0.1, inplace=False)\n",
              "        )\n",
              "        (ln_2): LayerNorm((768,), eps=1e-05, elementwise_affine=True)\n",
              "        (mlp): MLP(\n",
              "          (c_fc): Conv1D()\n",
              "          (c_proj): Conv1D()\n",
              "          (dropout): Dropout(p=0.1, inplace=False)\n",
              "        )\n",
              "      )\n",
              "      (8): Block(\n",
              "        (ln_1): LayerNorm((768,), eps=1e-05, elementwise_affine=True)\n",
              "        (attn): Attention(\n",
              "          (c_attn): Conv1D()\n",
              "          (c_proj): Conv1D()\n",
              "          (attn_dropout): Dropout(p=0.1, inplace=False)\n",
              "          (resid_dropout): Dropout(p=0.1, inplace=False)\n",
              "        )\n",
              "        (ln_2): LayerNorm((768,), eps=1e-05, elementwise_affine=True)\n",
              "        (mlp): MLP(\n",
              "          (c_fc): Conv1D()\n",
              "          (c_proj): Conv1D()\n",
              "          (dropout): Dropout(p=0.1, inplace=False)\n",
              "        )\n",
              "      )\n",
              "      (9): Block(\n",
              "        (ln_1): LayerNorm((768,), eps=1e-05, elementwise_affine=True)\n",
              "        (attn): Attention(\n",
              "          (c_attn): Conv1D()\n",
              "          (c_proj): Conv1D()\n",
              "          (attn_dropout): Dropout(p=0.1, inplace=False)\n",
              "          (resid_dropout): Dropout(p=0.1, inplace=False)\n",
              "        )\n",
              "        (ln_2): LayerNorm((768,), eps=1e-05, elementwise_affine=True)\n",
              "        (mlp): MLP(\n",
              "          (c_fc): Conv1D()\n",
              "          (c_proj): Conv1D()\n",
              "          (dropout): Dropout(p=0.1, inplace=False)\n",
              "        )\n",
              "      )\n",
              "      (10): Block(\n",
              "        (ln_1): LayerNorm((768,), eps=1e-05, elementwise_affine=True)\n",
              "        (attn): Attention(\n",
              "          (c_attn): Conv1D()\n",
              "          (c_proj): Conv1D()\n",
              "          (attn_dropout): Dropout(p=0.1, inplace=False)\n",
              "          (resid_dropout): Dropout(p=0.1, inplace=False)\n",
              "        )\n",
              "        (ln_2): LayerNorm((768,), eps=1e-05, elementwise_affine=True)\n",
              "        (mlp): MLP(\n",
              "          (c_fc): Conv1D()\n",
              "          (c_proj): Conv1D()\n",
              "          (dropout): Dropout(p=0.1, inplace=False)\n",
              "        )\n",
              "      )\n",
              "      (11): Block(\n",
              "        (ln_1): LayerNorm((768,), eps=1e-05, elementwise_affine=True)\n",
              "        (attn): Attention(\n",
              "          (c_attn): Conv1D()\n",
              "          (c_proj): Conv1D()\n",
              "          (attn_dropout): Dropout(p=0.1, inplace=False)\n",
              "          (resid_dropout): Dropout(p=0.1, inplace=False)\n",
              "        )\n",
              "        (ln_2): LayerNorm((768,), eps=1e-05, elementwise_affine=True)\n",
              "        (mlp): MLP(\n",
              "          (c_fc): Conv1D()\n",
              "          (c_proj): Conv1D()\n",
              "          (dropout): Dropout(p=0.1, inplace=False)\n",
              "        )\n",
              "      )\n",
              "    )\n",
              "    (ln_f): LayerNorm((768,), eps=1e-05, elementwise_affine=True)\n",
              "  )\n",
              "  (lm_head): Linear(in_features=768, out_features=50257, bias=False)\n",
              ")"
            ]
          },
          "execution_count": 67,
          "metadata": {},
          "output_type": "execute_result"
        }
      ],
      "source": [
        "model.eval()"
      ],
      "id": "45ab00be"
    },
    {
      "cell_type": "code",
      "execution_count": null,
      "metadata": {
        "id": "685a1c21",
        "outputId": "27185750-12da-472e-a16b-9754e5e4bae7"
      },
      "outputs": [
        {
          "data": {
            "text/plain": [
              "124439808"
            ]
          },
          "execution_count": 66,
          "metadata": {},
          "output_type": "execute_result"
        }
      ],
      "source": [
        "model_parameters = filter(lambda p: p.requires_grad, model.parameters())\n",
        "params = sum([np.prod(p.size()) for p in model_parameters])\n",
        "params"
      ],
      "id": "685a1c21"
    },
    {
      "cell_type": "markdown",
      "metadata": {
        "id": "88adb600"
      },
      "source": [
        "#### Summary"
      ],
      "id": "88adb600"
    },
    {
      "cell_type": "markdown",
      "metadata": {
        "id": "c54b6796"
      },
      "source": [
        "Time"
      ],
      "id": "c54b6796"
    },
    {
      "cell_type": "markdown",
      "metadata": {
        "id": "7d433be6"
      },
      "source": [
        "* Number of trainable parameters : 124 439 808\n",
        "* Inference : the model takes about 56.5 seconds to generate 100 tweets"
      ],
      "id": "7d433be6"
    },
    {
      "cell_type": "markdown",
      "metadata": {
        "id": "eb2721ce"
      },
      "source": [
        "Memory"
      ],
      "id": "eb2721ce"
    },
    {
      "cell_type": "markdown",
      "metadata": {
        "id": "362b7aac"
      },
      "source": [
        "* The model takes up 6Gb of memory on disk"
      ],
      "id": "362b7aac"
    },
    {
      "cell_type": "markdown",
      "metadata": {
        "id": "0qrF-QQ00XVq"
      },
      "source": [
        "## Evaluation"
      ],
      "id": "0qrF-QQ00XVq"
    },
    {
      "cell_type": "markdown",
      "metadata": {
        "id": "mFqSQks30dqj"
      },
      "source": [
        "### Imports"
      ],
      "id": "mFqSQks30dqj"
    },
    {
      "cell_type": "code",
      "execution_count": null,
      "metadata": {
        "id": "USUwAFjN0kUJ"
      },
      "outputs": [],
      "source": [
        "import matplotlib.pyplot as plt\n",
        "import pandas as pd\n",
        "import numpy as np\n",
        "import itertools"
      ],
      "id": "USUwAFjN0kUJ"
    },
    {
      "cell_type": "markdown",
      "metadata": {
        "id": "k-2fYC2y0pg2"
      },
      "source": [
        "### BERTScore"
      ],
      "id": "k-2fYC2y0pg2"
    },
    {
      "cell_type": "code",
      "execution_count": null,
      "metadata": {
        "id": "4W4QKQlV1X4k"
      },
      "outputs": [],
      "source": [
        "from bert_score import score"
      ],
      "id": "4W4QKQlV1X4k"
    },
    {
      "cell_type": "code",
      "execution_count": null,
      "metadata": {
        "id": "X26AvFu91ZXf"
      },
      "outputs": [],
      "source": [
        "baseline_generation_df = pd.read_excel('17k_baseline_generation.xls')\n",
        "\n",
        "gpt2_generation_df = pd.read_excel('17k_gpt2_generation.xlsx')\n",
        "\n",
        "context_seeds = [\n",
        "    'Macron',\n",
        "    'La France',\n",
        "    'Zemmour',\n",
        "    \"L'immigration\",\n",
        "    \"Le pass sanitaire\",\n",
        "    \"Le peuple\",\n",
        "    \"Je vote\",\n",
        "    \"La république\",\n",
        "    \"L'égalité\",\n",
        "    \"La liberté\",\n",
        "    \"Les racailles\",\n",
        "    \"L'abattage rituel\",\n",
        "    \"Le voile\",\n",
        "    \"L'islamisme\",\n",
        "    \"Le wokisme\",\n",
        "    \"Le vaccin\",\n",
        "    \"Le séparatisme\"]\n",
        "\n",
        "gpt2_candidates = gpt2_generation_df.Generation.to_list()\n",
        "baseline_candidates = baseline_generation_df.Generation.to_list()\n",
        "\n",
        "seed_references = [(10*(seed+'-')).split('-')[:-1] for seed in context_seeds]\n",
        "seed_references = list(itertools.chain.from_iterable(seed_references))\n",
        "\n",
        "tweet_references = \"\"\n",
        "for sentence in pd.read_csv('clean_tweets.csv').dropna().tweet.to_list():\n",
        "  tweet_references += \" \" + sentence\n"
      ],
      "id": "X26AvFu91ZXf"
    },
    {
      "cell_type": "markdown",
      "metadata": {
        "id": "9k56gvXq1foF"
      },
      "source": [
        "##### Results with seeds as reference"
      ],
      "id": "9k56gvXq1foF"
    },
    {
      "cell_type": "markdown",
      "metadata": {
        "id": "AygA9k8e1wjs"
      },
      "source": [
        "###### GPT2"
      ],
      "id": "AygA9k8e1wjs"
    },
    {
      "cell_type": "code",
      "execution_count": null,
      "metadata": {
        "colab": {
          "base_uri": "https://localhost:8080/",
          "height": 246,
          "referenced_widgets": [
            "dd36efea0e1b472eaa64a75c720bd221",
            "dc1129dd6ae24234a251d0aed89a7188",
            "15701bbfca7d470aa0b7fb9e69de55c8",
            "2ddf0f3756e045b6837408ac8e250088",
            "6836cde12f7441a58d6f3ef36e8eddd5",
            "e8692dbc000e455fb86698191bce0ff9",
            "ad3e95fbf3524dd6a8916c04f677b7af",
            "0eb9941b6f4a45d5b088b055f490509b",
            "7a43b25576f541bc90f82572b05dfc7e",
            "67003253e6ec463ea2a1ec3199a3e538",
            "97caba3934d345f09fef58c605d33e03",
            "6fbead7edf704869b3fcf55162964a52",
            "c9cbf35d498848fba90e75405ea5083c",
            "93c6f6bdbaa14ad5b22c7ee9d3485c09",
            "7c67657d10084842bd9e35f015c89499",
            "64fe22431e9f4c6cb5dff84ac9941f58",
            "dd3535905c374b74903926fc02788b4c",
            "3ed86b200ee747e0bd1be3182e9001ff",
            "27011527c1104695adde4111887ddf59",
            "f1ca15914b43491ea5c5cc695cdb9147",
            "5f2398d85ce3415d829f5ccf040a2a29",
            "33a08e760dfb4536824e98c92114dad6",
            "fa7e95da911c464fb9fdb928d5754d1d",
            "5f176b9e8cdb4e2faaf8a2e068a87c92",
            "8fd2f09582af4e8e92703f1d016d00a0",
            "e3b85b0634b9490e8c1ba1b289679eca",
            "8413f716b914435782c613057b9560f6",
            "da8623e41b984bedbd7fd85c721b28df",
            "5c405c15f34543b3994d1f62fcbd9a57",
            "31a62f7123bd4845b6ea793ee619ff23",
            "ccd2cb6a53a940f9bf5a9d9881dc8598",
            "a4b0e87a948b411b826c67aef36b0ef1",
            "15cb7f6f1c74425190bea9c2a85a4aad",
            "20193396975d48888b5da18ae7889a56",
            "180b66460b784f9d838a068c1ef86390",
            "27cf269b879c4e5bb0e351370f121ed6",
            "f3ac8f85b580425e8549c1b19c682e54",
            "679512250dbd4d4fad2d1802d4d8157a",
            "053a9574404d40e0bc1cf0438baba980",
            "1d4048de77d04dc6a020324262fb85b2",
            "79646dfd31c44f00bc70280542178a36",
            "f2381f16a1ba4f449c3b1e20930d70aa",
            "11fc5faf8bc845a0baa29a36a6edda11",
            "8138b791ff564d14a8ab722f222326f5",
            "9b0eb87a9e154971bdc99cf619e6a71f",
            "3f9e18cc46da405b8425ea22d4e7ac46",
            "e5ef41dc44c0475484abb795f1afa6c8",
            "ed822b646a334d9381639b1db4821f96",
            "397b1b186b1c47a5b6264f8566f64f89",
            "99c6553a4b9a41ce945dea0618587cc7",
            "50d14f151c8c47608c4304a1dab57d78",
            "1935cb1d7c7646799177112a823655ee",
            "93feae91d9f14c95bd6b4f33baa65730",
            "05758f38d75144e396e381d09d337300",
            "07d947a525d04d2e90025e4fdc0d3cf2"
          ]
        },
        "id": "JtbUNF-Q1qy6",
        "outputId": "8627478b-d5b3-4dce-e9e8-458a816ff921"
      },
      "outputs": [
        {
          "data": {
            "application/vnd.jupyter.widget-view+json": {
              "model_id": "dd36efea0e1b472eaa64a75c720bd221",
              "version_major": 2,
              "version_minor": 0
            },
            "text/plain": [
              "Downloading:   0%|          | 0.00/625 [00:00<?, ?B/s]"
            ]
          },
          "metadata": {},
          "output_type": "display_data"
        },
        {
          "data": {
            "application/vnd.jupyter.widget-view+json": {
              "model_id": "6fbead7edf704869b3fcf55162964a52",
              "version_major": 2,
              "version_minor": 0
            },
            "text/plain": [
              "Downloading:   0%|          | 0.00/996k [00:00<?, ?B/s]"
            ]
          },
          "metadata": {},
          "output_type": "display_data"
        },
        {
          "data": {
            "application/vnd.jupyter.widget-view+json": {
              "model_id": "fa7e95da911c464fb9fdb928d5754d1d",
              "version_major": 2,
              "version_minor": 0
            },
            "text/plain": [
              "Downloading:   0%|          | 0.00/714M [00:00<?, ?B/s]"
            ]
          },
          "metadata": {},
          "output_type": "display_data"
        },
        {
          "name": "stdout",
          "output_type": "stream",
          "text": [
            "calculating scores...\n",
            "computing bert embedding.\n"
          ]
        },
        {
          "data": {
            "application/vnd.jupyter.widget-view+json": {
              "model_id": "20193396975d48888b5da18ae7889a56",
              "version_major": 2,
              "version_minor": 0
            },
            "text/plain": [
              "  0%|          | 0/265 [00:00<?, ?it/s]"
            ]
          },
          "metadata": {},
          "output_type": "display_data"
        },
        {
          "name": "stdout",
          "output_type": "stream",
          "text": [
            "computing greedy matching.\n"
          ]
        },
        {
          "data": {
            "application/vnd.jupyter.widget-view+json": {
              "model_id": "9b0eb87a9e154971bdc99cf619e6a71f",
              "version_major": 2,
              "version_minor": 0
            },
            "text/plain": [
              "  0%|          | 0/45157 [00:00<?, ?it/s]"
            ]
          },
          "metadata": {},
          "output_type": "display_data"
        },
        {
          "name": "stdout",
          "output_type": "stream",
          "text": [
            "done in 692.52 seconds, 4173.17 sentences/sec\n"
          ]
        }
      ],
      "source": [
        "#calculation takes a very long time\n",
        "seed_gpt2_P, seed_gpt2_R, seed_gpt2_F1 = score(gpt2_candidates, len(gpt2_candidates) * [seed_references], lang='else', verbose=True)"
      ],
      "id": "JtbUNF-Q1qy6"
    },
    {
      "cell_type": "code",
      "execution_count": null,
      "metadata": {
        "id": "rfLD7mC-1-bZ"
      },
      "outputs": [],
      "source": [
        "seed_gpt2_F1.mean() # 0.7307"
      ],
      "id": "rfLD7mC-1-bZ"
    },
    {
      "cell_type": "code",
      "execution_count": null,
      "metadata": {
        "id": "53w1FnVn2EVh"
      },
      "outputs": [],
      "source": [
        "plt.hist(seed_gpt2_F1, bins=100)\n",
        "plt.xlabel(\"score\")\n",
        "plt.ylabel(\"counts\")\n",
        "plt.title('F1-score repartition for GPT-2 model')\n",
        "plt.show()"
      ],
      "id": "53w1FnVn2EVh"
    },
    {
      "cell_type": "markdown",
      "metadata": {
        "id": "H15dX2lR7C4E"
      },
      "source": [
        "![image.png](data:image/png;base64,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)"
      ],
      "id": "H15dX2lR7C4E"
    },
    {
      "cell_type": "markdown",
      "metadata": {
        "id": "-qjm-6ic1t4-"
      },
      "source": [
        "###### LSTM Baseline"
      ],
      "id": "-qjm-6ic1t4-"
    },
    {
      "cell_type": "code",
      "execution_count": null,
      "metadata": {
        "colab": {
          "base_uri": "https://localhost:8080/",
          "height": 150,
          "referenced_widgets": [
            "b112819194554b46b24fd1de5928a613",
            "e13a22a132e84a2cbc633afb228ed5a0",
            "b7d6d72f8fe346fcb469dfe0c5c085b2",
            "4727baf429df4e4196e63ff7fa2b16bc",
            "14732f05efd747e19d8e5e362099cefa",
            "9cfb64db7666463791b51a267719da01",
            "b4f04e2535784722899438102306c6b3",
            "50be03685fe14f7485c6dacb57ec204d",
            "8b2e74c4af2e450788219cde6c43e32b",
            "378651ae32d84c5a919a573666fcf2ad",
            "5bc5d40960934cc8a6a6dd942ed8e76f",
            "3b4c4f4650354bfb88cab7bc4f99ac5c",
            "cbe23177183f4d279943f6674763bbaf",
            "51c25b70169e491e91b356c788585f6c",
            "5901e1e0e0954c3381c0d0a112ec0e7f",
            "d204150490824af589ba998023980077",
            "849a706932134bae9e55339db781861d",
            "d10f4a44cf9740a6be2c28ede2d77b0e",
            "98871b12d940438d882a71338a92e18f",
            "18f0c1b6d0e6499395a1e007a8717a18",
            "590517f6f39d4f43a0621b527713d3bf",
            "044de3d3460c44b1bc6b371c45d78a4e"
          ]
        },
        "id": "Ng_tQE-o12WB",
        "outputId": "7f597a90-3a0d-4e31-bddf-5a95d9fcb2bc"
      },
      "outputs": [
        {
          "name": "stdout",
          "output_type": "stream",
          "text": [
            "calculating scores...\n",
            "computing bert embedding.\n"
          ]
        },
        {
          "data": {
            "application/vnd.jupyter.widget-view+json": {
              "model_id": "b112819194554b46b24fd1de5928a613",
              "version_major": 2,
              "version_minor": 0
            },
            "text/plain": [
              "  0%|          | 0/266 [00:00<?, ?it/s]"
            ]
          },
          "metadata": {},
          "output_type": "display_data"
        },
        {
          "name": "stdout",
          "output_type": "stream",
          "text": [
            "computing greedy matching.\n"
          ]
        },
        {
          "data": {
            "application/vnd.jupyter.widget-view+json": {
              "model_id": "3b4c4f4650354bfb88cab7bc4f99ac5c",
              "version_major": 2,
              "version_minor": 0
            },
            "text/plain": [
              "  0%|          | 0/45157 [00:00<?, ?it/s]"
            ]
          },
          "metadata": {},
          "output_type": "display_data"
        },
        {
          "name": "stdout",
          "output_type": "stream",
          "text": [
            "done in 809.63 seconds, 3569.55 sentences/sec\n"
          ]
        }
      ],
      "source": [
        "#calculation takes a very long time\n",
        "seed_baseline_P, seed_baseline_R, seed_baseline_F1 = score(baseline_candidates, len(baseline_candidates) * [seed_references], lang='else', verbose=True)"
      ],
      "id": "Ng_tQE-o12WB"
    },
    {
      "cell_type": "code",
      "execution_count": null,
      "metadata": {
        "id": "TFjd-YsW13mI"
      },
      "outputs": [],
      "source": [
        "seed_baseline_F1.mean() # 0.6840"
      ],
      "id": "TFjd-YsW13mI"
    },
    {
      "cell_type": "code",
      "execution_count": null,
      "metadata": {
        "id": "8WzrufLk2C1O"
      },
      "outputs": [],
      "source": [
        "plt.hist(seed_baseline_F1, bins=100)\n",
        "plt.xlabel(\"score\")\n",
        "plt.ylabel(\"counts\")\n",
        "plt.title('F1-score repartition for baseline model')\n",
        "plt.show()"
      ],
      "id": "8WzrufLk2C1O"
    },
    {
      "cell_type": "markdown",
      "metadata": {
        "id": "1NlOmxQI67fA"
      },
      "source": [
        "![image.png](data:image/png;base64,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)"
      ],
      "id": "1NlOmxQI67fA"
    },
    {
      "cell_type": "markdown",
      "metadata": {
        "id": "-NmtZkRJ2KPE"
      },
      "source": [
        "##### Results with the tweets dataset as reference"
      ],
      "id": "-NmtZkRJ2KPE"
    },
    {
      "cell_type": "markdown",
      "metadata": {
        "id": "caTpF6oE2KPF"
      },
      "source": [
        "###### GPT2"
      ],
      "id": "caTpF6oE2KPF"
    },
    {
      "cell_type": "code",
      "execution_count": null,
      "metadata": {
        "colab": {
          "background_save": true,
          "base_uri": "https://localhost:8080/",
          "height": 84,
          "referenced_widgets": [
            "402e9fe1ed89489389a211420961ebac",
            "6e0b16d551aa47948642e631e9062920",
            "d36ba22ad3ca4eeeb2b49392d7690ea4",
            "bfd306b88d2d445db26c2ea12e46e50e",
            "a5d61654611a4ff5a7ff5ed4f45a0965",
            "497b9397bf44423bb2ec59a9ee2882c4",
            "ce45e545bdac4aef890be034ad012401",
            "c2bb8be00cbe46e3983e61793e9acdd4",
            "925c0ad68bce43e18503b455650d90d4",
            "59b356d2e44b4a0190918e0dd62badef",
            "c0e68fc3fc5c4ebeadcff7276f1198fb"
          ]
        },
        "id": "0WZqMNzQ2KPF",
        "outputId": "2a77720e-9816-4d8d-f010-1b9c527b3522"
      },
      "outputs": [
        {
          "name": "stdout",
          "output_type": "stream",
          "text": [
            "calculating scores...\n",
            "computing bert embedding.\n"
          ]
        },
        {
          "data": {
            "application/vnd.jupyter.widget-view+json": {
              "model_id": "402e9fe1ed89489389a211420961ebac",
              "version_major": 2,
              "version_minor": 0
            },
            "text/plain": [
              "  0%|          | 0/265 [00:00<?, ?it/s]"
            ]
          },
          "metadata": {},
          "output_type": "display_data"
        },
        {
          "ename": "KeyboardInterrupt",
          "evalue": "ignored",
          "output_type": "error",
          "traceback": [
            "\u001b[0;31m---------------------------------------------------------------------------\u001b[0m",
            "\u001b[0;31mKeyboardInterrupt\u001b[0m                         Traceback (most recent call last)",
            "\u001b[0;32m<ipython-input-111-ea4b0fb18197>\u001b[0m in \u001b[0;36m<module>\u001b[0;34m()\u001b[0m\n\u001b[0;32m----> 1\u001b[0;31m \u001b[0mtweet_gpt2_P\u001b[0m\u001b[0;34m,\u001b[0m \u001b[0mtweet_gpt2_R\u001b[0m\u001b[0;34m,\u001b[0m \u001b[0mtweet_gpt2_F1\u001b[0m \u001b[0;34m=\u001b[0m \u001b[0mscore\u001b[0m\u001b[0;34m(\u001b[0m\u001b[0mgpt2_candidates\u001b[0m\u001b[0;34m,\u001b[0m \u001b[0mlen\u001b[0m\u001b[0;34m(\u001b[0m\u001b[0mgpt2_candidates\u001b[0m\u001b[0;34m)\u001b[0m \u001b[0;34m*\u001b[0m \u001b[0;34m[\u001b[0m\u001b[0mtweet_references\u001b[0m\u001b[0;34m]\u001b[0m\u001b[0;34m,\u001b[0m \u001b[0mlang\u001b[0m\u001b[0;34m=\u001b[0m\u001b[0;34m'else'\u001b[0m\u001b[0;34m,\u001b[0m \u001b[0mverbose\u001b[0m\u001b[0;34m=\u001b[0m\u001b[0;32mTrue\u001b[0m\u001b[0;34m)\u001b[0m\u001b[0;34m\u001b[0m\u001b[0;34m\u001b[0m\u001b[0m\n\u001b[0m",
            "\u001b[0;32m/usr/local/lib/python3.7/dist-packages/bert_score/score.py\u001b[0m in \u001b[0;36mscore\u001b[0;34m(cands, refs, model_type, num_layers, verbose, idf, device, batch_size, nthreads, all_layers, lang, return_hash, rescale_with_baseline, baseline_path, use_fast_tokenizer)\u001b[0m\n\u001b[1;32m    138\u001b[0m         \u001b[0mdevice\u001b[0m\u001b[0;34m=\u001b[0m\u001b[0mdevice\u001b[0m\u001b[0;34m,\u001b[0m\u001b[0;34m\u001b[0m\u001b[0;34m\u001b[0m\u001b[0m\n\u001b[1;32m    139\u001b[0m         \u001b[0mbatch_size\u001b[0m\u001b[0;34m=\u001b[0m\u001b[0mbatch_size\u001b[0m\u001b[0;34m,\u001b[0m\u001b[0;34m\u001b[0m\u001b[0;34m\u001b[0m\u001b[0m\n\u001b[0;32m--> 140\u001b[0;31m         \u001b[0mall_layers\u001b[0m\u001b[0;34m=\u001b[0m\u001b[0mall_layers\u001b[0m\u001b[0;34m,\u001b[0m\u001b[0;34m\u001b[0m\u001b[0;34m\u001b[0m\u001b[0m\n\u001b[0m\u001b[1;32m    141\u001b[0m     ).cpu()\n\u001b[1;32m    142\u001b[0m \u001b[0;34m\u001b[0m\u001b[0m\n",
            "\u001b[0;32m/usr/local/lib/python3.7/dist-packages/bert_score/utils.py\u001b[0m in \u001b[0;36mbert_cos_score_idf\u001b[0;34m(model, refs, hyps, tokenizer, idf_dict, verbose, batch_size, device, all_layers)\u001b[0m\n\u001b[1;32m    527\u001b[0m         \u001b[0msen_batch\u001b[0m \u001b[0;34m=\u001b[0m \u001b[0msentences\u001b[0m\u001b[0;34m[\u001b[0m\u001b[0mbatch_start\u001b[0m \u001b[0;34m:\u001b[0m \u001b[0mbatch_start\u001b[0m \u001b[0;34m+\u001b[0m \u001b[0mbatch_size\u001b[0m\u001b[0;34m]\u001b[0m\u001b[0;34m\u001b[0m\u001b[0;34m\u001b[0m\u001b[0m\n\u001b[1;32m    528\u001b[0m         embs, masks, padded_idf = get_bert_embedding(\n\u001b[0;32m--> 529\u001b[0;31m             \u001b[0msen_batch\u001b[0m\u001b[0;34m,\u001b[0m \u001b[0mmodel\u001b[0m\u001b[0;34m,\u001b[0m \u001b[0mtokenizer\u001b[0m\u001b[0;34m,\u001b[0m \u001b[0midf_dict\u001b[0m\u001b[0;34m,\u001b[0m \u001b[0mdevice\u001b[0m\u001b[0;34m=\u001b[0m\u001b[0mdevice\u001b[0m\u001b[0;34m,\u001b[0m \u001b[0mall_layers\u001b[0m\u001b[0;34m=\u001b[0m\u001b[0mall_layers\u001b[0m\u001b[0;34m\u001b[0m\u001b[0;34m\u001b[0m\u001b[0m\n\u001b[0m\u001b[1;32m    530\u001b[0m         )\n\u001b[1;32m    531\u001b[0m         \u001b[0membs\u001b[0m \u001b[0;34m=\u001b[0m \u001b[0membs\u001b[0m\u001b[0;34m.\u001b[0m\u001b[0mcpu\u001b[0m\u001b[0;34m(\u001b[0m\u001b[0;34m)\u001b[0m\u001b[0;34m\u001b[0m\u001b[0;34m\u001b[0m\u001b[0m\n",
            "\u001b[0;32m/usr/local/lib/python3.7/dist-packages/bert_score/utils.py\u001b[0m in \u001b[0;36mget_bert_embedding\u001b[0;34m(all_sens, model, tokenizer, idf_dict, batch_size, device, all_layers)\u001b[0m\n\u001b[1;32m    397\u001b[0m     \"\"\"\n\u001b[1;32m    398\u001b[0m \u001b[0;34m\u001b[0m\u001b[0m\n\u001b[0;32m--> 399\u001b[0;31m     \u001b[0mpadded_sens\u001b[0m\u001b[0;34m,\u001b[0m \u001b[0mpadded_idf\u001b[0m\u001b[0;34m,\u001b[0m \u001b[0mlens\u001b[0m\u001b[0;34m,\u001b[0m \u001b[0mmask\u001b[0m \u001b[0;34m=\u001b[0m \u001b[0mcollate_idf\u001b[0m\u001b[0;34m(\u001b[0m\u001b[0mall_sens\u001b[0m\u001b[0;34m,\u001b[0m \u001b[0mtokenizer\u001b[0m\u001b[0;34m,\u001b[0m \u001b[0midf_dict\u001b[0m\u001b[0;34m,\u001b[0m \u001b[0mdevice\u001b[0m\u001b[0;34m=\u001b[0m\u001b[0mdevice\u001b[0m\u001b[0;34m)\u001b[0m\u001b[0;34m\u001b[0m\u001b[0;34m\u001b[0m\u001b[0m\n\u001b[0m\u001b[1;32m    400\u001b[0m \u001b[0;34m\u001b[0m\u001b[0m\n\u001b[1;32m    401\u001b[0m     \u001b[0;32mif\u001b[0m \u001b[0mbatch_size\u001b[0m \u001b[0;34m==\u001b[0m \u001b[0;34m-\u001b[0m\u001b[0;36m1\u001b[0m\u001b[0;34m:\u001b[0m\u001b[0;34m\u001b[0m\u001b[0;34m\u001b[0m\u001b[0m\n",
            "\u001b[0;32m/usr/local/lib/python3.7/dist-packages/bert_score/utils.py\u001b[0m in \u001b[0;36mcollate_idf\u001b[0;34m(arr, tokenizer, idf_dict, device)\u001b[0m\n\u001b[1;32m    369\u001b[0m         \u001b[0;34m-\u001b[0m \u001b[0;34m:\u001b[0m\u001b[0mparam\u001b[0m\u001b[0;34m:\u001b[0m\u001b[0;31m \u001b[0m\u001b[0;31m`\u001b[0m\u001b[0mdevice\u001b[0m\u001b[0;31m`\u001b[0m \u001b[0;34m(\u001b[0m\u001b[0mstr\u001b[0m\u001b[0;34m)\u001b[0m\u001b[0;34m:\u001b[0m \u001b[0mdevice\u001b[0m \u001b[0mto\u001b[0m \u001b[0muse\u001b[0m\u001b[0;34m,\u001b[0m \u001b[0me\u001b[0m\u001b[0;34m.\u001b[0m\u001b[0mg\u001b[0m\u001b[0;34m.\u001b[0m \u001b[0;34m'cpu'\u001b[0m \u001b[0;32mor\u001b[0m \u001b[0;34m'cuda'\u001b[0m\u001b[0;34m\u001b[0m\u001b[0;34m\u001b[0m\u001b[0m\n\u001b[1;32m    370\u001b[0m     \"\"\"\n\u001b[0;32m--> 371\u001b[0;31m     \u001b[0marr\u001b[0m \u001b[0;34m=\u001b[0m \u001b[0;34m[\u001b[0m\u001b[0msent_encode\u001b[0m\u001b[0;34m(\u001b[0m\u001b[0mtokenizer\u001b[0m\u001b[0;34m,\u001b[0m \u001b[0ma\u001b[0m\u001b[0;34m)\u001b[0m \u001b[0;32mfor\u001b[0m \u001b[0ma\u001b[0m \u001b[0;32min\u001b[0m \u001b[0marr\u001b[0m\u001b[0;34m]\u001b[0m\u001b[0;34m\u001b[0m\u001b[0;34m\u001b[0m\u001b[0m\n\u001b[0m\u001b[1;32m    372\u001b[0m \u001b[0;34m\u001b[0m\u001b[0m\n\u001b[1;32m    373\u001b[0m     \u001b[0midf_weights\u001b[0m \u001b[0;34m=\u001b[0m \u001b[0;34m[\u001b[0m\u001b[0;34m[\u001b[0m\u001b[0midf_dict\u001b[0m\u001b[0;34m[\u001b[0m\u001b[0mi\u001b[0m\u001b[0;34m]\u001b[0m \u001b[0;32mfor\u001b[0m \u001b[0mi\u001b[0m \u001b[0;32min\u001b[0m \u001b[0ma\u001b[0m\u001b[0;34m]\u001b[0m \u001b[0;32mfor\u001b[0m \u001b[0ma\u001b[0m \u001b[0;32min\u001b[0m \u001b[0marr\u001b[0m\u001b[0;34m]\u001b[0m\u001b[0;34m\u001b[0m\u001b[0;34m\u001b[0m\u001b[0m\n",
            "\u001b[0;32m/usr/local/lib/python3.7/dist-packages/bert_score/utils.py\u001b[0m in \u001b[0;36m<listcomp>\u001b[0;34m(.0)\u001b[0m\n\u001b[1;32m    369\u001b[0m         \u001b[0;34m-\u001b[0m \u001b[0;34m:\u001b[0m\u001b[0mparam\u001b[0m\u001b[0;34m:\u001b[0m\u001b[0;31m \u001b[0m\u001b[0;31m`\u001b[0m\u001b[0mdevice\u001b[0m\u001b[0;31m`\u001b[0m \u001b[0;34m(\u001b[0m\u001b[0mstr\u001b[0m\u001b[0;34m)\u001b[0m\u001b[0;34m:\u001b[0m \u001b[0mdevice\u001b[0m \u001b[0mto\u001b[0m \u001b[0muse\u001b[0m\u001b[0;34m,\u001b[0m \u001b[0me\u001b[0m\u001b[0;34m.\u001b[0m\u001b[0mg\u001b[0m\u001b[0;34m.\u001b[0m \u001b[0;34m'cpu'\u001b[0m \u001b[0;32mor\u001b[0m \u001b[0;34m'cuda'\u001b[0m\u001b[0;34m\u001b[0m\u001b[0;34m\u001b[0m\u001b[0m\n\u001b[1;32m    370\u001b[0m     \"\"\"\n\u001b[0;32m--> 371\u001b[0;31m     \u001b[0marr\u001b[0m \u001b[0;34m=\u001b[0m \u001b[0;34m[\u001b[0m\u001b[0msent_encode\u001b[0m\u001b[0;34m(\u001b[0m\u001b[0mtokenizer\u001b[0m\u001b[0;34m,\u001b[0m \u001b[0ma\u001b[0m\u001b[0;34m)\u001b[0m \u001b[0;32mfor\u001b[0m \u001b[0ma\u001b[0m \u001b[0;32min\u001b[0m \u001b[0marr\u001b[0m\u001b[0;34m]\u001b[0m\u001b[0;34m\u001b[0m\u001b[0;34m\u001b[0m\u001b[0m\n\u001b[0m\u001b[1;32m    372\u001b[0m \u001b[0;34m\u001b[0m\u001b[0m\n\u001b[1;32m    373\u001b[0m     \u001b[0midf_weights\u001b[0m \u001b[0;34m=\u001b[0m \u001b[0;34m[\u001b[0m\u001b[0;34m[\u001b[0m\u001b[0midf_dict\u001b[0m\u001b[0;34m[\u001b[0m\u001b[0mi\u001b[0m\u001b[0;34m]\u001b[0m \u001b[0;32mfor\u001b[0m \u001b[0mi\u001b[0m \u001b[0;32min\u001b[0m \u001b[0ma\u001b[0m\u001b[0;34m]\u001b[0m \u001b[0;32mfor\u001b[0m \u001b[0ma\u001b[0m \u001b[0;32min\u001b[0m \u001b[0marr\u001b[0m\u001b[0;34m]\u001b[0m\u001b[0;34m\u001b[0m\u001b[0;34m\u001b[0m\u001b[0m\n",
            "\u001b[0;32m/usr/local/lib/python3.7/dist-packages/bert_score/utils.py\u001b[0m in \u001b[0;36msent_encode\u001b[0;34m(tokenizer, sent)\u001b[0m\n\u001b[1;32m    212\u001b[0m         \u001b[0;32mif\u001b[0m \u001b[0mLooseVersion\u001b[0m\u001b[0;34m(\u001b[0m\u001b[0mtrans_version\u001b[0m\u001b[0;34m)\u001b[0m \u001b[0;34m>=\u001b[0m \u001b[0mLooseVersion\u001b[0m\u001b[0;34m(\u001b[0m\u001b[0;34m\"4.0.0\"\u001b[0m\u001b[0;34m)\u001b[0m\u001b[0;34m:\u001b[0m\u001b[0;34m\u001b[0m\u001b[0;34m\u001b[0m\u001b[0m\n\u001b[1;32m    213\u001b[0m             return tokenizer.encode(\n\u001b[0;32m--> 214\u001b[0;31m                 \u001b[0msent\u001b[0m\u001b[0;34m,\u001b[0m \u001b[0madd_special_tokens\u001b[0m\u001b[0;34m=\u001b[0m\u001b[0;32mTrue\u001b[0m\u001b[0;34m,\u001b[0m \u001b[0mmax_length\u001b[0m\u001b[0;34m=\u001b[0m\u001b[0mtokenizer\u001b[0m\u001b[0;34m.\u001b[0m\u001b[0mmodel_max_length\u001b[0m\u001b[0;34m,\u001b[0m \u001b[0mtruncation\u001b[0m\u001b[0;34m=\u001b[0m\u001b[0;32mTrue\u001b[0m\u001b[0;34m,\u001b[0m\u001b[0;34m\u001b[0m\u001b[0;34m\u001b[0m\u001b[0m\n\u001b[0m\u001b[1;32m    215\u001b[0m             )\n\u001b[1;32m    216\u001b[0m         \u001b[0;32melif\u001b[0m \u001b[0mLooseVersion\u001b[0m\u001b[0;34m(\u001b[0m\u001b[0mtrans_version\u001b[0m\u001b[0;34m)\u001b[0m \u001b[0;34m>=\u001b[0m \u001b[0mLooseVersion\u001b[0m\u001b[0;34m(\u001b[0m\u001b[0;34m\"3.0.0\"\u001b[0m\u001b[0;34m)\u001b[0m\u001b[0;34m:\u001b[0m\u001b[0;34m\u001b[0m\u001b[0;34m\u001b[0m\u001b[0m\n",
            "\u001b[0;32m/usr/local/lib/python3.7/dist-packages/transformers/tokenization_utils_base.py\u001b[0m in \u001b[0;36mencode\u001b[0;34m(self, text, text_pair, add_special_tokens, padding, truncation, max_length, stride, return_tensors, **kwargs)\u001b[0m\n\u001b[1;32m   2099\u001b[0m             \u001b[0mstride\u001b[0m\u001b[0;34m=\u001b[0m\u001b[0mstride\u001b[0m\u001b[0;34m,\u001b[0m\u001b[0;34m\u001b[0m\u001b[0;34m\u001b[0m\u001b[0m\n\u001b[1;32m   2100\u001b[0m             \u001b[0mreturn_tensors\u001b[0m\u001b[0;34m=\u001b[0m\u001b[0mreturn_tensors\u001b[0m\u001b[0;34m,\u001b[0m\u001b[0;34m\u001b[0m\u001b[0;34m\u001b[0m\u001b[0m\n\u001b[0;32m-> 2101\u001b[0;31m             \u001b[0;34m**\u001b[0m\u001b[0mkwargs\u001b[0m\u001b[0;34m,\u001b[0m\u001b[0;34m\u001b[0m\u001b[0;34m\u001b[0m\u001b[0m\n\u001b[0m\u001b[1;32m   2102\u001b[0m         )\n\u001b[1;32m   2103\u001b[0m \u001b[0;34m\u001b[0m\u001b[0m\n",
            "\u001b[0;32m/usr/local/lib/python3.7/dist-packages/transformers/tokenization_utils_base.py\u001b[0m in \u001b[0;36mencode_plus\u001b[0;34m(self, text, text_pair, add_special_tokens, padding, truncation, max_length, stride, is_split_into_words, pad_to_multiple_of, return_tensors, return_token_type_ids, return_attention_mask, return_overflowing_tokens, return_special_tokens_mask, return_offsets_mapping, return_length, verbose, **kwargs)\u001b[0m\n\u001b[1;32m   2424\u001b[0m             \u001b[0mreturn_length\u001b[0m\u001b[0;34m=\u001b[0m\u001b[0mreturn_length\u001b[0m\u001b[0;34m,\u001b[0m\u001b[0;34m\u001b[0m\u001b[0;34m\u001b[0m\u001b[0m\n\u001b[1;32m   2425\u001b[0m             \u001b[0mverbose\u001b[0m\u001b[0;34m=\u001b[0m\u001b[0mverbose\u001b[0m\u001b[0;34m,\u001b[0m\u001b[0;34m\u001b[0m\u001b[0;34m\u001b[0m\u001b[0m\n\u001b[0;32m-> 2426\u001b[0;31m             \u001b[0;34m**\u001b[0m\u001b[0mkwargs\u001b[0m\u001b[0;34m,\u001b[0m\u001b[0;34m\u001b[0m\u001b[0;34m\u001b[0m\u001b[0m\n\u001b[0m\u001b[1;32m   2427\u001b[0m         )\n\u001b[1;32m   2428\u001b[0m \u001b[0;34m\u001b[0m\u001b[0m\n",
            "\u001b[0;32m/usr/local/lib/python3.7/dist-packages/transformers/tokenization_utils.py\u001b[0m in \u001b[0;36m_encode_plus\u001b[0;34m(self, text, text_pair, add_special_tokens, padding_strategy, truncation_strategy, max_length, stride, is_split_into_words, pad_to_multiple_of, return_tensors, return_token_type_ids, return_attention_mask, return_overflowing_tokens, return_special_tokens_mask, return_offsets_mapping, return_length, verbose, **kwargs)\u001b[0m\n\u001b[1;32m    461\u001b[0m             \u001b[0mreturn_special_tokens_mask\u001b[0m\u001b[0;34m=\u001b[0m\u001b[0mreturn_special_tokens_mask\u001b[0m\u001b[0;34m,\u001b[0m\u001b[0;34m\u001b[0m\u001b[0;34m\u001b[0m\u001b[0m\n\u001b[1;32m    462\u001b[0m             \u001b[0mreturn_length\u001b[0m\u001b[0;34m=\u001b[0m\u001b[0mreturn_length\u001b[0m\u001b[0;34m,\u001b[0m\u001b[0;34m\u001b[0m\u001b[0;34m\u001b[0m\u001b[0m\n\u001b[0;32m--> 463\u001b[0;31m             \u001b[0mverbose\u001b[0m\u001b[0;34m=\u001b[0m\u001b[0mverbose\u001b[0m\u001b[0;34m,\u001b[0m\u001b[0;34m\u001b[0m\u001b[0;34m\u001b[0m\u001b[0m\n\u001b[0m\u001b[1;32m    464\u001b[0m         )\n\u001b[1;32m    465\u001b[0m \u001b[0;34m\u001b[0m\u001b[0m\n",
            "\u001b[0;32m/usr/local/lib/python3.7/dist-packages/transformers/tokenization_utils_base.py\u001b[0m in \u001b[0;36mprepare_for_model\u001b[0;34m(self, ids, pair_ids, add_special_tokens, padding, truncation, max_length, stride, pad_to_multiple_of, return_tensors, return_token_type_ids, return_attention_mask, return_overflowing_tokens, return_special_tokens_mask, return_offsets_mapping, return_length, verbose, prepend_batch_axis, **kwargs)\u001b[0m\n\u001b[1;32m   2822\u001b[0m                 \u001b[0mnum_tokens_to_remove\u001b[0m\u001b[0;34m=\u001b[0m\u001b[0mtotal_len\u001b[0m \u001b[0;34m-\u001b[0m \u001b[0mmax_length\u001b[0m\u001b[0;34m,\u001b[0m\u001b[0;34m\u001b[0m\u001b[0;34m\u001b[0m\u001b[0m\n\u001b[1;32m   2823\u001b[0m                 \u001b[0mtruncation_strategy\u001b[0m\u001b[0;34m=\u001b[0m\u001b[0mtruncation_strategy\u001b[0m\u001b[0;34m,\u001b[0m\u001b[0;34m\u001b[0m\u001b[0;34m\u001b[0m\u001b[0m\n\u001b[0;32m-> 2824\u001b[0;31m                 \u001b[0mstride\u001b[0m\u001b[0;34m=\u001b[0m\u001b[0mstride\u001b[0m\u001b[0;34m,\u001b[0m\u001b[0;34m\u001b[0m\u001b[0;34m\u001b[0m\u001b[0m\n\u001b[0m\u001b[1;32m   2825\u001b[0m             )\n\u001b[1;32m   2826\u001b[0m \u001b[0;34m\u001b[0m\u001b[0m\n",
            "\u001b[0;32m/usr/local/lib/python3.7/dist-packages/transformers/tokenization_utils_base.py\u001b[0m in \u001b[0;36mtruncate_sequences\u001b[0;34m(self, ids, pair_ids, num_tokens_to_remove, truncation_strategy, stride)\u001b[0m\n\u001b[1;32m   2927\u001b[0m                         \u001b[0mwindow_len\u001b[0m \u001b[0;34m=\u001b[0m \u001b[0;36m1\u001b[0m\u001b[0;34m\u001b[0m\u001b[0;34m\u001b[0m\u001b[0m\n\u001b[1;32m   2928\u001b[0m                     \u001b[0moverflowing_tokens\u001b[0m\u001b[0;34m.\u001b[0m\u001b[0mextend\u001b[0m\u001b[0;34m(\u001b[0m\u001b[0mids\u001b[0m\u001b[0;34m[\u001b[0m\u001b[0;34m-\u001b[0m\u001b[0mwindow_len\u001b[0m\u001b[0;34m:\u001b[0m\u001b[0;34m]\u001b[0m\u001b[0;34m)\u001b[0m\u001b[0;34m\u001b[0m\u001b[0;34m\u001b[0m\u001b[0m\n\u001b[0;32m-> 2929\u001b[0;31m                     \u001b[0mids\u001b[0m \u001b[0;34m=\u001b[0m \u001b[0mids\u001b[0m\u001b[0;34m[\u001b[0m\u001b[0;34m:\u001b[0m\u001b[0;34m-\u001b[0m\u001b[0;36m1\u001b[0m\u001b[0;34m]\u001b[0m\u001b[0;34m\u001b[0m\u001b[0;34m\u001b[0m\u001b[0m\n\u001b[0m\u001b[1;32m   2930\u001b[0m                 \u001b[0;32melse\u001b[0m\u001b[0;34m:\u001b[0m\u001b[0;34m\u001b[0m\u001b[0;34m\u001b[0m\u001b[0m\n\u001b[1;32m   2931\u001b[0m                     \u001b[0;32mif\u001b[0m \u001b[0;32mnot\u001b[0m \u001b[0moverflowing_tokens\u001b[0m\u001b[0;34m:\u001b[0m\u001b[0;34m\u001b[0m\u001b[0;34m\u001b[0m\u001b[0m\n",
            "\u001b[0;31mKeyboardInterrupt\u001b[0m: "
          ]
        }
      ],
      "source": [
        "#calculation takes a very long time\n",
        "tweet_gpt2_P, tweet_gpt2_R, tweet_gpt2_F1 = score(gpt2_candidates, len(gpt2_candidates) * [tweet_references], lang='else', verbose=True)"
      ],
      "id": "0WZqMNzQ2KPF"
    },
    {
      "cell_type": "code",
      "execution_count": null,
      "metadata": {
        "id": "FRQGa99o2KPF"
      },
      "outputs": [],
      "source": [
        "tweet_gpt2_F1.mean() #0.5887"
      ],
      "id": "FRQGa99o2KPF"
    },
    {
      "cell_type": "code",
      "execution_count": null,
      "metadata": {
        "id": "urU9I3JY2KPF"
      },
      "outputs": [],
      "source": [
        "plt.hist(tweet_gpt2_F1, bins=100)\n",
        "plt.xlabel(\"score\")\n",
        "plt.ylabel(\"counts\")\n",
        "plt.title('F1-score repartition for GPT2-model')\n",
        "plt.show()"
      ],
      "id": "urU9I3JY2KPF"
    },
    {
      "cell_type": "markdown",
      "metadata": {
        "id": "cIwHNxxF7X6K"
      },
      "source": [
        "![image.png](data:image/png;base64,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)"
      ],
      "id": "cIwHNxxF7X6K"
    },
    {
      "cell_type": "markdown",
      "metadata": {
        "id": "6SoOq3hw2KPF"
      },
      "source": [
        "###### LSTM Baseline"
      ],
      "id": "6SoOq3hw2KPF"
    },
    {
      "cell_type": "code",
      "execution_count": null,
      "metadata": {
        "id": "3fYfpN2w2KPG"
      },
      "outputs": [],
      "source": [
        "#calculation takes a very long time\n",
        "tweet_baseline_P, tweet_baseline_R, tweet_baseline_F1 = score(baseline_candidates, len(baseline_candidates) * [tweet_references], lang='else', verbose=True)"
      ],
      "id": "3fYfpN2w2KPG"
    },
    {
      "cell_type": "code",
      "execution_count": null,
      "metadata": {
        "id": "YIGi4Yv_2KPG"
      },
      "outputs": [],
      "source": [
        "tweet_baseline_F1.mean() #0.6116"
      ],
      "id": "YIGi4Yv_2KPG"
    },
    {
      "cell_type": "code",
      "execution_count": null,
      "metadata": {
        "id": "5uMjHqgS2KPG"
      },
      "outputs": [],
      "source": [
        "plt.hist(tweet_baseline_F1, bins=100)\n",
        "plt.xlabel(\"score\")\n",
        "plt.ylabel(\"counts\")\n",
        "plt.title('F1-score repartition for baseline model')\n",
        "plt.show()"
      ],
      "id": "5uMjHqgS2KPG"
    },
    {
      "cell_type": "markdown",
      "metadata": {
        "id": "-n-TgWeM7ZdA"
      },
      "source": [
        "![image.png](data:image/png;base64,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)"
      ],
      "id": "-n-TgWeM7ZdA"
    },
    {
      "cell_type": "code",
      "execution_count": null,
      "metadata": {
        "id": "mDaNalD-7aBH"
      },
      "outputs": [],
      "source": [
        ""
      ],
      "id": "mDaNalD-7aBH"
    }
  ],
  "metadata": {
    "accelerator": "GPU",
    "colab": {
      "collapsed_sections": [
        "f418be69",
        "xUlxKkbwmORX",
        "X-Iqp8YFmS6P",
        "vltREoEVmdXA",
        "oQQYTD5L1EFX",
        "c0707c23",
        "Py7P_9agwSJb",
        "4bc4307a",
        "34d0c9d0",
        "77f9d205",
        "0qrF-QQ00XVq"
      ],
      "name": "[BEKKAR-CHRIMNI] ML for NLP Project",
      "provenance": []
    },
    "kernelspec": {
      "display_name": "Python 3",
      "language": "python",
      "name": "python3"
    },
    "language_info": {
      "codemirror_mode": {
        "name": "ipython",
        "version": 3
      },
      "file_extension": ".py",
      "mimetype": "text/x-python",
      "name": "python",
      "nbconvert_exporter": "python",
      "pygments_lexer": "ipython3",
      "version": "3.8.8"
    },
    "widgets": {
      "application/vnd.jupyter.widget-state+json": {
        "044de3d3460c44b1bc6b371c45d78a4e": {
          "model_module": "@jupyter-widgets/controls",
          "model_module_version": "1.5.0",
          "model_name": "DescriptionStyleModel",
          "state": {
            "_model_module": "@jupyter-widgets/controls",
            "_model_module_version": "1.5.0",
            "_model_name": "DescriptionStyleModel",
            "_view_count": null,
            "_view_module": "@jupyter-widgets/base",
            "_view_module_version": "1.2.0",
            "_view_name": "StyleView",
            "description_width": ""
          }
        },
        "053a9574404d40e0bc1cf0438baba980": {
          "model_module": "@jupyter-widgets/base",
          "model_module_version": "1.2.0",
          "model_name": "LayoutModel",
          "state": {
            "_model_module": "@jupyter-widgets/base",
            "_model_module_version": "1.2.0",
            "_model_name": "LayoutModel",
            "_view_count": null,
            "_view_module": "@jupyter-widgets/base",
            "_view_module_version": "1.2.0",
            "_view_name": "LayoutView",
            "align_content": null,
            "align_items": null,
            "align_self": null,
            "border": null,
            "bottom": null,
            "display": null,
            "flex": null,
            "flex_flow": null,
            "grid_area": null,
            "grid_auto_columns": null,
            "grid_auto_flow": null,
            "grid_auto_rows": null,
            "grid_column": null,
            "grid_gap": null,
            "grid_row": null,
            "grid_template_areas": null,
            "grid_template_columns": null,
            "grid_template_rows": null,
            "height": null,
            "justify_content": null,
            "justify_items": null,
            "left": null,
            "margin": null,
            "max_height": null,
            "max_width": null,
            "min_height": null,
            "min_width": null,
            "object_fit": null,
            "object_position": null,
            "order": null,
            "overflow": null,
            "overflow_x": null,
            "overflow_y": null,
            "padding": null,
            "right": null,
            "top": null,
            "visibility": null,
            "width": null
          }
        },
        "05758f38d75144e396e381d09d337300": {
          "model_module": "@jupyter-widgets/base",
          "model_module_version": "1.2.0",
          "model_name": "LayoutModel",
          "state": {
            "_model_module": "@jupyter-widgets/base",
            "_model_module_version": "1.2.0",
            "_model_name": "LayoutModel",
            "_view_count": null,
            "_view_module": "@jupyter-widgets/base",
            "_view_module_version": "1.2.0",
            "_view_name": "LayoutView",
            "align_content": null,
            "align_items": null,
            "align_self": null,
            "border": null,
            "bottom": null,
            "display": null,
            "flex": null,
            "flex_flow": null,
            "grid_area": null,
            "grid_auto_columns": null,
            "grid_auto_flow": null,
            "grid_auto_rows": null,
            "grid_column": null,
            "grid_gap": null,
            "grid_row": null,
            "grid_template_areas": null,
            "grid_template_columns": null,
            "grid_template_rows": null,
            "height": null,
            "justify_content": null,
            "justify_items": null,
            "left": null,
            "margin": null,
            "max_height": null,
            "max_width": null,
            "min_height": null,
            "min_width": null,
            "object_fit": null,
            "object_position": null,
            "order": null,
            "overflow": null,
            "overflow_x": null,
            "overflow_y": null,
            "padding": null,
            "right": null,
            "top": null,
            "visibility": null,
            "width": null
          }
        },
        "062a230dcebe46b39a57051b22fb97fe": {
          "model_module": "@jupyter-widgets/controls",
          "model_module_version": "1.5.0",
          "model_name": "HBoxModel",
          "state": {
            "_dom_classes": [],
            "_model_module": "@jupyter-widgets/controls",
            "_model_module_version": "1.5.0",
            "_model_name": "HBoxModel",
            "_view_count": null,
            "_view_module": "@jupyter-widgets/controls",
            "_view_module_version": "1.5.0",
            "_view_name": "HBoxView",
            "box_style": "",
            "children": [
              "IPY_MODEL_a42dd9d1472b43af994dd46263fad57a",
              "IPY_MODEL_be26e255860c415fa2b6f45fec5789b4",
              "IPY_MODEL_37229e7c56fa4d94ac8ade7a585982be"
            ],
            "layout": "IPY_MODEL_223081c55439433cb8855358f10c7efc"
          }
        },
        "0690040532c34e0a9dcc2ef36aad79b1": {
          "model_module": "@jupyter-widgets/controls",
          "model_module_version": "1.5.0",
          "model_name": "DescriptionStyleModel",
          "state": {
            "_model_module": "@jupyter-widgets/controls",
            "_model_module_version": "1.5.0",
            "_model_name": "DescriptionStyleModel",
            "_view_count": null,
            "_view_module": "@jupyter-widgets/base",
            "_view_module_version": "1.2.0",
            "_view_name": "StyleView",
            "description_width": ""
          }
        },
        "06c3349751d04749b0d4d664dc0795d0": {
          "model_module": "@jupyter-widgets/controls",
          "model_module_version": "1.5.0",
          "model_name": "HTMLModel",
          "state": {
            "_dom_classes": [],
            "_model_module": "@jupyter-widgets/controls",
            "_model_module_version": "1.5.0",
            "_model_name": "HTMLModel",
            "_view_count": null,
            "_view_module": "@jupyter-widgets/controls",
            "_view_module_version": "1.5.0",
            "_view_name": "HTMLView",
            "description": "",
            "description_tooltip": null,
            "layout": "IPY_MODEL_8e75d2855b354b819f19eb40df5c4ad2",
            "placeholder": "​",
            "style": "IPY_MODEL_35ea45c61b674515a5486f93b0988fea",
            "value": " 387/387 [00:00&lt;00:00, 2.20kB/s]"
          }
        },
        "07d947a525d04d2e90025e4fdc0d3cf2": {
          "model_module": "@jupyter-widgets/controls",
          "model_module_version": "1.5.0",
          "model_name": "DescriptionStyleModel",
          "state": {
            "_model_module": "@jupyter-widgets/controls",
            "_model_module_version": "1.5.0",
            "_model_name": "DescriptionStyleModel",
            "_view_count": null,
            "_view_module": "@jupyter-widgets/base",
            "_view_module_version": "1.2.0",
            "_view_name": "StyleView",
            "description_width": ""
          }
        },
        "091c1b89edba48f8b2eb65b85cbf6153": {
          "model_module": "@jupyter-widgets/controls",
          "model_module_version": "1.5.0",
          "model_name": "DescriptionStyleModel",
          "state": {
            "_model_module": "@jupyter-widgets/controls",
            "_model_module_version": "1.5.0",
            "_model_name": "DescriptionStyleModel",
            "_view_count": null,
            "_view_module": "@jupyter-widgets/base",
            "_view_module_version": "1.2.0",
            "_view_name": "StyleView",
            "description_width": ""
          }
        },
        "0a8f3722519f4dbb97ea0294f1c7df5b": {
          "model_module": "@jupyter-widgets/base",
          "model_module_version": "1.2.0",
          "model_name": "LayoutModel",
          "state": {
            "_model_module": "@jupyter-widgets/base",
            "_model_module_version": "1.2.0",
            "_model_name": "LayoutModel",
            "_view_count": null,
            "_view_module": "@jupyter-widgets/base",
            "_view_module_version": "1.2.0",
            "_view_name": "LayoutView",
            "align_content": null,
            "align_items": null,
            "align_self": null,
            "border": null,
            "bottom": null,
            "display": null,
            "flex": null,
            "flex_flow": null,
            "grid_area": null,
            "grid_auto_columns": null,
            "grid_auto_flow": null,
            "grid_auto_rows": null,
            "grid_column": null,
            "grid_gap": null,
            "grid_row": null,
            "grid_template_areas": null,
            "grid_template_columns": null,
            "grid_template_rows": null,
            "height": null,
            "justify_content": null,
            "justify_items": null,
            "left": null,
            "margin": null,
            "max_height": null,
            "max_width": null,
            "min_height": null,
            "min_width": null,
            "object_fit": null,
            "object_position": null,
            "order": null,
            "overflow": null,
            "overflow_x": null,
            "overflow_y": null,
            "padding": null,
            "right": null,
            "top": null,
            "visibility": null,
            "width": null
          }
        },
        "0eb9941b6f4a45d5b088b055f490509b": {
          "model_module": "@jupyter-widgets/base",
          "model_module_version": "1.2.0",
          "model_name": "LayoutModel",
          "state": {
            "_model_module": "@jupyter-widgets/base",
            "_model_module_version": "1.2.0",
            "_model_name": "LayoutModel",
            "_view_count": null,
            "_view_module": "@jupyter-widgets/base",
            "_view_module_version": "1.2.0",
            "_view_name": "LayoutView",
            "align_content": null,
            "align_items": null,
            "align_self": null,
            "border": null,
            "bottom": null,
            "display": null,
            "flex": null,
            "flex_flow": null,
            "grid_area": null,
            "grid_auto_columns": null,
            "grid_auto_flow": null,
            "grid_auto_rows": null,
            "grid_column": null,
            "grid_gap": null,
            "grid_row": null,
            "grid_template_areas": null,
            "grid_template_columns": null,
            "grid_template_rows": null,
            "height": null,
            "justify_content": null,
            "justify_items": null,
            "left": null,
            "margin": null,
            "max_height": null,
            "max_width": null,
            "min_height": null,
            "min_width": null,
            "object_fit": null,
            "object_position": null,
            "order": null,
            "overflow": null,
            "overflow_x": null,
            "overflow_y": null,
            "padding": null,
            "right": null,
            "top": null,
            "visibility": null,
            "width": null
          }
        },
        "10350f9b4e8f4740ad239ef90991b659": {
          "model_module": "@jupyter-widgets/base",
          "model_module_version": "1.2.0",
          "model_name": "LayoutModel",
          "state": {
            "_model_module": "@jupyter-widgets/base",
            "_model_module_version": "1.2.0",
            "_model_name": "LayoutModel",
            "_view_count": null,
            "_view_module": "@jupyter-widgets/base",
            "_view_module_version": "1.2.0",
            "_view_name": "LayoutView",
            "align_content": null,
            "align_items": null,
            "align_self": null,
            "border": null,
            "bottom": null,
            "display": null,
            "flex": null,
            "flex_flow": null,
            "grid_area": null,
            "grid_auto_columns": null,
            "grid_auto_flow": null,
            "grid_auto_rows": null,
            "grid_column": null,
            "grid_gap": null,
            "grid_row": null,
            "grid_template_areas": null,
            "grid_template_columns": null,
            "grid_template_rows": null,
            "height": null,
            "justify_content": null,
            "justify_items": null,
            "left": null,
            "margin": null,
            "max_height": null,
            "max_width": null,
            "min_height": null,
            "min_width": null,
            "object_fit": null,
            "object_position": null,
            "order": null,
            "overflow": null,
            "overflow_x": null,
            "overflow_y": null,
            "padding": null,
            "right": null,
            "top": null,
            "visibility": null,
            "width": null
          }
        },
        "11fc5faf8bc845a0baa29a36a6edda11": {
          "model_module": "@jupyter-widgets/base",
          "model_module_version": "1.2.0",
          "model_name": "LayoutModel",
          "state": {
            "_model_module": "@jupyter-widgets/base",
            "_model_module_version": "1.2.0",
            "_model_name": "LayoutModel",
            "_view_count": null,
            "_view_module": "@jupyter-widgets/base",
            "_view_module_version": "1.2.0",
            "_view_name": "LayoutView",
            "align_content": null,
            "align_items": null,
            "align_self": null,
            "border": null,
            "bottom": null,
            "display": null,
            "flex": null,
            "flex_flow": null,
            "grid_area": null,
            "grid_auto_columns": null,
            "grid_auto_flow": null,
            "grid_auto_rows": null,
            "grid_column": null,
            "grid_gap": null,
            "grid_row": null,
            "grid_template_areas": null,
            "grid_template_columns": null,
            "grid_template_rows": null,
            "height": null,
            "justify_content": null,
            "justify_items": null,
            "left": null,
            "margin": null,
            "max_height": null,
            "max_width": null,
            "min_height": null,
            "min_width": null,
            "object_fit": null,
            "object_position": null,
            "order": null,
            "overflow": null,
            "overflow_x": null,
            "overflow_y": null,
            "padding": null,
            "right": null,
            "top": null,
            "visibility": null,
            "width": null
          }
        },
        "12d712126ebe475ead3192865f70d942": {
          "model_module": "@jupyter-widgets/base",
          "model_module_version": "1.2.0",
          "model_name": "LayoutModel",
          "state": {
            "_model_module": "@jupyter-widgets/base",
            "_model_module_version": "1.2.0",
            "_model_name": "LayoutModel",
            "_view_count": null,
            "_view_module": "@jupyter-widgets/base",
            "_view_module_version": "1.2.0",
            "_view_name": "LayoutView",
            "align_content": null,
            "align_items": null,
            "align_self": null,
            "border": null,
            "bottom": null,
            "display": null,
            "flex": null,
            "flex_flow": null,
            "grid_area": null,
            "grid_auto_columns": null,
            "grid_auto_flow": null,
            "grid_auto_rows": null,
            "grid_column": null,
            "grid_gap": null,
            "grid_row": null,
            "grid_template_areas": null,
            "grid_template_columns": null,
            "grid_template_rows": null,
            "height": null,
            "justify_content": null,
            "justify_items": null,
            "left": null,
            "margin": null,
            "max_height": null,
            "max_width": null,
            "min_height": null,
            "min_width": null,
            "object_fit": null,
            "object_position": null,
            "order": null,
            "overflow": null,
            "overflow_x": null,
            "overflow_y": null,
            "padding": null,
            "right": null,
            "top": null,
            "visibility": null,
            "width": null
          }
        },
        "130bb19691a94a69976a8008d893a6d1": {
          "model_module": "@jupyter-widgets/base",
          "model_module_version": "1.2.0",
          "model_name": "LayoutModel",
          "state": {
            "_model_module": "@jupyter-widgets/base",
            "_model_module_version": "1.2.0",
            "_model_name": "LayoutModel",
            "_view_count": null,
            "_view_module": "@jupyter-widgets/base",
            "_view_module_version": "1.2.0",
            "_view_name": "LayoutView",
            "align_content": null,
            "align_items": null,
            "align_self": null,
            "border": null,
            "bottom": null,
            "display": null,
            "flex": null,
            "flex_flow": null,
            "grid_area": null,
            "grid_auto_columns": null,
            "grid_auto_flow": null,
            "grid_auto_rows": null,
            "grid_column": null,
            "grid_gap": null,
            "grid_row": null,
            "grid_template_areas": null,
            "grid_template_columns": null,
            "grid_template_rows": null,
            "height": null,
            "justify_content": null,
            "justify_items": null,
            "left": null,
            "margin": null,
            "max_height": null,
            "max_width": null,
            "min_height": null,
            "min_width": null,
            "object_fit": null,
            "object_position": null,
            "order": null,
            "overflow": null,
            "overflow_x": null,
            "overflow_y": null,
            "padding": null,
            "right": null,
            "top": null,
            "visibility": null,
            "width": null
          }
        },
        "14732f05efd747e19d8e5e362099cefa": {
          "model_module": "@jupyter-widgets/base",
          "model_module_version": "1.2.0",
          "model_name": "LayoutModel",
          "state": {
            "_model_module": "@jupyter-widgets/base",
            "_model_module_version": "1.2.0",
            "_model_name": "LayoutModel",
            "_view_count": null,
            "_view_module": "@jupyter-widgets/base",
            "_view_module_version": "1.2.0",
            "_view_name": "LayoutView",
            "align_content": null,
            "align_items": null,
            "align_self": null,
            "border": null,
            "bottom": null,
            "display": null,
            "flex": null,
            "flex_flow": null,
            "grid_area": null,
            "grid_auto_columns": null,
            "grid_auto_flow": null,
            "grid_auto_rows": null,
            "grid_column": null,
            "grid_gap": null,
            "grid_row": null,
            "grid_template_areas": null,
            "grid_template_columns": null,
            "grid_template_rows": null,
            "height": null,
            "justify_content": null,
            "justify_items": null,
            "left": null,
            "margin": null,
            "max_height": null,
            "max_width": null,
            "min_height": null,
            "min_width": null,
            "object_fit": null,
            "object_position": null,
            "order": null,
            "overflow": null,
            "overflow_x": null,
            "overflow_y": null,
            "padding": null,
            "right": null,
            "top": null,
            "visibility": null,
            "width": null
          }
        },
        "15701bbfca7d470aa0b7fb9e69de55c8": {
          "model_module": "@jupyter-widgets/controls",
          "model_module_version": "1.5.0",
          "model_name": "FloatProgressModel",
          "state": {
            "_dom_classes": [],
            "_model_module": "@jupyter-widgets/controls",
            "_model_module_version": "1.5.0",
            "_model_name": "FloatProgressModel",
            "_view_count": null,
            "_view_module": "@jupyter-widgets/controls",
            "_view_module_version": "1.5.0",
            "_view_name": "ProgressView",
            "bar_style": "success",
            "description": "",
            "description_tooltip": null,
            "layout": "IPY_MODEL_0eb9941b6f4a45d5b088b055f490509b",
            "max": 625,
            "min": 0,
            "orientation": "horizontal",
            "style": "IPY_MODEL_7a43b25576f541bc90f82572b05dfc7e",
            "value": 625
          }
        },
        "15cb7f6f1c74425190bea9c2a85a4aad": {
          "model_module": "@jupyter-widgets/controls",
          "model_module_version": "1.5.0",
          "model_name": "DescriptionStyleModel",
          "state": {
            "_model_module": "@jupyter-widgets/controls",
            "_model_module_version": "1.5.0",
            "_model_name": "DescriptionStyleModel",
            "_view_count": null,
            "_view_module": "@jupyter-widgets/base",
            "_view_module_version": "1.2.0",
            "_view_name": "StyleView",
            "description_width": ""
          }
        },
        "167de72fffe54af2bf6edd53683b502d": {
          "model_module": "@jupyter-widgets/controls",
          "model_module_version": "1.5.0",
          "model_name": "HTMLModel",
          "state": {
            "_dom_classes": [],
            "_model_module": "@jupyter-widgets/controls",
            "_model_module_version": "1.5.0",
            "_model_name": "HTMLModel",
            "_view_count": null,
            "_view_module": "@jupyter-widgets/controls",
            "_view_module_version": "1.5.0",
            "_view_name": "HTMLView",
            "description": "",
            "description_tooltip": null,
            "layout": "IPY_MODEL_9cff0e05d3c94ddab2f5d71ea52fb26d",
            "placeholder": "​",
            "style": "IPY_MODEL_b43602998fd84255a7f697ea4c216a2c",
            "value": "Downloading: 100%"
          }
        },
        "180b66460b784f9d838a068c1ef86390": {
          "model_module": "@jupyter-widgets/controls",
          "model_module_version": "1.5.0",
          "model_name": "HTMLModel",
          "state": {
            "_dom_classes": [],
            "_model_module": "@jupyter-widgets/controls",
            "_model_module_version": "1.5.0",
            "_model_name": "HTMLModel",
            "_view_count": null,
            "_view_module": "@jupyter-widgets/controls",
            "_view_module_version": "1.5.0",
            "_view_name": "HTMLView",
            "description": "",
            "description_tooltip": null,
            "layout": "IPY_MODEL_053a9574404d40e0bc1cf0438baba980",
            "placeholder": "​",
            "style": "IPY_MODEL_1d4048de77d04dc6a020324262fb85b2",
            "value": "100%"
          }
        },
        "18f0c1b6d0e6499395a1e007a8717a18": {
          "model_module": "@jupyter-widgets/controls",
          "model_module_version": "1.5.0",
          "model_name": "ProgressStyleModel",
          "state": {
            "_model_module": "@jupyter-widgets/controls",
            "_model_module_version": "1.5.0",
            "_model_name": "ProgressStyleModel",
            "_view_count": null,
            "_view_module": "@jupyter-widgets/base",
            "_view_module_version": "1.2.0",
            "_view_name": "StyleView",
            "bar_color": null,
            "description_width": ""
          }
        },
        "1935cb1d7c7646799177112a823655ee": {
          "model_module": "@jupyter-widgets/base",
          "model_module_version": "1.2.0",
          "model_name": "LayoutModel",
          "state": {
            "_model_module": "@jupyter-widgets/base",
            "_model_module_version": "1.2.0",
            "_model_name": "LayoutModel",
            "_view_count": null,
            "_view_module": "@jupyter-widgets/base",
            "_view_module_version": "1.2.0",
            "_view_name": "LayoutView",
            "align_content": null,
            "align_items": null,
            "align_self": null,
            "border": null,
            "bottom": null,
            "display": null,
            "flex": null,
            "flex_flow": null,
            "grid_area": null,
            "grid_auto_columns": null,
            "grid_auto_flow": null,
            "grid_auto_rows": null,
            "grid_column": null,
            "grid_gap": null,
            "grid_row": null,
            "grid_template_areas": null,
            "grid_template_columns": null,
            "grid_template_rows": null,
            "height": null,
            "justify_content": null,
            "justify_items": null,
            "left": null,
            "margin": null,
            "max_height": null,
            "max_width": null,
            "min_height": null,
            "min_width": null,
            "object_fit": null,
            "object_position": null,
            "order": null,
            "overflow": null,
            "overflow_x": null,
            "overflow_y": null,
            "padding": null,
            "right": null,
            "top": null,
            "visibility": null,
            "width": null
          }
        },
        "1d4048de77d04dc6a020324262fb85b2": {
          "model_module": "@jupyter-widgets/controls",
          "model_module_version": "1.5.0",
          "model_name": "DescriptionStyleModel",
          "state": {
            "_model_module": "@jupyter-widgets/controls",
            "_model_module_version": "1.5.0",
            "_model_name": "DescriptionStyleModel",
            "_view_count": null,
            "_view_module": "@jupyter-widgets/base",
            "_view_module_version": "1.2.0",
            "_view_name": "StyleView",
            "description_width": ""
          }
        },
        "20193396975d48888b5da18ae7889a56": {
          "model_module": "@jupyter-widgets/controls",
          "model_module_version": "1.5.0",
          "model_name": "HBoxModel",
          "state": {
            "_dom_classes": [],
            "_model_module": "@jupyter-widgets/controls",
            "_model_module_version": "1.5.0",
            "_model_name": "HBoxModel",
            "_view_count": null,
            "_view_module": "@jupyter-widgets/controls",
            "_view_module_version": "1.5.0",
            "_view_name": "HBoxView",
            "box_style": "",
            "children": [
              "IPY_MODEL_180b66460b784f9d838a068c1ef86390",
              "IPY_MODEL_27cf269b879c4e5bb0e351370f121ed6",
              "IPY_MODEL_f3ac8f85b580425e8549c1b19c682e54"
            ],
            "layout": "IPY_MODEL_679512250dbd4d4fad2d1802d4d8157a"
          }
        },
        "223081c55439433cb8855358f10c7efc": {
          "model_module": "@jupyter-widgets/base",
          "model_module_version": "1.2.0",
          "model_name": "LayoutModel",
          "state": {
            "_model_module": "@jupyter-widgets/base",
            "_model_module_version": "1.2.0",
            "_model_name": "LayoutModel",
            "_view_count": null,
            "_view_module": "@jupyter-widgets/base",
            "_view_module_version": "1.2.0",
            "_view_name": "LayoutView",
            "align_content": null,
            "align_items": null,
            "align_self": null,
            "border": null,
            "bottom": null,
            "display": null,
            "flex": null,
            "flex_flow": null,
            "grid_area": null,
            "grid_auto_columns": null,
            "grid_auto_flow": null,
            "grid_auto_rows": null,
            "grid_column": null,
            "grid_gap": null,
            "grid_row": null,
            "grid_template_areas": null,
            "grid_template_columns": null,
            "grid_template_rows": null,
            "height": null,
            "justify_content": null,
            "justify_items": null,
            "left": null,
            "margin": null,
            "max_height": null,
            "max_width": null,
            "min_height": null,
            "min_width": null,
            "object_fit": null,
            "object_position": null,
            "order": null,
            "overflow": null,
            "overflow_x": null,
            "overflow_y": null,
            "padding": null,
            "right": null,
            "top": null,
            "visibility": null,
            "width": null
          }
        },
        "27011527c1104695adde4111887ddf59": {
          "model_module": "@jupyter-widgets/base",
          "model_module_version": "1.2.0",
          "model_name": "LayoutModel",
          "state": {
            "_model_module": "@jupyter-widgets/base",
            "_model_module_version": "1.2.0",
            "_model_name": "LayoutModel",
            "_view_count": null,
            "_view_module": "@jupyter-widgets/base",
            "_view_module_version": "1.2.0",
            "_view_name": "LayoutView",
            "align_content": null,
            "align_items": null,
            "align_self": null,
            "border": null,
            "bottom": null,
            "display": null,
            "flex": null,
            "flex_flow": null,
            "grid_area": null,
            "grid_auto_columns": null,
            "grid_auto_flow": null,
            "grid_auto_rows": null,
            "grid_column": null,
            "grid_gap": null,
            "grid_row": null,
            "grid_template_areas": null,
            "grid_template_columns": null,
            "grid_template_rows": null,
            "height": null,
            "justify_content": null,
            "justify_items": null,
            "left": null,
            "margin": null,
            "max_height": null,
            "max_width": null,
            "min_height": null,
            "min_width": null,
            "object_fit": null,
            "object_position": null,
            "order": null,
            "overflow": null,
            "overflow_x": null,
            "overflow_y": null,
            "padding": null,
            "right": null,
            "top": null,
            "visibility": null,
            "width": null
          }
        },
        "27cf269b879c4e5bb0e351370f121ed6": {
          "model_module": "@jupyter-widgets/controls",
          "model_module_version": "1.5.0",
          "model_name": "FloatProgressModel",
          "state": {
            "_dom_classes": [],
            "_model_module": "@jupyter-widgets/controls",
            "_model_module_version": "1.5.0",
            "_model_name": "FloatProgressModel",
            "_view_count": null,
            "_view_module": "@jupyter-widgets/controls",
            "_view_module_version": "1.5.0",
            "_view_name": "ProgressView",
            "bar_style": "success",
            "description": "",
            "description_tooltip": null,
            "layout": "IPY_MODEL_79646dfd31c44f00bc70280542178a36",
            "max": 265,
            "min": 0,
            "orientation": "horizontal",
            "style": "IPY_MODEL_f2381f16a1ba4f449c3b1e20930d70aa",
            "value": 265
          }
        },
        "2c07a814af2b47b7ad9fc653edde6875": {
          "model_module": "@jupyter-widgets/controls",
          "model_module_version": "1.5.0",
          "model_name": "HTMLModel",
          "state": {
            "_dom_classes": [],
            "_model_module": "@jupyter-widgets/controls",
            "_model_module_version": "1.5.0",
            "_model_name": "HTMLModel",
            "_view_count": null,
            "_view_module": "@jupyter-widgets/controls",
            "_view_module_version": "1.5.0",
            "_view_name": "HTMLView",
            "description": "",
            "description_tooltip": null,
            "layout": "IPY_MODEL_10350f9b4e8f4740ad239ef90991b659",
            "placeholder": "​",
            "style": "IPY_MODEL_091c1b89edba48f8b2eb65b85cbf6153",
            "value": "Downloading: 100%"
          }
        },
        "2ddf0f3756e045b6837408ac8e250088": {
          "model_module": "@jupyter-widgets/controls",
          "model_module_version": "1.5.0",
          "model_name": "HTMLModel",
          "state": {
            "_dom_classes": [],
            "_model_module": "@jupyter-widgets/controls",
            "_model_module_version": "1.5.0",
            "_model_name": "HTMLModel",
            "_view_count": null,
            "_view_module": "@jupyter-widgets/controls",
            "_view_module_version": "1.5.0",
            "_view_name": "HTMLView",
            "description": "",
            "description_tooltip": null,
            "layout": "IPY_MODEL_67003253e6ec463ea2a1ec3199a3e538",
            "placeholder": "​",
            "style": "IPY_MODEL_97caba3934d345f09fef58c605d33e03",
            "value": " 625/625 [00:00&lt;00:00, 4.88kB/s]"
          }
        },
        "31a62f7123bd4845b6ea793ee619ff23": {
          "model_module": "@jupyter-widgets/base",
          "model_module_version": "1.2.0",
          "model_name": "LayoutModel",
          "state": {
            "_model_module": "@jupyter-widgets/base",
            "_model_module_version": "1.2.0",
            "_model_name": "LayoutModel",
            "_view_count": null,
            "_view_module": "@jupyter-widgets/base",
            "_view_module_version": "1.2.0",
            "_view_name": "LayoutView",
            "align_content": null,
            "align_items": null,
            "align_self": null,
            "border": null,
            "bottom": null,
            "display": null,
            "flex": null,
            "flex_flow": null,
            "grid_area": null,
            "grid_auto_columns": null,
            "grid_auto_flow": null,
            "grid_auto_rows": null,
            "grid_column": null,
            "grid_gap": null,
            "grid_row": null,
            "grid_template_areas": null,
            "grid_template_columns": null,
            "grid_template_rows": null,
            "height": null,
            "justify_content": null,
            "justify_items": null,
            "left": null,
            "margin": null,
            "max_height": null,
            "max_width": null,
            "min_height": null,
            "min_width": null,
            "object_fit": null,
            "object_position": null,
            "order": null,
            "overflow": null,
            "overflow_x": null,
            "overflow_y": null,
            "padding": null,
            "right": null,
            "top": null,
            "visibility": null,
            "width": null
          }
        },
        "33a08e760dfb4536824e98c92114dad6": {
          "model_module": "@jupyter-widgets/controls",
          "model_module_version": "1.5.0",
          "model_name": "DescriptionStyleModel",
          "state": {
            "_model_module": "@jupyter-widgets/controls",
            "_model_module_version": "1.5.0",
            "_model_name": "DescriptionStyleModel",
            "_view_count": null,
            "_view_module": "@jupyter-widgets/base",
            "_view_module_version": "1.2.0",
            "_view_name": "StyleView",
            "description_width": ""
          }
        },
        "35ea45c61b674515a5486f93b0988fea": {
          "model_module": "@jupyter-widgets/controls",
          "model_module_version": "1.5.0",
          "model_name": "DescriptionStyleModel",
          "state": {
            "_model_module": "@jupyter-widgets/controls",
            "_model_module_version": "1.5.0",
            "_model_name": "DescriptionStyleModel",
            "_view_count": null,
            "_view_module": "@jupyter-widgets/base",
            "_view_module_version": "1.2.0",
            "_view_name": "StyleView",
            "description_width": ""
          }
        },
        "37229e7c56fa4d94ac8ade7a585982be": {
          "model_module": "@jupyter-widgets/controls",
          "model_module_version": "1.5.0",
          "model_name": "HTMLModel",
          "state": {
            "_dom_classes": [],
            "_model_module": "@jupyter-widgets/controls",
            "_model_module_version": "1.5.0",
            "_model_name": "HTMLModel",
            "_view_count": null,
            "_view_module": "@jupyter-widgets/controls",
            "_view_module_version": "1.5.0",
            "_view_name": "HTMLView",
            "description": "",
            "description_tooltip": null,
            "layout": "IPY_MODEL_8dd53ecbb29d483b876ec0b502e0d19f",
            "placeholder": "​",
            "style": "IPY_MODEL_66ae06f55d7e42f18ddb0098685bc3b4",
            "value": " 858k/858k [00:00&lt;00:00, 3.39MB/s]"
          }
        },
        "378651ae32d84c5a919a573666fcf2ad": {
          "model_module": "@jupyter-widgets/base",
          "model_module_version": "1.2.0",
          "model_name": "LayoutModel",
          "state": {
            "_model_module": "@jupyter-widgets/base",
            "_model_module_version": "1.2.0",
            "_model_name": "LayoutModel",
            "_view_count": null,
            "_view_module": "@jupyter-widgets/base",
            "_view_module_version": "1.2.0",
            "_view_name": "LayoutView",
            "align_content": null,
            "align_items": null,
            "align_self": null,
            "border": null,
            "bottom": null,
            "display": null,
            "flex": null,
            "flex_flow": null,
            "grid_area": null,
            "grid_auto_columns": null,
            "grid_auto_flow": null,
            "grid_auto_rows": null,
            "grid_column": null,
            "grid_gap": null,
            "grid_row": null,
            "grid_template_areas": null,
            "grid_template_columns": null,
            "grid_template_rows": null,
            "height": null,
            "justify_content": null,
            "justify_items": null,
            "left": null,
            "margin": null,
            "max_height": null,
            "max_width": null,
            "min_height": null,
            "min_width": null,
            "object_fit": null,
            "object_position": null,
            "order": null,
            "overflow": null,
            "overflow_x": null,
            "overflow_y": null,
            "padding": null,
            "right": null,
            "top": null,
            "visibility": null,
            "width": null
          }
        },
        "397b1b186b1c47a5b6264f8566f64f89": {
          "model_module": "@jupyter-widgets/base",
          "model_module_version": "1.2.0",
          "model_name": "LayoutModel",
          "state": {
            "_model_module": "@jupyter-widgets/base",
            "_model_module_version": "1.2.0",
            "_model_name": "LayoutModel",
            "_view_count": null,
            "_view_module": "@jupyter-widgets/base",
            "_view_module_version": "1.2.0",
            "_view_name": "LayoutView",
            "align_content": null,
            "align_items": null,
            "align_self": null,
            "border": null,
            "bottom": null,
            "display": null,
            "flex": null,
            "flex_flow": null,
            "grid_area": null,
            "grid_auto_columns": null,
            "grid_auto_flow": null,
            "grid_auto_rows": null,
            "grid_column": null,
            "grid_gap": null,
            "grid_row": null,
            "grid_template_areas": null,
            "grid_template_columns": null,
            "grid_template_rows": null,
            "height": null,
            "justify_content": null,
            "justify_items": null,
            "left": null,
            "margin": null,
            "max_height": null,
            "max_width": null,
            "min_height": null,
            "min_width": null,
            "object_fit": null,
            "object_position": null,
            "order": null,
            "overflow": null,
            "overflow_x": null,
            "overflow_y": null,
            "padding": null,
            "right": null,
            "top": null,
            "visibility": null,
            "width": null
          }
        },
        "3a9db075ee9b4576859fb0396654f5dc": {
          "model_module": "@jupyter-widgets/base",
          "model_module_version": "1.2.0",
          "model_name": "LayoutModel",
          "state": {
            "_model_module": "@jupyter-widgets/base",
            "_model_module_version": "1.2.0",
            "_model_name": "LayoutModel",
            "_view_count": null,
            "_view_module": "@jupyter-widgets/base",
            "_view_module_version": "1.2.0",
            "_view_name": "LayoutView",
            "align_content": null,
            "align_items": null,
            "align_self": null,
            "border": null,
            "bottom": null,
            "display": null,
            "flex": null,
            "flex_flow": null,
            "grid_area": null,
            "grid_auto_columns": null,
            "grid_auto_flow": null,
            "grid_auto_rows": null,
            "grid_column": null,
            "grid_gap": null,
            "grid_row": null,
            "grid_template_areas": null,
            "grid_template_columns": null,
            "grid_template_rows": null,
            "height": null,
            "justify_content": null,
            "justify_items": null,
            "left": null,
            "margin": null,
            "max_height": null,
            "max_width": null,
            "min_height": null,
            "min_width": null,
            "object_fit": null,
            "object_position": null,
            "order": null,
            "overflow": null,
            "overflow_x": null,
            "overflow_y": null,
            "padding": null,
            "right": null,
            "top": null,
            "visibility": null,
            "width": null
          }
        },
        "3b4c4f4650354bfb88cab7bc4f99ac5c": {
          "model_module": "@jupyter-widgets/controls",
          "model_module_version": "1.5.0",
          "model_name": "HBoxModel",
          "state": {
            "_dom_classes": [],
            "_model_module": "@jupyter-widgets/controls",
            "_model_module_version": "1.5.0",
            "_model_name": "HBoxModel",
            "_view_count": null,
            "_view_module": "@jupyter-widgets/controls",
            "_view_module_version": "1.5.0",
            "_view_name": "HBoxView",
            "box_style": "",
            "children": [
              "IPY_MODEL_cbe23177183f4d279943f6674763bbaf",
              "IPY_MODEL_51c25b70169e491e91b356c788585f6c",
              "IPY_MODEL_5901e1e0e0954c3381c0d0a112ec0e7f"
            ],
            "layout": "IPY_MODEL_d204150490824af589ba998023980077"
          }
        },
        "3b7e13c076774737b7e1b141a73e43ff": {
          "model_module": "@jupyter-widgets/base",
          "model_module_version": "1.2.0",
          "model_name": "LayoutModel",
          "state": {
            "_model_module": "@jupyter-widgets/base",
            "_model_module_version": "1.2.0",
            "_model_name": "LayoutModel",
            "_view_count": null,
            "_view_module": "@jupyter-widgets/base",
            "_view_module_version": "1.2.0",
            "_view_name": "LayoutView",
            "align_content": null,
            "align_items": null,
            "align_self": null,
            "border": null,
            "bottom": null,
            "display": null,
            "flex": null,
            "flex_flow": null,
            "grid_area": null,
            "grid_auto_columns": null,
            "grid_auto_flow": null,
            "grid_auto_rows": null,
            "grid_column": null,
            "grid_gap": null,
            "grid_row": null,
            "grid_template_areas": null,
            "grid_template_columns": null,
            "grid_template_rows": null,
            "height": null,
            "justify_content": null,
            "justify_items": null,
            "left": null,
            "margin": null,
            "max_height": null,
            "max_width": null,
            "min_height": null,
            "min_width": null,
            "object_fit": null,
            "object_position": null,
            "order": null,
            "overflow": null,
            "overflow_x": null,
            "overflow_y": null,
            "padding": null,
            "right": null,
            "top": null,
            "visibility": null,
            "width": null
          }
        },
        "3ed86b200ee747e0bd1be3182e9001ff": {
          "model_module": "@jupyter-widgets/controls",
          "model_module_version": "1.5.0",
          "model_name": "DescriptionStyleModel",
          "state": {
            "_model_module": "@jupyter-widgets/controls",
            "_model_module_version": "1.5.0",
            "_model_name": "DescriptionStyleModel",
            "_view_count": null,
            "_view_module": "@jupyter-widgets/base",
            "_view_module_version": "1.2.0",
            "_view_name": "StyleView",
            "description_width": ""
          }
        },
        "3f9e18cc46da405b8425ea22d4e7ac46": {
          "model_module": "@jupyter-widgets/controls",
          "model_module_version": "1.5.0",
          "model_name": "HTMLModel",
          "state": {
            "_dom_classes": [],
            "_model_module": "@jupyter-widgets/controls",
            "_model_module_version": "1.5.0",
            "_model_name": "HTMLModel",
            "_view_count": null,
            "_view_module": "@jupyter-widgets/controls",
            "_view_module_version": "1.5.0",
            "_view_name": "HTMLView",
            "description": "",
            "description_tooltip": null,
            "layout": "IPY_MODEL_99c6553a4b9a41ce945dea0618587cc7",
            "placeholder": "​",
            "style": "IPY_MODEL_50d14f151c8c47608c4304a1dab57d78",
            "value": "100%"
          }
        },
        "402e9fe1ed89489389a211420961ebac": {
          "model_module": "@jupyter-widgets/controls",
          "model_module_version": "1.5.0",
          "model_name": "HBoxModel",
          "state": {
            "_dom_classes": [],
            "_model_module": "@jupyter-widgets/controls",
            "_model_module_version": "1.5.0",
            "_model_name": "HBoxModel",
            "_view_count": null,
            "_view_module": "@jupyter-widgets/controls",
            "_view_module_version": "1.5.0",
            "_view_name": "HBoxView",
            "box_style": "",
            "children": [
              "IPY_MODEL_6e0b16d551aa47948642e631e9062920",
              "IPY_MODEL_d36ba22ad3ca4eeeb2b49392d7690ea4",
              "IPY_MODEL_bfd306b88d2d445db26c2ea12e46e50e"
            ],
            "layout": "IPY_MODEL_a5d61654611a4ff5a7ff5ed4f45a0965"
          }
        },
        "4727baf429df4e4196e63ff7fa2b16bc": {
          "model_module": "@jupyter-widgets/controls",
          "model_module_version": "1.5.0",
          "model_name": "HTMLModel",
          "state": {
            "_dom_classes": [],
            "_model_module": "@jupyter-widgets/controls",
            "_model_module_version": "1.5.0",
            "_model_name": "HTMLModel",
            "_view_count": null,
            "_view_module": "@jupyter-widgets/controls",
            "_view_module_version": "1.5.0",
            "_view_name": "HTMLView",
            "description": "",
            "description_tooltip": null,
            "layout": "IPY_MODEL_378651ae32d84c5a919a573666fcf2ad",
            "placeholder": "​",
            "style": "IPY_MODEL_5bc5d40960934cc8a6a6dd942ed8e76f",
            "value": " 266/266 [01:53&lt;00:00,  2.65it/s]"
          }
        },
        "4785a12ddb11481d8e647fd30a74a417": {
          "model_module": "@jupyter-widgets/controls",
          "model_module_version": "1.5.0",
          "model_name": "DescriptionStyleModel",
          "state": {
            "_model_module": "@jupyter-widgets/controls",
            "_model_module_version": "1.5.0",
            "_model_name": "DescriptionStyleModel",
            "_view_count": null,
            "_view_module": "@jupyter-widgets/base",
            "_view_module_version": "1.2.0",
            "_view_name": "StyleView",
            "description_width": ""
          }
        },
        "497b9397bf44423bb2ec59a9ee2882c4": {
          "model_module": "@jupyter-widgets/base",
          "model_module_version": "1.2.0",
          "model_name": "LayoutModel",
          "state": {
            "_model_module": "@jupyter-widgets/base",
            "_model_module_version": "1.2.0",
            "_model_name": "LayoutModel",
            "_view_count": null,
            "_view_module": "@jupyter-widgets/base",
            "_view_module_version": "1.2.0",
            "_view_name": "LayoutView",
            "align_content": null,
            "align_items": null,
            "align_self": null,
            "border": null,
            "bottom": null,
            "display": null,
            "flex": null,
            "flex_flow": null,
            "grid_area": null,
            "grid_auto_columns": null,
            "grid_auto_flow": null,
            "grid_auto_rows": null,
            "grid_column": null,
            "grid_gap": null,
            "grid_row": null,
            "grid_template_areas": null,
            "grid_template_columns": null,
            "grid_template_rows": null,
            "height": null,
            "justify_content": null,
            "justify_items": null,
            "left": null,
            "margin": null,
            "max_height": null,
            "max_width": null,
            "min_height": null,
            "min_width": null,
            "object_fit": null,
            "object_position": null,
            "order": null,
            "overflow": null,
            "overflow_x": null,
            "overflow_y": null,
            "padding": null,
            "right": null,
            "top": null,
            "visibility": null,
            "width": null
          }
        },
        "50be03685fe14f7485c6dacb57ec204d": {
          "model_module": "@jupyter-widgets/base",
          "model_module_version": "1.2.0",
          "model_name": "LayoutModel",
          "state": {
            "_model_module": "@jupyter-widgets/base",
            "_model_module_version": "1.2.0",
            "_model_name": "LayoutModel",
            "_view_count": null,
            "_view_module": "@jupyter-widgets/base",
            "_view_module_version": "1.2.0",
            "_view_name": "LayoutView",
            "align_content": null,
            "align_items": null,
            "align_self": null,
            "border": null,
            "bottom": null,
            "display": null,
            "flex": null,
            "flex_flow": null,
            "grid_area": null,
            "grid_auto_columns": null,
            "grid_auto_flow": null,
            "grid_auto_rows": null,
            "grid_column": null,
            "grid_gap": null,
            "grid_row": null,
            "grid_template_areas": null,
            "grid_template_columns": null,
            "grid_template_rows": null,
            "height": null,
            "justify_content": null,
            "justify_items": null,
            "left": null,
            "margin": null,
            "max_height": null,
            "max_width": null,
            "min_height": null,
            "min_width": null,
            "object_fit": null,
            "object_position": null,
            "order": null,
            "overflow": null,
            "overflow_x": null,
            "overflow_y": null,
            "padding": null,
            "right": null,
            "top": null,
            "visibility": null,
            "width": null
          }
        },
        "50d14f151c8c47608c4304a1dab57d78": {
          "model_module": "@jupyter-widgets/controls",
          "model_module_version": "1.5.0",
          "model_name": "DescriptionStyleModel",
          "state": {
            "_model_module": "@jupyter-widgets/controls",
            "_model_module_version": "1.5.0",
            "_model_name": "DescriptionStyleModel",
            "_view_count": null,
            "_view_module": "@jupyter-widgets/base",
            "_view_module_version": "1.2.0",
            "_view_name": "StyleView",
            "description_width": ""
          }
        },
        "51c25b70169e491e91b356c788585f6c": {
          "model_module": "@jupyter-widgets/controls",
          "model_module_version": "1.5.0",
          "model_name": "FloatProgressModel",
          "state": {
            "_dom_classes": [],
            "_model_module": "@jupyter-widgets/controls",
            "_model_module_version": "1.5.0",
            "_model_name": "FloatProgressModel",
            "_view_count": null,
            "_view_module": "@jupyter-widgets/controls",
            "_view_module_version": "1.5.0",
            "_view_name": "ProgressView",
            "bar_style": "success",
            "description": "",
            "description_tooltip": null,
            "layout": "IPY_MODEL_98871b12d940438d882a71338a92e18f",
            "max": 45157,
            "min": 0,
            "orientation": "horizontal",
            "style": "IPY_MODEL_18f0c1b6d0e6499395a1e007a8717a18",
            "value": 45157
          }
        },
        "523437e83d354d4a83c25a4a7a4252cb": {
          "model_module": "@jupyter-widgets/base",
          "model_module_version": "1.2.0",
          "model_name": "LayoutModel",
          "state": {
            "_model_module": "@jupyter-widgets/base",
            "_model_module_version": "1.2.0",
            "_model_name": "LayoutModel",
            "_view_count": null,
            "_view_module": "@jupyter-widgets/base",
            "_view_module_version": "1.2.0",
            "_view_name": "LayoutView",
            "align_content": null,
            "align_items": null,
            "align_self": null,
            "border": null,
            "bottom": null,
            "display": null,
            "flex": null,
            "flex_flow": null,
            "grid_area": null,
            "grid_auto_columns": null,
            "grid_auto_flow": null,
            "grid_auto_rows": null,
            "grid_column": null,
            "grid_gap": null,
            "grid_row": null,
            "grid_template_areas": null,
            "grid_template_columns": null,
            "grid_template_rows": null,
            "height": null,
            "justify_content": null,
            "justify_items": null,
            "left": null,
            "margin": null,
            "max_height": null,
            "max_width": null,
            "min_height": null,
            "min_width": null,
            "object_fit": null,
            "object_position": null,
            "order": null,
            "overflow": null,
            "overflow_x": null,
            "overflow_y": null,
            "padding": null,
            "right": null,
            "top": null,
            "visibility": null,
            "width": null
          }
        },
        "5901e1e0e0954c3381c0d0a112ec0e7f": {
          "model_module": "@jupyter-widgets/controls",
          "model_module_version": "1.5.0",
          "model_name": "HTMLModel",
          "state": {
            "_dom_classes": [],
            "_model_module": "@jupyter-widgets/controls",
            "_model_module_version": "1.5.0",
            "_model_name": "HTMLModel",
            "_view_count": null,
            "_view_module": "@jupyter-widgets/controls",
            "_view_module_version": "1.5.0",
            "_view_name": "HTMLView",
            "description": "",
            "description_tooltip": null,
            "layout": "IPY_MODEL_590517f6f39d4f43a0621b527713d3bf",
            "placeholder": "​",
            "style": "IPY_MODEL_044de3d3460c44b1bc6b371c45d78a4e",
            "value": " 45157/45157 [11:35&lt;00:00, 74.20it/s]"
          }
        },
        "590517f6f39d4f43a0621b527713d3bf": {
          "model_module": "@jupyter-widgets/base",
          "model_module_version": "1.2.0",
          "model_name": "LayoutModel",
          "state": {
            "_model_module": "@jupyter-widgets/base",
            "_model_module_version": "1.2.0",
            "_model_name": "LayoutModel",
            "_view_count": null,
            "_view_module": "@jupyter-widgets/base",
            "_view_module_version": "1.2.0",
            "_view_name": "LayoutView",
            "align_content": null,
            "align_items": null,
            "align_self": null,
            "border": null,
            "bottom": null,
            "display": null,
            "flex": null,
            "flex_flow": null,
            "grid_area": null,
            "grid_auto_columns": null,
            "grid_auto_flow": null,
            "grid_auto_rows": null,
            "grid_column": null,
            "grid_gap": null,
            "grid_row": null,
            "grid_template_areas": null,
            "grid_template_columns": null,
            "grid_template_rows": null,
            "height": null,
            "justify_content": null,
            "justify_items": null,
            "left": null,
            "margin": null,
            "max_height": null,
            "max_width": null,
            "min_height": null,
            "min_width": null,
            "object_fit": null,
            "object_position": null,
            "order": null,
            "overflow": null,
            "overflow_x": null,
            "overflow_y": null,
            "padding": null,
            "right": null,
            "top": null,
            "visibility": null,
            "width": null
          }
        },
        "59b356d2e44b4a0190918e0dd62badef": {
          "model_module": "@jupyter-widgets/base",
          "model_module_version": "1.2.0",
          "model_name": "LayoutModel",
          "state": {
            "_model_module": "@jupyter-widgets/base",
            "_model_module_version": "1.2.0",
            "_model_name": "LayoutModel",
            "_view_count": null,
            "_view_module": "@jupyter-widgets/base",
            "_view_module_version": "1.2.0",
            "_view_name": "LayoutView",
            "align_content": null,
            "align_items": null,
            "align_self": null,
            "border": null,
            "bottom": null,
            "display": null,
            "flex": null,
            "flex_flow": null,
            "grid_area": null,
            "grid_auto_columns": null,
            "grid_auto_flow": null,
            "grid_auto_rows": null,
            "grid_column": null,
            "grid_gap": null,
            "grid_row": null,
            "grid_template_areas": null,
            "grid_template_columns": null,
            "grid_template_rows": null,
            "height": null,
            "justify_content": null,
            "justify_items": null,
            "left": null,
            "margin": null,
            "max_height": null,
            "max_width": null,
            "min_height": null,
            "min_width": null,
            "object_fit": null,
            "object_position": null,
            "order": null,
            "overflow": null,
            "overflow_x": null,
            "overflow_y": null,
            "padding": null,
            "right": null,
            "top": null,
            "visibility": null,
            "width": null
          }
        },
        "5bc5d40960934cc8a6a6dd942ed8e76f": {
          "model_module": "@jupyter-widgets/controls",
          "model_module_version": "1.5.0",
          "model_name": "DescriptionStyleModel",
          "state": {
            "_model_module": "@jupyter-widgets/controls",
            "_model_module_version": "1.5.0",
            "_model_name": "DescriptionStyleModel",
            "_view_count": null,
            "_view_module": "@jupyter-widgets/base",
            "_view_module_version": "1.2.0",
            "_view_name": "StyleView",
            "description_width": ""
          }
        },
        "5c25cc4fa9db4dcc8aa487b735291480": {
          "model_module": "@jupyter-widgets/controls",
          "model_module_version": "1.5.0",
          "model_name": "FloatProgressModel",
          "state": {
            "_dom_classes": [],
            "_model_module": "@jupyter-widgets/controls",
            "_model_module_version": "1.5.0",
            "_model_name": "FloatProgressModel",
            "_view_count": null,
            "_view_module": "@jupyter-widgets/controls",
            "_view_module_version": "1.5.0",
            "_view_name": "ProgressView",
            "bar_style": "success",
            "description": "",
            "description_tooltip": null,
            "layout": "IPY_MODEL_6faf8819abaa41cdac3a04ec4919e664",
            "max": 842,
            "min": 0,
            "orientation": "horizontal",
            "style": "IPY_MODEL_8f356e96f6ca4156ac4d96f4f280e561",
            "value": 842
          }
        },
        "5c405c15f34543b3994d1f62fcbd9a57": {
          "model_module": "@jupyter-widgets/controls",
          "model_module_version": "1.5.0",
          "model_name": "DescriptionStyleModel",
          "state": {
            "_model_module": "@jupyter-widgets/controls",
            "_model_module_version": "1.5.0",
            "_model_name": "DescriptionStyleModel",
            "_view_count": null,
            "_view_module": "@jupyter-widgets/base",
            "_view_module_version": "1.2.0",
            "_view_name": "StyleView",
            "description_width": ""
          }
        },
        "5f176b9e8cdb4e2faaf8a2e068a87c92": {
          "model_module": "@jupyter-widgets/controls",
          "model_module_version": "1.5.0",
          "model_name": "HTMLModel",
          "state": {
            "_dom_classes": [],
            "_model_module": "@jupyter-widgets/controls",
            "_model_module_version": "1.5.0",
            "_model_name": "HTMLModel",
            "_view_count": null,
            "_view_module": "@jupyter-widgets/controls",
            "_view_module_version": "1.5.0",
            "_view_name": "HTMLView",
            "description": "",
            "description_tooltip": null,
            "layout": "IPY_MODEL_da8623e41b984bedbd7fd85c721b28df",
            "placeholder": "​",
            "style": "IPY_MODEL_5c405c15f34543b3994d1f62fcbd9a57",
            "value": "Downloading: 100%"
          }
        },
        "5f2398d85ce3415d829f5ccf040a2a29": {
          "model_module": "@jupyter-widgets/base",
          "model_module_version": "1.2.0",
          "model_name": "LayoutModel",
          "state": {
            "_model_module": "@jupyter-widgets/base",
            "_model_module_version": "1.2.0",
            "_model_name": "LayoutModel",
            "_view_count": null,
            "_view_module": "@jupyter-widgets/base",
            "_view_module_version": "1.2.0",
            "_view_name": "LayoutView",
            "align_content": null,
            "align_items": null,
            "align_self": null,
            "border": null,
            "bottom": null,
            "display": null,
            "flex": null,
            "flex_flow": null,
            "grid_area": null,
            "grid_auto_columns": null,
            "grid_auto_flow": null,
            "grid_auto_rows": null,
            "grid_column": null,
            "grid_gap": null,
            "grid_row": null,
            "grid_template_areas": null,
            "grid_template_columns": null,
            "grid_template_rows": null,
            "height": null,
            "justify_content": null,
            "justify_items": null,
            "left": null,
            "margin": null,
            "max_height": null,
            "max_width": null,
            "min_height": null,
            "min_width": null,
            "object_fit": null,
            "object_position": null,
            "order": null,
            "overflow": null,
            "overflow_x": null,
            "overflow_y": null,
            "padding": null,
            "right": null,
            "top": null,
            "visibility": null,
            "width": null
          }
        },
        "62ef9ddf7d944ff286abfcbffcbafbc3": {
          "model_module": "@jupyter-widgets/base",
          "model_module_version": "1.2.0",
          "model_name": "LayoutModel",
          "state": {
            "_model_module": "@jupyter-widgets/base",
            "_model_module_version": "1.2.0",
            "_model_name": "LayoutModel",
            "_view_count": null,
            "_view_module": "@jupyter-widgets/base",
            "_view_module_version": "1.2.0",
            "_view_name": "LayoutView",
            "align_content": null,
            "align_items": null,
            "align_self": null,
            "border": null,
            "bottom": null,
            "display": null,
            "flex": null,
            "flex_flow": null,
            "grid_area": null,
            "grid_auto_columns": null,
            "grid_auto_flow": null,
            "grid_auto_rows": null,
            "grid_column": null,
            "grid_gap": null,
            "grid_row": null,
            "grid_template_areas": null,
            "grid_template_columns": null,
            "grid_template_rows": null,
            "height": null,
            "justify_content": null,
            "justify_items": null,
            "left": null,
            "margin": null,
            "max_height": null,
            "max_width": null,
            "min_height": null,
            "min_width": null,
            "object_fit": null,
            "object_position": null,
            "order": null,
            "overflow": null,
            "overflow_x": null,
            "overflow_y": null,
            "padding": null,
            "right": null,
            "top": null,
            "visibility": null,
            "width": null
          }
        },
        "64fe22431e9f4c6cb5dff84ac9941f58": {
          "model_module": "@jupyter-widgets/base",
          "model_module_version": "1.2.0",
          "model_name": "LayoutModel",
          "state": {
            "_model_module": "@jupyter-widgets/base",
            "_model_module_version": "1.2.0",
            "_model_name": "LayoutModel",
            "_view_count": null,
            "_view_module": "@jupyter-widgets/base",
            "_view_module_version": "1.2.0",
            "_view_name": "LayoutView",
            "align_content": null,
            "align_items": null,
            "align_self": null,
            "border": null,
            "bottom": null,
            "display": null,
            "flex": null,
            "flex_flow": null,
            "grid_area": null,
            "grid_auto_columns": null,
            "grid_auto_flow": null,
            "grid_auto_rows": null,
            "grid_column": null,
            "grid_gap": null,
            "grid_row": null,
            "grid_template_areas": null,
            "grid_template_columns": null,
            "grid_template_rows": null,
            "height": null,
            "justify_content": null,
            "justify_items": null,
            "left": null,
            "margin": null,
            "max_height": null,
            "max_width": null,
            "min_height": null,
            "min_width": null,
            "object_fit": null,
            "object_position": null,
            "order": null,
            "overflow": null,
            "overflow_x": null,
            "overflow_y": null,
            "padding": null,
            "right": null,
            "top": null,
            "visibility": null,
            "width": null
          }
        },
        "66ae06f55d7e42f18ddb0098685bc3b4": {
          "model_module": "@jupyter-widgets/controls",
          "model_module_version": "1.5.0",
          "model_name": "DescriptionStyleModel",
          "state": {
            "_model_module": "@jupyter-widgets/controls",
            "_model_module_version": "1.5.0",
            "_model_name": "DescriptionStyleModel",
            "_view_count": null,
            "_view_module": "@jupyter-widgets/base",
            "_view_module_version": "1.2.0",
            "_view_name": "StyleView",
            "description_width": ""
          }
        },
        "67003253e6ec463ea2a1ec3199a3e538": {
          "model_module": "@jupyter-widgets/base",
          "model_module_version": "1.2.0",
          "model_name": "LayoutModel",
          "state": {
            "_model_module": "@jupyter-widgets/base",
            "_model_module_version": "1.2.0",
            "_model_name": "LayoutModel",
            "_view_count": null,
            "_view_module": "@jupyter-widgets/base",
            "_view_module_version": "1.2.0",
            "_view_name": "LayoutView",
            "align_content": null,
            "align_items": null,
            "align_self": null,
            "border": null,
            "bottom": null,
            "display": null,
            "flex": null,
            "flex_flow": null,
            "grid_area": null,
            "grid_auto_columns": null,
            "grid_auto_flow": null,
            "grid_auto_rows": null,
            "grid_column": null,
            "grid_gap": null,
            "grid_row": null,
            "grid_template_areas": null,
            "grid_template_columns": null,
            "grid_template_rows": null,
            "height": null,
            "justify_content": null,
            "justify_items": null,
            "left": null,
            "margin": null,
            "max_height": null,
            "max_width": null,
            "min_height": null,
            "min_width": null,
            "object_fit": null,
            "object_position": null,
            "order": null,
            "overflow": null,
            "overflow_x": null,
            "overflow_y": null,
            "padding": null,
            "right": null,
            "top": null,
            "visibility": null,
            "width": null
          }
        },
        "67935ab29b1f480b973ed26ffd545c9c": {
          "model_module": "@jupyter-widgets/base",
          "model_module_version": "1.2.0",
          "model_name": "LayoutModel",
          "state": {
            "_model_module": "@jupyter-widgets/base",
            "_model_module_version": "1.2.0",
            "_model_name": "LayoutModel",
            "_view_count": null,
            "_view_module": "@jupyter-widgets/base",
            "_view_module_version": "1.2.0",
            "_view_name": "LayoutView",
            "align_content": null,
            "align_items": null,
            "align_self": null,
            "border": null,
            "bottom": null,
            "display": null,
            "flex": null,
            "flex_flow": null,
            "grid_area": null,
            "grid_auto_columns": null,
            "grid_auto_flow": null,
            "grid_auto_rows": null,
            "grid_column": null,
            "grid_gap": null,
            "grid_row": null,
            "grid_template_areas": null,
            "grid_template_columns": null,
            "grid_template_rows": null,
            "height": null,
            "justify_content": null,
            "justify_items": null,
            "left": null,
            "margin": null,
            "max_height": null,
            "max_width": null,
            "min_height": null,
            "min_width": null,
            "object_fit": null,
            "object_position": null,
            "order": null,
            "overflow": null,
            "overflow_x": null,
            "overflow_y": null,
            "padding": null,
            "right": null,
            "top": null,
            "visibility": null,
            "width": null
          }
        },
        "679512250dbd4d4fad2d1802d4d8157a": {
          "model_module": "@jupyter-widgets/base",
          "model_module_version": "1.2.0",
          "model_name": "LayoutModel",
          "state": {
            "_model_module": "@jupyter-widgets/base",
            "_model_module_version": "1.2.0",
            "_model_name": "LayoutModel",
            "_view_count": null,
            "_view_module": "@jupyter-widgets/base",
            "_view_module_version": "1.2.0",
            "_view_name": "LayoutView",
            "align_content": null,
            "align_items": null,
            "align_self": null,
            "border": null,
            "bottom": null,
            "display": null,
            "flex": null,
            "flex_flow": null,
            "grid_area": null,
            "grid_auto_columns": null,
            "grid_auto_flow": null,
            "grid_auto_rows": null,
            "grid_column": null,
            "grid_gap": null,
            "grid_row": null,
            "grid_template_areas": null,
            "grid_template_columns": null,
            "grid_template_rows": null,
            "height": null,
            "justify_content": null,
            "justify_items": null,
            "left": null,
            "margin": null,
            "max_height": null,
            "max_width": null,
            "min_height": null,
            "min_width": null,
            "object_fit": null,
            "object_position": null,
            "order": null,
            "overflow": null,
            "overflow_x": null,
            "overflow_y": null,
            "padding": null,
            "right": null,
            "top": null,
            "visibility": null,
            "width": null
          }
        },
        "6836cde12f7441a58d6f3ef36e8eddd5": {
          "model_module": "@jupyter-widgets/base",
          "model_module_version": "1.2.0",
          "model_name": "LayoutModel",
          "state": {
            "_model_module": "@jupyter-widgets/base",
            "_model_module_version": "1.2.0",
            "_model_name": "LayoutModel",
            "_view_count": null,
            "_view_module": "@jupyter-widgets/base",
            "_view_module_version": "1.2.0",
            "_view_name": "LayoutView",
            "align_content": null,
            "align_items": null,
            "align_self": null,
            "border": null,
            "bottom": null,
            "display": null,
            "flex": null,
            "flex_flow": null,
            "grid_area": null,
            "grid_auto_columns": null,
            "grid_auto_flow": null,
            "grid_auto_rows": null,
            "grid_column": null,
            "grid_gap": null,
            "grid_row": null,
            "grid_template_areas": null,
            "grid_template_columns": null,
            "grid_template_rows": null,
            "height": null,
            "justify_content": null,
            "justify_items": null,
            "left": null,
            "margin": null,
            "max_height": null,
            "max_width": null,
            "min_height": null,
            "min_width": null,
            "object_fit": null,
            "object_position": null,
            "order": null,
            "overflow": null,
            "overflow_x": null,
            "overflow_y": null,
            "padding": null,
            "right": null,
            "top": null,
            "visibility": null,
            "width": null
          }
        },
        "6c183e3356e042f393b55e75bfc72cfc": {
          "model_module": "@jupyter-widgets/base",
          "model_module_version": "1.2.0",
          "model_name": "LayoutModel",
          "state": {
            "_model_module": "@jupyter-widgets/base",
            "_model_module_version": "1.2.0",
            "_model_name": "LayoutModel",
            "_view_count": null,
            "_view_module": "@jupyter-widgets/base",
            "_view_module_version": "1.2.0",
            "_view_name": "LayoutView",
            "align_content": null,
            "align_items": null,
            "align_self": null,
            "border": null,
            "bottom": null,
            "display": null,
            "flex": null,
            "flex_flow": null,
            "grid_area": null,
            "grid_auto_columns": null,
            "grid_auto_flow": null,
            "grid_auto_rows": null,
            "grid_column": null,
            "grid_gap": null,
            "grid_row": null,
            "grid_template_areas": null,
            "grid_template_columns": null,
            "grid_template_rows": null,
            "height": null,
            "justify_content": null,
            "justify_items": null,
            "left": null,
            "margin": null,
            "max_height": null,
            "max_width": null,
            "min_height": null,
            "min_width": null,
            "object_fit": null,
            "object_position": null,
            "order": null,
            "overflow": null,
            "overflow_x": null,
            "overflow_y": null,
            "padding": null,
            "right": null,
            "top": null,
            "visibility": null,
            "width": null
          }
        },
        "6e0b16d551aa47948642e631e9062920": {
          "model_module": "@jupyter-widgets/controls",
          "model_module_version": "1.5.0",
          "model_name": "HTMLModel",
          "state": {
            "_dom_classes": [],
            "_model_module": "@jupyter-widgets/controls",
            "_model_module_version": "1.5.0",
            "_model_name": "HTMLModel",
            "_view_count": null,
            "_view_module": "@jupyter-widgets/controls",
            "_view_module_version": "1.5.0",
            "_view_name": "HTMLView",
            "description": "",
            "description_tooltip": null,
            "layout": "IPY_MODEL_497b9397bf44423bb2ec59a9ee2882c4",
            "placeholder": "​",
            "style": "IPY_MODEL_ce45e545bdac4aef890be034ad012401",
            "value": "  0%"
          }
        },
        "6e50cb592a494439b4b9f94a7bc8b58a": {
          "model_module": "@jupyter-widgets/controls",
          "model_module_version": "1.5.0",
          "model_name": "HTMLModel",
          "state": {
            "_dom_classes": [],
            "_model_module": "@jupyter-widgets/controls",
            "_model_module_version": "1.5.0",
            "_model_name": "HTMLModel",
            "_view_count": null,
            "_view_module": "@jupyter-widgets/controls",
            "_view_module_version": "1.5.0",
            "_view_name": "HTMLView",
            "description": "",
            "description_tooltip": null,
            "layout": "IPY_MODEL_62ef9ddf7d944ff286abfcbffcbafbc3",
            "placeholder": "​",
            "style": "IPY_MODEL_4785a12ddb11481d8e647fd30a74a417",
            "value": "Downloading: 100%"
          }
        },
        "6f9b70ff2b0b4ad98521b5c0a6dfdbad": {
          "model_module": "@jupyter-widgets/base",
          "model_module_version": "1.2.0",
          "model_name": "LayoutModel",
          "state": {
            "_model_module": "@jupyter-widgets/base",
            "_model_module_version": "1.2.0",
            "_model_name": "LayoutModel",
            "_view_count": null,
            "_view_module": "@jupyter-widgets/base",
            "_view_module_version": "1.2.0",
            "_view_name": "LayoutView",
            "align_content": null,
            "align_items": null,
            "align_self": null,
            "border": null,
            "bottom": null,
            "display": null,
            "flex": null,
            "flex_flow": null,
            "grid_area": null,
            "grid_auto_columns": null,
            "grid_auto_flow": null,
            "grid_auto_rows": null,
            "grid_column": null,
            "grid_gap": null,
            "grid_row": null,
            "grid_template_areas": null,
            "grid_template_columns": null,
            "grid_template_rows": null,
            "height": null,
            "justify_content": null,
            "justify_items": null,
            "left": null,
            "margin": null,
            "max_height": null,
            "max_width": null,
            "min_height": null,
            "min_width": null,
            "object_fit": null,
            "object_position": null,
            "order": null,
            "overflow": null,
            "overflow_x": null,
            "overflow_y": null,
            "padding": null,
            "right": null,
            "top": null,
            "visibility": null,
            "width": null
          }
        },
        "6faf8819abaa41cdac3a04ec4919e664": {
          "model_module": "@jupyter-widgets/base",
          "model_module_version": "1.2.0",
          "model_name": "LayoutModel",
          "state": {
            "_model_module": "@jupyter-widgets/base",
            "_model_module_version": "1.2.0",
            "_model_name": "LayoutModel",
            "_view_count": null,
            "_view_module": "@jupyter-widgets/base",
            "_view_module_version": "1.2.0",
            "_view_name": "LayoutView",
            "align_content": null,
            "align_items": null,
            "align_self": null,
            "border": null,
            "bottom": null,
            "display": null,
            "flex": null,
            "flex_flow": null,
            "grid_area": null,
            "grid_auto_columns": null,
            "grid_auto_flow": null,
            "grid_auto_rows": null,
            "grid_column": null,
            "grid_gap": null,
            "grid_row": null,
            "grid_template_areas": null,
            "grid_template_columns": null,
            "grid_template_rows": null,
            "height": null,
            "justify_content": null,
            "justify_items": null,
            "left": null,
            "margin": null,
            "max_height": null,
            "max_width": null,
            "min_height": null,
            "min_width": null,
            "object_fit": null,
            "object_position": null,
            "order": null,
            "overflow": null,
            "overflow_x": null,
            "overflow_y": null,
            "padding": null,
            "right": null,
            "top": null,
            "visibility": null,
            "width": null
          }
        },
        "6fbead7edf704869b3fcf55162964a52": {
          "model_module": "@jupyter-widgets/controls",
          "model_module_version": "1.5.0",
          "model_name": "HBoxModel",
          "state": {
            "_dom_classes": [],
            "_model_module": "@jupyter-widgets/controls",
            "_model_module_version": "1.5.0",
            "_model_name": "HBoxModel",
            "_view_count": null,
            "_view_module": "@jupyter-widgets/controls",
            "_view_module_version": "1.5.0",
            "_view_name": "HBoxView",
            "box_style": "",
            "children": [
              "IPY_MODEL_c9cbf35d498848fba90e75405ea5083c",
              "IPY_MODEL_93c6f6bdbaa14ad5b22c7ee9d3485c09",
              "IPY_MODEL_7c67657d10084842bd9e35f015c89499"
            ],
            "layout": "IPY_MODEL_64fe22431e9f4c6cb5dff84ac9941f58"
          }
        },
        "7767681cd3f1467bba1fa445fc01b9b5": {
          "model_module": "@jupyter-widgets/controls",
          "model_module_version": "1.5.0",
          "model_name": "ProgressStyleModel",
          "state": {
            "_model_module": "@jupyter-widgets/controls",
            "_model_module_version": "1.5.0",
            "_model_name": "ProgressStyleModel",
            "_view_count": null,
            "_view_module": "@jupyter-widgets/base",
            "_view_module_version": "1.2.0",
            "_view_name": "StyleView",
            "bar_color": null,
            "description_width": ""
          }
        },
        "79646dfd31c44f00bc70280542178a36": {
          "model_module": "@jupyter-widgets/base",
          "model_module_version": "1.2.0",
          "model_name": "LayoutModel",
          "state": {
            "_model_module": "@jupyter-widgets/base",
            "_model_module_version": "1.2.0",
            "_model_name": "LayoutModel",
            "_view_count": null,
            "_view_module": "@jupyter-widgets/base",
            "_view_module_version": "1.2.0",
            "_view_name": "LayoutView",
            "align_content": null,
            "align_items": null,
            "align_self": null,
            "border": null,
            "bottom": null,
            "display": null,
            "flex": null,
            "flex_flow": null,
            "grid_area": null,
            "grid_auto_columns": null,
            "grid_auto_flow": null,
            "grid_auto_rows": null,
            "grid_column": null,
            "grid_gap": null,
            "grid_row": null,
            "grid_template_areas": null,
            "grid_template_columns": null,
            "grid_template_rows": null,
            "height": null,
            "justify_content": null,
            "justify_items": null,
            "left": null,
            "margin": null,
            "max_height": null,
            "max_width": null,
            "min_height": null,
            "min_width": null,
            "object_fit": null,
            "object_position": null,
            "order": null,
            "overflow": null,
            "overflow_x": null,
            "overflow_y": null,
            "padding": null,
            "right": null,
            "top": null,
            "visibility": null,
            "width": null
          }
        },
        "7a43b25576f541bc90f82572b05dfc7e": {
          "model_module": "@jupyter-widgets/controls",
          "model_module_version": "1.5.0",
          "model_name": "ProgressStyleModel",
          "state": {
            "_model_module": "@jupyter-widgets/controls",
            "_model_module_version": "1.5.0",
            "_model_name": "ProgressStyleModel",
            "_view_count": null,
            "_view_module": "@jupyter-widgets/base",
            "_view_module_version": "1.2.0",
            "_view_name": "StyleView",
            "bar_color": null,
            "description_width": ""
          }
        },
        "7c67657d10084842bd9e35f015c89499": {
          "model_module": "@jupyter-widgets/controls",
          "model_module_version": "1.5.0",
          "model_name": "HTMLModel",
          "state": {
            "_dom_classes": [],
            "_model_module": "@jupyter-widgets/controls",
            "_model_module_version": "1.5.0",
            "_model_name": "HTMLModel",
            "_view_count": null,
            "_view_module": "@jupyter-widgets/controls",
            "_view_module_version": "1.5.0",
            "_view_name": "HTMLView",
            "description": "",
            "description_tooltip": null,
            "layout": "IPY_MODEL_5f2398d85ce3415d829f5ccf040a2a29",
            "placeholder": "​",
            "style": "IPY_MODEL_33a08e760dfb4536824e98c92114dad6",
            "value": " 996k/996k [00:00&lt;00:00, 1.58MB/s]"
          }
        },
        "7d83ec11106241498a275d20ac051877": {
          "model_module": "@jupyter-widgets/controls",
          "model_module_version": "1.5.0",
          "model_name": "FloatProgressModel",
          "state": {
            "_dom_classes": [],
            "_model_module": "@jupyter-widgets/controls",
            "_model_module_version": "1.5.0",
            "_model_name": "FloatProgressModel",
            "_view_count": null,
            "_view_module": "@jupyter-widgets/controls",
            "_view_module_version": "1.5.0",
            "_view_name": "ProgressView",
            "bar_style": "success",
            "description": "",
            "description_tooltip": null,
            "layout": "IPY_MODEL_f70cb0820a8a4601aa76a8cca04eae0a",
            "max": 387,
            "min": 0,
            "orientation": "horizontal",
            "style": "IPY_MODEL_a900ae6c54274870b3f189819cf5e44d",
            "value": 387
          }
        },
        "8138b791ff564d14a8ab722f222326f5": {
          "model_module": "@jupyter-widgets/controls",
          "model_module_version": "1.5.0",
          "model_name": "DescriptionStyleModel",
          "state": {
            "_model_module": "@jupyter-widgets/controls",
            "_model_module_version": "1.5.0",
            "_model_name": "DescriptionStyleModel",
            "_view_count": null,
            "_view_module": "@jupyter-widgets/base",
            "_view_module_version": "1.2.0",
            "_view_name": "StyleView",
            "description_width": ""
          }
        },
        "8413f716b914435782c613057b9560f6": {
          "model_module": "@jupyter-widgets/base",
          "model_module_version": "1.2.0",
          "model_name": "LayoutModel",
          "state": {
            "_model_module": "@jupyter-widgets/base",
            "_model_module_version": "1.2.0",
            "_model_name": "LayoutModel",
            "_view_count": null,
            "_view_module": "@jupyter-widgets/base",
            "_view_module_version": "1.2.0",
            "_view_name": "LayoutView",
            "align_content": null,
            "align_items": null,
            "align_self": null,
            "border": null,
            "bottom": null,
            "display": null,
            "flex": null,
            "flex_flow": null,
            "grid_area": null,
            "grid_auto_columns": null,
            "grid_auto_flow": null,
            "grid_auto_rows": null,
            "grid_column": null,
            "grid_gap": null,
            "grid_row": null,
            "grid_template_areas": null,
            "grid_template_columns": null,
            "grid_template_rows": null,
            "height": null,
            "justify_content": null,
            "justify_items": null,
            "left": null,
            "margin": null,
            "max_height": null,
            "max_width": null,
            "min_height": null,
            "min_width": null,
            "object_fit": null,
            "object_position": null,
            "order": null,
            "overflow": null,
            "overflow_x": null,
            "overflow_y": null,
            "padding": null,
            "right": null,
            "top": null,
            "visibility": null,
            "width": null
          }
        },
        "849a706932134bae9e55339db781861d": {
          "model_module": "@jupyter-widgets/base",
          "model_module_version": "1.2.0",
          "model_name": "LayoutModel",
          "state": {
            "_model_module": "@jupyter-widgets/base",
            "_model_module_version": "1.2.0",
            "_model_name": "LayoutModel",
            "_view_count": null,
            "_view_module": "@jupyter-widgets/base",
            "_view_module_version": "1.2.0",
            "_view_name": "LayoutView",
            "align_content": null,
            "align_items": null,
            "align_self": null,
            "border": null,
            "bottom": null,
            "display": null,
            "flex": null,
            "flex_flow": null,
            "grid_area": null,
            "grid_auto_columns": null,
            "grid_auto_flow": null,
            "grid_auto_rows": null,
            "grid_column": null,
            "grid_gap": null,
            "grid_row": null,
            "grid_template_areas": null,
            "grid_template_columns": null,
            "grid_template_rows": null,
            "height": null,
            "justify_content": null,
            "justify_items": null,
            "left": null,
            "margin": null,
            "max_height": null,
            "max_width": null,
            "min_height": null,
            "min_width": null,
            "object_fit": null,
            "object_position": null,
            "order": null,
            "overflow": null,
            "overflow_x": null,
            "overflow_y": null,
            "padding": null,
            "right": null,
            "top": null,
            "visibility": null,
            "width": null
          }
        },
        "887d3e15c17e49b383e1ecc75e74255c": {
          "model_module": "@jupyter-widgets/controls",
          "model_module_version": "1.5.0",
          "model_name": "FloatProgressModel",
          "state": {
            "_dom_classes": [],
            "_model_module": "@jupyter-widgets/controls",
            "_model_module_version": "1.5.0",
            "_model_name": "FloatProgressModel",
            "_view_count": null,
            "_view_module": "@jupyter-widgets/controls",
            "_view_module_version": "1.5.0",
            "_view_name": "ProgressView",
            "bar_style": "success",
            "description": "",
            "description_tooltip": null,
            "layout": "IPY_MODEL_99fde9b8f09b4e8bad4530222a263f20",
            "max": 611,
            "min": 0,
            "orientation": "horizontal",
            "style": "IPY_MODEL_7767681cd3f1467bba1fa445fc01b9b5",
            "value": 611
          }
        },
        "8b2e74c4af2e450788219cde6c43e32b": {
          "model_module": "@jupyter-widgets/controls",
          "model_module_version": "1.5.0",
          "model_name": "ProgressStyleModel",
          "state": {
            "_model_module": "@jupyter-widgets/controls",
            "_model_module_version": "1.5.0",
            "_model_name": "ProgressStyleModel",
            "_view_count": null,
            "_view_module": "@jupyter-widgets/base",
            "_view_module_version": "1.2.0",
            "_view_name": "StyleView",
            "bar_color": null,
            "description_width": ""
          }
        },
        "8dd53ecbb29d483b876ec0b502e0d19f": {
          "model_module": "@jupyter-widgets/base",
          "model_module_version": "1.2.0",
          "model_name": "LayoutModel",
          "state": {
            "_model_module": "@jupyter-widgets/base",
            "_model_module_version": "1.2.0",
            "_model_name": "LayoutModel",
            "_view_count": null,
            "_view_module": "@jupyter-widgets/base",
            "_view_module_version": "1.2.0",
            "_view_name": "LayoutView",
            "align_content": null,
            "align_items": null,
            "align_self": null,
            "border": null,
            "bottom": null,
            "display": null,
            "flex": null,
            "flex_flow": null,
            "grid_area": null,
            "grid_auto_columns": null,
            "grid_auto_flow": null,
            "grid_auto_rows": null,
            "grid_column": null,
            "grid_gap": null,
            "grid_row": null,
            "grid_template_areas": null,
            "grid_template_columns": null,
            "grid_template_rows": null,
            "height": null,
            "justify_content": null,
            "justify_items": null,
            "left": null,
            "margin": null,
            "max_height": null,
            "max_width": null,
            "min_height": null,
            "min_width": null,
            "object_fit": null,
            "object_position": null,
            "order": null,
            "overflow": null,
            "overflow_x": null,
            "overflow_y": null,
            "padding": null,
            "right": null,
            "top": null,
            "visibility": null,
            "width": null
          }
        },
        "8e75d2855b354b819f19eb40df5c4ad2": {
          "model_module": "@jupyter-widgets/base",
          "model_module_version": "1.2.0",
          "model_name": "LayoutModel",
          "state": {
            "_model_module": "@jupyter-widgets/base",
            "_model_module_version": "1.2.0",
            "_model_name": "LayoutModel",
            "_view_count": null,
            "_view_module": "@jupyter-widgets/base",
            "_view_module_version": "1.2.0",
            "_view_name": "LayoutView",
            "align_content": null,
            "align_items": null,
            "align_self": null,
            "border": null,
            "bottom": null,
            "display": null,
            "flex": null,
            "flex_flow": null,
            "grid_area": null,
            "grid_auto_columns": null,
            "grid_auto_flow": null,
            "grid_auto_rows": null,
            "grid_column": null,
            "grid_gap": null,
            "grid_row": null,
            "grid_template_areas": null,
            "grid_template_columns": null,
            "grid_template_rows": null,
            "height": null,
            "justify_content": null,
            "justify_items": null,
            "left": null,
            "margin": null,
            "max_height": null,
            "max_width": null,
            "min_height": null,
            "min_width": null,
            "object_fit": null,
            "object_position": null,
            "order": null,
            "overflow": null,
            "overflow_x": null,
            "overflow_y": null,
            "padding": null,
            "right": null,
            "top": null,
            "visibility": null,
            "width": null
          }
        },
        "8f356e96f6ca4156ac4d96f4f280e561": {
          "model_module": "@jupyter-widgets/controls",
          "model_module_version": "1.5.0",
          "model_name": "ProgressStyleModel",
          "state": {
            "_model_module": "@jupyter-widgets/controls",
            "_model_module_version": "1.5.0",
            "_model_name": "ProgressStyleModel",
            "_view_count": null,
            "_view_module": "@jupyter-widgets/base",
            "_view_module_version": "1.2.0",
            "_view_name": "StyleView",
            "bar_color": null,
            "description_width": ""
          }
        },
        "8f7a801976b542098f8d76de8f90e5b9": {
          "model_module": "@jupyter-widgets/controls",
          "model_module_version": "1.5.0",
          "model_name": "HTMLModel",
          "state": {
            "_dom_classes": [],
            "_model_module": "@jupyter-widgets/controls",
            "_model_module_version": "1.5.0",
            "_model_name": "HTMLModel",
            "_view_count": null,
            "_view_module": "@jupyter-widgets/controls",
            "_view_module_version": "1.5.0",
            "_view_name": "HTMLView",
            "description": "",
            "description_tooltip": null,
            "layout": "IPY_MODEL_67935ab29b1f480b973ed26ffd545c9c",
            "placeholder": "​",
            "style": "IPY_MODEL_bc1764008e334726bac1b60996cd1490",
            "value": "Downloading: 100%"
          }
        },
        "8fd2f09582af4e8e92703f1d016d00a0": {
          "model_module": "@jupyter-widgets/controls",
          "model_module_version": "1.5.0",
          "model_name": "FloatProgressModel",
          "state": {
            "_dom_classes": [],
            "_model_module": "@jupyter-widgets/controls",
            "_model_module_version": "1.5.0",
            "_model_name": "FloatProgressModel",
            "_view_count": null,
            "_view_module": "@jupyter-widgets/controls",
            "_view_module_version": "1.5.0",
            "_view_name": "ProgressView",
            "bar_style": "success",
            "description": "",
            "description_tooltip": null,
            "layout": "IPY_MODEL_31a62f7123bd4845b6ea793ee619ff23",
            "max": 714314041,
            "min": 0,
            "orientation": "horizontal",
            "style": "IPY_MODEL_ccd2cb6a53a940f9bf5a9d9881dc8598",
            "value": 714314041
          }
        },
        "9065494bba314a379a9f430a40b723f2": {
          "model_module": "@jupyter-widgets/base",
          "model_module_version": "1.2.0",
          "model_name": "LayoutModel",
          "state": {
            "_model_module": "@jupyter-widgets/base",
            "_model_module_version": "1.2.0",
            "_model_name": "LayoutModel",
            "_view_count": null,
            "_view_module": "@jupyter-widgets/base",
            "_view_module_version": "1.2.0",
            "_view_name": "LayoutView",
            "align_content": null,
            "align_items": null,
            "align_self": null,
            "border": null,
            "bottom": null,
            "display": null,
            "flex": null,
            "flex_flow": null,
            "grid_area": null,
            "grid_auto_columns": null,
            "grid_auto_flow": null,
            "grid_auto_rows": null,
            "grid_column": null,
            "grid_gap": null,
            "grid_row": null,
            "grid_template_areas": null,
            "grid_template_columns": null,
            "grid_template_rows": null,
            "height": null,
            "justify_content": null,
            "justify_items": null,
            "left": null,
            "margin": null,
            "max_height": null,
            "max_width": null,
            "min_height": null,
            "min_width": null,
            "object_fit": null,
            "object_position": null,
            "order": null,
            "overflow": null,
            "overflow_x": null,
            "overflow_y": null,
            "padding": null,
            "right": null,
            "top": null,
            "visibility": null,
            "width": null
          }
        },
        "90f47777130246f189a7f71303cbba25": {
          "model_module": "@jupyter-widgets/controls",
          "model_module_version": "1.5.0",
          "model_name": "FloatProgressModel",
          "state": {
            "_dom_classes": [],
            "_model_module": "@jupyter-widgets/controls",
            "_model_module_version": "1.5.0",
            "_model_name": "FloatProgressModel",
            "_view_count": null,
            "_view_module": "@jupyter-widgets/controls",
            "_view_module_version": "1.5.0",
            "_view_name": "ProgressView",
            "bar_style": "success",
            "description": "",
            "description_tooltip": null,
            "layout": "IPY_MODEL_b29a47c1a1304d97a9887d152708fa97",
            "max": 510406637,
            "min": 0,
            "orientation": "horizontal",
            "style": "IPY_MODEL_a8b6f4892c39429f964f3116da06658c",
            "value": 510406637
          }
        },
        "917931445d324a589423a4a01e73f525": {
          "model_module": "@jupyter-widgets/controls",
          "model_module_version": "1.5.0",
          "model_name": "HTMLModel",
          "state": {
            "_dom_classes": [],
            "_model_module": "@jupyter-widgets/controls",
            "_model_module_version": "1.5.0",
            "_model_name": "HTMLModel",
            "_view_count": null,
            "_view_module": "@jupyter-widgets/controls",
            "_view_module_version": "1.5.0",
            "_view_name": "HTMLView",
            "description": "",
            "description_tooltip": null,
            "layout": "IPY_MODEL_fc03830972ea4fd3984cf086a31524fc",
            "placeholder": "​",
            "style": "IPY_MODEL_cc4f008fe0264743872a2a179dec3935",
            "value": " 517k/517k [00:00&lt;00:00, 1.47MB/s]"
          }
        },
        "925c0ad68bce43e18503b455650d90d4": {
          "model_module": "@jupyter-widgets/controls",
          "model_module_version": "1.5.0",
          "model_name": "ProgressStyleModel",
          "state": {
            "_model_module": "@jupyter-widgets/controls",
            "_model_module_version": "1.5.0",
            "_model_name": "ProgressStyleModel",
            "_view_count": null,
            "_view_module": "@jupyter-widgets/base",
            "_view_module_version": "1.2.0",
            "_view_name": "StyleView",
            "bar_color": null,
            "description_width": ""
          }
        },
        "93c6f6bdbaa14ad5b22c7ee9d3485c09": {
          "model_module": "@jupyter-widgets/controls",
          "model_module_version": "1.5.0",
          "model_name": "FloatProgressModel",
          "state": {
            "_dom_classes": [],
            "_model_module": "@jupyter-widgets/controls",
            "_model_module_version": "1.5.0",
            "_model_name": "FloatProgressModel",
            "_view_count": null,
            "_view_module": "@jupyter-widgets/controls",
            "_view_module_version": "1.5.0",
            "_view_name": "ProgressView",
            "bar_style": "success",
            "description": "",
            "description_tooltip": null,
            "layout": "IPY_MODEL_27011527c1104695adde4111887ddf59",
            "max": 995526,
            "min": 0,
            "orientation": "horizontal",
            "style": "IPY_MODEL_f1ca15914b43491ea5c5cc695cdb9147",
            "value": 995526
          }
        },
        "93feae91d9f14c95bd6b4f33baa65730": {
          "model_module": "@jupyter-widgets/controls",
          "model_module_version": "1.5.0",
          "model_name": "ProgressStyleModel",
          "state": {
            "_model_module": "@jupyter-widgets/controls",
            "_model_module_version": "1.5.0",
            "_model_name": "ProgressStyleModel",
            "_view_count": null,
            "_view_module": "@jupyter-widgets/base",
            "_view_module_version": "1.2.0",
            "_view_name": "StyleView",
            "bar_color": null,
            "description_width": ""
          }
        },
        "97caba3934d345f09fef58c605d33e03": {
          "model_module": "@jupyter-widgets/controls",
          "model_module_version": "1.5.0",
          "model_name": "DescriptionStyleModel",
          "state": {
            "_model_module": "@jupyter-widgets/controls",
            "_model_module_version": "1.5.0",
            "_model_name": "DescriptionStyleModel",
            "_view_count": null,
            "_view_module": "@jupyter-widgets/base",
            "_view_module_version": "1.2.0",
            "_view_name": "StyleView",
            "description_width": ""
          }
        },
        "98871b12d940438d882a71338a92e18f": {
          "model_module": "@jupyter-widgets/base",
          "model_module_version": "1.2.0",
          "model_name": "LayoutModel",
          "state": {
            "_model_module": "@jupyter-widgets/base",
            "_model_module_version": "1.2.0",
            "_model_name": "LayoutModel",
            "_view_count": null,
            "_view_module": "@jupyter-widgets/base",
            "_view_module_version": "1.2.0",
            "_view_name": "LayoutView",
            "align_content": null,
            "align_items": null,
            "align_self": null,
            "border": null,
            "bottom": null,
            "display": null,
            "flex": null,
            "flex_flow": null,
            "grid_area": null,
            "grid_auto_columns": null,
            "grid_auto_flow": null,
            "grid_auto_rows": null,
            "grid_column": null,
            "grid_gap": null,
            "grid_row": null,
            "grid_template_areas": null,
            "grid_template_columns": null,
            "grid_template_rows": null,
            "height": null,
            "justify_content": null,
            "justify_items": null,
            "left": null,
            "margin": null,
            "max_height": null,
            "max_width": null,
            "min_height": null,
            "min_width": null,
            "object_fit": null,
            "object_position": null,
            "order": null,
            "overflow": null,
            "overflow_x": null,
            "overflow_y": null,
            "padding": null,
            "right": null,
            "top": null,
            "visibility": null,
            "width": null
          }
        },
        "99c6553a4b9a41ce945dea0618587cc7": {
          "model_module": "@jupyter-widgets/base",
          "model_module_version": "1.2.0",
          "model_name": "LayoutModel",
          "state": {
            "_model_module": "@jupyter-widgets/base",
            "_model_module_version": "1.2.0",
            "_model_name": "LayoutModel",
            "_view_count": null,
            "_view_module": "@jupyter-widgets/base",
            "_view_module_version": "1.2.0",
            "_view_name": "LayoutView",
            "align_content": null,
            "align_items": null,
            "align_self": null,
            "border": null,
            "bottom": null,
            "display": null,
            "flex": null,
            "flex_flow": null,
            "grid_area": null,
            "grid_auto_columns": null,
            "grid_auto_flow": null,
            "grid_auto_rows": null,
            "grid_column": null,
            "grid_gap": null,
            "grid_row": null,
            "grid_template_areas": null,
            "grid_template_columns": null,
            "grid_template_rows": null,
            "height": null,
            "justify_content": null,
            "justify_items": null,
            "left": null,
            "margin": null,
            "max_height": null,
            "max_width": null,
            "min_height": null,
            "min_width": null,
            "object_fit": null,
            "object_position": null,
            "order": null,
            "overflow": null,
            "overflow_x": null,
            "overflow_y": null,
            "padding": null,
            "right": null,
            "top": null,
            "visibility": null,
            "width": null
          }
        },
        "99fde9b8f09b4e8bad4530222a263f20": {
          "model_module": "@jupyter-widgets/base",
          "model_module_version": "1.2.0",
          "model_name": "LayoutModel",
          "state": {
            "_model_module": "@jupyter-widgets/base",
            "_model_module_version": "1.2.0",
            "_model_name": "LayoutModel",
            "_view_count": null,
            "_view_module": "@jupyter-widgets/base",
            "_view_module_version": "1.2.0",
            "_view_name": "LayoutView",
            "align_content": null,
            "align_items": null,
            "align_self": null,
            "border": null,
            "bottom": null,
            "display": null,
            "flex": null,
            "flex_flow": null,
            "grid_area": null,
            "grid_auto_columns": null,
            "grid_auto_flow": null,
            "grid_auto_rows": null,
            "grid_column": null,
            "grid_gap": null,
            "grid_row": null,
            "grid_template_areas": null,
            "grid_template_columns": null,
            "grid_template_rows": null,
            "height": null,
            "justify_content": null,
            "justify_items": null,
            "left": null,
            "margin": null,
            "max_height": null,
            "max_width": null,
            "min_height": null,
            "min_width": null,
            "object_fit": null,
            "object_position": null,
            "order": null,
            "overflow": null,
            "overflow_x": null,
            "overflow_y": null,
            "padding": null,
            "right": null,
            "top": null,
            "visibility": null,
            "width": null
          }
        },
        "9a631cb38d0843b18eb3c6e7f0833f5a": {
          "model_module": "@jupyter-widgets/controls",
          "model_module_version": "1.5.0",
          "model_name": "HTMLModel",
          "state": {
            "_dom_classes": [],
            "_model_module": "@jupyter-widgets/controls",
            "_model_module_version": "1.5.0",
            "_model_name": "HTMLModel",
            "_view_count": null,
            "_view_module": "@jupyter-widgets/controls",
            "_view_module_version": "1.5.0",
            "_view_name": "HTMLView",
            "description": "",
            "description_tooltip": null,
            "layout": "IPY_MODEL_f71d13faec5b4fd98c31861556e57dd4",
            "placeholder": "​",
            "style": "IPY_MODEL_db84a59309ea4718bf8b177c453065b6",
            "value": " 510M/510M [00:18&lt;00:00, 33.9MB/s]"
          }
        },
        "9b0eb87a9e154971bdc99cf619e6a71f": {
          "model_module": "@jupyter-widgets/controls",
          "model_module_version": "1.5.0",
          "model_name": "HBoxModel",
          "state": {
            "_dom_classes": [],
            "_model_module": "@jupyter-widgets/controls",
            "_model_module_version": "1.5.0",
            "_model_name": "HBoxModel",
            "_view_count": null,
            "_view_module": "@jupyter-widgets/controls",
            "_view_module_version": "1.5.0",
            "_view_name": "HBoxView",
            "box_style": "",
            "children": [
              "IPY_MODEL_3f9e18cc46da405b8425ea22d4e7ac46",
              "IPY_MODEL_e5ef41dc44c0475484abb795f1afa6c8",
              "IPY_MODEL_ed822b646a334d9381639b1db4821f96"
            ],
            "layout": "IPY_MODEL_397b1b186b1c47a5b6264f8566f64f89"
          }
        },
        "9cfb64db7666463791b51a267719da01": {
          "model_module": "@jupyter-widgets/base",
          "model_module_version": "1.2.0",
          "model_name": "LayoutModel",
          "state": {
            "_model_module": "@jupyter-widgets/base",
            "_model_module_version": "1.2.0",
            "_model_name": "LayoutModel",
            "_view_count": null,
            "_view_module": "@jupyter-widgets/base",
            "_view_module_version": "1.2.0",
            "_view_name": "LayoutView",
            "align_content": null,
            "align_items": null,
            "align_self": null,
            "border": null,
            "bottom": null,
            "display": null,
            "flex": null,
            "flex_flow": null,
            "grid_area": null,
            "grid_auto_columns": null,
            "grid_auto_flow": null,
            "grid_auto_rows": null,
            "grid_column": null,
            "grid_gap": null,
            "grid_row": null,
            "grid_template_areas": null,
            "grid_template_columns": null,
            "grid_template_rows": null,
            "height": null,
            "justify_content": null,
            "justify_items": null,
            "left": null,
            "margin": null,
            "max_height": null,
            "max_width": null,
            "min_height": null,
            "min_width": null,
            "object_fit": null,
            "object_position": null,
            "order": null,
            "overflow": null,
            "overflow_x": null,
            "overflow_y": null,
            "padding": null,
            "right": null,
            "top": null,
            "visibility": null,
            "width": null
          }
        },
        "9cff0e05d3c94ddab2f5d71ea52fb26d": {
          "model_module": "@jupyter-widgets/base",
          "model_module_version": "1.2.0",
          "model_name": "LayoutModel",
          "state": {
            "_model_module": "@jupyter-widgets/base",
            "_model_module_version": "1.2.0",
            "_model_name": "LayoutModel",
            "_view_count": null,
            "_view_module": "@jupyter-widgets/base",
            "_view_module_version": "1.2.0",
            "_view_name": "LayoutView",
            "align_content": null,
            "align_items": null,
            "align_self": null,
            "border": null,
            "bottom": null,
            "display": null,
            "flex": null,
            "flex_flow": null,
            "grid_area": null,
            "grid_auto_columns": null,
            "grid_auto_flow": null,
            "grid_auto_rows": null,
            "grid_column": null,
            "grid_gap": null,
            "grid_row": null,
            "grid_template_areas": null,
            "grid_template_columns": null,
            "grid_template_rows": null,
            "height": null,
            "justify_content": null,
            "justify_items": null,
            "left": null,
            "margin": null,
            "max_height": null,
            "max_width": null,
            "min_height": null,
            "min_width": null,
            "object_fit": null,
            "object_position": null,
            "order": null,
            "overflow": null,
            "overflow_x": null,
            "overflow_y": null,
            "padding": null,
            "right": null,
            "top": null,
            "visibility": null,
            "width": null
          }
        },
        "a03ca422595049ba8d81a345f7b0eb62": {
          "model_module": "@jupyter-widgets/controls",
          "model_module_version": "1.5.0",
          "model_name": "HBoxModel",
          "state": {
            "_dom_classes": [],
            "_model_module": "@jupyter-widgets/controls",
            "_model_module_version": "1.5.0",
            "_model_name": "HBoxModel",
            "_view_count": null,
            "_view_module": "@jupyter-widgets/controls",
            "_view_module_version": "1.5.0",
            "_view_name": "HBoxView",
            "box_style": "",
            "children": [
              "IPY_MODEL_8f7a801976b542098f8d76de8f90e5b9",
              "IPY_MODEL_7d83ec11106241498a275d20ac051877",
              "IPY_MODEL_06c3349751d04749b0d4d664dc0795d0"
            ],
            "layout": "IPY_MODEL_12d712126ebe475ead3192865f70d942"
          }
        },
        "a42dd9d1472b43af994dd46263fad57a": {
          "model_module": "@jupyter-widgets/controls",
          "model_module_version": "1.5.0",
          "model_name": "HTMLModel",
          "state": {
            "_dom_classes": [],
            "_model_module": "@jupyter-widgets/controls",
            "_model_module_version": "1.5.0",
            "_model_name": "HTMLModel",
            "_view_count": null,
            "_view_module": "@jupyter-widgets/controls",
            "_view_module_version": "1.5.0",
            "_view_name": "HTMLView",
            "description": "",
            "description_tooltip": null,
            "layout": "IPY_MODEL_be02061d4b774e5ba065437306cf7465",
            "placeholder": "​",
            "style": "IPY_MODEL_d0f8e7c281844e75bb1ca1fa03940abb",
            "value": "Downloading: 100%"
          }
        },
        "a4b0e87a948b411b826c67aef36b0ef1": {
          "model_module": "@jupyter-widgets/base",
          "model_module_version": "1.2.0",
          "model_name": "LayoutModel",
          "state": {
            "_model_module": "@jupyter-widgets/base",
            "_model_module_version": "1.2.0",
            "_model_name": "LayoutModel",
            "_view_count": null,
            "_view_module": "@jupyter-widgets/base",
            "_view_module_version": "1.2.0",
            "_view_name": "LayoutView",
            "align_content": null,
            "align_items": null,
            "align_self": null,
            "border": null,
            "bottom": null,
            "display": null,
            "flex": null,
            "flex_flow": null,
            "grid_area": null,
            "grid_auto_columns": null,
            "grid_auto_flow": null,
            "grid_auto_rows": null,
            "grid_column": null,
            "grid_gap": null,
            "grid_row": null,
            "grid_template_areas": null,
            "grid_template_columns": null,
            "grid_template_rows": null,
            "height": null,
            "justify_content": null,
            "justify_items": null,
            "left": null,
            "margin": null,
            "max_height": null,
            "max_width": null,
            "min_height": null,
            "min_width": null,
            "object_fit": null,
            "object_position": null,
            "order": null,
            "overflow": null,
            "overflow_x": null,
            "overflow_y": null,
            "padding": null,
            "right": null,
            "top": null,
            "visibility": null,
            "width": null
          }
        },
        "a5d61654611a4ff5a7ff5ed4f45a0965": {
          "model_module": "@jupyter-widgets/base",
          "model_module_version": "1.2.0",
          "model_name": "LayoutModel",
          "state": {
            "_model_module": "@jupyter-widgets/base",
            "_model_module_version": "1.2.0",
            "_model_name": "LayoutModel",
            "_view_count": null,
            "_view_module": "@jupyter-widgets/base",
            "_view_module_version": "1.2.0",
            "_view_name": "LayoutView",
            "align_content": null,
            "align_items": null,
            "align_self": null,
            "border": null,
            "bottom": null,
            "display": null,
            "flex": null,
            "flex_flow": null,
            "grid_area": null,
            "grid_auto_columns": null,
            "grid_auto_flow": null,
            "grid_auto_rows": null,
            "grid_column": null,
            "grid_gap": null,
            "grid_row": null,
            "grid_template_areas": null,
            "grid_template_columns": null,
            "grid_template_rows": null,
            "height": null,
            "justify_content": null,
            "justify_items": null,
            "left": null,
            "margin": null,
            "max_height": null,
            "max_width": null,
            "min_height": null,
            "min_width": null,
            "object_fit": null,
            "object_position": null,
            "order": null,
            "overflow": null,
            "overflow_x": null,
            "overflow_y": null,
            "padding": null,
            "right": null,
            "top": null,
            "visibility": null,
            "width": null
          }
        },
        "a878350a1ba54fd2b2bd48236ae5ae5d": {
          "model_module": "@jupyter-widgets/controls",
          "model_module_version": "1.5.0",
          "model_name": "HBoxModel",
          "state": {
            "_dom_classes": [],
            "_model_module": "@jupyter-widgets/controls",
            "_model_module_version": "1.5.0",
            "_model_name": "HBoxModel",
            "_view_count": null,
            "_view_module": "@jupyter-widgets/controls",
            "_view_module_version": "1.5.0",
            "_view_name": "HBoxView",
            "box_style": "",
            "children": [
              "IPY_MODEL_ea26c280bd7a43568cf51d3a09677e9c",
              "IPY_MODEL_90f47777130246f189a7f71303cbba25",
              "IPY_MODEL_9a631cb38d0843b18eb3c6e7f0833f5a"
            ],
            "layout": "IPY_MODEL_6f9b70ff2b0b4ad98521b5c0a6dfdbad"
          }
        },
        "a8b6f4892c39429f964f3116da06658c": {
          "model_module": "@jupyter-widgets/controls",
          "model_module_version": "1.5.0",
          "model_name": "ProgressStyleModel",
          "state": {
            "_model_module": "@jupyter-widgets/controls",
            "_model_module_version": "1.5.0",
            "_model_name": "ProgressStyleModel",
            "_view_count": null,
            "_view_module": "@jupyter-widgets/base",
            "_view_module_version": "1.2.0",
            "_view_name": "StyleView",
            "bar_color": null,
            "description_width": ""
          }
        },
        "a900ae6c54274870b3f189819cf5e44d": {
          "model_module": "@jupyter-widgets/controls",
          "model_module_version": "1.5.0",
          "model_name": "ProgressStyleModel",
          "state": {
            "_model_module": "@jupyter-widgets/controls",
            "_model_module_version": "1.5.0",
            "_model_name": "ProgressStyleModel",
            "_view_count": null,
            "_view_module": "@jupyter-widgets/base",
            "_view_module_version": "1.2.0",
            "_view_name": "StyleView",
            "bar_color": null,
            "description_width": ""
          }
        },
        "a971ed98b581469589970e6995f03108": {
          "model_module": "@jupyter-widgets/controls",
          "model_module_version": "1.5.0",
          "model_name": "ProgressStyleModel",
          "state": {
            "_model_module": "@jupyter-widgets/controls",
            "_model_module_version": "1.5.0",
            "_model_name": "ProgressStyleModel",
            "_view_count": null,
            "_view_module": "@jupyter-widgets/base",
            "_view_module_version": "1.2.0",
            "_view_name": "StyleView",
            "bar_color": null,
            "description_width": ""
          }
        },
        "ad3e95fbf3524dd6a8916c04f677b7af": {
          "model_module": "@jupyter-widgets/controls",
          "model_module_version": "1.5.0",
          "model_name": "DescriptionStyleModel",
          "state": {
            "_model_module": "@jupyter-widgets/controls",
            "_model_module_version": "1.5.0",
            "_model_name": "DescriptionStyleModel",
            "_view_count": null,
            "_view_module": "@jupyter-widgets/base",
            "_view_module_version": "1.2.0",
            "_view_name": "StyleView",
            "description_width": ""
          }
        },
        "b112819194554b46b24fd1de5928a613": {
          "model_module": "@jupyter-widgets/controls",
          "model_module_version": "1.5.0",
          "model_name": "HBoxModel",
          "state": {
            "_dom_classes": [],
            "_model_module": "@jupyter-widgets/controls",
            "_model_module_version": "1.5.0",
            "_model_name": "HBoxModel",
            "_view_count": null,
            "_view_module": "@jupyter-widgets/controls",
            "_view_module_version": "1.5.0",
            "_view_name": "HBoxView",
            "box_style": "",
            "children": [
              "IPY_MODEL_e13a22a132e84a2cbc633afb228ed5a0",
              "IPY_MODEL_b7d6d72f8fe346fcb469dfe0c5c085b2",
              "IPY_MODEL_4727baf429df4e4196e63ff7fa2b16bc"
            ],
            "layout": "IPY_MODEL_14732f05efd747e19d8e5e362099cefa"
          }
        },
        "b281ab3aa3f84c31af57ffb470c6fa50": {
          "model_module": "@jupyter-widgets/controls",
          "model_module_version": "1.5.0",
          "model_name": "HTMLModel",
          "state": {
            "_dom_classes": [],
            "_model_module": "@jupyter-widgets/controls",
            "_model_module_version": "1.5.0",
            "_model_name": "HTMLModel",
            "_view_count": null,
            "_view_module": "@jupyter-widgets/controls",
            "_view_module_version": "1.5.0",
            "_view_name": "HTMLView",
            "description": "",
            "description_tooltip": null,
            "layout": "IPY_MODEL_523437e83d354d4a83c25a4a7a4252cb",
            "placeholder": "​",
            "style": "IPY_MODEL_fe05df612b68427083654a1ade9de1c0",
            "value": " 842/842 [00:00&lt;00:00, 7.37kB/s]"
          }
        },
        "b29a47c1a1304d97a9887d152708fa97": {
          "model_module": "@jupyter-widgets/base",
          "model_module_version": "1.2.0",
          "model_name": "LayoutModel",
          "state": {
            "_model_module": "@jupyter-widgets/base",
            "_model_module_version": "1.2.0",
            "_model_name": "LayoutModel",
            "_view_count": null,
            "_view_module": "@jupyter-widgets/base",
            "_view_module_version": "1.2.0",
            "_view_name": "LayoutView",
            "align_content": null,
            "align_items": null,
            "align_self": null,
            "border": null,
            "bottom": null,
            "display": null,
            "flex": null,
            "flex_flow": null,
            "grid_area": null,
            "grid_auto_columns": null,
            "grid_auto_flow": null,
            "grid_auto_rows": null,
            "grid_column": null,
            "grid_gap": null,
            "grid_row": null,
            "grid_template_areas": null,
            "grid_template_columns": null,
            "grid_template_rows": null,
            "height": null,
            "justify_content": null,
            "justify_items": null,
            "left": null,
            "margin": null,
            "max_height": null,
            "max_width": null,
            "min_height": null,
            "min_width": null,
            "object_fit": null,
            "object_position": null,
            "order": null,
            "overflow": null,
            "overflow_x": null,
            "overflow_y": null,
            "padding": null,
            "right": null,
            "top": null,
            "visibility": null,
            "width": null
          }
        },
        "b43602998fd84255a7f697ea4c216a2c": {
          "model_module": "@jupyter-widgets/controls",
          "model_module_version": "1.5.0",
          "model_name": "DescriptionStyleModel",
          "state": {
            "_model_module": "@jupyter-widgets/controls",
            "_model_module_version": "1.5.0",
            "_model_name": "DescriptionStyleModel",
            "_view_count": null,
            "_view_module": "@jupyter-widgets/base",
            "_view_module_version": "1.2.0",
            "_view_name": "StyleView",
            "description_width": ""
          }
        },
        "b4f04e2535784722899438102306c6b3": {
          "model_module": "@jupyter-widgets/controls",
          "model_module_version": "1.5.0",
          "model_name": "DescriptionStyleModel",
          "state": {
            "_model_module": "@jupyter-widgets/controls",
            "_model_module_version": "1.5.0",
            "_model_name": "DescriptionStyleModel",
            "_view_count": null,
            "_view_module": "@jupyter-widgets/base",
            "_view_module_version": "1.2.0",
            "_view_name": "StyleView",
            "description_width": ""
          }
        },
        "b7d6d72f8fe346fcb469dfe0c5c085b2": {
          "model_module": "@jupyter-widgets/controls",
          "model_module_version": "1.5.0",
          "model_name": "FloatProgressModel",
          "state": {
            "_dom_classes": [],
            "_model_module": "@jupyter-widgets/controls",
            "_model_module_version": "1.5.0",
            "_model_name": "FloatProgressModel",
            "_view_count": null,
            "_view_module": "@jupyter-widgets/controls",
            "_view_module_version": "1.5.0",
            "_view_name": "ProgressView",
            "bar_style": "success",
            "description": "",
            "description_tooltip": null,
            "layout": "IPY_MODEL_50be03685fe14f7485c6dacb57ec204d",
            "max": 266,
            "min": 0,
            "orientation": "horizontal",
            "style": "IPY_MODEL_8b2e74c4af2e450788219cde6c43e32b",
            "value": 266
          }
        },
        "bc1764008e334726bac1b60996cd1490": {
          "model_module": "@jupyter-widgets/controls",
          "model_module_version": "1.5.0",
          "model_name": "DescriptionStyleModel",
          "state": {
            "_model_module": "@jupyter-widgets/controls",
            "_model_module_version": "1.5.0",
            "_model_name": "DescriptionStyleModel",
            "_view_count": null,
            "_view_module": "@jupyter-widgets/base",
            "_view_module_version": "1.2.0",
            "_view_name": "StyleView",
            "description_width": ""
          }
        },
        "be02061d4b774e5ba065437306cf7465": {
          "model_module": "@jupyter-widgets/base",
          "model_module_version": "1.2.0",
          "model_name": "LayoutModel",
          "state": {
            "_model_module": "@jupyter-widgets/base",
            "_model_module_version": "1.2.0",
            "_model_name": "LayoutModel",
            "_view_count": null,
            "_view_module": "@jupyter-widgets/base",
            "_view_module_version": "1.2.0",
            "_view_name": "LayoutView",
            "align_content": null,
            "align_items": null,
            "align_self": null,
            "border": null,
            "bottom": null,
            "display": null,
            "flex": null,
            "flex_flow": null,
            "grid_area": null,
            "grid_auto_columns": null,
            "grid_auto_flow": null,
            "grid_auto_rows": null,
            "grid_column": null,
            "grid_gap": null,
            "grid_row": null,
            "grid_template_areas": null,
            "grid_template_columns": null,
            "grid_template_rows": null,
            "height": null,
            "justify_content": null,
            "justify_items": null,
            "left": null,
            "margin": null,
            "max_height": null,
            "max_width": null,
            "min_height": null,
            "min_width": null,
            "object_fit": null,
            "object_position": null,
            "order": null,
            "overflow": null,
            "overflow_x": null,
            "overflow_y": null,
            "padding": null,
            "right": null,
            "top": null,
            "visibility": null,
            "width": null
          }
        },
        "be26e255860c415fa2b6f45fec5789b4": {
          "model_module": "@jupyter-widgets/controls",
          "model_module_version": "1.5.0",
          "model_name": "FloatProgressModel",
          "state": {
            "_dom_classes": [],
            "_model_module": "@jupyter-widgets/controls",
            "_model_module_version": "1.5.0",
            "_model_name": "FloatProgressModel",
            "_view_count": null,
            "_view_module": "@jupyter-widgets/controls",
            "_view_module_version": "1.5.0",
            "_view_name": "ProgressView",
            "bar_style": "success",
            "description": "",
            "description_tooltip": null,
            "layout": "IPY_MODEL_130bb19691a94a69976a8008d893a6d1",
            "max": 858358,
            "min": 0,
            "orientation": "horizontal",
            "style": "IPY_MODEL_e21322a2b5544946808796602166f018",
            "value": 858358
          }
        },
        "bfd306b88d2d445db26c2ea12e46e50e": {
          "model_module": "@jupyter-widgets/controls",
          "model_module_version": "1.5.0",
          "model_name": "HTMLModel",
          "state": {
            "_dom_classes": [],
            "_model_module": "@jupyter-widgets/controls",
            "_model_module_version": "1.5.0",
            "_model_name": "HTMLModel",
            "_view_count": null,
            "_view_module": "@jupyter-widgets/controls",
            "_view_module_version": "1.5.0",
            "_view_name": "HTMLView",
            "description": "",
            "description_tooltip": null,
            "layout": "IPY_MODEL_59b356d2e44b4a0190918e0dd62badef",
            "placeholder": "​",
            "style": "IPY_MODEL_c0e68fc3fc5c4ebeadcff7276f1198fb",
            "value": " 0/265 [00:00&lt;?, ?it/s]"
          }
        },
        "c0e68fc3fc5c4ebeadcff7276f1198fb": {
          "model_module": "@jupyter-widgets/controls",
          "model_module_version": "1.5.0",
          "model_name": "DescriptionStyleModel",
          "state": {
            "_model_module": "@jupyter-widgets/controls",
            "_model_module_version": "1.5.0",
            "_model_name": "DescriptionStyleModel",
            "_view_count": null,
            "_view_module": "@jupyter-widgets/base",
            "_view_module_version": "1.2.0",
            "_view_name": "StyleView",
            "description_width": ""
          }
        },
        "c2bb8be00cbe46e3983e61793e9acdd4": {
          "model_module": "@jupyter-widgets/base",
          "model_module_version": "1.2.0",
          "model_name": "LayoutModel",
          "state": {
            "_model_module": "@jupyter-widgets/base",
            "_model_module_version": "1.2.0",
            "_model_name": "LayoutModel",
            "_view_count": null,
            "_view_module": "@jupyter-widgets/base",
            "_view_module_version": "1.2.0",
            "_view_name": "LayoutView",
            "align_content": null,
            "align_items": null,
            "align_self": null,
            "border": null,
            "bottom": null,
            "display": null,
            "flex": null,
            "flex_flow": null,
            "grid_area": null,
            "grid_auto_columns": null,
            "grid_auto_flow": null,
            "grid_auto_rows": null,
            "grid_column": null,
            "grid_gap": null,
            "grid_row": null,
            "grid_template_areas": null,
            "grid_template_columns": null,
            "grid_template_rows": null,
            "height": null,
            "justify_content": null,
            "justify_items": null,
            "left": null,
            "margin": null,
            "max_height": null,
            "max_width": null,
            "min_height": null,
            "min_width": null,
            "object_fit": null,
            "object_position": null,
            "order": null,
            "overflow": null,
            "overflow_x": null,
            "overflow_y": null,
            "padding": null,
            "right": null,
            "top": null,
            "visibility": null,
            "width": null
          }
        },
        "c64305c3b5b74f4b8ab01aa4029073d9": {
          "model_module": "@jupyter-widgets/controls",
          "model_module_version": "1.5.0",
          "model_name": "DescriptionStyleModel",
          "state": {
            "_model_module": "@jupyter-widgets/controls",
            "_model_module_version": "1.5.0",
            "_model_name": "DescriptionStyleModel",
            "_view_count": null,
            "_view_module": "@jupyter-widgets/base",
            "_view_module_version": "1.2.0",
            "_view_name": "StyleView",
            "description_width": ""
          }
        },
        "c9cbf35d498848fba90e75405ea5083c": {
          "model_module": "@jupyter-widgets/controls",
          "model_module_version": "1.5.0",
          "model_name": "HTMLModel",
          "state": {
            "_dom_classes": [],
            "_model_module": "@jupyter-widgets/controls",
            "_model_module_version": "1.5.0",
            "_model_name": "HTMLModel",
            "_view_count": null,
            "_view_module": "@jupyter-widgets/controls",
            "_view_module_version": "1.5.0",
            "_view_name": "HTMLView",
            "description": "",
            "description_tooltip": null,
            "layout": "IPY_MODEL_dd3535905c374b74903926fc02788b4c",
            "placeholder": "​",
            "style": "IPY_MODEL_3ed86b200ee747e0bd1be3182e9001ff",
            "value": "Downloading: 100%"
          }
        },
        "cbe23177183f4d279943f6674763bbaf": {
          "model_module": "@jupyter-widgets/controls",
          "model_module_version": "1.5.0",
          "model_name": "HTMLModel",
          "state": {
            "_dom_classes": [],
            "_model_module": "@jupyter-widgets/controls",
            "_model_module_version": "1.5.0",
            "_model_name": "HTMLModel",
            "_view_count": null,
            "_view_module": "@jupyter-widgets/controls",
            "_view_module_version": "1.5.0",
            "_view_name": "HTMLView",
            "description": "",
            "description_tooltip": null,
            "layout": "IPY_MODEL_849a706932134bae9e55339db781861d",
            "placeholder": "​",
            "style": "IPY_MODEL_d10f4a44cf9740a6be2c28ede2d77b0e",
            "value": "100%"
          }
        },
        "cc4f008fe0264743872a2a179dec3935": {
          "model_module": "@jupyter-widgets/controls",
          "model_module_version": "1.5.0",
          "model_name": "DescriptionStyleModel",
          "state": {
            "_model_module": "@jupyter-widgets/controls",
            "_model_module_version": "1.5.0",
            "_model_name": "DescriptionStyleModel",
            "_view_count": null,
            "_view_module": "@jupyter-widgets/base",
            "_view_module_version": "1.2.0",
            "_view_name": "StyleView",
            "description_width": ""
          }
        },
        "ccd2cb6a53a940f9bf5a9d9881dc8598": {
          "model_module": "@jupyter-widgets/controls",
          "model_module_version": "1.5.0",
          "model_name": "ProgressStyleModel",
          "state": {
            "_model_module": "@jupyter-widgets/controls",
            "_model_module_version": "1.5.0",
            "_model_name": "ProgressStyleModel",
            "_view_count": null,
            "_view_module": "@jupyter-widgets/base",
            "_view_module_version": "1.2.0",
            "_view_name": "StyleView",
            "bar_color": null,
            "description_width": ""
          }
        },
        "ce45e545bdac4aef890be034ad012401": {
          "model_module": "@jupyter-widgets/controls",
          "model_module_version": "1.5.0",
          "model_name": "DescriptionStyleModel",
          "state": {
            "_model_module": "@jupyter-widgets/controls",
            "_model_module_version": "1.5.0",
            "_model_name": "DescriptionStyleModel",
            "_view_count": null,
            "_view_module": "@jupyter-widgets/base",
            "_view_module_version": "1.2.0",
            "_view_name": "StyleView",
            "description_width": ""
          }
        },
        "d0098bd2e67941cba2effd1af1e0c29a": {
          "model_module": "@jupyter-widgets/controls",
          "model_module_version": "1.5.0",
          "model_name": "HTMLModel",
          "state": {
            "_dom_classes": [],
            "_model_module": "@jupyter-widgets/controls",
            "_model_module_version": "1.5.0",
            "_model_name": "HTMLModel",
            "_view_count": null,
            "_view_module": "@jupyter-widgets/controls",
            "_view_module_version": "1.5.0",
            "_view_name": "HTMLView",
            "description": "",
            "description_tooltip": null,
            "layout": "IPY_MODEL_0a8f3722519f4dbb97ea0294f1c7df5b",
            "placeholder": "​",
            "style": "IPY_MODEL_0690040532c34e0a9dcc2ef36aad79b1",
            "value": " 611/611 [00:00&lt;00:00, 5.89kB/s]"
          }
        },
        "d0f8e7c281844e75bb1ca1fa03940abb": {
          "model_module": "@jupyter-widgets/controls",
          "model_module_version": "1.5.0",
          "model_name": "DescriptionStyleModel",
          "state": {
            "_model_module": "@jupyter-widgets/controls",
            "_model_module_version": "1.5.0",
            "_model_name": "DescriptionStyleModel",
            "_view_count": null,
            "_view_module": "@jupyter-widgets/base",
            "_view_module_version": "1.2.0",
            "_view_name": "StyleView",
            "description_width": ""
          }
        },
        "d10f4a44cf9740a6be2c28ede2d77b0e": {
          "model_module": "@jupyter-widgets/controls",
          "model_module_version": "1.5.0",
          "model_name": "DescriptionStyleModel",
          "state": {
            "_model_module": "@jupyter-widgets/controls",
            "_model_module_version": "1.5.0",
            "_model_name": "DescriptionStyleModel",
            "_view_count": null,
            "_view_module": "@jupyter-widgets/base",
            "_view_module_version": "1.2.0",
            "_view_name": "StyleView",
            "description_width": ""
          }
        },
        "d204150490824af589ba998023980077": {
          "model_module": "@jupyter-widgets/base",
          "model_module_version": "1.2.0",
          "model_name": "LayoutModel",
          "state": {
            "_model_module": "@jupyter-widgets/base",
            "_model_module_version": "1.2.0",
            "_model_name": "LayoutModel",
            "_view_count": null,
            "_view_module": "@jupyter-widgets/base",
            "_view_module_version": "1.2.0",
            "_view_name": "LayoutView",
            "align_content": null,
            "align_items": null,
            "align_self": null,
            "border": null,
            "bottom": null,
            "display": null,
            "flex": null,
            "flex_flow": null,
            "grid_area": null,
            "grid_auto_columns": null,
            "grid_auto_flow": null,
            "grid_auto_rows": null,
            "grid_column": null,
            "grid_gap": null,
            "grid_row": null,
            "grid_template_areas": null,
            "grid_template_columns": null,
            "grid_template_rows": null,
            "height": null,
            "justify_content": null,
            "justify_items": null,
            "left": null,
            "margin": null,
            "max_height": null,
            "max_width": null,
            "min_height": null,
            "min_width": null,
            "object_fit": null,
            "object_position": null,
            "order": null,
            "overflow": null,
            "overflow_x": null,
            "overflow_y": null,
            "padding": null,
            "right": null,
            "top": null,
            "visibility": null,
            "width": null
          }
        },
        "d36ba22ad3ca4eeeb2b49392d7690ea4": {
          "model_module": "@jupyter-widgets/controls",
          "model_module_version": "1.5.0",
          "model_name": "FloatProgressModel",
          "state": {
            "_dom_classes": [],
            "_model_module": "@jupyter-widgets/controls",
            "_model_module_version": "1.5.0",
            "_model_name": "FloatProgressModel",
            "_view_count": null,
            "_view_module": "@jupyter-widgets/controls",
            "_view_module_version": "1.5.0",
            "_view_name": "ProgressView",
            "bar_style": "",
            "description": "",
            "description_tooltip": null,
            "layout": "IPY_MODEL_c2bb8be00cbe46e3983e61793e9acdd4",
            "max": 265,
            "min": 0,
            "orientation": "horizontal",
            "style": "IPY_MODEL_925c0ad68bce43e18503b455650d90d4",
            "value": 0
          }
        },
        "da8623e41b984bedbd7fd85c721b28df": {
          "model_module": "@jupyter-widgets/base",
          "model_module_version": "1.2.0",
          "model_name": "LayoutModel",
          "state": {
            "_model_module": "@jupyter-widgets/base",
            "_model_module_version": "1.2.0",
            "_model_name": "LayoutModel",
            "_view_count": null,
            "_view_module": "@jupyter-widgets/base",
            "_view_module_version": "1.2.0",
            "_view_name": "LayoutView",
            "align_content": null,
            "align_items": null,
            "align_self": null,
            "border": null,
            "bottom": null,
            "display": null,
            "flex": null,
            "flex_flow": null,
            "grid_area": null,
            "grid_auto_columns": null,
            "grid_auto_flow": null,
            "grid_auto_rows": null,
            "grid_column": null,
            "grid_gap": null,
            "grid_row": null,
            "grid_template_areas": null,
            "grid_template_columns": null,
            "grid_template_rows": null,
            "height": null,
            "justify_content": null,
            "justify_items": null,
            "left": null,
            "margin": null,
            "max_height": null,
            "max_width": null,
            "min_height": null,
            "min_width": null,
            "object_fit": null,
            "object_position": null,
            "order": null,
            "overflow": null,
            "overflow_x": null,
            "overflow_y": null,
            "padding": null,
            "right": null,
            "top": null,
            "visibility": null,
            "width": null
          }
        },
        "db84a59309ea4718bf8b177c453065b6": {
          "model_module": "@jupyter-widgets/controls",
          "model_module_version": "1.5.0",
          "model_name": "DescriptionStyleModel",
          "state": {
            "_model_module": "@jupyter-widgets/controls",
            "_model_module_version": "1.5.0",
            "_model_name": "DescriptionStyleModel",
            "_view_count": null,
            "_view_module": "@jupyter-widgets/base",
            "_view_module_version": "1.2.0",
            "_view_name": "StyleView",
            "description_width": ""
          }
        },
        "dc1129dd6ae24234a251d0aed89a7188": {
          "model_module": "@jupyter-widgets/controls",
          "model_module_version": "1.5.0",
          "model_name": "HTMLModel",
          "state": {
            "_dom_classes": [],
            "_model_module": "@jupyter-widgets/controls",
            "_model_module_version": "1.5.0",
            "_model_name": "HTMLModel",
            "_view_count": null,
            "_view_module": "@jupyter-widgets/controls",
            "_view_module_version": "1.5.0",
            "_view_name": "HTMLView",
            "description": "",
            "description_tooltip": null,
            "layout": "IPY_MODEL_e8692dbc000e455fb86698191bce0ff9",
            "placeholder": "​",
            "style": "IPY_MODEL_ad3e95fbf3524dd6a8916c04f677b7af",
            "value": "Downloading: 100%"
          }
        },
        "dd3535905c374b74903926fc02788b4c": {
          "model_module": "@jupyter-widgets/base",
          "model_module_version": "1.2.0",
          "model_name": "LayoutModel",
          "state": {
            "_model_module": "@jupyter-widgets/base",
            "_model_module_version": "1.2.0",
            "_model_name": "LayoutModel",
            "_view_count": null,
            "_view_module": "@jupyter-widgets/base",
            "_view_module_version": "1.2.0",
            "_view_name": "LayoutView",
            "align_content": null,
            "align_items": null,
            "align_self": null,
            "border": null,
            "bottom": null,
            "display": null,
            "flex": null,
            "flex_flow": null,
            "grid_area": null,
            "grid_auto_columns": null,
            "grid_auto_flow": null,
            "grid_auto_rows": null,
            "grid_column": null,
            "grid_gap": null,
            "grid_row": null,
            "grid_template_areas": null,
            "grid_template_columns": null,
            "grid_template_rows": null,
            "height": null,
            "justify_content": null,
            "justify_items": null,
            "left": null,
            "margin": null,
            "max_height": null,
            "max_width": null,
            "min_height": null,
            "min_width": null,
            "object_fit": null,
            "object_position": null,
            "order": null,
            "overflow": null,
            "overflow_x": null,
            "overflow_y": null,
            "padding": null,
            "right": null,
            "top": null,
            "visibility": null,
            "width": null
          }
        },
        "dd36efea0e1b472eaa64a75c720bd221": {
          "model_module": "@jupyter-widgets/controls",
          "model_module_version": "1.5.0",
          "model_name": "HBoxModel",
          "state": {
            "_dom_classes": [],
            "_model_module": "@jupyter-widgets/controls",
            "_model_module_version": "1.5.0",
            "_model_name": "HBoxModel",
            "_view_count": null,
            "_view_module": "@jupyter-widgets/controls",
            "_view_module_version": "1.5.0",
            "_view_name": "HBoxView",
            "box_style": "",
            "children": [
              "IPY_MODEL_dc1129dd6ae24234a251d0aed89a7188",
              "IPY_MODEL_15701bbfca7d470aa0b7fb9e69de55c8",
              "IPY_MODEL_2ddf0f3756e045b6837408ac8e250088"
            ],
            "layout": "IPY_MODEL_6836cde12f7441a58d6f3ef36e8eddd5"
          }
        },
        "e13a22a132e84a2cbc633afb228ed5a0": {
          "model_module": "@jupyter-widgets/controls",
          "model_module_version": "1.5.0",
          "model_name": "HTMLModel",
          "state": {
            "_dom_classes": [],
            "_model_module": "@jupyter-widgets/controls",
            "_model_module_version": "1.5.0",
            "_model_name": "HTMLModel",
            "_view_count": null,
            "_view_module": "@jupyter-widgets/controls",
            "_view_module_version": "1.5.0",
            "_view_name": "HTMLView",
            "description": "",
            "description_tooltip": null,
            "layout": "IPY_MODEL_9cfb64db7666463791b51a267719da01",
            "placeholder": "​",
            "style": "IPY_MODEL_b4f04e2535784722899438102306c6b3",
            "value": "100%"
          }
        },
        "e21322a2b5544946808796602166f018": {
          "model_module": "@jupyter-widgets/controls",
          "model_module_version": "1.5.0",
          "model_name": "ProgressStyleModel",
          "state": {
            "_model_module": "@jupyter-widgets/controls",
            "_model_module_version": "1.5.0",
            "_model_name": "ProgressStyleModel",
            "_view_count": null,
            "_view_module": "@jupyter-widgets/base",
            "_view_module_version": "1.2.0",
            "_view_name": "StyleView",
            "bar_color": null,
            "description_width": ""
          }
        },
        "e3b85b0634b9490e8c1ba1b289679eca": {
          "model_module": "@jupyter-widgets/controls",
          "model_module_version": "1.5.0",
          "model_name": "HTMLModel",
          "state": {
            "_dom_classes": [],
            "_model_module": "@jupyter-widgets/controls",
            "_model_module_version": "1.5.0",
            "_model_name": "HTMLModel",
            "_view_count": null,
            "_view_module": "@jupyter-widgets/controls",
            "_view_module_version": "1.5.0",
            "_view_name": "HTMLView",
            "description": "",
            "description_tooltip": null,
            "layout": "IPY_MODEL_a4b0e87a948b411b826c67aef36b0ef1",
            "placeholder": "​",
            "style": "IPY_MODEL_15cb7f6f1c74425190bea9c2a85a4aad",
            "value": " 714M/714M [01:00&lt;00:00, 31.7MB/s]"
          }
        },
        "e5ef41dc44c0475484abb795f1afa6c8": {
          "model_module": "@jupyter-widgets/controls",
          "model_module_version": "1.5.0",
          "model_name": "FloatProgressModel",
          "state": {
            "_dom_classes": [],
            "_model_module": "@jupyter-widgets/controls",
            "_model_module_version": "1.5.0",
            "_model_name": "FloatProgressModel",
            "_view_count": null,
            "_view_module": "@jupyter-widgets/controls",
            "_view_module_version": "1.5.0",
            "_view_name": "ProgressView",
            "bar_style": "success",
            "description": "",
            "description_tooltip": null,
            "layout": "IPY_MODEL_1935cb1d7c7646799177112a823655ee",
            "max": 45157,
            "min": 0,
            "orientation": "horizontal",
            "style": "IPY_MODEL_93feae91d9f14c95bd6b4f33baa65730",
            "value": 45157
          }
        },
        "e6f41793f1a24e4492eecb274b615e43": {
          "model_module": "@jupyter-widgets/controls",
          "model_module_version": "1.5.0",
          "model_name": "HBoxModel",
          "state": {
            "_dom_classes": [],
            "_model_module": "@jupyter-widgets/controls",
            "_model_module_version": "1.5.0",
            "_model_name": "HBoxModel",
            "_view_count": null,
            "_view_module": "@jupyter-widgets/controls",
            "_view_module_version": "1.5.0",
            "_view_name": "HBoxView",
            "box_style": "",
            "children": [
              "IPY_MODEL_2c07a814af2b47b7ad9fc653edde6875",
              "IPY_MODEL_fd9fa4202c744163b061129f24c14c7c",
              "IPY_MODEL_917931445d324a589423a4a01e73f525"
            ],
            "layout": "IPY_MODEL_6c183e3356e042f393b55e75bfc72cfc"
          }
        },
        "e8692dbc000e455fb86698191bce0ff9": {
          "model_module": "@jupyter-widgets/base",
          "model_module_version": "1.2.0",
          "model_name": "LayoutModel",
          "state": {
            "_model_module": "@jupyter-widgets/base",
            "_model_module_version": "1.2.0",
            "_model_name": "LayoutModel",
            "_view_count": null,
            "_view_module": "@jupyter-widgets/base",
            "_view_module_version": "1.2.0",
            "_view_name": "LayoutView",
            "align_content": null,
            "align_items": null,
            "align_self": null,
            "border": null,
            "bottom": null,
            "display": null,
            "flex": null,
            "flex_flow": null,
            "grid_area": null,
            "grid_auto_columns": null,
            "grid_auto_flow": null,
            "grid_auto_rows": null,
            "grid_column": null,
            "grid_gap": null,
            "grid_row": null,
            "grid_template_areas": null,
            "grid_template_columns": null,
            "grid_template_rows": null,
            "height": null,
            "justify_content": null,
            "justify_items": null,
            "left": null,
            "margin": null,
            "max_height": null,
            "max_width": null,
            "min_height": null,
            "min_width": null,
            "object_fit": null,
            "object_position": null,
            "order": null,
            "overflow": null,
            "overflow_x": null,
            "overflow_y": null,
            "padding": null,
            "right": null,
            "top": null,
            "visibility": null,
            "width": null
          }
        },
        "ea26c280bd7a43568cf51d3a09677e9c": {
          "model_module": "@jupyter-widgets/controls",
          "model_module_version": "1.5.0",
          "model_name": "HTMLModel",
          "state": {
            "_dom_classes": [],
            "_model_module": "@jupyter-widgets/controls",
            "_model_module_version": "1.5.0",
            "_model_name": "HTMLModel",
            "_view_count": null,
            "_view_module": "@jupyter-widgets/controls",
            "_view_module_version": "1.5.0",
            "_view_name": "HTMLView",
            "description": "",
            "description_tooltip": null,
            "layout": "IPY_MODEL_3b7e13c076774737b7e1b141a73e43ff",
            "placeholder": "​",
            "style": "IPY_MODEL_c64305c3b5b74f4b8ab01aa4029073d9",
            "value": "Downloading: 100%"
          }
        },
        "ea919c7622794224b103d0ebfbab8be5": {
          "model_module": "@jupyter-widgets/controls",
          "model_module_version": "1.5.0",
          "model_name": "HBoxModel",
          "state": {
            "_dom_classes": [],
            "_model_module": "@jupyter-widgets/controls",
            "_model_module_version": "1.5.0",
            "_model_name": "HBoxModel",
            "_view_count": null,
            "_view_module": "@jupyter-widgets/controls",
            "_view_module_version": "1.5.0",
            "_view_name": "HBoxView",
            "box_style": "",
            "children": [
              "IPY_MODEL_167de72fffe54af2bf6edd53683b502d",
              "IPY_MODEL_887d3e15c17e49b383e1ecc75e74255c",
              "IPY_MODEL_d0098bd2e67941cba2effd1af1e0c29a"
            ],
            "layout": "IPY_MODEL_9065494bba314a379a9f430a40b723f2"
          }
        },
        "ed822b646a334d9381639b1db4821f96": {
          "model_module": "@jupyter-widgets/controls",
          "model_module_version": "1.5.0",
          "model_name": "HTMLModel",
          "state": {
            "_dom_classes": [],
            "_model_module": "@jupyter-widgets/controls",
            "_model_module_version": "1.5.0",
            "_model_name": "HTMLModel",
            "_view_count": null,
            "_view_module": "@jupyter-widgets/controls",
            "_view_module_version": "1.5.0",
            "_view_name": "HTMLView",
            "description": "",
            "description_tooltip": null,
            "layout": "IPY_MODEL_05758f38d75144e396e381d09d337300",
            "placeholder": "​",
            "style": "IPY_MODEL_07d947a525d04d2e90025e4fdc0d3cf2",
            "value": " 45157/45157 [10:05&lt;00:00, 76.08it/s]"
          }
        },
        "f1ca15914b43491ea5c5cc695cdb9147": {
          "model_module": "@jupyter-widgets/controls",
          "model_module_version": "1.5.0",
          "model_name": "ProgressStyleModel",
          "state": {
            "_model_module": "@jupyter-widgets/controls",
            "_model_module_version": "1.5.0",
            "_model_name": "ProgressStyleModel",
            "_view_count": null,
            "_view_module": "@jupyter-widgets/base",
            "_view_module_version": "1.2.0",
            "_view_name": "StyleView",
            "bar_color": null,
            "description_width": ""
          }
        },
        "f2381f16a1ba4f449c3b1e20930d70aa": {
          "model_module": "@jupyter-widgets/controls",
          "model_module_version": "1.5.0",
          "model_name": "ProgressStyleModel",
          "state": {
            "_model_module": "@jupyter-widgets/controls",
            "_model_module_version": "1.5.0",
            "_model_name": "ProgressStyleModel",
            "_view_count": null,
            "_view_module": "@jupyter-widgets/base",
            "_view_module_version": "1.2.0",
            "_view_name": "StyleView",
            "bar_color": null,
            "description_width": ""
          }
        },
        "f3ac8f85b580425e8549c1b19c682e54": {
          "model_module": "@jupyter-widgets/controls",
          "model_module_version": "1.5.0",
          "model_name": "HTMLModel",
          "state": {
            "_dom_classes": [],
            "_model_module": "@jupyter-widgets/controls",
            "_model_module_version": "1.5.0",
            "_model_name": "HTMLModel",
            "_view_count": null,
            "_view_module": "@jupyter-widgets/controls",
            "_view_module_version": "1.5.0",
            "_view_name": "HTMLView",
            "description": "",
            "description_tooltip": null,
            "layout": "IPY_MODEL_11fc5faf8bc845a0baa29a36a6edda11",
            "placeholder": "​",
            "style": "IPY_MODEL_8138b791ff564d14a8ab722f222326f5",
            "value": " 265/265 [01:25&lt;00:00,  4.57it/s]"
          }
        },
        "f3f192816b7440e6889d1e52a5f1021f": {
          "model_module": "@jupyter-widgets/controls",
          "model_module_version": "1.5.0",
          "model_name": "HBoxModel",
          "state": {
            "_dom_classes": [],
            "_model_module": "@jupyter-widgets/controls",
            "_model_module_version": "1.5.0",
            "_model_name": "HBoxModel",
            "_view_count": null,
            "_view_module": "@jupyter-widgets/controls",
            "_view_module_version": "1.5.0",
            "_view_name": "HBoxView",
            "box_style": "",
            "children": [
              "IPY_MODEL_6e50cb592a494439b4b9f94a7bc8b58a",
              "IPY_MODEL_5c25cc4fa9db4dcc8aa487b735291480",
              "IPY_MODEL_b281ab3aa3f84c31af57ffb470c6fa50"
            ],
            "layout": "IPY_MODEL_3a9db075ee9b4576859fb0396654f5dc"
          }
        },
        "f61690bdbf7c4b76b0d3fa9ea3ed0b0f": {
          "model_module": "@jupyter-widgets/base",
          "model_module_version": "1.2.0",
          "model_name": "LayoutModel",
          "state": {
            "_model_module": "@jupyter-widgets/base",
            "_model_module_version": "1.2.0",
            "_model_name": "LayoutModel",
            "_view_count": null,
            "_view_module": "@jupyter-widgets/base",
            "_view_module_version": "1.2.0",
            "_view_name": "LayoutView",
            "align_content": null,
            "align_items": null,
            "align_self": null,
            "border": null,
            "bottom": null,
            "display": null,
            "flex": null,
            "flex_flow": null,
            "grid_area": null,
            "grid_auto_columns": null,
            "grid_auto_flow": null,
            "grid_auto_rows": null,
            "grid_column": null,
            "grid_gap": null,
            "grid_row": null,
            "grid_template_areas": null,
            "grid_template_columns": null,
            "grid_template_rows": null,
            "height": null,
            "justify_content": null,
            "justify_items": null,
            "left": null,
            "margin": null,
            "max_height": null,
            "max_width": null,
            "min_height": null,
            "min_width": null,
            "object_fit": null,
            "object_position": null,
            "order": null,
            "overflow": null,
            "overflow_x": null,
            "overflow_y": null,
            "padding": null,
            "right": null,
            "top": null,
            "visibility": null,
            "width": null
          }
        },
        "f70cb0820a8a4601aa76a8cca04eae0a": {
          "model_module": "@jupyter-widgets/base",
          "model_module_version": "1.2.0",
          "model_name": "LayoutModel",
          "state": {
            "_model_module": "@jupyter-widgets/base",
            "_model_module_version": "1.2.0",
            "_model_name": "LayoutModel",
            "_view_count": null,
            "_view_module": "@jupyter-widgets/base",
            "_view_module_version": "1.2.0",
            "_view_name": "LayoutView",
            "align_content": null,
            "align_items": null,
            "align_self": null,
            "border": null,
            "bottom": null,
            "display": null,
            "flex": null,
            "flex_flow": null,
            "grid_area": null,
            "grid_auto_columns": null,
            "grid_auto_flow": null,
            "grid_auto_rows": null,
            "grid_column": null,
            "grid_gap": null,
            "grid_row": null,
            "grid_template_areas": null,
            "grid_template_columns": null,
            "grid_template_rows": null,
            "height": null,
            "justify_content": null,
            "justify_items": null,
            "left": null,
            "margin": null,
            "max_height": null,
            "max_width": null,
            "min_height": null,
            "min_width": null,
            "object_fit": null,
            "object_position": null,
            "order": null,
            "overflow": null,
            "overflow_x": null,
            "overflow_y": null,
            "padding": null,
            "right": null,
            "top": null,
            "visibility": null,
            "width": null
          }
        },
        "f71d13faec5b4fd98c31861556e57dd4": {
          "model_module": "@jupyter-widgets/base",
          "model_module_version": "1.2.0",
          "model_name": "LayoutModel",
          "state": {
            "_model_module": "@jupyter-widgets/base",
            "_model_module_version": "1.2.0",
            "_model_name": "LayoutModel",
            "_view_count": null,
            "_view_module": "@jupyter-widgets/base",
            "_view_module_version": "1.2.0",
            "_view_name": "LayoutView",
            "align_content": null,
            "align_items": null,
            "align_self": null,
            "border": null,
            "bottom": null,
            "display": null,
            "flex": null,
            "flex_flow": null,
            "grid_area": null,
            "grid_auto_columns": null,
            "grid_auto_flow": null,
            "grid_auto_rows": null,
            "grid_column": null,
            "grid_gap": null,
            "grid_row": null,
            "grid_template_areas": null,
            "grid_template_columns": null,
            "grid_template_rows": null,
            "height": null,
            "justify_content": null,
            "justify_items": null,
            "left": null,
            "margin": null,
            "max_height": null,
            "max_width": null,
            "min_height": null,
            "min_width": null,
            "object_fit": null,
            "object_position": null,
            "order": null,
            "overflow": null,
            "overflow_x": null,
            "overflow_y": null,
            "padding": null,
            "right": null,
            "top": null,
            "visibility": null,
            "width": null
          }
        },
        "fa7e95da911c464fb9fdb928d5754d1d": {
          "model_module": "@jupyter-widgets/controls",
          "model_module_version": "1.5.0",
          "model_name": "HBoxModel",
          "state": {
            "_dom_classes": [],
            "_model_module": "@jupyter-widgets/controls",
            "_model_module_version": "1.5.0",
            "_model_name": "HBoxModel",
            "_view_count": null,
            "_view_module": "@jupyter-widgets/controls",
            "_view_module_version": "1.5.0",
            "_view_name": "HBoxView",
            "box_style": "",
            "children": [
              "IPY_MODEL_5f176b9e8cdb4e2faaf8a2e068a87c92",
              "IPY_MODEL_8fd2f09582af4e8e92703f1d016d00a0",
              "IPY_MODEL_e3b85b0634b9490e8c1ba1b289679eca"
            ],
            "layout": "IPY_MODEL_8413f716b914435782c613057b9560f6"
          }
        },
        "fc03830972ea4fd3984cf086a31524fc": {
          "model_module": "@jupyter-widgets/base",
          "model_module_version": "1.2.0",
          "model_name": "LayoutModel",
          "state": {
            "_model_module": "@jupyter-widgets/base",
            "_model_module_version": "1.2.0",
            "_model_name": "LayoutModel",
            "_view_count": null,
            "_view_module": "@jupyter-widgets/base",
            "_view_module_version": "1.2.0",
            "_view_name": "LayoutView",
            "align_content": null,
            "align_items": null,
            "align_self": null,
            "border": null,
            "bottom": null,
            "display": null,
            "flex": null,
            "flex_flow": null,
            "grid_area": null,
            "grid_auto_columns": null,
            "grid_auto_flow": null,
            "grid_auto_rows": null,
            "grid_column": null,
            "grid_gap": null,
            "grid_row": null,
            "grid_template_areas": null,
            "grid_template_columns": null,
            "grid_template_rows": null,
            "height": null,
            "justify_content": null,
            "justify_items": null,
            "left": null,
            "margin": null,
            "max_height": null,
            "max_width": null,
            "min_height": null,
            "min_width": null,
            "object_fit": null,
            "object_position": null,
            "order": null,
            "overflow": null,
            "overflow_x": null,
            "overflow_y": null,
            "padding": null,
            "right": null,
            "top": null,
            "visibility": null,
            "width": null
          }
        },
        "fd9fa4202c744163b061129f24c14c7c": {
          "model_module": "@jupyter-widgets/controls",
          "model_module_version": "1.5.0",
          "model_name": "FloatProgressModel",
          "state": {
            "_dom_classes": [],
            "_model_module": "@jupyter-widgets/controls",
            "_model_module_version": "1.5.0",
            "_model_name": "FloatProgressModel",
            "_view_count": null,
            "_view_module": "@jupyter-widgets/controls",
            "_view_module_version": "1.5.0",
            "_view_name": "ProgressView",
            "bar_style": "success",
            "description": "",
            "description_tooltip": null,
            "layout": "IPY_MODEL_f61690bdbf7c4b76b0d3fa9ea3ed0b0f",
            "max": 516682,
            "min": 0,
            "orientation": "horizontal",
            "style": "IPY_MODEL_a971ed98b581469589970e6995f03108",
            "value": 516682
          }
        },
        "fe05df612b68427083654a1ade9de1c0": {
          "model_module": "@jupyter-widgets/controls",
          "model_module_version": "1.5.0",
          "model_name": "DescriptionStyleModel",
          "state": {
            "_model_module": "@jupyter-widgets/controls",
            "_model_module_version": "1.5.0",
            "_model_name": "DescriptionStyleModel",
            "_view_count": null,
            "_view_module": "@jupyter-widgets/base",
            "_view_module_version": "1.2.0",
            "_view_name": "StyleView",
            "description_width": ""
          }
        }
      }
    }
  },
  "nbformat": 4,
  "nbformat_minor": 5
}